{
 "cells": [
  {
   "cell_type": "markdown",
   "metadata": {},
   "source": [
    "# Day12 - Numpy II"
   ]
  },
  {
   "cell_type": "code",
   "execution_count": 8,
   "metadata": {},
   "outputs": [],
   "source": [
    "import numpy as np"
   ]
  },
  {
   "cell_type": "markdown",
   "metadata": {},
   "source": [
    "#### 복습1\n",
    "- np.array를 이용하여 [3,6,8,10,11]로 행렬을 생성하시오."
   ]
  },
  {
   "cell_type": "code",
   "execution_count": 9,
   "metadata": {},
   "outputs": [
    {
     "data": {
      "text/plain": [
       "array([ 3,  6,  8, 10, 11])"
      ]
     },
     "execution_count": 9,
     "metadata": {},
     "output_type": "execute_result"
    }
   ],
   "source": [
    "ar = np.array([3,6,8,10,11])\n",
    "ar"
   ]
  },
  {
   "cell_type": "markdown",
   "metadata": {},
   "source": [
    "#### 복습2\n",
    "- 임의의 실수 50개로 이루어진 ndarrayA를 생성하시오\n",
    "- A의 모양을 (2,5,5)로 바꾸시오"
   ]
  },
  {
   "cell_type": "code",
   "execution_count": 39,
   "metadata": {},
   "outputs": [],
   "source": [
    "ndarrayA = np.random.random(50)"
   ]
  },
  {
   "cell_type": "code",
   "execution_count": 40,
   "metadata": {},
   "outputs": [
    {
     "data": {
      "text/plain": [
       "array([0.68046753, 0.24490631, 0.11813493, 0.66716002, 0.06725703,\n",
       "       0.83957255, 0.72862393, 0.06951491, 0.63025572, 0.29417557,\n",
       "       0.95153194, 0.90797857, 0.80536024, 0.35892506, 0.82013094,\n",
       "       0.99576475, 0.82656057, 0.81302057, 0.9713849 , 0.42197528,\n",
       "       0.91478749, 0.51929152, 0.66256314, 0.09548776, 0.71963599,\n",
       "       0.3988853 , 0.06315131, 0.35856319, 0.41034179, 0.70776322,\n",
       "       0.72814418, 0.12972741, 0.25156286, 0.93354442, 0.91176396,\n",
       "       0.11989594, 0.20682574, 0.54036172, 0.46285738, 0.59540474,\n",
       "       0.77086676, 0.53884879, 0.34294626, 0.20752623, 0.21512122,\n",
       "       0.25006284, 0.17340444, 0.24631001, 0.73327358, 0.45390472])"
      ]
     },
     "execution_count": 40,
     "metadata": {},
     "output_type": "execute_result"
    }
   ],
   "source": [
    "ndarrayA"
   ]
  },
  {
   "cell_type": "code",
   "execution_count": 41,
   "metadata": {},
   "outputs": [
    {
     "data": {
      "text/plain": [
       "array([[[0.68046753, 0.24490631, 0.11813493, 0.66716002, 0.06725703],\n",
       "        [0.83957255, 0.72862393, 0.06951491, 0.63025572, 0.29417557],\n",
       "        [0.95153194, 0.90797857, 0.80536024, 0.35892506, 0.82013094],\n",
       "        [0.99576475, 0.82656057, 0.81302057, 0.9713849 , 0.42197528],\n",
       "        [0.91478749, 0.51929152, 0.66256314, 0.09548776, 0.71963599]],\n",
       "\n",
       "       [[0.3988853 , 0.06315131, 0.35856319, 0.41034179, 0.70776322],\n",
       "        [0.72814418, 0.12972741, 0.25156286, 0.93354442, 0.91176396],\n",
       "        [0.11989594, 0.20682574, 0.54036172, 0.46285738, 0.59540474],\n",
       "        [0.77086676, 0.53884879, 0.34294626, 0.20752623, 0.21512122],\n",
       "        [0.25006284, 0.17340444, 0.24631001, 0.73327358, 0.45390472]]])"
      ]
     },
     "execution_count": 41,
     "metadata": {},
     "output_type": "execute_result"
    }
   ],
   "source": [
    "ndarrayA.reshape(2,5,5)"
   ]
  },
  {
   "cell_type": "code",
   "execution_count": 45,
   "metadata": {},
   "outputs": [
    {
     "data": {
      "text/plain": [
       "array([[[0.09076732, 0.32523453, 0.11173414, 0.42752071, 0.44445061],\n",
       "        [0.81121658, 0.7077214 , 0.23123598, 0.65003836, 0.08826891],\n",
       "        [0.31961992, 0.11803436, 0.38399016, 0.50521267, 0.93812325],\n",
       "        [0.84797907, 0.8523308 , 0.89244492, 0.1234455 , 0.37527717],\n",
       "        [0.87822489, 0.15943338, 0.4825849 , 0.31446248, 0.66154844]],\n",
       "\n",
       "       [[0.93361772, 0.02108892, 0.89469165, 0.92480768, 0.63855532],\n",
       "        [0.11879412, 0.64474028, 0.38835527, 0.68679864, 0.56991021],\n",
       "        [0.45310176, 0.63510237, 0.09006038, 0.19554872, 0.11404545],\n",
       "        [0.58097834, 0.21396207, 0.96898995, 0.20156003, 0.56385461],\n",
       "        [0.76323215, 0.87164705, 0.29083195, 0.86017999, 0.68104537]]])"
      ]
     },
     "execution_count": 45,
     "metadata": {},
     "output_type": "execute_result"
    }
   ],
   "source": [
    "ndarrayA = np.random.random((2,5,5))\n",
    "ndarrayA"
   ]
  },
  {
   "cell_type": "markdown",
   "metadata": {},
   "source": [
    "#### 복습3\n",
    "- 1~12의 정수로 이루어진 (3,4) A와 linespace로 1~12의 정수 3개로 이루어진 (3,1) B를 생성하시오.\n",
    "- C=A+B, C'= B+A를 계산하고 C와 C'가 같은지 확인해 보세요."
   ]
  },
  {
   "cell_type": "code",
   "execution_count": 23,
   "metadata": {},
   "outputs": [
    {
     "data": {
      "text/plain": [
       "array([[ 1,  2,  3,  4],\n",
       "       [ 5,  6,  7,  8],\n",
       "       [ 9, 10, 11, 12]])"
      ]
     },
     "execution_count": 23,
     "metadata": {},
     "output_type": "execute_result"
    }
   ],
   "source": [
    "A = np.arange(1,13).reshape(3,4)\n",
    "A"
   ]
  },
  {
   "cell_type": "code",
   "execution_count": 34,
   "metadata": {},
   "outputs": [
    {
     "data": {
      "text/plain": [
       "array([[ 1. ],\n",
       "       [ 6.5],\n",
       "       [12. ]])"
      ]
     },
     "execution_count": 34,
     "metadata": {},
     "output_type": "execute_result"
    }
   ],
   "source": [
    "B = np.linspace(1, 12, 3).reshape(3,1)\n",
    "B"
   ]
  },
  {
   "cell_type": "code",
   "execution_count": 35,
   "metadata": {},
   "outputs": [
    {
     "data": {
      "text/plain": [
       "array([[ 2. ,  3. ,  4. ,  5. ],\n",
       "       [11.5, 12.5, 13.5, 14.5],\n",
       "       [21. , 22. , 23. , 24. ]])"
      ]
     },
     "execution_count": 35,
     "metadata": {},
     "output_type": "execute_result"
    }
   ],
   "source": [
    "C = A + B\n",
    "C"
   ]
  },
  {
   "cell_type": "code",
   "execution_count": 36,
   "metadata": {},
   "outputs": [
    {
     "data": {
      "text/plain": [
       "array([[ 2. ,  3. ,  4. ,  5. ],\n",
       "       [11.5, 12.5, 13.5, 14.5],\n",
       "       [21. , 22. , 23. , 24. ]])"
      ]
     },
     "execution_count": 36,
     "metadata": {},
     "output_type": "execute_result"
    }
   ],
   "source": [
    "C_ = B + A\n",
    "C_"
   ]
  },
  {
   "cell_type": "markdown",
   "metadata": {},
   "source": [
    "### Vectorized operation\n",
    "- 원소단위로 계산하지 않고 배열 단위로 계산을 지원\n",
    "- Loops 없이 연산하여 코딩의 양이 줄어듬 →병렬처리 가능 (multi-core)\n",
    "- 배열 단위로 사칙연산, 논리연산, 비교연산 가능\n",
    "    - 덧셈, 뺄셈, 곱셈, 나눗셈, >, <, ==, !=\n",
    "- 지수함수, 로그함수 지원\n",
    "    - Exp, **, log( )"
   ]
  },
  {
   "cell_type": "markdown",
   "metadata": {},
   "source": [
    "### min, max : 배열에서 최소값과 최대값을 반환 (slicing 범위 조정)\n",
    "- argmin 과 argmax 는 최대와 최소의 위치를 반환"
   ]
  },
  {
   "cell_type": "code",
   "execution_count": 43,
   "metadata": {},
   "outputs": [
    {
     "data": {
      "text/plain": [
       "array([[[0.5238769 , 0.46301841, 0.04569806, 0.67107641],\n",
       "        [0.55817481, 0.75065191, 0.35747621, 0.21195355],\n",
       "        [0.40657475, 0.61545972, 0.34660404, 0.81235944]],\n",
       "\n",
       "       [[0.66224508, 0.5089411 , 0.13384135, 0.21572751],\n",
       "        [0.73938979, 0.77867119, 0.74055818, 0.18457066],\n",
       "        [0.81459138, 0.73613738, 0.10673231, 0.81021116]]])"
      ]
     },
     "execution_count": 43,
     "metadata": {},
     "output_type": "execute_result"
    }
   ],
   "source": [
    "ar = np.random.random((2,3,4))\n",
    "ar"
   ]
  },
  {
   "cell_type": "code",
   "execution_count": 48,
   "metadata": {},
   "outputs": [
    {
     "data": {
      "text/plain": [
       "0.10673231495761093"
      ]
     },
     "execution_count": 48,
     "metadata": {},
     "output_type": "execute_result"
    }
   ],
   "source": [
    "np.min(ar[1:,])"
   ]
  },
  {
   "cell_type": "code",
   "execution_count": 49,
   "metadata": {},
   "outputs": [
    {
     "data": {
      "text/plain": [
       "0.8145913792812216"
      ]
     },
     "execution_count": 49,
     "metadata": {},
     "output_type": "execute_result"
    }
   ],
   "source": [
    "np.max(ar)"
   ]
  },
  {
   "cell_type": "code",
   "execution_count": 59,
   "metadata": {},
   "outputs": [],
   "source": [
    "ar = np.random.random((3,5,6))"
   ]
  },
  {
   "cell_type": "code",
   "execution_count": 60,
   "metadata": {},
   "outputs": [
    {
     "name": "stdout",
     "output_type": "stream",
     "text": [
      "[[[0.26612554 0.25562997 0.23139412 0.58956625 0.05152624 0.19147989]\n",
      "  [0.02247773 0.80182141 0.02925042 0.54203855 0.74492806 0.65648836]\n",
      "  [0.03616731 0.13623004 0.34734979 0.38061118 0.35520612 0.52270483]\n",
      "  [0.56960014 0.52817719 0.09688393 0.57350763 0.01462413 0.61635893]\n",
      "  [0.63869899 0.56833231 0.60192259 0.39144549 0.81641802 0.68720019]]\n",
      "\n",
      " [[0.25882357 0.97032842 0.09929946 0.72199204 0.31194646 0.14655748]\n",
      "  [0.97630165 0.0487406  0.26077998 0.29817329 0.30784113 0.71052156]\n",
      "  [0.04563501 0.57257589 0.28959529 0.15947521 0.72877063 0.40121644]\n",
      "  [0.08504476 0.97655774 0.38182388 0.1308261  0.68760672 0.26067305]\n",
      "  [0.70907843 0.71527293 0.68739323 0.13798546 0.64575566 0.30892362]]\n",
      "\n",
      " [[0.5697441  0.70375194 0.72326393 0.94172543 0.58300474 0.90947869]\n",
      "  [0.22776795 0.06257627 0.18493322 0.17017519 0.81238772 0.41482423]\n",
      "  [0.7923903  0.24305188 0.81109688 0.27418205 0.51950868 0.29280388]\n",
      "  [0.64142008 0.84517733 0.79279646 0.3817548  0.12034742 0.03920997]\n",
      "  [0.97424406 0.0407662  0.76572665 0.62187882 0.92860927 0.81820366]]]\n"
     ]
    }
   ],
   "source": [
    "print(ar)\n"
   ]
  },
  {
   "cell_type": "code",
   "execution_count": 61,
   "metadata": {},
   "outputs": [
    {
     "name": "stdout",
     "output_type": "stream",
     "text": [
      "\n",
      " 0.014624133511960569 0.9765577399999231\n"
     ]
    }
   ],
   "source": [
    "print('\\n', np.min(ar), np.max(ar))"
   ]
  },
  {
   "cell_type": "code",
   "execution_count": 62,
   "metadata": {},
   "outputs": [
    {
     "name": "stdout",
     "output_type": "stream",
     "text": [
      "\n",
      " 22 49\n"
     ]
    }
   ],
   "source": [
    "print('\\n', np.argmin(ar), np.argmax(ar))"
   ]
  },
  {
   "cell_type": "markdown",
   "metadata": {},
   "source": [
    "### sum,mean, median\n",
    "- 행렬전체합, 평균, 중간값을 계산"
   ]
  },
  {
   "cell_type": "code",
   "execution_count": 64,
   "metadata": {},
   "outputs": [
    {
     "data": {
      "text/plain": [
       "array([[ 1,  3,  5,  7,  9],\n",
       "       [11, 13, 15, 17, 19],\n",
       "       [21, 23, 25, 27, 29]])"
      ]
     },
     "execution_count": 64,
     "metadata": {},
     "output_type": "execute_result"
    }
   ],
   "source": [
    "ar = np.arange(1,31,2).reshape(3,5)\n",
    "ar"
   ]
  },
  {
   "cell_type": "code",
   "execution_count": 65,
   "metadata": {},
   "outputs": [
    {
     "data": {
      "text/plain": [
       "225"
      ]
     },
     "execution_count": 65,
     "metadata": {},
     "output_type": "execute_result"
    }
   ],
   "source": [
    "np.sum(ar)"
   ]
  },
  {
   "cell_type": "code",
   "execution_count": 71,
   "metadata": {},
   "outputs": [
    {
     "data": {
      "text/plain": [
       "array([33, 39, 45, 51, 57])"
      ]
     },
     "execution_count": 71,
     "metadata": {},
     "output_type": "execute_result"
    }
   ],
   "source": [
    "np.sum(ar, axis=0) # 행 기준으로 같은 열을 더함"
   ]
  },
  {
   "cell_type": "code",
   "execution_count": 72,
   "metadata": {},
   "outputs": [
    {
     "data": {
      "text/plain": [
       "array([ 25,  75, 125])"
      ]
     },
     "execution_count": 72,
     "metadata": {},
     "output_type": "execute_result"
    }
   ],
   "source": [
    "np.sum(ar, axis=1)"
   ]
  },
  {
   "cell_type": "code",
   "execution_count": 73,
   "metadata": {},
   "outputs": [
    {
     "data": {
      "text/plain": [
       "array([32, 36, 40, 44, 48])"
      ]
     },
     "execution_count": 73,
     "metadata": {},
     "output_type": "execute_result"
    }
   ],
   "source": [
    "np.sum(ar[1:], axis=0)"
   ]
  },
  {
   "cell_type": "code",
   "execution_count": 78,
   "metadata": {},
   "outputs": [],
   "source": [
    "ar = np.array([[[0.5, 2., 4., -5.],\n",
    "                [0.7, 9., 3., 0.7],\n",
    "                [8., 1., -2., 0.3]],\n",
    "               [[1.2, 4., 2., -9.],\n",
    "                [8., 3., 2., 1.],\n",
    "                [2., 8., 5., -1.]],\n",
    "               [[3., 9., 6., 0.8],\n",
    "                [0.9, -1., 3., 4.],\n",
    "                [2., 5., 7., 9.]]])"
   ]
  },
  {
   "cell_type": "code",
   "execution_count": 79,
   "metadata": {},
   "outputs": [
    {
     "name": "stdout",
     "output_type": "stream",
     "text": [
      "\n",
      " 97.1 2.697222222222222 2.0\n"
     ]
    }
   ],
   "source": [
    "# 전체 행렬의 합, 평균과 중간값\n",
    "print('\\n', np.sum(ar), np.mean(ar), np.median(ar))"
   ]
  },
  {
   "cell_type": "code",
   "execution_count": 96,
   "metadata": {},
   "outputs": [
    {
     "name": "stdout",
     "output_type": "stream",
     "text": [
      "\n",
      " 26.2 -9.0 8.0\n"
     ]
    }
   ],
   "source": [
    "# 2번째 행렬의 합, 최소값, 최대값\n",
    "print('\\n', np.sum(ar[1,:]), np.min(ar[1,:]), np.max(ar[1,:]))"
   ]
  },
  {
   "cell_type": "code",
   "execution_count": 95,
   "metadata": {},
   "outputs": [
    {
     "name": "stdout",
     "output_type": "stream",
     "text": [
      "\n",
      " 9.0 -2.0 3.888888888888889 3.5\n"
     ]
    }
   ],
   "source": [
    "# 1,4번째 열을 제외한 부분 행력의 최대, 최소, 평균, 중간값\n",
    "print('\\n', np.max(ar[:,:,1:3]), np.min(ar[:,:,1:3]), np.mean(ar[:,:,1:3]), np.median(ar[:,:,1:3]))"
   ]
  },
  {
   "cell_type": "markdown",
   "metadata": {},
   "source": [
    "### 행렬곱 (내적)\n",
    "- 행렬과 행렬의 곱\n",
    "    - 행렬과 스칼라의 곱과 구별\n",
    "    - a*b\n",
    "- np.dot(a,b) 나 a@b 로 실행"
   ]
  },
  {
   "cell_type": "code",
   "execution_count": 98,
   "metadata": {},
   "outputs": [],
   "source": [
    "a = np.arange(1,21,2).reshape(2,5)\n",
    "b = np.arange(3,13,1).reshape(5,2)"
   ]
  },
  {
   "cell_type": "code",
   "execution_count": 99,
   "metadata": {},
   "outputs": [
    {
     "name": "stdout",
     "output_type": "stream",
     "text": [
      "[[ 1  3  5  7  9]\n",
      " [11 13 15 17 19]] \n",
      " [[ 3  4]\n",
      " [ 5  6]\n",
      " [ 7  8]\n",
      " [ 9 10]\n",
      " [11 12]]\n"
     ]
    },
    {
     "data": {
      "text/plain": [
       "array([[215, 240],\n",
       "       [565, 640]])"
      ]
     },
     "execution_count": 99,
     "metadata": {},
     "output_type": "execute_result"
    }
   ],
   "source": [
    "print(a, '\\n', b)\n",
    "a@b"
   ]
  },
  {
   "cell_type": "code",
   "execution_count": 105,
   "metadata": {},
   "outputs": [
    {
     "name": "stdout",
     "output_type": "stream",
     "text": [
      "[[ 3  2 -1]\n",
      " [ 0  2  4]] \n",
      " [[2 2]\n",
      " [3 4]\n",
      " [5 1]]\n",
      "[[ 7 13]\n",
      " [26 12]]\n"
     ]
    }
   ],
   "source": [
    "# 연습문제 1\n",
    "a = np.array([[3,2,-1],[0,2,4]])\n",
    "b = np.array([[2,2],[3,4],[5,1]])\n",
    "print(a, '\\n', b)\n",
    "print(a@b)"
   ]
  },
  {
   "cell_type": "code",
   "execution_count": 106,
   "metadata": {},
   "outputs": [
    {
     "name": "stdout",
     "output_type": "stream",
     "text": [
      "[[1 9]\n",
      " [3 4]\n",
      " [2 4]] \n",
      " [[ 1  4 -1]\n",
      " [ 7  1  4]]\n",
      "[[64 13 35]\n",
      " [31 16 13]\n",
      " [30 12 14]]\n"
     ]
    }
   ],
   "source": [
    "# 연습문제 2\n",
    "a = np.array([[1,9],[3,4],[2,4]])\n",
    "b = np.array([[1,4,-1],[7,1,4]])\n",
    "print(a, '\\n', b)\n",
    "print(a@b)"
   ]
  },
  {
   "cell_type": "markdown",
   "metadata": {},
   "source": [
    "### 행렬곱 (내적)\n",
    "- 다음은 행렬연산의 규칙이다. 행렬A, B, C가 다음과 같이 주어졌을 때, 이 규칙이 올바르게 적용되는지 dot연산과 T연산을 이용하여 확인해보자.\n",
    "- 아래의 연산에 활용될 수 있음\n",
    "    - 가중치 합 (Weighted Sum)\n",
    "    - 가중치 평균 (Weighted average)\n",
    "    - 유사도 검사 (Similarity check)\n",
    "\n",
    "![행렬곱](http://the-r.kr/wp-content/uploads/2019/07/Matrix.png)"
   ]
  },
  {
   "cell_type": "markdown",
   "metadata": {},
   "source": [
    "#### 행렬곱 (내적)\n",
    "- 가중치 합 (Weighted Sum)\n",
    "- 요소들의 동일한 가치로 합산하는 것이 아니라 중요도에 따라 가중값을 곱해준 후 합산\n",
    "![](http://the-r.kr/wp-content/uploads/2019/07/matrix_01.png)"
   ]
  },
  {
   "cell_type": "markdown",
   "metadata": {},
   "source": [
    "#### 행렬곱 (내적)\n",
    "- 가중치 평균 (Weighted Average)\n",
    "- 각각의 가중치를 전체 가중치의 합으로 나누어 계산\n",
    "\n",
    "![](http://the-r.kr/wp-content/uploads/2019/07/matrix_02.png)"
   ]
  },
  {
   "cell_type": "markdown",
   "metadata": {},
   "source": [
    "#### 행렬곱 (내적)\n",
    "- 유사도 검사 (Similarity check)\n",
    "- 두 벡터가 비슷할 수록 높은 점수가 나옴\n",
    "- Cosine similarity 사용 가능\n",
    "\n",
    "![](http://the-r.kr/wp-content/uploads/2019/07/matrix_03.png)"
   ]
  },
  {
   "cell_type": "code",
   "execution_count": 112,
   "metadata": {},
   "outputs": [
    {
     "name": "stdout",
     "output_type": "stream",
     "text": [
      "[[ 0  2  4  6]\n",
      " [ 8 10 12 14]\n",
      " [16 18 20 22]\n",
      " [24 26 28 30]] \n",
      " [[ 1  3  5  7]\n",
      " [ 9 11 13 15]\n",
      " [17 19 21 23]\n",
      " [25 27 29 31]] \n",
      " [[ 2  4  6  8]\n",
      " [10 12 14 16]\n",
      " [18 20 22 24]\n",
      " [26 28 30 32]]\n"
     ]
    }
   ],
   "source": [
    "# 실습\n",
    "A = np.arange(0,31,2).reshape(4,4)\n",
    "B = np.arange(1,32,2).reshape(4,4)\n",
    "C = np.arange(2,33,2).reshape(4,4)\n",
    "print(A, '\\n', B,  '\\n', C)"
   ]
  },
  {
   "cell_type": "code",
   "execution_count": 114,
   "metadata": {},
   "outputs": [
    {
     "name": "stdout",
     "output_type": "stream",
     "text": [
      "[[ 236  260  284  308]\n",
      " [ 652  740  828  916]\n",
      " [1068 1220 1372 1524]\n",
      " [1484 1700 1916 2132]] \n",
      " [[ 272  304  336  368]\n",
      " [ 656  752  848  944]\n",
      " [1040 1200 1360 1520]\n",
      " [1424 1648 1872 2096]]\n"
     ]
    }
   ],
   "source": [
    "print(A@B, '\\n', B@A)"
   ]
  },
  {
   "cell_type": "code",
   "execution_count": 116,
   "metadata": {},
   "outputs": [
    {
     "name": "stdout",
     "output_type": "stream",
     "text": [
      "[[ 484  532  580  628]\n",
      " [1348 1524 1700 1876]\n",
      " [2212 2516 2820 3124]\n",
      " [3076 3508 3940 4372]] \n",
      " [[ 484  532  580  628]\n",
      " [1348 1524 1700 1876]\n",
      " [2212 2516 2820 3124]\n",
      " [3076 3508 3940 4372]]\n"
     ]
    }
   ],
   "source": [
    "print(A@(B+C), '\\n', (A@B + A@C))"
   ]
  },
  {
   "cell_type": "code",
   "execution_count": 117,
   "metadata": {},
   "outputs": [
    {
     "name": "stdout",
     "output_type": "stream",
     "text": [
      "[[ 552  608  664  720]\n",
      " [1448 1632 1816 2000]\n",
      " [2344 2656 2968 3280]\n",
      " [3240 3680 4120 4560]] \n",
      " [[ 552  608  664  720]\n",
      " [1448 1632 1816 2000]\n",
      " [2344 2656 2968 3280]\n",
      " [3240 3680 4120 4560]]\n"
     ]
    }
   ],
   "source": [
    "print((A+B)@C, '\\n', (A@C + B@C))"
   ]
  },
  {
   "cell_type": "code",
   "execution_count": 118,
   "metadata": {},
   "outputs": [
    {
     "name": "stdout",
     "output_type": "stream",
     "text": [
      "[[ 236  652 1068 1484]\n",
      " [ 260  740 1220 1700]\n",
      " [ 284  828 1372 1916]\n",
      " [ 308  916 1524 2132]] \n",
      " [[ 236  652 1068 1484]\n",
      " [ 260  740 1220 1700]\n",
      " [ 284  828 1372 1916]\n",
      " [ 308  916 1524 2132]]\n"
     ]
    }
   ],
   "source": [
    "print((A@B).T, '\\n', B.T@A.T)"
   ]
  },
  {
   "cell_type": "markdown",
   "metadata": {},
   "source": [
    "### var(분산), std(표준편차)\n",
    "- 분산\n",
    "    - 거리차의 제곱의 합,\n",
    "    - 작을 수록 데이터가 뭉쳐있음\n",
    "- 표준편차\n",
    "    - 분산의 제곱근,\n",
    "    - 작을 수록 평균값에 뭉쳐있음\n",
    "    \n",
    "![분산,표준편차](http://the-r.kr/wp-content/uploads/2019/07/var_std.png)"
   ]
  },
  {
   "cell_type": "markdown",
   "metadata": {},
   "source": [
    "### sort\n",
    "- 배열의 값을 오름차순으로 정렬\n",
    "- sort in-place\n",
    "    - np.random.shuffle()은 배열 shuffling 명령\n",
    "- 2차원 이상인 경우 axis에 따라 정렬이 가능"
   ]
  },
  {
   "cell_type": "markdown",
   "metadata": {},
   "source": [
    "#### 연습 1\n",
    "\n",
    "1~100 의 정수로 (10,10) 행렬을 생성한 후, np.random.shuffle()을 이용하여 행렬을 뒤섞은 다음, 행렬을 정렬하시오."
   ]
  },
  {
   "cell_type": "code",
   "execution_count": 122,
   "metadata": {},
   "outputs": [
    {
     "data": {
      "text/plain": [
       "array([[ 47,   8,  66,  11,  90,  17,  20,   4,  15,  49],\n",
       "       [ 61,  23,  51,  39,  45,  21,  59,  52,  81,  25],\n",
       "       [ 10,  91,   2,  80,  53,  31,  73,  42,  50,  95],\n",
       "       [ 78,  48,  72,  55,   5,  28,  16,  46,  14,  84],\n",
       "       [ 18,  74,  97,  38,  98,  83,  85,  71,  62,  93],\n",
       "       [ 33,   9,  57,  92,  79,  30,  26,  63,  56,  27],\n",
       "       [ 96,   3,  19,  24,  34,  75,  70,  64,  37,  89],\n",
       "       [ 54,  13,  69,   7,  41,  12,   6,  44,  65,  36],\n",
       "       [ 86, 100,  60,  22,  87,  88,  82,  58,  43,  77],\n",
       "       [ 68,   1,  94,  67,  32,  40,  76,  29,  35,  99]])"
      ]
     },
     "execution_count": 122,
     "metadata": {},
     "output_type": "execute_result"
    }
   ],
   "source": [
    "ar = np.arange(1,101)\n",
    "np.random.shuffle(ar)\n",
    "ar = ar.reshape(10,10)\n",
    "ar"
   ]
  },
  {
   "cell_type": "code",
   "execution_count": 123,
   "metadata": {},
   "outputs": [
    {
     "data": {
      "text/plain": [
       "array([[  4,   8,  11,  15,  17,  20,  47,  49,  66,  90],\n",
       "       [ 21,  23,  25,  39,  45,  51,  52,  59,  61,  81],\n",
       "       [  2,  10,  31,  42,  50,  53,  73,  80,  91,  95],\n",
       "       [  5,  14,  16,  28,  46,  48,  55,  72,  78,  84],\n",
       "       [ 18,  38,  62,  71,  74,  83,  85,  93,  97,  98],\n",
       "       [  9,  26,  27,  30,  33,  56,  57,  63,  79,  92],\n",
       "       [  3,  19,  24,  34,  37,  64,  70,  75,  89,  96],\n",
       "       [  6,   7,  12,  13,  36,  41,  44,  54,  65,  69],\n",
       "       [ 22,  43,  58,  60,  77,  82,  86,  87,  88, 100],\n",
       "       [  1,  29,  32,  35,  40,  67,  68,  76,  94,  99]])"
      ]
     },
     "execution_count": 123,
     "metadata": {},
     "output_type": "execute_result"
    }
   ],
   "source": [
    "ar2 = np.sort(ar)\n",
    "ar2"
   ]
  },
  {
   "cell_type": "markdown",
   "metadata": {},
   "source": [
    "#### 연습 2\n",
    "\n",
    "1~30 의 정수로 (3,10) 행렬을 생성한 후, np.random.shuffle()을 이용하여 행렬을 섞은 다음 axis 값을 바꾸어 가면서 정렬의 결과를 확인하시오."
   ]
  },
  {
   "cell_type": "code",
   "execution_count": 131,
   "metadata": {},
   "outputs": [
    {
     "data": {
      "text/plain": [
       "array([[18, 15,  8, 23, 22, 17, 24,  4,  5,  6],\n",
       "       [10, 11, 13,  1, 25, 28, 27, 12, 29,  3],\n",
       "       [20, 26,  2, 16,  7, 30, 19,  9, 14, 21]])"
      ]
     },
     "execution_count": 131,
     "metadata": {},
     "output_type": "execute_result"
    }
   ],
   "source": [
    "ar = np.arange(1,31)\n",
    "np.random.shuffle(ar)\n",
    "ar = ar.reshape(3,10)\n",
    "ar"
   ]
  },
  {
   "cell_type": "code",
   "execution_count": 132,
   "metadata": {},
   "outputs": [
    {
     "data": {
      "text/plain": [
       "array([[ 4,  5,  6,  8, 15, 17, 18, 22, 23, 24],\n",
       "       [ 1,  3, 10, 11, 12, 13, 25, 27, 28, 29],\n",
       "       [ 2,  7,  9, 14, 16, 19, 20, 21, 26, 30]])"
      ]
     },
     "execution_count": 132,
     "metadata": {},
     "output_type": "execute_result"
    }
   ],
   "source": [
    "ar2 = np.sort(ar)\n",
    "ar2"
   ]
  },
  {
   "cell_type": "code",
   "execution_count": 133,
   "metadata": {},
   "outputs": [
    {
     "data": {
      "text/plain": [
       "array([[10, 11,  2,  1,  7, 17, 19,  4,  5,  3],\n",
       "       [18, 15,  8, 16, 22, 28, 24,  9, 14,  6],\n",
       "       [20, 26, 13, 23, 25, 30, 27, 12, 29, 21]])"
      ]
     },
     "execution_count": 133,
     "metadata": {},
     "output_type": "execute_result"
    }
   ],
   "source": [
    "ar3 = np.sort(ar, axis=0)\n",
    "ar3"
   ]
  },
  {
   "cell_type": "code",
   "execution_count": 134,
   "metadata": {},
   "outputs": [
    {
     "data": {
      "text/plain": [
       "array([[ 4,  5,  6,  8, 15, 17, 18, 22, 23, 24],\n",
       "       [ 1,  3, 10, 11, 12, 13, 25, 27, 28, 29],\n",
       "       [ 2,  7,  9, 14, 16, 19, 20, 21, 26, 30]])"
      ]
     },
     "execution_count": 134,
     "metadata": {},
     "output_type": "execute_result"
    }
   ],
   "source": [
    "ar4 = np.sort(ar, axis=1)\n",
    "ar4"
   ]
  },
  {
   "cell_type": "code",
   "execution_count": 135,
   "metadata": {},
   "outputs": [
    {
     "data": {
      "text/plain": [
       "array([[ 4,  5,  6,  8, 15, 17, 18, 22, 23, 24],\n",
       "       [ 1,  3, 10, 11, 12, 13, 25, 27, 28, 29],\n",
       "       [ 2,  7,  9, 14, 16, 19, 20, 21, 26, 30]])"
      ]
     },
     "execution_count": 135,
     "metadata": {},
     "output_type": "execute_result"
    }
   ],
   "source": [
    "ar5 = np.sort(ar, axis=-1)\n",
    "ar5"
   ]
  },
  {
   "cell_type": "code",
   "execution_count": null,
   "metadata": {},
   "outputs": [],
   "source": []
  }
 ],
 "metadata": {
  "kernelspec": {
   "display_name": "Python 3",
   "language": "python",
   "name": "python3"
  },
  "language_info": {
   "codemirror_mode": {
    "name": "ipython",
    "version": 3
   },
   "file_extension": ".py",
   "mimetype": "text/x-python",
   "name": "python",
   "nbconvert_exporter": "python",
   "pygments_lexer": "ipython3",
   "version": "3.7.3"
  }
 },
 "nbformat": 4,
 "nbformat_minor": 2
}
