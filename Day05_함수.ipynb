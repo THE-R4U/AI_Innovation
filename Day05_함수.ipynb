{
 "cells": [
  {
   "cell_type": "markdown",
   "metadata": {},
   "source": [
    "# 함수\n",
    "\n",
    "## 지역변수/전역변수\n",
    "\n",
    "### 매개변수 & 전달인자 & 반환\n",
    "- 함수 호출 파트(외부) 에서 함수 정의 파트(내부)로 값을 전달할 때 전달인자를 사용한다.\n",
    "- 함수 정의 파트에서는 값을 받을 때 매개변수로 받는다.\n",
    "- 함수 정의 파트에서 함수 호출 파트로 값을 내 보낼 때에는 반환(return)을 사용한다"
   ]
  },
  {
   "cell_type": "code",
   "execution_count": 3,
   "metadata": {},
   "outputs": [
    {
     "name": "stdout",
     "output_type": "stream",
     "text": [
      "60\n"
     ]
    }
   ],
   "source": [
    "def f_a(x, y, z):\n",
    "    result = x+y+z\n",
    "    return result\n",
    "\n",
    "result = f_a(10, 20, 30)\n",
    "print (result)"
   ]
  },
  {
   "cell_type": "code",
   "execution_count": 5,
   "metadata": {},
   "outputs": [
    {
     "name": "stdout",
     "output_type": "stream",
     "text": [
      "result: 4950\n",
      "None\n"
     ]
    }
   ],
   "source": [
    "def f_b():\n",
    "    result = 0\n",
    "    for count in range(100):\n",
    "        result += count\n",
    "    print('result:', result)\n",
    "\n",
    "result = f_b()\n",
    "print (result)"
   ]
  },
  {
   "cell_type": "markdown",
   "metadata": {},
   "source": [
    "`None은 타입 자체가 None이다.`"
   ]
  },
  {
   "cell_type": "code",
   "execution_count": 1,
   "metadata": {},
   "outputs": [
    {
     "data": {
      "text/plain": [
       "False"
      ]
     },
     "execution_count": 1,
     "metadata": {},
     "output_type": "execute_result"
    }
   ],
   "source": [
    "None == False"
   ]
  },
  {
   "cell_type": "code",
   "execution_count": 2,
   "metadata": {},
   "outputs": [
    {
     "data": {
      "text/plain": [
       "NoneType"
      ]
     },
     "execution_count": 2,
     "metadata": {},
     "output_type": "execute_result"
    }
   ],
   "source": [
    "type(None)"
   ]
  },
  {
   "cell_type": "code",
   "execution_count": 3,
   "metadata": {},
   "outputs": [
    {
     "name": "stdout",
     "output_type": "stream",
     "text": [
      "result: 60\n"
     ]
    }
   ],
   "source": [
    "def f_a():\n",
    "    result=10+20+30\n",
    "    return result\n",
    "\n",
    "result = f_a()\n",
    "print ('result:', result)"
   ]
  },
  {
   "cell_type": "code",
   "execution_count": 6,
   "metadata": {},
   "outputs": [
    {
     "data": {
      "text/plain": [
       "10"
      ]
     },
     "execution_count": 6,
     "metadata": {},
     "output_type": "execute_result"
    }
   ],
   "source": [
    "def f(x=10):\n",
    "    return 10\n",
    "    \n",
    "f(10)"
   ]
  },
  {
   "cell_type": "markdown",
   "metadata": {},
   "source": [
    "### 함수 지역변수/전역변수\n",
    "\n",
    "- 지역변수\n",
    "    - 함수 정의 파트(내부)에서만 유효한 변수\n",
    "    - 함수가 호출되었을 때 생성되며 함수를 벗어날 때 사라짐\n",
    "- 전역변수\n",
    "    - 프로그램 전체에서 유효한 변수\n",
    "    - 프로그램이 시작될 때 생성되며, 프로그램이 끝날 때 사라짐"
   ]
  },
  {
   "cell_type": "code",
   "execution_count": 7,
   "metadata": {},
   "outputs": [
    {
     "name": "stdout",
     "output_type": "stream",
     "text": [
      "8\n",
      "5\n"
     ]
    }
   ],
   "source": [
    "def add():\n",
    "    number = 5\n",
    "    number = number + 3\n",
    "    print (number)\n",
    "\n",
    "number = 5\n",
    "add()\n",
    "print (number)"
   ]
  },
  {
   "cell_type": "markdown",
   "metadata": {},
   "source": [
    "### 지역변수, 전역변수의 사용\n",
    "\n",
    "- 전역변수를 함수 내부에서 수정 또는 선언하고자 할 때에는 global 키워드를 사용함"
   ]
  },
  {
   "cell_type": "code",
   "execution_count": 8,
   "metadata": {},
   "outputs": [
    {
     "name": "stdout",
     "output_type": "stream",
     "text": [
      "8\n",
      "8\n"
     ]
    }
   ],
   "source": [
    "def add():\n",
    "    global number\n",
    "    number = number + 3\n",
    "    print (number)\n",
    "\n",
    "number = 5\n",
    "add()\n",
    "print (number)"
   ]
  },
  {
   "cell_type": "code",
   "execution_count": 9,
   "metadata": {},
   "outputs": [
    {
     "name": "stdout",
     "output_type": "stream",
     "text": [
      "8\n"
     ]
    }
   ],
   "source": [
    "# 지역변수/전역변수 사용\n",
    "\n",
    "number = 5\n",
    "\n",
    "def add():\n",
    "    global number\n",
    "    number = number + 3\n",
    "\n",
    "add()\n",
    "print (number)"
   ]
  },
  {
   "cell_type": "code",
   "execution_count": 14,
   "metadata": {},
   "outputs": [
    {
     "ename": "UnboundLocalError",
     "evalue": "local variable 'number' referenced before assignment",
     "output_type": "error",
     "traceback": [
      "\u001b[0;31m---------------------------------------------------------------------------\u001b[0m",
      "\u001b[0;31mUnboundLocalError\u001b[0m                         Traceback (most recent call last)",
      "\u001b[0;32m<ipython-input-14-c81369ae7cca>\u001b[0m in \u001b[0;36m<module>\u001b[0;34m\u001b[0m\n\u001b[1;32m      5\u001b[0m     \u001b[0mnumber\u001b[0m \u001b[0;34m=\u001b[0m \u001b[0mnumber\u001b[0m \u001b[0;34m+\u001b[0m \u001b[0;36m3\u001b[0m\u001b[0;34m\u001b[0m\u001b[0;34m\u001b[0m\u001b[0m\n\u001b[1;32m      6\u001b[0m \u001b[0;34m\u001b[0m\u001b[0m\n\u001b[0;32m----> 7\u001b[0;31m \u001b[0madd\u001b[0m\u001b[0;34m(\u001b[0m\u001b[0;34m)\u001b[0m\u001b[0;34m\u001b[0m\u001b[0;34m\u001b[0m\u001b[0m\n\u001b[0m\u001b[1;32m      8\u001b[0m \u001b[0mprint\u001b[0m\u001b[0;34m(\u001b[0m\u001b[0mnumber\u001b[0m\u001b[0;34m)\u001b[0m\u001b[0;34m\u001b[0m\u001b[0;34m\u001b[0m\u001b[0m\n",
      "\u001b[0;32m<ipython-input-14-c81369ae7cca>\u001b[0m in \u001b[0;36madd\u001b[0;34m()\u001b[0m\n\u001b[1;32m      3\u001b[0m \u001b[0;34m\u001b[0m\u001b[0m\n\u001b[1;32m      4\u001b[0m \u001b[0;32mdef\u001b[0m \u001b[0madd\u001b[0m\u001b[0;34m(\u001b[0m\u001b[0;34m)\u001b[0m\u001b[0;34m:\u001b[0m\u001b[0;34m\u001b[0m\u001b[0;34m\u001b[0m\u001b[0m\n\u001b[0;32m----> 5\u001b[0;31m     \u001b[0mnumber\u001b[0m \u001b[0;34m=\u001b[0m \u001b[0mnumber\u001b[0m \u001b[0;34m+\u001b[0m \u001b[0;36m3\u001b[0m\u001b[0;34m\u001b[0m\u001b[0;34m\u001b[0m\u001b[0m\n\u001b[0m\u001b[1;32m      6\u001b[0m \u001b[0;34m\u001b[0m\u001b[0m\n\u001b[1;32m      7\u001b[0m \u001b[0madd\u001b[0m\u001b[0;34m(\u001b[0m\u001b[0;34m)\u001b[0m\u001b[0;34m\u001b[0m\u001b[0;34m\u001b[0m\u001b[0m\n",
      "\u001b[0;31mUnboundLocalError\u001b[0m: local variable 'number' referenced before assignment"
     ]
    }
   ],
   "source": [
    "# 함수내에 number 변수에 대한 정의가 있어야 한다\n",
    "number = 5\n",
    "\n",
    "def add():\n",
    "    number = number + 3\n",
    "\n",
    "add()\n",
    "print(number)"
   ]
  },
  {
   "cell_type": "code",
   "execution_count": 16,
   "metadata": {},
   "outputs": [
    {
     "name": "stdout",
     "output_type": "stream",
     "text": [
      "5\n"
     ]
    }
   ],
   "source": [
    "# 전역변수의 값을 변경하는 것 없이, 단순히 전역변수의 값을 참조만 하는 경우에는 함수 내부에서 global로 선언하지 않아도 함수에 정의된 지역변수가 없다면 전역변수를 찾아 참조한다\n",
    "\n",
    "number = 5\n",
    "def add():\n",
    "    print (number)\n",
    "add()"
   ]
  },
  {
   "cell_type": "code",
   "execution_count": 18,
   "metadata": {},
   "outputs": [
    {
     "data": {
      "text/plain": [
       "200"
      ]
     },
     "execution_count": 18,
     "metadata": {},
     "output_type": "execute_result"
    }
   ],
   "source": [
    "x = 100\n",
    "\n",
    "def f():\n",
    "    y = x + 100\n",
    "    return y\n",
    "    \n",
    "f()"
   ]
  },
  {
   "cell_type": "markdown",
   "metadata": {},
   "source": [
    "### Local Variables and Global Variables with the Same Name"
   ]
  },
  {
   "cell_type": "code",
   "execution_count": 20,
   "metadata": {},
   "outputs": [
    {
     "name": "stdout",
     "output_type": "stream",
     "text": [
      "Hello, Albert\n",
      "Your new name is Waffles\n"
     ]
    },
    {
     "ename": "TypeError",
     "evalue": "can only concatenate str (not \"NoneType\") to str",
     "output_type": "error",
     "traceback": [
      "\u001b[0;31m---------------------------------------------------------------------------\u001b[0m",
      "\u001b[0;31mTypeError\u001b[0m                                 Traceback (most recent call last)",
      "\u001b[0;32m<ipython-input-20-04074b92c749>\u001b[0m in \u001b[0;36m<module>\u001b[0;34m\u001b[0m\n\u001b[1;32m      8\u001b[0m \u001b[0mmyName\u001b[0m \u001b[0;34m=\u001b[0m \u001b[0;34m'Albert'\u001b[0m\u001b[0;34m\u001b[0m\u001b[0;34m\u001b[0m\u001b[0m\n\u001b[1;32m      9\u001b[0m \u001b[0mmyName\u001b[0m \u001b[0;34m=\u001b[0m \u001b[0mspam\u001b[0m\u001b[0;34m(\u001b[0m\u001b[0mmyName\u001b[0m\u001b[0;34m)\u001b[0m\u001b[0;34m\u001b[0m\u001b[0;34m\u001b[0m\u001b[0m\n\u001b[0;32m---> 10\u001b[0;31m \u001b[0mprint\u001b[0m \u001b[0;34m(\u001b[0m\u001b[0;34m'Howdy, '\u001b[0m \u001b[0;34m+\u001b[0m \u001b[0mmyName\u001b[0m\u001b[0;34m)\u001b[0m\u001b[0;34m\u001b[0m\u001b[0;34m\u001b[0m\u001b[0m\n\u001b[0m",
      "\u001b[0;31mTypeError\u001b[0m: can only concatenate str (not \"NoneType\") to str"
     ]
    }
   ],
   "source": [
    "# spam 함수에 return이 없기 때문에 None이 되므로 오류가 발생한다\n",
    "\n",
    "def spam(myName):\n",
    "    print ('Hello, ' + myName)\n",
    "    myName = 'Waffles'\n",
    "    print('Your new name is ' + myName)\n",
    "\n",
    "myName = 'Albert'\n",
    "myName = spam(myName)\n",
    "print ('Howdy, ' + myName)"
   ]
  },
  {
   "cell_type": "code",
   "execution_count": 22,
   "metadata": {},
   "outputs": [
    {
     "name": "stdout",
     "output_type": "stream",
     "text": [
      "Hello, Albert\n",
      "Your new name is Waffles\n",
      "Howdy, Waffles\n"
     ]
    }
   ],
   "source": [
    "# spam 함수에 return을 했기에 오류없이 실행된다\n",
    "\n",
    "def spam(myName):\n",
    "    print ('Hello, ' + myName)\n",
    "    myName = 'Waffles'\n",
    "    print('Your new name is ' + myName)\n",
    "    return myName\n",
    "\n",
    "myName = 'Albert'\n",
    "myName = spam(myName)\n",
    "print ('Howdy, ' + myName)"
   ]
  },
  {
   "cell_type": "code",
   "execution_count": 23,
   "metadata": {},
   "outputs": [
    {
     "data": {
      "text/plain": [
       "7"
      ]
     },
     "execution_count": 23,
     "metadata": {},
     "output_type": "execute_result"
    }
   ],
   "source": [
    "import random\n",
    "\n",
    "random.randint(1,20)"
   ]
  },
  {
   "cell_type": "code",
   "execution_count": 24,
   "metadata": {},
   "outputs": [
    {
     "data": {
      "text/plain": [
       "5"
      ]
     },
     "execution_count": 24,
     "metadata": {},
     "output_type": "execute_result"
    }
   ],
   "source": [
    "# from을 사용하여 모듈명을 생략해서 사용한다\n",
    "\n",
    "from random import randint\n",
    "\n",
    "randint(1,20)"
   ]
  },
  {
   "cell_type": "code",
   "execution_count": 35,
   "metadata": {},
   "outputs": [
    {
     "name": "stdout",
     "output_type": "stream",
     "text": [
      "1.4142135623730951 -1.4142135623730951\n",
      "<class 'float'>\n",
      "<class 'float'>\n"
     ]
    }
   ],
   "source": [
    "# 2개의 return 값을 2개로 받으면, 각자의 형으로 된다\n",
    "def roots(value):\n",
    "    from math import sqrt\n",
    "    result = sqrt(value)\n",
    "    return result, -result\n",
    "\n",
    "x, y = roots(2)\n",
    "print(x, y)\n",
    "print(type(x))\n",
    "print(type(y))"
   ]
  },
  {
   "cell_type": "code",
   "execution_count": 34,
   "metadata": {},
   "outputs": [
    {
     "name": "stdout",
     "output_type": "stream",
     "text": [
      "(1.4142135623730951, -1.4142135623730951)\n",
      "<class 'tuple'>\n"
     ]
    }
   ],
   "source": [
    "# 2개의 retrun 값을 하나의 변수로 받으면 tuple형으로 된다\n",
    "\n",
    "def roots(value):\n",
    "    from math import sqrt\n",
    "    result = sqrt(value)\n",
    "    return result, -result\n",
    "\n",
    "x = roots(2)\n",
    "print(x)\n",
    "print(type(x))"
   ]
  },
  {
   "cell_type": "code",
   "execution_count": 26,
   "metadata": {},
   "outputs": [],
   "source": [
    "def a():\n",
    "    return 0"
   ]
  },
  {
   "cell_type": "code",
   "execution_count": 27,
   "metadata": {},
   "outputs": [],
   "source": [
    "def b():\n",
    "    print(0)"
   ]
  },
  {
   "cell_type": "code",
   "execution_count": 30,
   "metadata": {},
   "outputs": [
    {
     "data": {
      "text/plain": [
       "1"
      ]
     },
     "execution_count": 30,
     "metadata": {},
     "output_type": "execute_result"
    }
   ],
   "source": [
    "a() + 1"
   ]
  },
  {
   "cell_type": "code",
   "execution_count": 31,
   "metadata": {},
   "outputs": [
    {
     "name": "stdout",
     "output_type": "stream",
     "text": [
      "0\n"
     ]
    },
    {
     "ename": "TypeError",
     "evalue": "unsupported operand type(s) for +: 'NoneType' and 'int'",
     "output_type": "error",
     "traceback": [
      "\u001b[0;31m---------------------------------------------------------------------------\u001b[0m",
      "\u001b[0;31mTypeError\u001b[0m                                 Traceback (most recent call last)",
      "\u001b[0;32m<ipython-input-31-8d0a83cdffbb>\u001b[0m in \u001b[0;36m<module>\u001b[0;34m\u001b[0m\n\u001b[1;32m      1\u001b[0m \u001b[0;31m# return 이 없어 None + int가 되어 오류 발생\u001b[0m\u001b[0;34m\u001b[0m\u001b[0;34m\u001b[0m\u001b[0;34m\u001b[0m\u001b[0m\n\u001b[0;32m----> 2\u001b[0;31m \u001b[0mb\u001b[0m\u001b[0;34m(\u001b[0m\u001b[0;34m)\u001b[0m \u001b[0;34m+\u001b[0m \u001b[0;36m1\u001b[0m\u001b[0;34m\u001b[0m\u001b[0;34m\u001b[0m\u001b[0m\n\u001b[0m",
      "\u001b[0;31mTypeError\u001b[0m: unsupported operand type(s) for +: 'NoneType' and 'int'"
     ]
    }
   ],
   "source": [
    "# return 이 없어 None + int가 되어 오류 발생\n",
    "b() + 1"
   ]
  },
  {
   "cell_type": "markdown",
   "metadata": {},
   "source": [
    "### Dragon Realm Game 함수 만들기\n",
    "\n",
    "#### 함수로 바꾸어보기\n",
    "- displayIntro() 함수 : 게임 시작에 나오는 인트로 메시지 부분\n",
    "- chooseCave()함수 : 동굴번호 선택 코드 부분\n",
    "- checkCave() 함수 : 동굴번호와 랜덤번호 비교하는 코드 부분"
   ]
  },
  {
   "cell_type": "code",
   "execution_count": 55,
   "metadata": {},
   "outputs": [
    {
     "name": "stdout",
     "output_type": "stream",
     "text": [
      "You are in a land full of dragons.\n",
      "In front of you, you see two caves. \n",
      "In one cave, the dragon is friendly, \n",
      " and will share his treasure with you. \n",
      "The other dragon is greedy and hungry, \n",
      "and will eat you on sight. \n"
     ]
    },
    {
     "name": "stdin",
     "output_type": "stream",
     "text": [
      "While cave will you go into? (1 or 2) 1\n"
     ]
    },
    {
     "name": "stdout",
     "output_type": "stream",
     "text": [
      "You approach the cave...\n",
      "It is dark and spooky...\n",
      "A large dragon jumps out in front of you!\n",
      "He opens his jaws and...\n",
      "Gives you his trasurre!\n"
     ]
    },
    {
     "name": "stdin",
     "output_type": "stream",
     "text": [
      "Do you want to play again?(yes or no) no\n"
     ]
    }
   ],
   "source": [
    "import random\n",
    "import time\n",
    "\n",
    "def displayIntro():\n",
    "    print ('You are in a land full of dragons.')\n",
    "    time.sleep(1)\n",
    "    print ('In front of you, you see two caves. ')\n",
    "    time.sleep(1)\n",
    "    print ('In one cave, the dragon is friendly, ')\n",
    "    time.sleep(1)\n",
    "    print (' and will share his treasure with you. ')\n",
    "    time.sleep(1)\n",
    "    print ('The other dragon is greedy and hungry, ')\n",
    "    time.sleep(1)\n",
    "    print ('and will eat you on sight. ')\n",
    "\n",
    "def chooseCave():\n",
    "    cave = ''\n",
    "    while cave != '1' and cave != '2':\n",
    "        cave = input('While cave will you go into? (1 or 2)')\n",
    "    return cave\n",
    "\n",
    "def checkCave(cave):\n",
    "    friendlycave = random.randint(1,2) # 랜덤값 발생\n",
    "\n",
    "    if friendlycave == int(cave):\n",
    "        print('Gives you his trasurre!')\n",
    "    else:\n",
    "        print('Gobbles you down in one cave')\n",
    "\n",
    "def displayIntro2():\n",
    "    print('You approach the cave...')\n",
    "    time.sleep(1)\n",
    "    print('It is dark and spooky...')\n",
    "    time.sleep(1)\n",
    "    print('A large dragon jumps out in front of you!')\n",
    "    time.sleep(1)\n",
    "    print('He opens his jaws and...')\n",
    "\n",
    "playagain = 'yes'\n",
    "while playagain == 'yes' or playagain == 'y':\n",
    "    displayIntro()\n",
    "    chosenCave = chooseCave()\n",
    "    displayIntro2()\n",
    "    checkCave(chosenCave)\n",
    "    playagain = input('Do you want to play again?(yes or no)')"
   ]
  },
  {
   "cell_type": "markdown",
   "metadata": {},
   "source": [
    "# 예외처리\n",
    "\n",
    "- Syntax errors : incorrect statement.\n",
    "- Exception error : 실행중에 발행하는 오류"
   ]
  },
  {
   "cell_type": "code",
   "execution_count": 61,
   "metadata": {},
   "outputs": [
    {
     "name": "stdin",
     "output_type": "stream",
     "text": [
      "두 숫자를 컴마로 분리하여 입력하세요 3,4\n"
     ]
    },
    {
     "name": "stdout",
     "output_type": "stream",
     "text": [
      "결과는 0.75 입니다.\n",
      "예외는 없습니다.\n",
      "finally절이 실행되었습니다.\n"
     ]
    }
   ],
   "source": [
    "try:\n",
    "    number1, number2 = eval(input('두 숫자를 컴마로 분리하여 입력하세요')) # eval 함수는 문자를 그대로 계산하라 (숫자는 오류 발생)\n",
    "    result = number1/number2\n",
    "    print('결과는', result, '입니다.')\n",
    "except ZeroDivisionError:\n",
    "    print('0으로 나누기')\n",
    "except SyntaxError:\n",
    "    print('입력에 컴마가 빠졌습니다.')\n",
    "except:\n",
    "    print('입력에 문제가 있습니다.')\n",
    "else:\n",
    "    print(\"예외는 없습니다.\")\n",
    "finally:\n",
    "    print(\"finally절이 실행되었습니다.\")\n",
    "    "
   ]
  },
  {
   "cell_type": "code",
   "execution_count": 82,
   "metadata": {},
   "outputs": [
    {
     "name": "stdin",
     "output_type": "stream",
     "text": [
      "첫번째 정수를 입력하세요: 30\n",
      "두번째 정수를 입력하세요: 10\n"
     ]
    },
    {
     "name": "stdout",
     "output_type": "stream",
     "text": [
      "addition result: 40\n"
     ]
    },
    {
     "data": {
      "text/plain": [
       "40"
      ]
     },
     "execution_count": 82,
     "metadata": {},
     "output_type": "execute_result"
    }
   ],
   "source": [
    "int1 = int(input('첫번째 정수를 입력하세요:'))\n",
    "int2 = int(input('두번째 정수를 입력하세요:'))\n",
    "\n",
    "def addition(x, y):\n",
    "    print('addition result:', x + y)\n",
    "    return x + y\n",
    "    \n",
    "addition(int1, int2)    "
   ]
  },
  {
   "cell_type": "code",
   "execution_count": 83,
   "metadata": {},
   "outputs": [
    {
     "name": "stdout",
     "output_type": "stream",
     "text": [
      "subtrraction result: 20\n"
     ]
    },
    {
     "data": {
      "text/plain": [
       "20"
      ]
     },
     "execution_count": 83,
     "metadata": {},
     "output_type": "execute_result"
    }
   ],
   "source": [
    "def subtraction(x, y):\n",
    "    print('subtrraction result:', x - y)\n",
    "    return x - y\n",
    "\n",
    "subtraction(int1, int2)"
   ]
  },
  {
   "cell_type": "code",
   "execution_count": 84,
   "metadata": {},
   "outputs": [
    {
     "name": "stdout",
     "output_type": "stream",
     "text": [
      "multiplication result: 300\n"
     ]
    },
    {
     "data": {
      "text/plain": [
       "300"
      ]
     },
     "execution_count": 84,
     "metadata": {},
     "output_type": "execute_result"
    }
   ],
   "source": [
    "def multiplication(x, y):\n",
    "    print('multiplication result:', x * y)\n",
    "    return x * y\n",
    "\n",
    "multiplication(int1, int2)"
   ]
  },
  {
   "cell_type": "code",
   "execution_count": 85,
   "metadata": {},
   "outputs": [
    {
     "name": "stdout",
     "output_type": "stream",
     "text": [
      "division rresult: 3.0\n"
     ]
    },
    {
     "data": {
      "text/plain": [
       "3.0"
      ]
     },
     "execution_count": 85,
     "metadata": {},
     "output_type": "execute_result"
    }
   ],
   "source": [
    "def division(x, y):\n",
    "    print('division rresult:', x / y)\n",
    "    return x / y\n",
    "    \n",
    "division(int1, int2)"
   ]
  },
  {
   "cell_type": "code",
   "execution_count": 86,
   "metadata": {},
   "outputs": [
    {
     "name": "stdin",
     "output_type": "stream",
     "text": [
      "첫번째 정수를 입력하세요: 30\n",
      "두번째 정수를 입력하세요: 10\n",
      "연산자를 입력하세요(+, -, *, /): +\n"
     ]
    },
    {
     "name": "stdout",
     "output_type": "stream",
     "text": [
      "addition result: 40\n"
     ]
    }
   ],
   "source": [
    "# 연산자를 함께 입력 받도록 수정한 후, 연산자에 따라 필요한 함수를 호출하는 프로그램\n",
    "\n",
    "int1 = int(input('첫번째 정수를 입력하세요:'))\n",
    "int2 = int(input('두번째 정수를 입력하세요:'))\n",
    "op = input('연산자를 입력하세요(+, -, *, /):')\n",
    "    \n",
    "if op == '+':\n",
    "    addition(int1, int2)\n",
    "elif op == '-':\n",
    "    subtraction(int1, int2)\n",
    "elif op == '*':\n",
    "    multiplication(int1, int2)\n",
    "elif op == '/':\n",
    "    subtraction(int1, int2)\n",
    "else:\n",
    "    print('잘못된 연산자를 입력 했습니다.')"
   ]
  },
  {
   "cell_type": "code",
   "execution_count": 88,
   "metadata": {},
   "outputs": [
    {
     "name": "stdin",
     "output_type": "stream",
     "text": [
      "첫번째 정수를 입력하세요: 30\n",
      "두번째 정수를 입력하세요: 10\n",
      "연산자를 입력하세요(+, -, *, /, all): all\n"
     ]
    },
    {
     "name": "stdout",
     "output_type": "stream",
     "text": [
      "addition result: 40\n",
      "subtrraction result: 20\n",
      "multiplication result: 300\n",
      "division rresult: 3.0\n",
      "모든 결과의 값은 363.0\n"
     ]
    }
   ],
   "source": [
    "# 연산자에 all을 추가하고 all을 입력 받았을 때 모든 결과의 합을 출력하도록 수정해보세요.(all이라는 연산자는 실제 없음!)\n",
    "\n",
    "int1 = int(input('첫번째 정수를 입력하세요:'))\n",
    "int2 = int(input('두번째 정수를 입력하세요:'))\n",
    "op = input('연산자를 입력하세요(+, -, *, /, all):')\n",
    "    \n",
    "if op == '+':\n",
    "    addition(int1, int2)\n",
    "elif op == '-':\n",
    "    subtraction(int1, int2)\n",
    "elif op == '*':\n",
    "    multiplication(int1, int2)\n",
    "elif op == '/':\n",
    "    subtraction(int1, int2)\n",
    "elif op == 'all':\n",
    "    a = addition(int1, int2)\n",
    "    s = subtraction(int1, int2)\n",
    "    m = multiplication(int1, int2)\n",
    "    d = division(int1, int2)\n",
    "    print('모든 결과의 값은', a + s + m + d)\n",
    "else:\n",
    "    print('잘못된 연산자를 입력 했습니다.')"
   ]
  },
  {
   "cell_type": "markdown",
   "metadata": {},
   "source": [
    "### 응용실습\n",
    "\n",
    "### Hangman game 요구사항\n",
    "- getRandomWord() : 단어가운데 하나를 골라 리턴하는 함수\n",
    "- displayBoard() :\n",
    "    - 틀린 문자의 수에 해당하는 그림을 나타냄\n",
    "    - Missed letters:틀린 글자를 나타냄\n",
    "    - 맞힌 글자는 글자로 아직 못 맞힌 글자는 언더바(_) 로 나타냄\n",
    "- getGuesss():\n",
    "    - 글자를 입력받아 입력 글자가 올바르면 반환함\n",
    "    - 입력글자가 한글자가 아니면 Please enter a single letter. 를 출력함\n",
    "    - 입력글자가 이미 이전에 입력한 글자이면 You have already guessed that letter.Choose again. 를 출력함\n",
    "    - 입력글자가 알파벳이 아니면 Please enter a LETTER. 를 출력함\n",
    "    - 올바른 글자를 입력 받을 때까지 반복함.\n",
    "- playAgain():\n",
    "    - 'Do you want to play again? (yes or no)' 메시지 출력, 값을 입력받아 반환"
   ]
  },
  {
   "cell_type": "code",
   "execution_count": 107,
   "metadata": {},
   "outputs": [
    {
     "data": {
      "text/plain": [
       "'frog'"
      ]
     },
     "execution_count": 107,
     "metadata": {},
     "output_type": "execute_result"
    }
   ],
   "source": [
    "import random\n",
    "\n",
    "HANGMANPICS = ['''\n",
    "     +---+\n",
    "     |   |\n",
    "         |\n",
    "         |\n",
    "         |\n",
    "         |\n",
    "============''', '''\n",
    "     +---+\n",
    "     |   |\n",
    "     o   |\n",
    "         |\n",
    "         |\n",
    "         |\n",
    "============''', '''\n",
    "     +---+\n",
    "     |   |\n",
    "     o   |\n",
    "     |   | \n",
    "         |\n",
    "         |\n",
    "============''', '''\n",
    "     +---+\n",
    "     |   |\n",
    "     o   |\n",
    "    /|   | \n",
    "         |\n",
    "         |\n",
    "============''', '''\n",
    "     +---+\n",
    "     |   |\n",
    "     o   |\n",
    "    /|\\  | \n",
    "         |\n",
    "         |\n",
    "============''', '''\n",
    "     +---+\n",
    "     |   |\n",
    "     o   |\n",
    "    /|\\  | \n",
    "    /    |\n",
    "         |\n",
    "============''', '''\n",
    "     +---+\n",
    "     |   |\n",
    "     o   |\n",
    "    /|\\  | \n",
    "    / \\ |\n",
    "         |\n",
    "============''']\n",
    "\n",
    "animals = 'ant baboon badger bat bear beaver camel cat clam cobra cougar coyote crow deer dog donkey duck eagle ferret fox frog goat goose hawk lion lizard llama mole monkey moose mouse mule newt otter owl panda parrot pigeon python rabbit ram rat raven rhino salmon seal shark sheep skunk sloth snake spider stork swan tiger toad trout turkey turtle weasel whale wolf zebra'\n",
    "WORDS = animals.split()\n",
    "\n",
    "def getRandomWord(wordlist):\n",
    "    i = random.randint(0, len(wordlist)-1)\n",
    "    word = wordlist[i]\n",
    "    return word\n",
    "\n",
    "def getRandomWord2(wordlist):\n",
    "    word = random.choice(wordlist)\n",
    "    return word\n",
    "\n",
    "#getRandomWord(WORDS)\n",
    "\n",
    "getRandomWord2(WORDS)\n"
   ]
  },
  {
   "cell_type": "code",
   "execution_count": null,
   "metadata": {},
   "outputs": [],
   "source": [
    "HANGMANPICS = ['''\n",
    "     +---+\n",
    "     |   |\n",
    "         |\n",
    "         |\n",
    "         |\n",
    "         |\n",
    "============''', '''\n",
    "     +---+\n",
    "     |   |\n",
    "     o   |\n",
    "         |\n",
    "         |\n",
    "         |\n",
    "============''', '''\n",
    "     +---+\n",
    "     |   |\n",
    "     o   |\n",
    "     |   | \n",
    "         |\n",
    "         |\n",
    "============''', '''\n",
    "     +---+\n",
    "     |   |\n",
    "     o   |\n",
    "    /|   | \n",
    "         |\n",
    "         |\n",
    "============''', '''\n",
    "     +---+\n",
    "     |   |\n",
    "     o   |\n",
    "    /|\\  | \n",
    "         |\n",
    "         |\n",
    "============''', '''\n",
    "     +---+\n",
    "     |   |\n",
    "     o   |\n",
    "    /|\\  | \n",
    "    /    |\n",
    "         |\n",
    "============''', '''\n",
    "     +---+\n",
    "     |   |\n",
    "     o   |\n",
    "    /|\\  | \n",
    "    / \\ |\n",
    "         |\n",
    "============''']\n",
    "\n",
    "getRandomWord()\n",
    "\n",
    "\n",
    "def displayBoard():\n",
    "    "
   ]
  }
 ],
 "metadata": {
  "kernelspec": {
   "display_name": "Python 3",
   "language": "python",
   "name": "python3"
  },
  "language_info": {
   "codemirror_mode": {
    "name": "ipython",
    "version": 3
   },
   "file_extension": ".py",
   "mimetype": "text/x-python",
   "name": "python",
   "nbconvert_exporter": "python",
   "pygments_lexer": "ipython3",
   "version": "3.7.3"
  }
 },
 "nbformat": 4,
 "nbformat_minor": 2
}
