{
  "nbformat": 4,
  "nbformat_minor": 0,
  "metadata": {
    "colab": {
      "name": "Day03_자료형 Container.ipynb",
      "version": "0.3.2",
      "provenance": [],
      "toc_visible": true,
      "include_colab_link": true
    },
    "language_info": {
      "codemirror_mode": {
        "name": "ipython",
        "version": 3
      },
      "file_extension": ".py",
      "mimetype": "text/x-python",
      "name": "python",
      "nbconvert_exporter": "python",
      "pygments_lexer": "ipython3",
      "version": "3.7.3"
    },
    "kernelspec": {
      "display_name": "Python 3",
      "language": "python",
      "name": "python3"
    }
  },
  "cells": [
    {
      "cell_type": "markdown",
      "metadata": {
        "id": "view-in-github",
        "colab_type": "text"
      },
      "source": [
        "<a href=\"https://colab.research.google.com/github/THE-R4U/AI_Innovation/blob/master/Day03_%E1%84%8C%E1%85%A1%E1%84%85%E1%85%AD%E1%84%92%E1%85%A7%E1%86%BC_Container.ipynb\" target=\"_parent\"><img src=\"https://colab.research.google.com/assets/colab-badge.svg\" alt=\"Open In Colab\"/></a>"
      ]
    },
    {
      "cell_type": "markdown",
      "metadata": {
        "id": "GJ3QNdbaEyKJ",
        "colab_type": "text"
      },
      "source": [
        "# 3일차 - 자료형 Container \n",
        "\n",
        "## List\n",
        "- 여러 개의 데이터를 하나의 변수에 저장하고자 할 때 매우 유용함\n",
        "- 리스트에 들어있는 데이터를 아이템이라고 부름\n",
        "- 리스트는 [ ]로 묶어주고, 리스트의 아이템은 ,(컴마)로 구분함\n",
        "- 리스트의 아이템에 접근하고자 할 때에는 인덱스를 사용함\n",
        "- 인덱스는 0부터 시작함!!"
      ]
    },
    {
      "cell_type": "code",
      "metadata": {
        "id": "QRW6Uj12EyKK",
        "colab_type": "code",
        "colab": {}
      },
      "source": [
        "shape = ['turrtle', 'aarrow', 'circle', 'suqare']"
      ],
      "execution_count": 0,
      "outputs": []
    },
    {
      "cell_type": "code",
      "metadata": {
        "id": "CWAHCfSmEyKO",
        "colab_type": "code",
        "colab": {},
        "outputId": "ae8b897f-ff54-49e1-8287-d968104de91c"
      },
      "source": [
        "shape[0]"
      ],
      "execution_count": 0,
      "outputs": [
        {
          "output_type": "execute_result",
          "data": {
            "text/plain": [
              "'turrtle'"
            ]
          },
          "metadata": {
            "tags": []
          },
          "execution_count": 4
        }
      ]
    },
    {
      "cell_type": "code",
      "metadata": {
        "id": "JSX0raN3EyKS",
        "colab_type": "code",
        "colab": {},
        "outputId": "c38ba96c-8135-4fa7-d0f6-c3b46de26086"
      },
      "source": [
        "shape[1]"
      ],
      "execution_count": 0,
      "outputs": [
        {
          "output_type": "execute_result",
          "data": {
            "text/plain": [
              "'aarrow'"
            ]
          },
          "metadata": {
            "tags": []
          },
          "execution_count": 5
        }
      ]
    },
    {
      "cell_type": "code",
      "metadata": {
        "id": "Lrdlkd9EEyKV",
        "colab_type": "code",
        "colab": {},
        "outputId": "b037d6f3-f9c1-4c28-e133-e163ebba6113"
      },
      "source": [
        "shape[2]"
      ],
      "execution_count": 0,
      "outputs": [
        {
          "output_type": "execute_result",
          "data": {
            "text/plain": [
              "'circle'"
            ]
          },
          "metadata": {
            "tags": []
          },
          "execution_count": 6
        }
      ]
    },
    {
      "cell_type": "code",
      "metadata": {
        "id": "piYfe1ltEyKY",
        "colab_type": "code",
        "colab": {},
        "outputId": "214f4236-15c8-4426-da41-9ba8e6c42dc1"
      },
      "source": [
        "shape[3]"
      ],
      "execution_count": 0,
      "outputs": [
        {
          "output_type": "execute_result",
          "data": {
            "text/plain": [
              "'suqare'"
            ]
          },
          "metadata": {
            "tags": []
          },
          "execution_count": 7
        }
      ]
    },
    {
      "cell_type": "code",
      "metadata": {
        "id": "2hQxVxuiEyKa",
        "colab_type": "code",
        "colab": {},
        "outputId": "de263564-d581-424c-d249-8d351511d872"
      },
      "source": [
        "#없는 인덱스를 지정함면\n",
        "shape[4]"
      ],
      "execution_count": 0,
      "outputs": [
        {
          "output_type": "error",
          "ename": "IndexError",
          "evalue": "list index out of range",
          "traceback": [
            "\u001b[0;31m---------------------------------------------------------------------------\u001b[0m",
            "\u001b[0;31mIndexError\u001b[0m                                Traceback (most recent call last)",
            "\u001b[0;32m<ipython-input-9-c0758277eccc>\u001b[0m in \u001b[0;36m<module>\u001b[0;34m\u001b[0m\n\u001b[1;32m      1\u001b[0m \u001b[0;31m#없는 인덱스를 지정함면\u001b[0m\u001b[0;34m\u001b[0m\u001b[0;34m\u001b[0m\u001b[0;34m\u001b[0m\u001b[0m\n\u001b[0;32m----> 2\u001b[0;31m \u001b[0mshape\u001b[0m\u001b[0;34m[\u001b[0m\u001b[0;36m4\u001b[0m\u001b[0;34m]\u001b[0m\u001b[0;34m\u001b[0m\u001b[0;34m\u001b[0m\u001b[0m\n\u001b[0m",
            "\u001b[0;31mIndexError\u001b[0m: list index out of range"
          ]
        }
      ]
    },
    {
      "cell_type": "code",
      "metadata": {
        "id": "aS7vHraQEyKk",
        "colab_type": "code",
        "colab": {}
      },
      "source": [
        "# 아이템 수정\n",
        "\n",
        "shape[1] = 'ARROW'"
      ],
      "execution_count": 0,
      "outputs": []
    },
    {
      "cell_type": "code",
      "metadata": {
        "id": "gFGC97M3EyKm",
        "colab_type": "code",
        "colab": {},
        "outputId": "d8dfec49-4875-4bf5-dcfa-2595cd52b2f3"
      },
      "source": [
        "shape[1]"
      ],
      "execution_count": 0,
      "outputs": [
        {
          "output_type": "execute_result",
          "data": {
            "text/plain": [
              "'ARROW'"
            ]
          },
          "metadata": {
            "tags": []
          },
          "execution_count": 13
        }
      ]
    },
    {
      "cell_type": "code",
      "metadata": {
        "id": "CFnQSSxMEyKp",
        "colab_type": "code",
        "colab": {},
        "outputId": "fdd2a44f-4492-45a9-9f48-4f38cc4238a2"
      },
      "source": [
        "shape"
      ],
      "execution_count": 0,
      "outputs": [
        {
          "output_type": "execute_result",
          "data": {
            "text/plain": [
              "['turrtle', 'ARROW', 'circle', 'suqare']"
            ]
          },
          "metadata": {
            "tags": []
          },
          "execution_count": 14
        }
      ]
    },
    {
      "cell_type": "code",
      "metadata": {
        "id": "PBLHkQEcEyKs",
        "colab_type": "code",
        "colab": {},
        "outputId": "c2fe7345-86c0-4d89-95ba-229ff3d994ee"
      },
      "source": [
        "type(shape)"
      ],
      "execution_count": 0,
      "outputs": [
        {
          "output_type": "execute_result",
          "data": {
            "text/plain": [
              "list"
            ]
          },
          "metadata": {
            "tags": []
          },
          "execution_count": 15
        }
      ]
    },
    {
      "cell_type": "code",
      "metadata": {
        "id": "6I3Ak-TSEyKv",
        "colab_type": "code",
        "colab": {}
      },
      "source": [
        "# 아이템 추가\n",
        "\n",
        "shape.append('heart')"
      ],
      "execution_count": 0,
      "outputs": []
    },
    {
      "cell_type": "code",
      "metadata": {
        "id": "Q2mLN2lUEyKx",
        "colab_type": "code",
        "colab": {},
        "outputId": "73f8cbef-774c-400a-f0aa-191a2f2ba114"
      },
      "source": [
        "shape"
      ],
      "execution_count": 0,
      "outputs": [
        {
          "output_type": "execute_result",
          "data": {
            "text/plain": [
              "['turrtle', 'ARROW', 'circle', 'suqare', 'heart']"
            ]
          },
          "metadata": {
            "tags": []
          },
          "execution_count": 17
        }
      ]
    },
    {
      "cell_type": "code",
      "metadata": {
        "id": "v3fr9IsdEyK2",
        "colab_type": "code",
        "colab": {}
      },
      "source": [
        "shape.append(27)"
      ],
      "execution_count": 0,
      "outputs": []
    },
    {
      "cell_type": "code",
      "metadata": {
        "id": "_zUj3bniEyK7",
        "colab_type": "code",
        "colab": {},
        "outputId": "410d5e0d-e1b3-4b3f-cf56-d023bc9e729b"
      },
      "source": [
        "shape"
      ],
      "execution_count": 0,
      "outputs": [
        {
          "output_type": "execute_result",
          "data": {
            "text/plain": [
              "['turrtle', 'ARROW', 'circle', 'suqare', 'heart', 27]"
            ]
          },
          "metadata": {
            "tags": []
          },
          "execution_count": 19
        }
      ]
    },
    {
      "cell_type": "code",
      "metadata": {
        "id": "Bly22GzrEyK-",
        "colab_type": "code",
        "colab": {}
      },
      "source": [
        "# 아이템 삽입\n",
        "\n",
        "shape.insert(1, ' heart')"
      ],
      "execution_count": 0,
      "outputs": []
    },
    {
      "cell_type": "code",
      "metadata": {
        "id": "C_KEGPsGEyLB",
        "colab_type": "code",
        "colab": {},
        "outputId": "a47c9411-657a-45aa-840a-bc047bc6ae2e"
      },
      "source": [
        "shape"
      ],
      "execution_count": 0,
      "outputs": [
        {
          "output_type": "execute_result",
          "data": {
            "text/plain": [
              "['turrtle', ' heart', 'ARROW', 'circle', 'suqare', 'heart', 27]"
            ]
          },
          "metadata": {
            "tags": []
          },
          "execution_count": 22
        }
      ]
    },
    {
      "cell_type": "code",
      "metadata": {
        "id": "AVtRi1S_EyLD",
        "colab_type": "code",
        "colab": {}
      },
      "source": [
        "shape.insert(3, 'triangle')"
      ],
      "execution_count": 0,
      "outputs": []
    },
    {
      "cell_type": "code",
      "metadata": {
        "id": "f9N6cuACEyLG",
        "colab_type": "code",
        "colab": {},
        "outputId": "babddf04-f6e0-48e2-e275-3acb5b0035db"
      },
      "source": [
        "shape"
      ],
      "execution_count": 0,
      "outputs": [
        {
          "output_type": "execute_result",
          "data": {
            "text/plain": [
              "['turrtle', ' heart', 'ARROW', 'triangle', 'circle', 'suqare', 'heart', 27]"
            ]
          },
          "metadata": {
            "tags": []
          },
          "execution_count": 24
        }
      ]
    },
    {
      "cell_type": "markdown",
      "metadata": {
        "id": "pWiFcquYEyLJ",
        "colab_type": "text"
      },
      "source": [
        "**리스트는 중복된 데이터가 들어갈 수 있다**"
      ]
    },
    {
      "cell_type": "code",
      "metadata": {
        "id": "IcfPqWISEyLJ",
        "colab_type": "code",
        "colab": {},
        "outputId": "cd6415f0-375a-4065-8bfb-80d086ac3089"
      },
      "source": [
        "# 아이템 검색\n",
        "\n",
        "'heart' in shape"
      ],
      "execution_count": 0,
      "outputs": [
        {
          "output_type": "execute_result",
          "data": {
            "text/plain": [
              "True"
            ]
          },
          "metadata": {
            "tags": []
          },
          "execution_count": 25
        }
      ]
    },
    {
      "cell_type": "code",
      "metadata": {
        "id": "KMQjmu6JEyLM",
        "colab_type": "code",
        "colab": {},
        "outputId": "dfdc98c4-a345-4e50-8abd-082eeb124efc"
      },
      "source": [
        "'rectaangle' in shape"
      ],
      "execution_count": 0,
      "outputs": [
        {
          "output_type": "execute_result",
          "data": {
            "text/plain": [
              "False"
            ]
          },
          "metadata": {
            "tags": []
          },
          "execution_count": 26
        }
      ]
    },
    {
      "cell_type": "code",
      "metadata": {
        "id": "7c5QhVIdEyLO",
        "colab_type": "code",
        "colab": {}
      },
      "source": [
        "# 아이템 삭제\n",
        "\n",
        "del shape[1]"
      ],
      "execution_count": 0,
      "outputs": []
    },
    {
      "cell_type": "code",
      "metadata": {
        "id": "j2mFWNC0EyLQ",
        "colab_type": "code",
        "colab": {},
        "outputId": "d4d7a5be-2b66-48a0-ec2d-23e989e113dc"
      },
      "source": [
        "shape"
      ],
      "execution_count": 0,
      "outputs": [
        {
          "output_type": "execute_result",
          "data": {
            "text/plain": [
              "['turrtle', 'ARROW', 'triangle', 'circle', 'suqare', 'heart', 27]"
            ]
          },
          "metadata": {
            "tags": []
          },
          "execution_count": 28
        }
      ]
    },
    {
      "cell_type": "code",
      "metadata": {
        "id": "hZ3UeUatEyLS",
        "colab_type": "code",
        "colab": {}
      },
      "source": [
        "del shape[1]"
      ],
      "execution_count": 0,
      "outputs": []
    },
    {
      "cell_type": "code",
      "metadata": {
        "id": "1H-_RoODEyLU",
        "colab_type": "code",
        "colab": {},
        "outputId": "06d92bff-9dfa-495a-dbe1-e7b18c92421f"
      },
      "source": [
        "shape"
      ],
      "execution_count": 0,
      "outputs": [
        {
          "output_type": "execute_result",
          "data": {
            "text/plain": [
              "['turrtle', 'triangle', 'circle', 'suqare', 'heart', 27]"
            ]
          },
          "metadata": {
            "tags": []
          },
          "execution_count": 30
        }
      ]
    },
    {
      "cell_type": "code",
      "metadata": {
        "id": "8YVspQpoEyLV",
        "colab_type": "code",
        "colab": {},
        "outputId": "10afd243-d06f-45dd-8114-5fc40b9998ab"
      },
      "source": [
        "# 리스트 슬라이싱(리스트의 일부를 자를 때 사용)\n",
        "\n",
        "shape[0:3] #0부터 3이전까지: 0 ~ 2"
      ],
      "execution_count": 0,
      "outputs": [
        {
          "output_type": "execute_result",
          "data": {
            "text/plain": [
              "['turrtle', 'triangle', 'circle']"
            ]
          },
          "metadata": {
            "tags": []
          },
          "execution_count": 31
        }
      ]
    },
    {
      "cell_type": "code",
      "metadata": {
        "id": "nEuko5V_EyLY",
        "colab_type": "code",
        "colab": {},
        "outputId": "770d3959-3582-471e-9bbd-90144d463dfc"
      },
      "source": [
        "shape[2:4] #2부터 4이전까지: 2 ~ 3"
      ],
      "execution_count": 0,
      "outputs": [
        {
          "output_type": "execute_result",
          "data": {
            "text/plain": [
              "['circle', 'suqare']"
            ]
          },
          "metadata": {
            "tags": []
          },
          "execution_count": 32
        }
      ]
    },
    {
      "cell_type": "code",
      "metadata": {
        "id": "yLdsAUH0EyLa",
        "colab_type": "code",
        "colab": {},
        "outputId": "58875dd1-d6d9-4ed5-f70c-87f8ed9e5f44"
      },
      "source": [
        "shape[:2] #처음부터 2이전까지: 0 ~ 1"
      ],
      "execution_count": 0,
      "outputs": [
        {
          "output_type": "execute_result",
          "data": {
            "text/plain": [
              "['turrtle', 'triangle']"
            ]
          },
          "metadata": {
            "tags": []
          },
          "execution_count": 34
        }
      ]
    },
    {
      "cell_type": "code",
      "metadata": {
        "id": "zO-kFYAwEyLc",
        "colab_type": "code",
        "colab": {},
        "outputId": "7529c4b1-f51b-4671-d5fc-eaa4ab5151bc"
      },
      "source": [
        "shape[3:] #3부터 끝까지: 3 ~ 4"
      ],
      "execution_count": 0,
      "outputs": [
        {
          "output_type": "execute_result",
          "data": {
            "text/plain": [
              "['suqare', 'heart', 27]"
            ]
          },
          "metadata": {
            "tags": []
          },
          "execution_count": 35
        }
      ]
    },
    {
      "cell_type": "code",
      "metadata": {
        "id": "mvS3EwdJEyLe",
        "colab_type": "code",
        "colab": {},
        "outputId": "579f0e7b-a539-4a7b-b830-e048ecf51ff1"
      },
      "source": [
        "a = [1,6,2,4,8,5,3,10,9,7]\n",
        "a[::2] #처음부터 끝까지 2식 건너뛴 요소를 슬라이싱"
      ],
      "execution_count": 0,
      "outputs": [
        {
          "output_type": "execute_result",
          "data": {
            "text/plain": [
              "[1, 2, 8, 3, 9]"
            ]
          },
          "metadata": {
            "tags": []
          },
          "execution_count": 36
        }
      ]
    },
    {
      "cell_type": "code",
      "metadata": {
        "id": "kleUGlqkEyLg",
        "colab_type": "code",
        "colab": {},
        "outputId": "26fe63d9-0534-4427-c6fc-ce6a88e4b0be"
      },
      "source": [
        "a[::3] #처음부터 끝까지 3식 건너뛴 요소를 슬라이싱"
      ],
      "execution_count": 0,
      "outputs": [
        {
          "output_type": "execute_result",
          "data": {
            "text/plain": [
              "[1, 4, 3, 7]"
            ]
          },
          "metadata": {
            "tags": []
          },
          "execution_count": 37
        }
      ]
    },
    {
      "cell_type": "code",
      "metadata": {
        "id": "HLiGe7ShEyLi",
        "colab_type": "code",
        "colab": {},
        "outputId": "5f23fb37-955e-4910-b723-7a73050274c8"
      },
      "source": [
        "# Quiz\n",
        "\n",
        "shape[0:0]"
      ],
      "execution_count": 0,
      "outputs": [
        {
          "output_type": "execute_result",
          "data": {
            "text/plain": [
              "[]"
            ]
          },
          "metadata": {
            "tags": []
          },
          "execution_count": 38
        }
      ]
    },
    {
      "cell_type": "code",
      "metadata": {
        "id": "NqybmLvoEyLk",
        "colab_type": "code",
        "colab": {},
        "outputId": "104bfbce-81b2-4dd3-9ed9-f3ecc5a27104"
      },
      "source": [
        "shape[:]"
      ],
      "execution_count": 0,
      "outputs": [
        {
          "output_type": "execute_result",
          "data": {
            "text/plain": [
              "['turrtle', 'triangle', 'circle', 'suqare', 'heart', 27]"
            ]
          },
          "metadata": {
            "tags": []
          },
          "execution_count": 39
        }
      ]
    },
    {
      "cell_type": "code",
      "metadata": {
        "id": "lYh5IVG2EyLn",
        "colab_type": "code",
        "colab": {}
      },
      "source": [
        "# 리스트 연결\n",
        "\n",
        "shape = ['turrtle', 'aarrow', 'circle', 'suqare', 'heart']"
      ],
      "execution_count": 0,
      "outputs": []
    },
    {
      "cell_type": "code",
      "metadata": {
        "id": "1Z97H_WFEyLo",
        "colab_type": "code",
        "colab": {},
        "outputId": "37c1cf10-c6c3-4433-c3cc-8b9556480492"
      },
      "source": [
        "shape[0] + shape[2]"
      ],
      "execution_count": 0,
      "outputs": [
        {
          "output_type": "execute_result",
          "data": {
            "text/plain": [
              "'turrtlecircle'"
            ]
          },
          "metadata": {
            "tags": []
          },
          "execution_count": 41
        }
      ]
    },
    {
      "cell_type": "code",
      "metadata": {
        "id": "112vfnGvEyLr",
        "colab_type": "code",
        "colab": {},
        "outputId": "d424643c-1641-4439-af15-d6fecf1836a2"
      },
      "source": [
        "# 여러개의 리스트를 묶어 하나로 만들 수 있다\n",
        "\n",
        "[1,2,3,4] + ['Seoul', 'Kwabgju'] + ['Alice', 'Bob']"
      ],
      "execution_count": 0,
      "outputs": [
        {
          "output_type": "execute_result",
          "data": {
            "text/plain": [
              "[1, 2, 3, 4, 'Seoul', 'Kwabgju', 'Alice', 'Bob']"
            ]
          },
          "metadata": {
            "tags": []
          },
          "execution_count": 43
        }
      ]
    },
    {
      "cell_type": "code",
      "metadata": {
        "id": "4BBykVb5EyLt",
        "colab_type": "code",
        "colab": {}
      },
      "source": [
        "# 리스트 안에 리스트(list of list)\n",
        "\n",
        "ID = [1, 2, 3, 4]"
      ],
      "execution_count": 0,
      "outputs": []
    },
    {
      "cell_type": "code",
      "metadata": {
        "id": "LNG47r9rEyLu",
        "colab_type": "code",
        "colab": {},
        "outputId": "0a5e179a-a09a-4d00-c818-6c8ba4f68954"
      },
      "source": [
        "ID"
      ],
      "execution_count": 0,
      "outputs": [
        {
          "output_type": "execute_result",
          "data": {
            "text/plain": [
              "[1, 2, 3, 4]"
            ]
          },
          "metadata": {
            "tags": []
          },
          "execution_count": 45
        }
      ]
    },
    {
      "cell_type": "code",
      "metadata": {
        "id": "3ILHYNnjEyLw",
        "colab_type": "code",
        "colab": {}
      },
      "source": [
        "ID = list(range(1,5)) #1부터 5이하까지 리스트를 만들어준다"
      ],
      "execution_count": 0,
      "outputs": []
    },
    {
      "cell_type": "code",
      "metadata": {
        "id": "QsajFHgKEyLy",
        "colab_type": "code",
        "colab": {},
        "outputId": "9917d208-2e58-48f8-82dc-668cf0ee2cff"
      },
      "source": [
        "ID"
      ],
      "execution_count": 0,
      "outputs": [
        {
          "output_type": "execute_result",
          "data": {
            "text/plain": [
              "[1, 2, 3, 4]"
            ]
          },
          "metadata": {
            "tags": []
          },
          "execution_count": 48
        }
      ]
    },
    {
      "cell_type": "code",
      "metadata": {
        "id": "8aZyISvsEyL0",
        "colab_type": "code",
        "colab": {}
      },
      "source": [
        "ID = list(range(1,101))"
      ],
      "execution_count": 0,
      "outputs": []
    },
    {
      "cell_type": "code",
      "metadata": {
        "id": "26moxGXKEyL4",
        "colab_type": "code",
        "colab": {},
        "outputId": "d4dbd2fa-f397-44df-a702-022b4e990518"
      },
      "source": [
        "ID"
      ],
      "execution_count": 0,
      "outputs": [
        {
          "output_type": "execute_result",
          "data": {
            "text/plain": [
              "[1,\n",
              " 2,\n",
              " 3,\n",
              " 4,\n",
              " 5,\n",
              " 6,\n",
              " 7,\n",
              " 8,\n",
              " 9,\n",
              " 10,\n",
              " 11,\n",
              " 12,\n",
              " 13,\n",
              " 14,\n",
              " 15,\n",
              " 16,\n",
              " 17,\n",
              " 18,\n",
              " 19,\n",
              " 20,\n",
              " 21,\n",
              " 22,\n",
              " 23,\n",
              " 24,\n",
              " 25,\n",
              " 26,\n",
              " 27,\n",
              " 28,\n",
              " 29,\n",
              " 30,\n",
              " 31,\n",
              " 32,\n",
              " 33,\n",
              " 34,\n",
              " 35,\n",
              " 36,\n",
              " 37,\n",
              " 38,\n",
              " 39,\n",
              " 40,\n",
              " 41,\n",
              " 42,\n",
              " 43,\n",
              " 44,\n",
              " 45,\n",
              " 46,\n",
              " 47,\n",
              " 48,\n",
              " 49,\n",
              " 50,\n",
              " 51,\n",
              " 52,\n",
              " 53,\n",
              " 54,\n",
              " 55,\n",
              " 56,\n",
              " 57,\n",
              " 58,\n",
              " 59,\n",
              " 60,\n",
              " 61,\n",
              " 62,\n",
              " 63,\n",
              " 64,\n",
              " 65,\n",
              " 66,\n",
              " 67,\n",
              " 68,\n",
              " 69,\n",
              " 70,\n",
              " 71,\n",
              " 72,\n",
              " 73,\n",
              " 74,\n",
              " 75,\n",
              " 76,\n",
              " 77,\n",
              " 78,\n",
              " 79,\n",
              " 80,\n",
              " 81,\n",
              " 82,\n",
              " 83,\n",
              " 84,\n",
              " 85,\n",
              " 86,\n",
              " 87,\n",
              " 88,\n",
              " 89,\n",
              " 90,\n",
              " 91,\n",
              " 92,\n",
              " 93,\n",
              " 94,\n",
              " 95,\n",
              " 96,\n",
              " 97,\n",
              " 98,\n",
              " 99,\n",
              " 100]"
            ]
          },
          "metadata": {
            "tags": []
          },
          "execution_count": 50
        }
      ]
    },
    {
      "cell_type": "code",
      "metadata": {
        "id": "S_1ErHdfEyL7",
        "colab_type": "code",
        "colab": {}
      },
      "source": [
        "area = ['Seoul', 'Kwaangju']"
      ],
      "execution_count": 0,
      "outputs": []
    },
    {
      "cell_type": "code",
      "metadata": {
        "id": "jO6JTSiZEyL9",
        "colab_type": "code",
        "colab": {}
      },
      "source": [
        "name = ['Alice', 'Bob']"
      ],
      "execution_count": 0,
      "outputs": []
    },
    {
      "cell_type": "code",
      "metadata": {
        "id": "-0JbTVeFEyL_",
        "colab_type": "code",
        "colab": {}
      },
      "source": [
        "ID = list(range(1,5))"
      ],
      "execution_count": 0,
      "outputs": []
    },
    {
      "cell_type": "code",
      "metadata": {
        "id": "1BT_LQcgEyMA",
        "colab_type": "code",
        "colab": {}
      },
      "source": [
        "student = [ID, area, name]"
      ],
      "execution_count": 0,
      "outputs": []
    },
    {
      "cell_type": "code",
      "metadata": {
        "id": "NQTwDLiUEyMC",
        "colab_type": "code",
        "colab": {},
        "outputId": "0587a5c0-0dab-49c2-cca3-1ca5ca030710"
      },
      "source": [
        "student"
      ],
      "execution_count": 0,
      "outputs": [
        {
          "output_type": "execute_result",
          "data": {
            "text/plain": [
              "[[1, 2, 3, 4], ['Seoul', 'Kwaangju'], ['Alice', 'Bob']]"
            ]
          },
          "metadata": {
            "tags": []
          },
          "execution_count": 55
        }
      ]
    },
    {
      "cell_type": "code",
      "metadata": {
        "id": "vne-VeV-EyME",
        "colab_type": "code",
        "colab": {}
      },
      "source": [
        "student = [1, ID, area, name, 'pass']"
      ],
      "execution_count": 0,
      "outputs": []
    },
    {
      "cell_type": "code",
      "metadata": {
        "id": "5L7A-a-uEyMH",
        "colab_type": "code",
        "colab": {},
        "outputId": "a24dad09-6404-4533-833d-977977b3107e"
      },
      "source": [
        "student"
      ],
      "execution_count": 0,
      "outputs": [
        {
          "output_type": "execute_result",
          "data": {
            "text/plain": [
              "[1, [1, 2, 3, 4], ['Seoul', 'Kwaangju'], ['Alice', 'Bob'], 'pass']"
            ]
          },
          "metadata": {
            "tags": []
          },
          "execution_count": 58
        }
      ]
    },
    {
      "cell_type": "code",
      "metadata": {
        "id": "kPUYnUEVEyMI",
        "colab_type": "code",
        "colab": {}
      },
      "source": [
        "# 아이템 정렬_01\n",
        "\n",
        "shape = ['turrtle', 'arrow', 'circle', 'suqare', 'heart']"
      ],
      "execution_count": 0,
      "outputs": []
    },
    {
      "cell_type": "code",
      "metadata": {
        "id": "bD_hQlN9EyMK",
        "colab_type": "code",
        "colab": {}
      },
      "source": [
        "shape.sort()"
      ],
      "execution_count": 0,
      "outputs": []
    },
    {
      "cell_type": "code",
      "metadata": {
        "id": "wSB-WIxGEyML",
        "colab_type": "code",
        "colab": {},
        "outputId": "9cd0ad22-7270-427b-9411-3f9c6e13eada"
      },
      "source": [
        "shape"
      ],
      "execution_count": 0,
      "outputs": [
        {
          "output_type": "execute_result",
          "data": {
            "text/plain": [
              "['arrow', 'circle', 'heart', 'suqare', 'turrtle']"
            ]
          },
          "metadata": {
            "tags": []
          },
          "execution_count": 64
        }
      ]
    },
    {
      "cell_type": "code",
      "metadata": {
        "id": "Nr-Z0PHvEyMN",
        "colab_type": "code",
        "colab": {}
      },
      "source": [
        "numbers = [8, 6, 3, 10, 2, 9, 1, 4, 7, 5]"
      ],
      "execution_count": 0,
      "outputs": []
    },
    {
      "cell_type": "code",
      "metadata": {
        "id": "pPRD4PcsEyMP",
        "colab_type": "code",
        "colab": {}
      },
      "source": [
        "numbers.sort()"
      ],
      "execution_count": 0,
      "outputs": []
    },
    {
      "cell_type": "code",
      "metadata": {
        "id": "UOd2POzoEyMR",
        "colab_type": "code",
        "colab": {},
        "outputId": "bbc361d9-8306-4ff0-c242-776b72ef3c61"
      },
      "source": [
        "numbers"
      ],
      "execution_count": 0,
      "outputs": [
        {
          "output_type": "execute_result",
          "data": {
            "text/plain": [
              "[1, 2, 3, 4, 5, 6, 7, 8, 9, 10]"
            ]
          },
          "metadata": {
            "tags": []
          },
          "execution_count": 67
        }
      ]
    },
    {
      "cell_type": "code",
      "metadata": {
        "id": "tsx2cM9FEyMT",
        "colab_type": "code",
        "colab": {}
      },
      "source": [
        "# 아이템 정렬_02\n",
        "# sort()함수를 사용하면 원본 데이터가 정렬되어 바뀐다\n",
        "# 원래 raw 상태를 유지하고 싶으면 sorted() 함수 사용\n",
        "\n",
        "sorted_numbers = sorted(numbers)"
      ],
      "execution_count": 0,
      "outputs": []
    },
    {
      "cell_type": "code",
      "metadata": {
        "id": "xsV1cvepEyMU",
        "colab_type": "code",
        "colab": {},
        "outputId": "f1e93a90-78be-41de-ded8-a8b7c11664aa"
      },
      "source": [
        "sorted_numbers"
      ],
      "execution_count": 0,
      "outputs": [
        {
          "output_type": "execute_result",
          "data": {
            "text/plain": [
              "[1, 2, 3, 4, 5, 6, 7, 8, 9, 10]"
            ]
          },
          "metadata": {
            "tags": []
          },
          "execution_count": 76
        }
      ]
    },
    {
      "cell_type": "code",
      "metadata": {
        "id": "pWZpkBI9EyMX",
        "colab_type": "code",
        "colab": {},
        "outputId": "fce9daf5-442b-4d67-e836-3e9a86cce030"
      },
      "source": [
        "numbers"
      ],
      "execution_count": 0,
      "outputs": [
        {
          "output_type": "execute_result",
          "data": {
            "text/plain": [
              "[8, 6, 3, 10, 2, 9, 1, 4, 7, 5]"
            ]
          },
          "metadata": {
            "tags": []
          },
          "execution_count": 77
        }
      ]
    },
    {
      "cell_type": "code",
      "metadata": {
        "id": "BrtvNsxfEyMY",
        "colab_type": "code",
        "colab": {},
        "outputId": "b18af0a2-c47d-456c-a98d-7bc2bafe3848"
      },
      "source": [
        "# 인덱스 번호를 알고 싶으면\n",
        "\n",
        "numbers = [8, 6, 3, 10, 2, 9, 1, 4, 7, 5]\n",
        "numbers.index(10)"
      ],
      "execution_count": 0,
      "outputs": [
        {
          "output_type": "execute_result",
          "data": {
            "text/plain": [
              "3"
            ]
          },
          "metadata": {
            "tags": []
          },
          "execution_count": 78
        }
      ]
    },
    {
      "cell_type": "code",
      "metadata": {
        "id": "QHx2sU2XEyMa",
        "colab_type": "code",
        "colab": {},
        "outputId": "8399d2d3-1efc-4076-e8a5-db888c980036"
      },
      "source": [
        "numbers.index(8)"
      ],
      "execution_count": 0,
      "outputs": [
        {
          "output_type": "execute_result",
          "data": {
            "text/plain": [
              "0"
            ]
          },
          "metadata": {
            "tags": []
          },
          "execution_count": 79
        }
      ]
    },
    {
      "cell_type": "code",
      "metadata": {
        "id": "HyKcEt-IEyMf",
        "colab_type": "code",
        "colab": {}
      },
      "source": [
        "# 리스트에서 인덱스를 음수로 준 경우, 반대로 시작 하며 -1인경우, 맨 마지막 위치에 있는 요소를 가져옴\n",
        "\n",
        "numbers = [8, 6, 3, 10, 2, 9, 1, 4, 7, 5]"
      ],
      "execution_count": 0,
      "outputs": []
    },
    {
      "cell_type": "code",
      "metadata": {
        "id": "mbpLqklvEyMh",
        "colab_type": "code",
        "colab": {},
        "outputId": "6d3d6fb5-0fd4-4bea-b80f-e9835f94212f"
      },
      "source": [
        "numbers[-1]"
      ],
      "execution_count": 0,
      "outputs": [
        {
          "output_type": "execute_result",
          "data": {
            "text/plain": [
              "5"
            ]
          },
          "metadata": {
            "tags": []
          },
          "execution_count": 81
        }
      ]
    },
    {
      "cell_type": "code",
      "metadata": {
        "id": "8WDe0FunEyMi",
        "colab_type": "code",
        "colab": {}
      },
      "source": [
        "# 리스트에서 여러개의 속담을 저장한 후, 속담중에서 하나를 랜덤하게 골라서 제공하는 프로그램을 작성하시오.\n",
        "\n",
        "prob = ['꿈을 지녀라. 구러면 어려운 현실을 익길 수 있다', '고생없이 얻을 수 있는 진실리ㅗ 귀중한 것은 하나도 없다.',\n",
        "         '사람은 사랑할 때 누구나 시인이 된다.', '시작이 반이다', '나는 사랑으로 내가 이해하는 모든 것들을 이해한다.']"
      ],
      "execution_count": 0,
      "outputs": []
    },
    {
      "cell_type": "code",
      "metadata": {
        "id": "9trIrLymEyMk",
        "colab_type": "code",
        "colab": {},
        "outputId": "8b39691c-b199-42bf-db9d-a17736917176"
      },
      "source": [
        "prob"
      ],
      "execution_count": 0,
      "outputs": [
        {
          "output_type": "execute_result",
          "data": {
            "text/plain": [
              "['꿈을 지녀라. 구러면 어려운 현실을 익길 수 있다',\n",
              " '고생없이 얻을 수 있는 진실리ㅗ 귀중한 것은 하나도 없다.',\n",
              " '사람은 사랑할 때 누구나 시인이 된다.',\n",
              " '시작이 반이다',\n",
              " '나는 사랑으로 내가 이해하는 모든 것들을 이해한다.']"
            ]
          },
          "metadata": {
            "tags": []
          },
          "execution_count": 130
        }
      ]
    },
    {
      "cell_type": "code",
      "metadata": {
        "id": "4kIpu9S-EyMm",
        "colab_type": "code",
        "colab": {},
        "outputId": "8b3cd833-f718-4a00-dace-df298d066f22"
      },
      "source": [
        "import random\n",
        "\n",
        "number = random.randint(0, 3)\n",
        "prob[number]"
      ],
      "execution_count": 0,
      "outputs": [
        {
          "output_type": "execute_result",
          "data": {
            "text/plain": [
              "'사람은 사랑할 때 누구나 시인이 된다.'"
            ]
          },
          "metadata": {
            "tags": []
          },
          "execution_count": 131
        }
      ]
    },
    {
      "cell_type": "code",
      "metadata": {
        "id": "xW0ytrx0EyMo",
        "colab_type": "code",
        "colab": {}
      },
      "source": [
        "items = ['커피', '우유', '바나나', '감귤', '화장지', '장갑', '이불', '베게', '장남감', '음료수', '빵']"
      ],
      "execution_count": 0,
      "outputs": []
    },
    {
      "cell_type": "code",
      "metadata": {
        "id": "t9YB82-yEyMp",
        "colab_type": "code",
        "colab": {},
        "outputId": "c41fe131-bc23-4a3b-afd7-fae0ecca9cfc"
      },
      "source": [
        "item = input('삽입하고자 하는 상품을 입력하세요.')\n",
        "location = int(input('삽임하고자 하는 위치를 입력하세요'))"
      ],
      "execution_count": 0,
      "outputs": [
        {
          "output_type": "stream",
          "text": [
            "삽입하고자 하는 상품을 입력하세요. 사과\n",
            "삽임하고자 하는 위치를 입력하세요 4\n"
          ],
          "name": "stdin"
        }
      ]
    },
    {
      "cell_type": "code",
      "metadata": {
        "id": "3TOzbFxYEyMr",
        "colab_type": "code",
        "colab": {}
      },
      "source": [
        "items.insert(location, item)"
      ],
      "execution_count": 0,
      "outputs": []
    },
    {
      "cell_type": "code",
      "metadata": {
        "id": "f6mcn3idEyMs",
        "colab_type": "code",
        "colab": {},
        "outputId": "6e7c970b-c88f-4ae5-ec73-dfa9fc6f3f8a"
      },
      "source": [
        "items"
      ],
      "execution_count": 0,
      "outputs": [
        {
          "output_type": "execute_result",
          "data": {
            "text/plain": [
              "['커피', '우유', '바나나', '감귤', '사과', '화장지', '장갑', '이불', '베게', '장남감', '음료수', '빵']"
            ]
          },
          "metadata": {
            "tags": []
          },
          "execution_count": 117
        }
      ]
    },
    {
      "cell_type": "code",
      "metadata": {
        "id": "Bkc6QOEwEyMw",
        "colab_type": "code",
        "colab": {},
        "outputId": "b00c642e-535f-44ef-fd03-2499458a0f91"
      },
      "source": [
        "del_item = input('삭제하고자 하는 상품을 입력하세요')"
      ],
      "execution_count": 0,
      "outputs": [
        {
          "output_type": "stream",
          "text": [
            "삭제하고자 하는 상품을 입력하세요 장갑\n"
          ],
          "name": "stdin"
        }
      ]
    },
    {
      "cell_type": "code",
      "metadata": {
        "id": "u75B_DKfEyMx",
        "colab_type": "code",
        "colab": {}
      },
      "source": [
        "del items[items.index(del_item)]"
      ],
      "execution_count": 0,
      "outputs": []
    },
    {
      "cell_type": "code",
      "metadata": {
        "id": "brXV-LnUEyMy",
        "colab_type": "code",
        "colab": {},
        "outputId": "c84a9651-e13b-4603-eca8-eb340a32347a"
      },
      "source": [
        "items"
      ],
      "execution_count": 0,
      "outputs": [
        {
          "output_type": "execute_result",
          "data": {
            "text/plain": [
              "['커피', '우유', '바나나', '감귤', '사과', '화장지', '이불', '베게', '장남감', '음료수', '빵']"
            ]
          },
          "metadata": {
            "tags": []
          },
          "execution_count": 120
        }
      ]
    },
    {
      "cell_type": "code",
      "metadata": {
        "id": "2OIMe-wWEyM0",
        "colab_type": "code",
        "colab": {},
        "outputId": "69108fd0-7900-4dec-fd2b-8d9900cafe46"
      },
      "source": [
        "app_item = input('추가하고자 하는 상품을 입력하세요.')\n",
        "items.append(app_item)\n",
        "items"
      ],
      "execution_count": 0,
      "outputs": [
        {
          "output_type": "stream",
          "text": [
            "추가하고자 하는 상품을 입력하세요. \n"
          ],
          "name": "stdin"
        },
        {
          "output_type": "execute_result",
          "data": {
            "text/plain": [
              "['커피', '우유', '바나나', '감귤', '사과', '화장지', '이불', '베게', '장남감', '음료수', '빵', '물', '']"
            ]
          },
          "metadata": {
            "tags": []
          },
          "execution_count": 123
        }
      ]
    },
    {
      "cell_type": "code",
      "metadata": {
        "id": "p_ZwVurZEyM3",
        "colab_type": "code",
        "colab": {}
      },
      "source": [
        "del items[-1]"
      ],
      "execution_count": 0,
      "outputs": []
    },
    {
      "cell_type": "code",
      "metadata": {
        "id": "YWIgqj0rEyM4",
        "colab_type": "code",
        "colab": {},
        "outputId": "3e9aa543-166d-4635-b156-8d347873d07b"
      },
      "source": [
        "items"
      ],
      "execution_count": 0,
      "outputs": [
        {
          "output_type": "execute_result",
          "data": {
            "text/plain": [
              "['커피', '우유', '바나나', '감귤', '사과', '화장지', '이불', '베게', '장남감', '음료수', '빵', '물']"
            ]
          },
          "metadata": {
            "tags": []
          },
          "execution_count": 125
        }
      ]
    },
    {
      "cell_type": "code",
      "metadata": {
        "id": "JeWN27TyEyM7",
        "colab_type": "code",
        "colab": {},
        "outputId": "c18a66a4-117a-4cab-c3e9-4ba9e6e6cec6"
      },
      "source": [
        "search_item = input('검색하고자 하는 상품을 입력하세요.')\n",
        "search_item in items"
      ],
      "execution_count": 0,
      "outputs": [
        {
          "output_type": "stream",
          "text": [
            "검색하고자 하는 상품을 입력하세요. 화장지\n"
          ],
          "name": "stdin"
        },
        {
          "output_type": "execute_result",
          "data": {
            "text/plain": [
              "True"
            ]
          },
          "metadata": {
            "tags": []
          },
          "execution_count": 126
        }
      ]
    },
    {
      "cell_type": "code",
      "metadata": {
        "id": "g8v8tqreEyM_",
        "colab_type": "code",
        "colab": {}
      },
      "source": [
        "import random"
      ],
      "execution_count": 0,
      "outputs": []
    },
    {
      "cell_type": "code",
      "metadata": {
        "id": "6AyTxAheEyNA",
        "colab_type": "code",
        "colab": {},
        "outputId": "8de8c9ac-60c6-4278-9747-d01e644eafd2"
      },
      "source": [
        "a = '커피 우유 바나나 감귤 화장지 장갑 이불 베게 장난감 음료수 빵'.split()\n",
        "print(a)\n",
        "good = input('검색하고자 하는 상품을 입력하세요')"
      ],
      "execution_count": 0,
      "outputs": [
        {
          "output_type": "stream",
          "text": [
            "['커피', '우유', '바나나', '감귤', '화장지', '장갑', '이불', '베게', '장난감', '음료수', '빵']\n"
          ],
          "name": "stdout"
        },
        {
          "output_type": "stream",
          "text": [
            "검색하고자 하는 상품을 입력하세요 장갑\n"
          ],
          "name": "stdin"
        }
      ]
    },
    {
      "cell_type": "code",
      "metadata": {
        "id": "Fuwgy4eUEyNB",
        "colab_type": "code",
        "colab": {},
        "outputId": "6e5d531d-3e96-4b2a-8b8f-b687d58d36a7"
      },
      "source": [
        "if good in a:\n",
        "    print('상품이 있습니다')\n",
        "else:\n",
        "    print('상품이 없습니다')"
      ],
      "execution_count": 0,
      "outputs": [
        {
          "output_type": "stream",
          "text": [
            "상품이 있습니다\n"
          ],
          "name": "stdout"
        }
      ]
    },
    {
      "cell_type": "code",
      "metadata": {
        "id": "OX4tW3z4EyNC",
        "colab_type": "code",
        "colab": {},
        "outputId": "e75d8f78-2758-4d71-c9c6-560662817f54"
      },
      "source": [
        "a = '1 2 3 4 5'\n",
        "b = a.split()\n",
        "b"
      ],
      "execution_count": 0,
      "outputs": [
        {
          "output_type": "execute_result",
          "data": {
            "text/plain": [
              "['1', '2', '3', '4', '5']"
            ]
          },
          "metadata": {
            "tags": []
          },
          "execution_count": 142
        }
      ]
    },
    {
      "cell_type": "markdown",
      "metadata": {
        "id": "Uytg9BP9EyNE",
        "colab_type": "text"
      },
      "source": [
        "### len() 함수\n",
        "\n",
        "- 리스트의 개수, 문자열의 길이를 반환"
      ]
    },
    {
      "cell_type": "code",
      "metadata": {
        "id": "-SwdX0EdEyNE",
        "colab_type": "code",
        "colab": {}
      },
      "source": [
        "items = '커피 우유 커피 바나나 감귤 화장지 장갑 이불 베게 장난감 음료수 빵'.split()"
      ],
      "execution_count": 0,
      "outputs": []
    },
    {
      "cell_type": "code",
      "metadata": {
        "id": "ZqXkCRXCEyNE",
        "colab_type": "code",
        "colab": {},
        "outputId": "ac6e2fce-94d1-4bdb-9ac1-003df2a77ddd"
      },
      "source": [
        "random.randint(0, len(items))"
      ],
      "execution_count": 0,
      "outputs": [
        {
          "output_type": "execute_result",
          "data": {
            "text/plain": [
              "1"
            ]
          },
          "metadata": {
            "tags": []
          },
          "execution_count": 156
        }
      ]
    },
    {
      "cell_type": "code",
      "metadata": {
        "id": "WzpN4QrkEyNG",
        "colab_type": "code",
        "colab": {},
        "outputId": "475a9836-caee-4d8d-a269-dfeedd6b1f69"
      },
      "source": [
        "print(len(items))"
      ],
      "execution_count": 0,
      "outputs": [
        {
          "output_type": "stream",
          "text": [
            "12\n"
          ],
          "name": "stdout"
        }
      ]
    },
    {
      "cell_type": "code",
      "metadata": {
        "id": "uEM2Iiu5EyNH",
        "colab_type": "code",
        "colab": {},
        "outputId": "9780a234-fa49-4db2-a7f3-ca8698a2e27d"
      },
      "source": [
        "print(items[random.ranint(0, len(items) - 1)])"
      ],
      "execution_count": 0,
      "outputs": [
        {
          "output_type": "error",
          "ename": "AttributeError",
          "evalue": "module 'random' has no attribute 'ranint'",
          "traceback": [
            "\u001b[0;31m---------------------------------------------------------------------------\u001b[0m",
            "\u001b[0;31mAttributeError\u001b[0m                            Traceback (most recent call last)",
            "\u001b[0;32m<ipython-input-158-58ebd103904d>\u001b[0m in \u001b[0;36m<module>\u001b[0;34m\u001b[0m\n\u001b[0;32m----> 1\u001b[0;31m \u001b[0mprint\u001b[0m\u001b[0;34m(\u001b[0m\u001b[0mitems\u001b[0m\u001b[0;34m[\u001b[0m\u001b[0mrandom\u001b[0m\u001b[0;34m.\u001b[0m\u001b[0mranint\u001b[0m\u001b[0;34m(\u001b[0m\u001b[0;36m0\u001b[0m\u001b[0;34m,\u001b[0m \u001b[0mlen\u001b[0m\u001b[0;34m(\u001b[0m\u001b[0mitems\u001b[0m\u001b[0;34m)\u001b[0m \u001b[0;34m-\u001b[0m \u001b[0;36m1\u001b[0m\u001b[0;34m)\u001b[0m\u001b[0;34m]\u001b[0m\u001b[0;34m)\u001b[0m\u001b[0;34m\u001b[0m\u001b[0;34m\u001b[0m\u001b[0m\n\u001b[0m",
            "\u001b[0;31mAttributeError\u001b[0m: module 'random' has no attribute 'ranint'"
          ]
        }
      ]
    },
    {
      "cell_type": "markdown",
      "metadata": {
        "id": "7MJPJ-OCEyNJ",
        "colab_type": "text"
      },
      "source": [
        "### range() 함수\n",
        "- 규칙적인 숫자열로 구성된 범위 생성\n",
        "- range(끝) [0, 1, 2, 3, …, 끝-1] list(range(4)) → [0, 1, 2, 3]\n",
        "- range(시작, 끝) [시작, 시작+1, 시작+2, …, 끝-1] list(range (3, 5)) → [3, 4]\n",
        "- range(시작, 끝, 스텝) [시작, 시작+스텝, 시작+스텝×2, …, 시작+스텝×k] list(range(2, 11, 2)) → [2, 4, 6, 8, 10]\n",
        "- range(시작, 끝, -스텝) [시작, 시작-스텝, 시작-스텝×2, …, 시작-스텝×k] list(range(9, 1, -2)) → [9, 7, 5, 3]"
      ]
    },
    {
      "cell_type": "code",
      "metadata": {
        "id": "XDA5kE6DEyNJ",
        "colab_type": "code",
        "colab": {},
        "outputId": "6403991c-fbff-4022-9e55-f7cb2698b215"
      },
      "source": [
        "range(10)"
      ],
      "execution_count": 0,
      "outputs": [
        {
          "output_type": "execute_result",
          "data": {
            "text/plain": [
              "range(0, 10)"
            ]
          },
          "metadata": {
            "tags": []
          },
          "execution_count": 151
        }
      ]
    },
    {
      "cell_type": "code",
      "metadata": {
        "id": "Fi5YsNZ7EyNL",
        "colab_type": "code",
        "colab": {},
        "outputId": "31774d99-5011-45e9-8848-b4a336379af2"
      },
      "source": [
        "range(10,20)"
      ],
      "execution_count": 0,
      "outputs": [
        {
          "output_type": "execute_result",
          "data": {
            "text/plain": [
              "range(10, 20)"
            ]
          },
          "metadata": {
            "tags": []
          },
          "execution_count": 152
        }
      ]
    },
    {
      "cell_type": "code",
      "metadata": {
        "id": "r8FI2wofEyNM",
        "colab_type": "code",
        "colab": {},
        "outputId": "7c128e76-a5ae-40ef-eff3-e89935a9b561"
      },
      "source": [
        "list(range(10,20))"
      ],
      "execution_count": 0,
      "outputs": [
        {
          "output_type": "execute_result",
          "data": {
            "text/plain": [
              "[10, 11, 12, 13, 14, 15, 16, 17, 18, 19]"
            ]
          },
          "metadata": {
            "tags": []
          },
          "execution_count": 153
        }
      ]
    },
    {
      "cell_type": "code",
      "metadata": {
        "id": "MP_Vh_DLEyNN",
        "colab_type": "code",
        "colab": {}
      },
      "source": [
        "a = range(1, 100)"
      ],
      "execution_count": 0,
      "outputs": []
    },
    {
      "cell_type": "code",
      "metadata": {
        "id": "ZkzMaG7uEyNO",
        "colab_type": "code",
        "colab": {},
        "outputId": "3fe111aa-1a3e-4839-9c51-7d5da7903d3e"
      },
      "source": [
        "a[2:5] # 인덱스 2부터 5까지 슬라이싱으로 range를 만듦"
      ],
      "execution_count": 0,
      "outputs": [
        {
          "output_type": "execute_result",
          "data": {
            "text/plain": [
              "range(3, 6)"
            ]
          },
          "metadata": {
            "tags": []
          },
          "execution_count": 161
        }
      ]
    },
    {
      "cell_type": "code",
      "metadata": {
        "id": "CzH4XChvEyNP",
        "colab_type": "code",
        "colab": {},
        "outputId": "764eebd1-c8a1-49ce-d28a-fc7a51824882"
      },
      "source": [
        "b = a[2:5]\n",
        "b"
      ],
      "execution_count": 0,
      "outputs": [
        {
          "output_type": "execute_result",
          "data": {
            "text/plain": [
              "range(3, 6)"
            ]
          },
          "metadata": {
            "tags": []
          },
          "execution_count": 163
        }
      ]
    },
    {
      "cell_type": "code",
      "metadata": {
        "id": "oKRIVImfEyNQ",
        "colab_type": "code",
        "colab": {},
        "outputId": "9eee0295-824f-493f-dffc-396b18597189"
      },
      "source": [
        "b[0] = 5 # range도 불변 객체이므로 재할당할 수 없음"
      ],
      "execution_count": 0,
      "outputs": [
        {
          "output_type": "error",
          "ename": "TypeError",
          "evalue": "'range' object does not support item assignment",
          "traceback": [
            "\u001b[0;31m---------------------------------------------------------------------------\u001b[0m",
            "\u001b[0;31mTypeError\u001b[0m                                 Traceback (most recent call last)",
            "\u001b[0;32m<ipython-input-165-2b988a03e2b0>\u001b[0m in \u001b[0;36m<module>\u001b[0;34m\u001b[0m\n\u001b[0;32m----> 1\u001b[0;31m \u001b[0mb\u001b[0m\u001b[0;34m[\u001b[0m\u001b[0;36m0\u001b[0m\u001b[0;34m]\u001b[0m \u001b[0;34m=\u001b[0m \u001b[0;36m5\u001b[0m \u001b[0;31m# range도 불변 객체이므로 재할당할 수 없음\u001b[0m\u001b[0;34m\u001b[0m\u001b[0;34m\u001b[0m\u001b[0m\n\u001b[0m",
            "\u001b[0;31mTypeError\u001b[0m: 'range' object does not support item assignment"
          ]
        }
      ]
    },
    {
      "cell_type": "markdown",
      "metadata": {
        "id": "T8xcwkYcEyNR",
        "colab_type": "text"
      },
      "source": [
        "### list() 함수\n",
        "- list(문자열) 문자열을 한 글자씩 분리하여 리스트 생성 list('12345') → ['1', '2', '3', '4', '5']"
      ]
    },
    {
      "cell_type": "code",
      "metadata": {
        "id": "eN5qUwOlEyNR",
        "colab_type": "code",
        "colab": {},
        "outputId": "43aff4dd-7c15-461b-d33d-fc348174f0b3"
      },
      "source": [
        "list('hello')"
      ],
      "execution_count": 0,
      "outputs": [
        {
          "output_type": "execute_result",
          "data": {
            "text/plain": [
              "['h', 'e', 'l', 'l', 'o']"
            ]
          },
          "metadata": {
            "tags": []
          },
          "execution_count": 184
        }
      ]
    },
    {
      "cell_type": "code",
      "metadata": {
        "id": "YiCVbhnpEyNS",
        "colab_type": "code",
        "colab": {}
      },
      "source": [
        "a = 'Hello world'"
      ],
      "execution_count": 0,
      "outputs": []
    },
    {
      "cell_type": "code",
      "metadata": {
        "id": "A6MnTmRzEyNT",
        "colab_type": "code",
        "colab": {}
      },
      "source": [
        "b = list(a)"
      ],
      "execution_count": 0,
      "outputs": []
    },
    {
      "cell_type": "code",
      "metadata": {
        "id": "zqQbfjRoEyNU",
        "colab_type": "code",
        "colab": {}
      },
      "source": [
        "c = a.split()"
      ],
      "execution_count": 0,
      "outputs": []
    },
    {
      "cell_type": "code",
      "metadata": {
        "id": "_5A4QQ2SEyNU",
        "colab_type": "code",
        "colab": {}
      },
      "source": [
        "d = a.split('o')"
      ],
      "execution_count": 0,
      "outputs": []
    },
    {
      "cell_type": "code",
      "metadata": {
        "id": "RwtxPbnQEyNV",
        "colab_type": "code",
        "colab": {},
        "outputId": "0c885c24-080c-402a-f327-c5f1622810d4"
      },
      "source": [
        "a"
      ],
      "execution_count": 0,
      "outputs": [
        {
          "output_type": "execute_result",
          "data": {
            "text/plain": [
              "'Hello world'"
            ]
          },
          "metadata": {
            "tags": []
          },
          "execution_count": 170
        }
      ]
    },
    {
      "cell_type": "code",
      "metadata": {
        "id": "pCJWOsqoEyNX",
        "colab_type": "code",
        "colab": {},
        "outputId": "9519b499-ffe8-4315-fd6b-ded335afe632"
      },
      "source": [
        "b"
      ],
      "execution_count": 0,
      "outputs": [
        {
          "output_type": "execute_result",
          "data": {
            "text/plain": [
              "['H', 'e', 'l', 'l', 'o', ' ', 'w', 'o', 'r', 'l', 'd']"
            ]
          },
          "metadata": {
            "tags": []
          },
          "execution_count": 171
        }
      ]
    },
    {
      "cell_type": "code",
      "metadata": {
        "id": "ipSrGuRtEyNY",
        "colab_type": "code",
        "colab": {},
        "outputId": "f71e263f-8150-4beb-a2cc-33bec77518b0"
      },
      "source": [
        "c"
      ],
      "execution_count": 0,
      "outputs": [
        {
          "output_type": "execute_result",
          "data": {
            "text/plain": [
              "['Hello', 'world']"
            ]
          },
          "metadata": {
            "tags": []
          },
          "execution_count": 172
        }
      ]
    },
    {
      "cell_type": "code",
      "metadata": {
        "id": "bHzrBPNYEyNa",
        "colab_type": "code",
        "colab": {},
        "outputId": "f492e8d8-6043-4506-de44-d95551398bf5"
      },
      "source": [
        "d"
      ],
      "execution_count": 0,
      "outputs": [
        {
          "output_type": "execute_result",
          "data": {
            "text/plain": [
              "['Hell', ' w', 'rld']"
            ]
          },
          "metadata": {
            "tags": []
          },
          "execution_count": 173
        }
      ]
    },
    {
      "cell_type": "code",
      "metadata": {
        "id": "MsSu2NGSEyNb",
        "colab_type": "code",
        "colab": {},
        "outputId": "646384d3-0510-42f7-d231-a94c5207172e"
      },
      "source": [
        "list(range(10))"
      ],
      "execution_count": 0,
      "outputs": [
        {
          "output_type": "execute_result",
          "data": {
            "text/plain": [
              "[0, 1, 2, 3, 4, 5, 6, 7, 8, 9]"
            ]
          },
          "metadata": {
            "tags": []
          },
          "execution_count": 174
        }
      ]
    },
    {
      "cell_type": "code",
      "metadata": {
        "id": "uduHNlvoEyNc",
        "colab_type": "code",
        "colab": {},
        "outputId": "f7e4b3ea-dfee-4975-93fc-4e372c1de47c"
      },
      "source": [
        "list(range(3,7))"
      ],
      "execution_count": 0,
      "outputs": [
        {
          "output_type": "execute_result",
          "data": {
            "text/plain": [
              "[3, 4, 5, 6]"
            ]
          },
          "metadata": {
            "tags": []
          },
          "execution_count": 175
        }
      ]
    },
    {
      "cell_type": "code",
      "metadata": {
        "id": "ecSEnYF3EyNd",
        "colab_type": "code",
        "colab": {},
        "outputId": "4d023211-979a-48e7-85f9-366849c5e583"
      },
      "source": [
        "list(range(10, 1, -2))"
      ],
      "execution_count": 0,
      "outputs": [
        {
          "output_type": "execute_result",
          "data": {
            "text/plain": [
              "[10, 8, 6, 4, 2]"
            ]
          },
          "metadata": {
            "tags": []
          },
          "execution_count": 176
        }
      ]
    },
    {
      "cell_type": "code",
      "metadata": {
        "id": "BS9K6Oy7EyNe",
        "colab_type": "code",
        "colab": {},
        "outputId": "d823b0d1-26d4-46e9-b63c-bd2363944605"
      },
      "source": [
        "list(range(1, 7, -1))"
      ],
      "execution_count": 0,
      "outputs": [
        {
          "output_type": "execute_result",
          "data": {
            "text/plain": [
              "[]"
            ]
          },
          "metadata": {
            "tags": []
          },
          "execution_count": 177
        }
      ]
    },
    {
      "cell_type": "code",
      "metadata": {
        "id": "7b289zVKEyNg",
        "colab_type": "code",
        "colab": {},
        "outputId": "ed82aede-1895-4cf8-9a18-5caddc574452"
      },
      "source": [
        "random.randint(1,20)"
      ],
      "execution_count": 0,
      "outputs": [
        {
          "output_type": "execute_result",
          "data": {
            "text/plain": [
              "20"
            ]
          },
          "metadata": {
            "tags": []
          },
          "execution_count": 183
        }
      ]
    },
    {
      "cell_type": "markdown",
      "metadata": {
        "id": "SxmNCEKfEyNh",
        "colab_type": "text"
      },
      "source": [
        "## 반복문\n",
        "- 반복(iteration)은 동일한 문장을 여러 번 반복시키는 구조\n",
        "- 조건식이 True인 동안 실행문장을 반복함\n",
        "- If문과 마찬가지로 반복실행 되어야 할 문장은 들여쓰기가 되 있어야 함\n",
        "- 컴퓨터는 반복작업을 빠르게 실행 할 수 있음"
      ]
    },
    {
      "cell_type": "code",
      "metadata": {
        "id": "YOqVJA38EyNh",
        "colab_type": "code",
        "colab": {},
        "outputId": "0f9ac441-a1c2-42c7-febb-23e909035ba1"
      },
      "source": [
        "# 반복 조건식에 사용할 변수 (while 족건식에 사용할 변수는 반드시 먼저 정의 되야 함)\n",
        "\n",
        "count = 0\n",
        "\n",
        "while count < 5:\n",
        "    print('파이썬은 즐거워')\n",
        "    count += 1\n",
        "print('count = ', count)    "
      ],
      "execution_count": 0,
      "outputs": [
        {
          "output_type": "stream",
          "text": [
            "파이썬은 즐거워\n",
            "파이썬은 즐거워\n",
            "파이썬은 즐거워\n",
            "파이썬은 즐거워\n",
            "파이썬은 즐거워\n",
            "count =  5\n"
          ],
          "name": "stdout"
        }
      ]
    },
    {
      "cell_type": "markdown",
      "metadata": {
        "id": "d7JO0aseEyNj",
        "colab_type": "text"
      },
      "source": [
        "### for 반복문\n",
        "\n",
        "for 변수 in 범위:\n",
        "  실행문장1\n",
        "  실행문장2\n",
        "  실행문장3\n",
        "  \n",
        "범위의 처음부터 끝까지 반복함\n",
        "- while과의 차이점\n",
        "- while: 조건비교결과가 참인 동안 실행문장들이 반복해서 실행됨\n",
        "- for : 범위의 처음부터 끝까지 반복해서 실행됨"
      ]
    },
    {
      "cell_type": "code",
      "metadata": {
        "id": "aKFx1gEJEyNj",
        "colab_type": "code",
        "colab": {},
        "outputId": "4dabac0b-4bd8-4693-da87-eb0216a6f0a5"
      },
      "source": [
        "# 범위에 숫자 리스트를 준 예제\n",
        "\n",
        "for count in [1,2,3,4,5,6,7,8,9]:\n",
        "    print ('나무를', count, '번 찍었습니다.', '딱! ' *count)\n",
        "\n",
        "print('넘어가자')"
      ],
      "execution_count": 0,
      "outputs": [
        {
          "output_type": "stream",
          "text": [
            "나무를 1 번 찍었습니다. 딱! \n",
            "나무를 2 번 찍었습니다. 딱! 딱! \n",
            "나무를 3 번 찍었습니다. 딱! 딱! 딱! \n",
            "나무를 4 번 찍었습니다. 딱! 딱! 딱! 딱! \n",
            "나무를 5 번 찍었습니다. 딱! 딱! 딱! 딱! 딱! \n",
            "나무를 6 번 찍었습니다. 딱! 딱! 딱! 딱! 딱! 딱! \n",
            "나무를 7 번 찍었습니다. 딱! 딱! 딱! 딱! 딱! 딱! 딱! \n",
            "나무를 8 번 찍었습니다. 딱! 딱! 딱! 딱! 딱! 딱! 딱! 딱! \n",
            "나무를 9 번 찍었습니다. 딱! 딱! 딱! 딱! 딱! 딱! 딱! 딱! 딱! \n",
            "넘어가자\n"
          ],
          "name": "stdout"
        }
      ]
    },
    {
      "cell_type": "code",
      "metadata": {
        "id": "MdQlN12tEyNl",
        "colab_type": "code",
        "colab": {},
        "outputId": "f96f186e-f8f2-45ad-d6a5-aded724543a9"
      },
      "source": [
        "# 구구단 예제\n",
        "\n",
        "for i in range(2,10):\n",
        "    for j in range(1,10):\n",
        "        print(i, '*', j, i * j)"
      ],
      "execution_count": 0,
      "outputs": [
        {
          "output_type": "stream",
          "text": [
            "2 * 1 2\n",
            "2 * 2 4\n",
            "2 * 3 6\n",
            "2 * 4 8\n",
            "2 * 5 10\n",
            "2 * 6 12\n",
            "2 * 7 14\n",
            "2 * 8 16\n",
            "2 * 9 18\n",
            "3 * 1 3\n",
            "3 * 2 6\n",
            "3 * 3 9\n",
            "3 * 4 12\n",
            "3 * 5 15\n",
            "3 * 6 18\n",
            "3 * 7 21\n",
            "3 * 8 24\n",
            "3 * 9 27\n",
            "4 * 1 4\n",
            "4 * 2 8\n",
            "4 * 3 12\n",
            "4 * 4 16\n",
            "4 * 5 20\n",
            "4 * 6 24\n",
            "4 * 7 28\n",
            "4 * 8 32\n",
            "4 * 9 36\n",
            "5 * 1 5\n",
            "5 * 2 10\n",
            "5 * 3 15\n",
            "5 * 4 20\n",
            "5 * 5 25\n",
            "5 * 6 30\n",
            "5 * 7 35\n",
            "5 * 8 40\n",
            "5 * 9 45\n",
            "6 * 1 6\n",
            "6 * 2 12\n",
            "6 * 3 18\n",
            "6 * 4 24\n",
            "6 * 5 30\n",
            "6 * 6 36\n",
            "6 * 7 42\n",
            "6 * 8 48\n",
            "6 * 9 54\n",
            "7 * 1 7\n",
            "7 * 2 14\n",
            "7 * 3 21\n",
            "7 * 4 28\n",
            "7 * 5 35\n",
            "7 * 6 42\n",
            "7 * 7 49\n",
            "7 * 8 56\n",
            "7 * 9 63\n",
            "8 * 1 8\n",
            "8 * 2 16\n",
            "8 * 3 24\n",
            "8 * 4 32\n",
            "8 * 5 40\n",
            "8 * 6 48\n",
            "8 * 7 56\n",
            "8 * 8 64\n",
            "8 * 9 72\n",
            "9 * 1 9\n",
            "9 * 2 18\n",
            "9 * 3 27\n",
            "9 * 4 36\n",
            "9 * 5 45\n",
            "9 * 6 54\n",
            "9 * 7 63\n",
            "9 * 8 72\n",
            "9 * 9 81\n"
          ],
          "name": "stdout"
        }
      ]
    },
    {
      "cell_type": "code",
      "metadata": {
        "id": "aya7dHLfEyNm",
        "colab_type": "code",
        "colab": {},
        "outputId": "bf351d39-e978-440d-be89-f3bb1305b60b"
      },
      "source": [
        "stuff = ['programming', 'pasta', 'spam', 'play park']\n",
        "for thing in stuff:\n",
        "    print('I really like ' + thing + '.')"
      ],
      "execution_count": 0,
      "outputs": [
        {
          "output_type": "stream",
          "text": [
            "I really like programming.\n",
            "I really like pasta.\n",
            "I really like spam.\n",
            "I really like play park.\n"
          ],
          "name": "stdout"
        }
      ]
    },
    {
      "cell_type": "code",
      "metadata": {
        "id": "36xMR3I2EyNn",
        "colab_type": "code",
        "colab": {},
        "outputId": "08960033-2e6a-4ee9-ccda-663e31bc9ef2"
      },
      "source": [
        "# 범위에 문자열을 준 예제\n",
        "\n",
        "for i in 'Hello world!':\n",
        "    print(i, end = '') #end = '' 는 줄바꿈 하지 말라는 의미"
      ],
      "execution_count": 0,
      "outputs": [
        {
          "output_type": "stream",
          "text": [
            "Hello world!"
          ],
          "name": "stdout"
        }
      ]
    },
    {
      "cell_type": "code",
      "metadata": {
        "id": "MDjr0PooEyNp",
        "colab_type": "code",
        "colab": {},
        "outputId": "e1520b8a-284a-4c2b-c428-60e182f6d4d7"
      },
      "source": [
        "for i in 'Hello world!':\n",
        "    print(i)"
      ],
      "execution_count": 0,
      "outputs": [
        {
          "output_type": "stream",
          "text": [
            "H\n",
            "e\n",
            "l\n",
            "l\n",
            "o\n",
            " \n",
            "w\n",
            "o\n",
            "r\n",
            "l\n",
            "d\n",
            "!\n"
          ],
          "name": "stdout"
        }
      ]
    },
    {
      "cell_type": "code",
      "metadata": {
        "id": "KxQlqZ6AEyNq",
        "colab_type": "code",
        "colab": {},
        "outputId": "aeac471e-c4b8-4bc3-9af3-8774f1e41940"
      },
      "source": [
        "print('열번 찍어 안 넘어가는 나무없다!!!')\n",
        "\n",
        "cnt = 0\n",
        "while cnt < 10:\n",
        "    cnt += 1\n",
        "    print('나무를 ', cnt, '번 찍었습니다')\n",
        "    \n",
        "print('간다~간다~넘어간다!!!')"
      ],
      "execution_count": 0,
      "outputs": [
        {
          "output_type": "stream",
          "text": [
            "열번 찍어 안 넘어가는 나무없다!!!\n",
            "나무를  1 번 찍었습니다\n",
            "나무를  2 번 찍었습니다\n",
            "나무를  3 번 찍었습니다\n",
            "나무를  4 번 찍었습니다\n",
            "나무를  5 번 찍었습니다\n",
            "나무를  6 번 찍었습니다\n",
            "나무를  7 번 찍었습니다\n",
            "나무를  8 번 찍었습니다\n",
            "나무를  9 번 찍었습니다\n",
            "나무를  10 번 찍었습니다\n",
            "간다~간다~넘어간다!!!\n"
          ],
          "name": "stdout"
        }
      ]
    },
    {
      "cell_type": "code",
      "metadata": {
        "id": "Q_U57cYjEyNr",
        "colab_type": "code",
        "colab": {},
        "outputId": "c5ed9dc5-a99b-479b-b730-8fb87ae1e110"
      },
      "source": [
        "print('티끌 모아 태산!!!')\n",
        "\n",
        "cnt = 0\n",
        "money = ''\n",
        "\n",
        "while cnt < 1000:\n",
        "    cnt += 100\n",
        "    money += '땡그랑 '\n",
        "    print(money + '동전을 ' + str(cnt) + '원을 모았습니다')\n",
        "    \n",
        "print('산다. 산다. 집 산다!!!')"
      ],
      "execution_count": 0,
      "outputs": [
        {
          "output_type": "stream",
          "text": [
            "티끌 모아 태산!!!\n",
            "땡그랑 동전을 100원을 모았습니다\n",
            "땡그랑 땡그랑 동전을 200원을 모았습니다\n",
            "땡그랑 땡그랑 땡그랑 동전을 300원을 모았습니다\n",
            "땡그랑 땡그랑 땡그랑 땡그랑 동전을 400원을 모았습니다\n",
            "땡그랑 땡그랑 땡그랑 땡그랑 땡그랑 동전을 500원을 모았습니다\n",
            "땡그랑 땡그랑 땡그랑 땡그랑 땡그랑 땡그랑 동전을 600원을 모았습니다\n",
            "땡그랑 땡그랑 땡그랑 땡그랑 땡그랑 땡그랑 땡그랑 동전을 700원을 모았습니다\n",
            "땡그랑 땡그랑 땡그랑 땡그랑 땡그랑 땡그랑 땡그랑 땡그랑 동전을 800원을 모았습니다\n",
            "땡그랑 땡그랑 땡그랑 땡그랑 땡그랑 땡그랑 땡그랑 땡그랑 땡그랑 동전을 900원을 모았습니다\n",
            "땡그랑 땡그랑 땡그랑 땡그랑 땡그랑 땡그랑 땡그랑 땡그랑 땡그랑 땡그랑 동전을 1000원을 모았습니다\n",
            "산다. 산다. 집 산다!!!\n"
          ],
          "name": "stdout"
        }
      ]
    },
    {
      "cell_type": "code",
      "metadata": {
        "id": "3nBvaytIEyNs",
        "colab_type": "code",
        "colab": {},
        "outputId": "b80f8394-a6b9-4b76-a0a4-06d4ed5b92da"
      },
      "source": [
        "# 로또번호는 1~45사이 random.randint()를 사용\n",
        "# 6개의 번호가 필요함.\n",
        "# 중복번호가 나올 수도 있음\n",
        "\n",
        "import random\n",
        "\n",
        "print('로또번호 생성기 프로그램')\n",
        "\n",
        "cnt = 0\n",
        "money = ''\n",
        "\n",
        "while cnt < 6:\n",
        "    cnt += 1\n",
        "    lotto = random.randint(1, 45)\n",
        "    print(str(cnt) + '번째 번호는 ' + str(lotto) + '입니다')\n",
        "#    print(cnt, '번째 번호는', lotto, '입니다')"
      ],
      "execution_count": 0,
      "outputs": [
        {
          "output_type": "stream",
          "text": [
            "로또번호 생성기 프로그램\n",
            "1번째 번호는 6입니다\n",
            "2번째 번호는 38입니다\n",
            "3번째 번호는 4입니다\n",
            "4번째 번호는 25입니다\n",
            "5번째 번호는 9입니다\n",
            "6번째 번호는 2입니다\n"
          ],
          "name": "stdout"
        }
      ]
    },
    {
      "cell_type": "markdown",
      "metadata": {
        "id": "tgRmGVHpEyNv",
        "colab_type": "text"
      },
      "source": [
        "#### 실습3) \n",
        "\n",
        "올바른 암호를 입력할 때까지 암호를 입력받는 프로그램을 작 성하세요. 올바른 암호를 입력하면 로그인 성공을 출력하세요.\n",
        "- 알고리즘\n",
        "    - 초기값 password = ' '\n",
        "    - 암호가 “pythonisfun”이 아니면 반복한다.\n",
        "    - 암호를 입력하세요.\n",
        "- password=raw_input()\n",
        "    - 암호가 올바르면 “로그인 성공”을 출력한다"
      ]
    },
    {
      "cell_type": "markdown",
      "metadata": {
        "id": "rfrUumPWEyNv",
        "colab_type": "text"
      },
      "source": [
        "#### 실습4)\n",
        "\n",
        "올바른 암호를 입력할 때까지 암호를 입력받는 프로그램을 작성하세요. 올바른 암호를 입력하면 로그인 성공을 출력하세요.\n",
        "- 알고리즘\n",
        "    1. 초기값 password = ' '\n",
        "    2. 암호가 “pythonisfun”이 아니면 반복한다.\n",
        "- 암호를 입력하세요.\n",
        "- password = input()\n",
        "- 암호가 올바르면 “로그인 성공”을 출력한다."
      ]
    },
    {
      "cell_type": "code",
      "metadata": {
        "id": "4AupvweXEyNw",
        "colab_type": "code",
        "colab": {},
        "outputId": "a374e8aa-be4d-477f-a070-3a3dbe62b11e"
      },
      "source": [
        "passwd = ''\n",
        "\n",
        "while passwd != 'pythonisfun':\n",
        "    passwd = input('암호를 입력하세요')\n",
        "    if passwd == 'pythonisfun':\n",
        "        print('로그인 성공')"
      ],
      "execution_count": 0,
      "outputs": [
        {
          "output_type": "stream",
          "text": [
            "암호를 입력하세요 ㅈㄷㄱㅇㄹㅇㄹ\n",
            "암호를 입력하세요 ㅇㄴㄹㅁㅇ\n",
            "암호를 입력하세요 pythonisfun\n"
          ],
          "name": "stdin"
        },
        {
          "output_type": "stream",
          "text": [
            "로그인 성공\n"
          ],
          "name": "stdout"
        }
      ]
    },
    {
      "cell_type": "markdown",
      "metadata": {
        "id": "hMBxdNgHEyNx",
        "colab_type": "text"
      },
      "source": [
        "#### 실습5)\n",
        "\n",
        "원하는 단을 입력 받아 그 단의 구구단을 출력하는 프로그램을 while문을 이용하여 작성하세요.\n",
        "- 알고리즘\n",
        "    - 단을 입력 받는다.\n",
        "    - while문의 조건을 준다.\n",
        "- 출력한다.\n",
        "- 조건이 반복되도록 변수의 값을 변경한다"
      ]
    },
    {
      "cell_type": "code",
      "metadata": {
        "id": "x8KfvdwOEyNx",
        "colab_type": "code",
        "colab": {},
        "outputId": "a46a79d8-24e7-48fc-cc0c-20edf2cc8796"
      },
      "source": [
        "i = int(input('원하는 단은:'))\n",
        "j = 0\n",
        "\n",
        "while j < 9:\n",
        "    j += 1\n",
        "    print(i, '*', j, ' = ', i * j)"
      ],
      "execution_count": 0,
      "outputs": [
        {
          "output_type": "stream",
          "text": [
            "원하는 단은: 6\n"
          ],
          "name": "stdin"
        },
        {
          "output_type": "stream",
          "text": [
            "6 * 1  =  6\n",
            "6 * 2  =  12\n",
            "6 * 3  =  18\n",
            "6 * 4  =  24\n",
            "6 * 5  =  30\n",
            "6 * 6  =  36\n",
            "6 * 7  =  42\n",
            "6 * 8  =  48\n",
            "6 * 9  =  54\n"
          ],
          "name": "stdout"
        }
      ]
    },
    {
      "cell_type": "markdown",
      "metadata": {
        "id": "9lqOTkLxEyNz",
        "colab_type": "text"
      },
      "source": [
        "#### 실습6)\n",
        "입력한 값이 1보다 작은 경우 “잘못 입력하셨습니다.” 메시지를 출력한 후 다시 입력 받도록 작성해보세요."
      ]
    },
    {
      "cell_type": "code",
      "metadata": {
        "id": "pphEY_IzEyN0",
        "colab_type": "code",
        "colab": {},
        "outputId": "165b0f99-bbe4-4eea-e5e9-efa955e45d15"
      },
      "source": [
        "import random\n",
        "\n",
        "num = 0\n",
        "while num < 1:\n",
        "    num = int(input('1이상의 숫자를 입력해주세요.'))\n",
        "\n",
        "    if num < 1:\n",
        "        print('잘못 입력하셨습니다')\n",
        "    else:\n",
        "        print('시작 범위 1부터 끝 범위 100 가운데 선택된 랜덤 넘버는 ', random.randint(1, 100), '입니다.')\n"
      ],
      "execution_count": 0,
      "outputs": [
        {
          "output_type": "stream",
          "text": [
            "1이상의 숫자를 입력해주세요. -4\n"
          ],
          "name": "stdin"
        },
        {
          "output_type": "stream",
          "text": [
            "잘못 입력하셨습니다\n"
          ],
          "name": "stdout"
        },
        {
          "output_type": "stream",
          "text": [
            "1이상의 숫자를 입력해주세요. 56\n"
          ],
          "name": "stdin"
        },
        {
          "output_type": "stream",
          "text": [
            "시작 범위 1부터 끝 범위 100 가운데 선택된 랜덤 넘버는  58 입니다.\n"
          ],
          "name": "stdout"
        }
      ]
    },
    {
      "cell_type": "markdown",
      "metadata": {
        "id": "-Tcb-rPPEyN0",
        "colab_type": "text"
      },
      "source": [
        "#### 실습7)\n",
        "1~100까지 숫자를 더해 합을 출력하는 프로그램을 while/for문을 사용하여 작성하시오"
      ]
    },
    {
      "cell_type": "code",
      "metadata": {
        "id": "_dPbhH7lEyN1",
        "colab_type": "code",
        "colab": {},
        "outputId": "a418f1dd-5901-4df4-c842-95c5da000196"
      },
      "source": [
        "cnt = 0\n",
        "sum = 0\n",
        "\n",
        "while cnt < 100:\n",
        "    cnt += 1\n",
        "    sum += cnt\n",
        "    \n",
        "print('1 부터 100까지 더한 수는', sum)"
      ],
      "execution_count": 0,
      "outputs": [
        {
          "output_type": "stream",
          "text": [
            "1 부터 100까지 더한 수는 5050\n"
          ],
          "name": "stdout"
        }
      ]
    },
    {
      "cell_type": "code",
      "metadata": {
        "id": "XWljOiGaEyN2",
        "colab_type": "code",
        "colab": {}
      },
      "source": [
        ""
      ],
      "execution_count": 0,
      "outputs": []
    }
  ]
}