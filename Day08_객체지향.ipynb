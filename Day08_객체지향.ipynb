{
  "nbformat": 4,
  "nbformat_minor": 0,
  "metadata": {
    "colab": {
      "name": "Day08_객체지향.ipynb",
      "version": "0.3.2",
      "provenance": [],
      "collapsed_sections": [],
      "include_colab_link": true
    },
    "language_info": {
      "codemirror_mode": {
        "name": "ipython",
        "version": 3
      },
      "file_extension": ".py",
      "mimetype": "text/x-python",
      "name": "python",
      "nbconvert_exporter": "python",
      "pygments_lexer": "ipython3",
      "version": "3.7.3"
    },
    "kernelspec": {
      "display_name": "Python 3",
      "language": "python",
      "name": "python3"
    }
  },
  "cells": [
    {
      "cell_type": "markdown",
      "metadata": {
        "id": "view-in-github",
        "colab_type": "text"
      },
      "source": [
        "<a href=\"https://colab.research.google.com/github/THE-R4U/AI_Innovation/blob/master/Day08_%E1%84%80%E1%85%A2%E1%86%A8%E1%84%8E%E1%85%A6%E1%84%8C%E1%85%B5%E1%84%92%E1%85%A3%E1%86%BC.ipynb\" target=\"_parent\"><img src=\"https://colab.research.google.com/assets/colab-badge.svg\" alt=\"Open In Colab\"/></a>"
      ]
    },
    {
      "cell_type": "markdown",
      "metadata": {
        "id": "rHCCislfmHaI",
        "colab_type": "text"
      },
      "source": [
        "## Day8 - 객체지향형 프로그래밍 (Object Oriented Programming)"
      ]
    },
    {
      "cell_type": "markdown",
      "metadata": {
        "id": "NbEMvkxfmHaJ",
        "colab_type": "text"
      },
      "source": [
        "> 객체(object)는 함수와 변수를 하나의 단위로 묶을 수 있는 방법이다. 이러한 프로그래밍 방식을 객체지향(object oriented)이라고 한다."
      ]
    },
    {
      "cell_type": "markdown",
      "metadata": {
        "id": "qe-Vh29smHaK",
        "colab_type": "text"
      },
      "source": [
        "### 객체란?\n",
        "- 객체는 하나의 물건이라고 생각하면 된다. 객체는 속성과 동작을 가지고 있따."
      ]
    },
    {
      "cell_type": "markdown",
      "metadata": {
        "id": "vd_9RBg8mHaK",
        "colab_type": "text"
      },
      "source": [
        "### 클래스란?\n",
        "- 객체에 대한 설계도를 클래스(class)라고 한다.\n",
        "- 클래스로부터 만들어지는 각각의 객체를 그 클래스의 인스턴스(instance)라고 한다. "
      ]
    },
    {
      "cell_type": "markdown",
      "metadata": {
        "id": "uoJO7IiBmHaL",
        "colab_type": "text"
      },
      "source": [
        "### 객체 생성하기\n",
        "1. 객체의 설계도를 작성하여야 한다.\n",
        "2. 클래스로부터 객체를 생성하여야 한다. "
      ]
    },
    {
      "cell_type": "code",
      "metadata": {
        "id": "DxAhY_5XmHaM",
        "colab_type": "code",
        "outputId": "f6380887-6916-42f6-c378-bc8cdd6dd151",
        "colab": {}
      },
      "source": [
        "# 객체 생성 예제\n",
        "\n",
        "class Car:\n",
        "    def __init__(self, speed, color, model):\n",
        "        self.speed = speed\n",
        "        self.color = color\n",
        "        self.model = model\n",
        "\n",
        "    def drive(self):\n",
        "        self.speed = 60\n",
        "\n",
        "myCar = Car(0, \"blue\", \"E-class\")\n",
        "\n",
        "print(\"자동차 객체를 생성하였습니다.\")\n",
        "print(\"자동차의 속도는\", myCar.speed)\n",
        "print(\"자동차의 색상은\", myCar.color)\n",
        "print(\"자동차의 모델은\", myCar.model)\n",
        "print(\"자동차를 주행합니다.\")\n",
        "myCar.drive()\n",
        "print(\"자동차의 속도는\", myCar.speed)"
      ],
      "execution_count": 0,
      "outputs": [
        {
          "output_type": "stream",
          "text": [
            "자동차 객체를 생성하였습니다.\n",
            "자동차의 속도는 0\n",
            "자동차의 색상은 blue\n",
            "자동차의 모델은 E-class\n",
            "자동차를 주행합니다.\n",
            "자동차의 속도는 60\n"
          ],
          "name": "stdout"
        }
      ]
    },
    {
      "cell_type": "code",
      "metadata": {
        "id": "gOIZeOoHmHaR",
        "colab_type": "code",
        "colab": {}
      },
      "source": [
        "class Car:\n",
        "    pass"
      ],
      "execution_count": 0,
      "outputs": []
    },
    {
      "cell_type": "code",
      "metadata": {
        "id": "ykfjx4YNmHaT",
        "colab_type": "code",
        "colab": {}
      },
      "source": [
        "my_car = Car()"
      ],
      "execution_count": 0,
      "outputs": []
    },
    {
      "cell_type": "code",
      "metadata": {
        "id": "9ebMmXqbmHaV",
        "colab_type": "code",
        "outputId": "67952276-0acf-4585-93da-9e4c6f070d19",
        "colab": {}
      },
      "source": [
        "print(my_car)"
      ],
      "execution_count": 0,
      "outputs": [
        {
          "output_type": "stream",
          "text": [
            "<__main__.Car object at 0x10f99cc50>\n"
          ],
          "name": "stdout"
        }
      ]
    },
    {
      "cell_type": "markdown",
      "metadata": {
        "id": "yWoDXif-mHaY",
        "colab_type": "text"
      },
      "source": [
        "### 클래스 내 함수(메소드)에서 사용되는 self\n",
        "- say_hi 메소드는 어떤값(매개변수)도 받지 않음\n",
        "- say_hi 메소드는 함수정의에 self 를 매개변수 가지고 있음\n",
        "- class 내부에 함수에 첫 매개변수는 항상 self를 넣어줘야 한다"
      ]
    },
    {
      "cell_type": "code",
      "metadata": {
        "id": "UjCra2wWmHaZ",
        "colab_type": "code",
        "colab": {}
      },
      "source": [
        "class Car:\n",
        "    def say_hi(self):\n",
        "        print('hi~')"
      ],
      "execution_count": 0,
      "outputs": []
    },
    {
      "cell_type": "code",
      "metadata": {
        "id": "H08Zlw60mHaa",
        "colab_type": "code",
        "colab": {}
      },
      "source": [
        "my_car = Car()"
      ],
      "execution_count": 0,
      "outputs": []
    },
    {
      "cell_type": "code",
      "metadata": {
        "id": "xDOoWVYYmHac",
        "colab_type": "code",
        "outputId": "048893bb-34be-481c-c790-16cd1b2ff2a2",
        "colab": {}
      },
      "source": [
        "my_car.say_hi()"
      ],
      "execution_count": 0,
      "outputs": [
        {
          "output_type": "stream",
          "text": [
            "hi~\n"
          ],
          "name": "stdout"
        }
      ]
    },
    {
      "cell_type": "markdown",
      "metadata": {
        "id": "TmCjpMk5mHae",
        "colab_type": "text"
      },
      "source": [
        "### 하나의 클래스로 객체는 많이 만들 수 있다.\n",
        "- 우리는 하나의 클래스로 여러 개의 객체를 생성할 수 있다"
      ]
    },
    {
      "cell_type": "markdown",
      "metadata": {
        "id": "2-mtvWvVmHaf",
        "colab_type": "text"
      },
      "source": [
        "#### 클래스의 예\n",
        "- Counter 클래스를 작성하여 보자. Counter 클래스는 기계식 계수기를 나타내며 경기장이나 콘서트에 입장하는 관객 수를 세기 위하여 사용할 수 있다"
      ]
    },
    {
      "cell_type": "code",
      "metadata": {
        "id": "ydkQDkItmHaf",
        "colab_type": "code",
        "colab": {}
      },
      "source": [
        "class Counter:\n",
        "    def reset(self):\n",
        "        self.count = 0\n",
        "    def increment(self):\n",
        "        self.count += 1\n",
        "    def get(self):\n",
        "        return self.count        "
      ],
      "execution_count": 0,
      "outputs": []
    },
    {
      "cell_type": "code",
      "metadata": {
        "id": "Zl_R2n7FmHah",
        "colab_type": "code",
        "colab": {}
      },
      "source": [
        "a = Counter()"
      ],
      "execution_count": 0,
      "outputs": []
    },
    {
      "cell_type": "code",
      "metadata": {
        "id": "E-aQkJyymHaj",
        "colab_type": "code",
        "outputId": "0000ffcf-cdcc-4128-d471-1e51b3342dd4",
        "colab": {}
      },
      "source": [
        "a.reset()\n",
        "a.increment()\n",
        "a.get()"
      ],
      "execution_count": 0,
      "outputs": [
        {
          "output_type": "execute_result",
          "data": {
            "text/plain": [
              "1"
            ]
          },
          "metadata": {
            "tags": []
          },
          "execution_count": 17
        }
      ]
    },
    {
      "cell_type": "code",
      "metadata": {
        "id": "os0SVtmOmHal",
        "colab_type": "code",
        "outputId": "33c40167-308e-452b-ac33-98d9a72b600d",
        "colab": {}
      },
      "source": [
        "a.increment()\n",
        "a.get()"
      ],
      "execution_count": 0,
      "outputs": [
        {
          "output_type": "execute_result",
          "data": {
            "text/plain": [
              "2"
            ]
          },
          "metadata": {
            "tags": []
          },
          "execution_count": 18
        }
      ]
    },
    {
      "cell_type": "code",
      "metadata": {
        "id": "G6lfLBTemHao",
        "colab_type": "code",
        "colab": {}
      },
      "source": [
        "b = Counter()"
      ],
      "execution_count": 0,
      "outputs": []
    },
    {
      "cell_type": "code",
      "metadata": {
        "id": "6pX24ng_mHaq",
        "colab_type": "code",
        "colab": {}
      },
      "source": [
        "b.reset()"
      ],
      "execution_count": 0,
      "outputs": []
    },
    {
      "cell_type": "code",
      "metadata": {
        "id": "6S9Im_pJmHar",
        "colab_type": "code",
        "outputId": "b203cd9a-cac7-4892-be5a-5d1dac9c7fb9",
        "colab": {}
      },
      "source": [
        "b.increment()\n",
        "b.get()"
      ],
      "execution_count": 0,
      "outputs": [
        {
          "output_type": "execute_result",
          "data": {
            "text/plain": [
              "1"
            ]
          },
          "metadata": {
            "tags": []
          },
          "execution_count": 21
        }
      ]
    },
    {
      "cell_type": "code",
      "metadata": {
        "id": "kBhSADKDmHau",
        "colab_type": "code",
        "colab": {}
      },
      "source": [
        "# init 는 객체가 만들어질 때 시작되는 method(함수) 이다. (초기화)\n",
        "\n",
        "class Counter:\n",
        "    def __init__(self):\n",
        "        self.count = 0\n",
        "    def increment(self):\n",
        "        self.count += 1\n",
        "    def get(self):\n",
        "        return self.count        "
      ],
      "execution_count": 0,
      "outputs": []
    },
    {
      "cell_type": "code",
      "metadata": {
        "id": "glA8vQa9mHaw",
        "colab_type": "code",
        "colab": {}
      },
      "source": [
        "c = Counter()"
      ],
      "execution_count": 0,
      "outputs": []
    },
    {
      "cell_type": "code",
      "metadata": {
        "id": "dx_dHly0mHaz",
        "colab_type": "code",
        "outputId": "f065f48e-4173-4f73-93a8-a6a5a80bb6e1",
        "colab": {}
      },
      "source": [
        "print(c.get())"
      ],
      "execution_count": 0,
      "outputs": [
        {
          "output_type": "stream",
          "text": [
            "0\n"
          ],
          "name": "stdout"
        }
      ]
    },
    {
      "cell_type": "code",
      "metadata": {
        "id": "nFkiU3v0mHa2",
        "colab_type": "code",
        "colab": {}
      },
      "source": [
        "class Person:\n",
        "    def __init__(self, name):\n",
        "        self.name = name\n",
        "    def say_hi(self):\n",
        "        print(self.name, '님 안녕하세요')"
      ],
      "execution_count": 0,
      "outputs": []
    },
    {
      "cell_type": "code",
      "metadata": {
        "id": "ckawu3XEmHa5",
        "colab_type": "code",
        "colab": {}
      },
      "source": [
        "p = Person('길동')"
      ],
      "execution_count": 0,
      "outputs": []
    },
    {
      "cell_type": "code",
      "metadata": {
        "id": "6DRVFXUEmHa6",
        "colab_type": "code",
        "outputId": "375beba7-4418-4dfc-b8f0-9f4160dbfd0e",
        "colab": {}
      },
      "source": [
        "p.say_hi()"
      ],
      "execution_count": 0,
      "outputs": [
        {
          "output_type": "stream",
          "text": [
            "길동 님 안녕하세요\n"
          ],
          "name": "stdout"
        }
      ]
    },
    {
      "cell_type": "markdown",
      "metadata": {
        "id": "4xzlkEudmHa8",
        "colab_type": "text"
      },
      "source": [
        "- init 메소드는 클래스가 인스턴스화 될 때 호출\n",
        "- 객체가 생성시 초기화 명령이 필요할 때 유용하게 사용\n",
        "- init 의 앞과 뒤에 있는 밑줄은 두 번씩 입력"
      ]
    },
    {
      "cell_type": "markdown",
      "metadata": {
        "id": "7808bHw5mHa9",
        "colab_type": "text"
      },
      "source": [
        "### 클래스 변수\n",
        "- 공유됨\n",
        "- 모든 인스턴스들이 접근할 수 있음\n",
        "- 한 개만 존재\n",
        "- 객체가 값을 변경하면 다른 인스턴스에 적용됨"
      ]
    },
    {
      "cell_type": "markdown",
      "metadata": {
        "id": "csKyafcjmHa-",
        "colab_type": "text"
      },
      "source": [
        "### 객체변수\n",
        "- 개별 객체 / 인스턴스에 속함 (독립)\n",
        "- 다른 인스턴스들이 접근할 수 없음\n",
        "- self 에 연결(self.name)"
      ]
    },
    {
      "cell_type": "markdown",
      "metadata": {
        "id": "yrr_EwKDmHa-",
        "colab_type": "text"
      },
      "source": [
        "### 클래스 함수 만드는법"
      ]
    },
    {
      "cell_type": "markdown",
      "metadata": {
        "id": "n4HzeBOqmHa_",
        "colab_type": "text"
      },
      "source": [
        "- @classmethod\n",
        "-  def how_many(cls):"
      ]
    },
    {
      "cell_type": "code",
      "metadata": {
        "id": "O7Zk5sDimHbA",
        "colab_type": "code",
        "colab": {}
      },
      "source": [
        "class Robot:\n",
        "    '''로봇 클래스'''\n",
        "    population = 0 #클래스 변수\n",
        "\n",
        "    def __init__(self, name):\n",
        "        '''먼저 시작되는 메소드'''\n",
        "        self.name = name #객체변수\n",
        "        print('로봇을 생산합니다.', self.name)\n",
        "        Robot.population += 1\n",
        "\n",
        "    def die(self):\n",
        "        '''로봇 파괴'''\n",
        "        print(self.name, '파괴되었습니다.')\n",
        "        Robot.population -= 1\n",
        "        if Robot.population == 0:\n",
        "            print(self.name, '마지막 로봇입니다.')\n",
        "        else:\n",
        "            print(Robot.population, '남았습니다.')\n",
        "\n",
        "    def say_hi(self):\n",
        "        '''인사'''\n",
        "        print(self.name, '반갑습니다.')\n",
        "\n",
        "    @classmethod\n",
        "    def how_many(cls):\n",
        "        print(cls.population, '가지고 있습니다.')"
      ],
      "execution_count": 0,
      "outputs": []
    },
    {
      "cell_type": "code",
      "metadata": {
        "id": "7HzvCZU0mHbB",
        "colab_type": "code",
        "outputId": "705383ea-d9bc-4dd7-c799-dbe54f9ad995",
        "colab": {
          "base_uri": "https://localhost:8080/",
          "height": 34
        }
      },
      "source": [
        "droid1 = Robot('길동1')"
      ],
      "execution_count": 0,
      "outputs": [
        {
          "output_type": "stream",
          "text": [
            "로봇을 생산합니다. 길동1\n"
          ],
          "name": "stdout"
        }
      ]
    },
    {
      "cell_type": "code",
      "metadata": {
        "id": "MAozrTi3mHbD",
        "colab_type": "code",
        "outputId": "17b6eed7-11a1-48d7-98d2-0689a9459c05",
        "colab": {
          "base_uri": "https://localhost:8080/",
          "height": 34
        }
      },
      "source": [
        "droid1.say_hi()"
      ],
      "execution_count": 0,
      "outputs": [
        {
          "output_type": "stream",
          "text": [
            "길동1 반갑습니다.\n"
          ],
          "name": "stdout"
        }
      ]
    },
    {
      "cell_type": "code",
      "metadata": {
        "id": "lB71YDPxmHbF",
        "colab_type": "code",
        "outputId": "4101b292-ad66-4b91-bb9d-2e7e81769ac1",
        "colab": {
          "base_uri": "https://localhost:8080/",
          "height": 34
        }
      },
      "source": [
        "droid2 = Robot('길동2')"
      ],
      "execution_count": 0,
      "outputs": [
        {
          "output_type": "stream",
          "text": [
            "로봇을 생산합니다. 길동2\n"
          ],
          "name": "stdout"
        }
      ]
    },
    {
      "cell_type": "code",
      "metadata": {
        "id": "P9t6_9ALmHbJ",
        "colab_type": "code",
        "outputId": "ab755619-e1da-454f-a166-e43a04e23fee",
        "colab": {
          "base_uri": "https://localhost:8080/",
          "height": 34
        }
      },
      "source": [
        "droid2.say_hi()"
      ],
      "execution_count": 0,
      "outputs": [
        {
          "output_type": "stream",
          "text": [
            "길동2 반갑습니다.\n"
          ],
          "name": "stdout"
        }
      ]
    },
    {
      "cell_type": "code",
      "metadata": {
        "id": "SbQPJF97mHbL",
        "colab_type": "code",
        "outputId": "1b8b4992-4c40-4b35-9539-0e84536edd53",
        "colab": {
          "base_uri": "https://localhost:8080/",
          "height": 34
        }
      },
      "source": [
        "# classmethod 호출\n",
        "Robot.how_many()"
      ],
      "execution_count": 0,
      "outputs": [
        {
          "output_type": "stream",
          "text": [
            "2 가지고 있습니다.\n"
          ],
          "name": "stdout"
        }
      ]
    },
    {
      "cell_type": "code",
      "metadata": {
        "id": "x2FBlRHgmHbN",
        "colab_type": "code",
        "outputId": "ae1e5305-f935-43d5-918a-5fe41d049cd1",
        "colab": {
          "base_uri": "https://localhost:8080/",
          "height": 50
        }
      },
      "source": [
        "droid2.die()"
      ],
      "execution_count": 0,
      "outputs": [
        {
          "output_type": "stream",
          "text": [
            "길동2 파괴되었습니다.\n",
            "1 남았습니다.\n"
          ],
          "name": "stdout"
        }
      ]
    },
    {
      "cell_type": "markdown",
      "metadata": {
        "id": "hpgI01pKmHbQ",
        "colab_type": "text"
      },
      "source": [
        "### 정보 은닉\n",
        "- 구현의 세부 사항을 클래스 안에 감추는 것"
      ]
    },
    {
      "cell_type": "markdown",
      "metadata": {
        "id": "ZjA32SRErQam",
        "colab_type": "text"
      },
      "source": [
        "- 파이썬에서 클래스 private 멤버로 정의 하려면\n",
        "- 변수 이름 앞에 __을 붙이면 된다.\n",
        "- 이 변수는 클래스 내부에서만 접근 될 수 있다."
      ]
    },
    {
      "cell_type": "code",
      "metadata": {
        "id": "U8EXm87pre1q",
        "colab_type": "code",
        "colab": {}
      },
      "source": [
        "class Student:\n",
        "    def __init__(self, name=None, age=0):\n",
        "        self.__name = name\n",
        "        self.__age = age"
      ],
      "execution_count": 0,
      "outputs": []
    },
    {
      "cell_type": "code",
      "metadata": {
        "id": "Y5xB6xmCr9FG",
        "colab_type": "code",
        "outputId": "6b0255f0-090e-432f-9564-3243e262df20",
        "colab": {
          "base_uri": "https://localhost:8080/",
          "height": 179
        }
      },
      "source": [
        "obj = Student()\n",
        "print(obj.__age)"
      ],
      "execution_count": 0,
      "outputs": [
        {
          "output_type": "error",
          "ename": "AttributeError",
          "evalue": "ignored",
          "traceback": [
            "\u001b[0;31m---------------------------------------------------------------------------\u001b[0m",
            "\u001b[0;31mAttributeError\u001b[0m                            Traceback (most recent call last)",
            "\u001b[0;32m<ipython-input-10-2e1e67d56f2e>\u001b[0m in \u001b[0;36m<module>\u001b[0;34m()\u001b[0m\n\u001b[1;32m      1\u001b[0m \u001b[0mobj\u001b[0m \u001b[0;34m=\u001b[0m \u001b[0mStudent\u001b[0m\u001b[0;34m(\u001b[0m\u001b[0;34m)\u001b[0m\u001b[0;34m\u001b[0m\u001b[0;34m\u001b[0m\u001b[0m\n\u001b[0;32m----> 2\u001b[0;31m \u001b[0mprint\u001b[0m\u001b[0;34m(\u001b[0m\u001b[0mobj\u001b[0m\u001b[0;34m.\u001b[0m\u001b[0m__age\u001b[0m\u001b[0;34m)\u001b[0m\u001b[0;34m\u001b[0m\u001b[0;34m\u001b[0m\u001b[0m\n\u001b[0m",
            "\u001b[0;31mAttributeError\u001b[0m: 'Student' object has no attribute '__age'"
          ]
        }
      ]
    },
    {
      "cell_type": "markdown",
      "metadata": {
        "id": "N8cOTy7xsCRf",
        "colab_type": "text"
      },
      "source": [
        "### 접근자와 설정자\n",
        "- 하나는 인스턴스 변수값을 반환하는 접근자(getters)이고 또 하나는 인스턴스 변수값을 설정하는 설정자(setters) 이다."
      ]
    },
    {
      "cell_type": "code",
      "metadata": {
        "id": "ugcydtdOssyF",
        "colab_type": "code",
        "colab": {}
      },
      "source": [
        "class Student:\n",
        "    def __init__(self, name=None, age=0):\n",
        "        self.__name = name\n",
        "        self.__age = age\n",
        "    \n",
        "    def getAge(self): # 접근자\n",
        "        return self.__age\n",
        "\n",
        "    def getName(self):\n",
        "        return self.__name\n",
        "\n",
        "    def setAge(self, age): # 설정자\n",
        "        self.__age=age\n",
        "\n",
        "    def setName(self, name):\n",
        "        self.__name=name"
      ],
      "execution_count": 0,
      "outputs": []
    },
    {
      "cell_type": "code",
      "metadata": {
        "id": "BdhtVWR1tGAo",
        "colab_type": "code",
        "colab": {}
      },
      "source": [
        "s = Student()"
      ],
      "execution_count": 0,
      "outputs": []
    },
    {
      "cell_type": "code",
      "metadata": {
        "id": "IYqIwDyltNHC",
        "colab_type": "code",
        "outputId": "9f35956c-e622-47ba-df7a-1960b67a1e1c",
        "colab": {
          "base_uri": "https://localhost:8080/",
          "height": 162
        }
      },
      "source": [
        "print(s.__age)"
      ],
      "execution_count": 0,
      "outputs": [
        {
          "output_type": "error",
          "ename": "AttributeError",
          "evalue": "ignored",
          "traceback": [
            "\u001b[0;31m---------------------------------------------------------------------------\u001b[0m",
            "\u001b[0;31mAttributeError\u001b[0m                            Traceback (most recent call last)",
            "\u001b[0;32m<ipython-input-13-37cec98c33ac>\u001b[0m in \u001b[0;36m<module>\u001b[0;34m()\u001b[0m\n\u001b[0;32m----> 1\u001b[0;31m \u001b[0mprint\u001b[0m\u001b[0;34m(\u001b[0m\u001b[0ms\u001b[0m\u001b[0;34m.\u001b[0m\u001b[0m__age\u001b[0m\u001b[0;34m)\u001b[0m\u001b[0;34m\u001b[0m\u001b[0;34m\u001b[0m\u001b[0m\n\u001b[0m",
            "\u001b[0;31mAttributeError\u001b[0m: 'Student' object has no attribute '__age'"
          ]
        }
      ]
    },
    {
      "cell_type": "code",
      "metadata": {
        "id": "AoNMqZbAtUpK",
        "colab_type": "code",
        "colab": {}
      },
      "source": [
        "s.setAge(20)"
      ],
      "execution_count": 0,
      "outputs": []
    },
    {
      "cell_type": "code",
      "metadata": {
        "id": "tAOyM1ZRtan1",
        "colab_type": "code",
        "outputId": "e58439e6-e92d-4c83-a24b-270fe2a3b153",
        "colab": {
          "base_uri": "https://localhost:8080/",
          "height": 34
        }
      },
      "source": [
        "print(s.getAge())"
      ],
      "execution_count": 0,
      "outputs": [
        {
          "output_type": "stream",
          "text": [
            "20\n"
          ],
          "name": "stdout"
        }
      ]
    },
    {
      "cell_type": "markdown",
      "metadata": {
        "id": "neNME2Boti4q",
        "colab_type": "text"
      },
      "source": [
        "#### 원을 클래스로 표현하기\n",
        "- 원을 클래스도 표시해보자. 원은 반지름(radius)을 가지고 있다. 원의 넓이와 둘레를 계산하는 메소드도 정의해보자. 설정자와 접근자 메소드도 작성한다. "
      ]
    },
    {
      "cell_type": "code",
      "metadata": {
        "id": "BJZ4W6wWwZcw",
        "colab_type": "code",
        "colab": {}
      },
      "source": [
        "class Circle:\n",
        "    def __init__(self, radius=0):\n",
        "        self.__radius = radius\n",
        "\n",
        "    def getRadius(self):\n",
        "        return self.__radius\n",
        "\n",
        "    def calcArea(self):\n",
        "        return 3.14 * self.__radius ** 2\n",
        "    \n",
        "    def calcCircum(self):\n",
        "        return 3.14 * self.__radius * 2"
      ],
      "execution_count": 0,
      "outputs": []
    },
    {
      "cell_type": "code",
      "metadata": {
        "id": "YkNZCZ4LyJDj",
        "colab_type": "code",
        "colab": {}
      },
      "source": [
        "c1 = Circle(10)"
      ],
      "execution_count": 0,
      "outputs": []
    },
    {
      "cell_type": "code",
      "metadata": {
        "id": "aVuciVk0yStp",
        "colab_type": "code",
        "colab": {
          "base_uri": "https://localhost:8080/",
          "height": 67
        },
        "outputId": "2cac2f67-f561-455c-f2dc-be29e274923f"
      },
      "source": [
        "print('원의 반지름 =', c1.getRadius())\n",
        "print('원의 반지름 =', c1.calcArea())\n",
        "print('원의 반지름 =', c1.calcCircum())"
      ],
      "execution_count": 7,
      "outputs": [
        {
          "output_type": "stream",
          "text": [
            "원의 반지름 = 10\n",
            "원의 반지름 = 314.0\n",
            "원의 반지름 = 62.800000000000004\n"
          ],
          "name": "stdout"
        }
      ]
    },
    {
      "cell_type": "code",
      "metadata": {
        "id": "XKHkBXIWyllY",
        "colab_type": "code",
        "colab": {}
      },
      "source": [
        ""
      ],
      "execution_count": 0,
      "outputs": []
    }
  ]
}