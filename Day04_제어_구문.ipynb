{
  "nbformat": 4,
  "nbformat_minor": 0,
  "metadata": {
    "colab": {
      "name": "Day04_제어 구문.ipynb",
      "version": "0.3.2",
      "provenance": [],
      "toc_visible": true,
      "include_colab_link": true
    },
    "language_info": {
      "codemirror_mode": {
        "name": "ipython",
        "version": 3
      },
      "file_extension": ".py",
      "mimetype": "text/x-python",
      "name": "python",
      "nbconvert_exporter": "python",
      "pygments_lexer": "ipython3",
      "version": "3.7.3"
    },
    "kernelspec": {
      "display_name": "Python 3",
      "language": "python",
      "name": "python3"
    }
  },
  "cells": [
    {
      "cell_type": "markdown",
      "metadata": {
        "id": "view-in-github",
        "colab_type": "text"
      },
      "source": [
        "<a href=\"https://colab.research.google.com/github/THE-R4U/AI_Innovation/blob/master/Day04_%E1%84%8C%E1%85%A6%E1%84%8B%E1%85%A5_%E1%84%80%E1%85%AE%E1%84%86%E1%85%AE%E1%86%AB.ipynb\" target=\"_parent\"><img src=\"https://colab.research.google.com/assets/colab-badge.svg\" alt=\"Open In Colab\"/></a>"
      ]
    },
    {
      "cell_type": "markdown",
      "metadata": {
        "id": "J-JJZauYFGy-",
        "colab_type": "text"
      },
      "source": [
        "# 4일차 - 제어 구문\n",
        "\n",
        "## 튜플\n",
        "- 리스트와 동일하지만, 튜플은 불변객체이다는 차이점이 있음"
      ]
    },
    {
      "cell_type": "code",
      "metadata": {
        "id": "oTqu_f2cFGy_",
        "colab_type": "code",
        "colab": {}
      },
      "source": [
        "a = (1,2,3,4,5)"
      ],
      "execution_count": 0,
      "outputs": []
    },
    {
      "cell_type": "code",
      "metadata": {
        "id": "P5IKXcQTFGzB",
        "colab_type": "code",
        "colab": {},
        "outputId": "71bcd7b9-798f-4aa8-85a1-664b00842b47"
      },
      "source": [
        "a"
      ],
      "execution_count": 0,
      "outputs": [
        {
          "output_type": "execute_result",
          "data": {
            "text/plain": [
              "(1, 2, 3, 4, 5)"
            ]
          },
          "metadata": {
            "tags": []
          },
          "execution_count": 2
        }
      ]
    },
    {
      "cell_type": "code",
      "metadata": {
        "id": "UQizbwI6FGzF",
        "colab_type": "code",
        "colab": {},
        "outputId": "abc07a25-29d1-46de-c757-e31b6c87e7f5"
      },
      "source": [
        "# 불변객체이므로 오류가 난다\n",
        "a[0] = 0"
      ],
      "execution_count": 0,
      "outputs": [
        {
          "output_type": "error",
          "ename": "TypeError",
          "evalue": "'tuple' object does not support item assignment",
          "traceback": [
            "\u001b[0;31m---------------------------------------------------------------------------\u001b[0m",
            "\u001b[0;31mTypeError\u001b[0m                                 Traceback (most recent call last)",
            "\u001b[0;32m<ipython-input-26-005d3c121641>\u001b[0m in \u001b[0;36m<module>\u001b[0;34m\u001b[0m\n\u001b[1;32m      1\u001b[0m \u001b[0;31m# 불변객체이므로 오류가 난다\u001b[0m\u001b[0;34m\u001b[0m\u001b[0;34m\u001b[0m\u001b[0;34m\u001b[0m\u001b[0m\n\u001b[0;32m----> 2\u001b[0;31m \u001b[0ma\u001b[0m\u001b[0;34m[\u001b[0m\u001b[0;36m0\u001b[0m\u001b[0;34m]\u001b[0m \u001b[0;34m=\u001b[0m \u001b[0;36m0\u001b[0m\u001b[0;34m\u001b[0m\u001b[0;34m\u001b[0m\u001b[0m\n\u001b[0m",
            "\u001b[0;31mTypeError\u001b[0m: 'tuple' object does not support item assignment"
          ]
        }
      ]
    },
    {
      "cell_type": "code",
      "metadata": {
        "id": "KVG6r3UCFGzI",
        "colab_type": "code",
        "colab": {},
        "outputId": "c61e80c5-eddf-460b-ae5c-c12e1bae6657"
      },
      "source": [
        "b = tuple(range(1,10))\n",
        "b"
      ],
      "execution_count": 0,
      "outputs": [
        {
          "output_type": "execute_result",
          "data": {
            "text/plain": [
              "(1, 2, 3, 4, 5, 6, 7, 8, 9)"
            ]
          },
          "metadata": {
            "tags": []
          },
          "execution_count": 6
        }
      ]
    },
    {
      "cell_type": "code",
      "metadata": {
        "id": "3fOZCcLYFGzK",
        "colab_type": "code",
        "colab": {},
        "outputId": "17bfdc06-3d69-4640-e4bc-a5feedc2cbf4"
      },
      "source": [
        "b.count(7) # 해당하는 아이템 7의 개수를 세어준다"
      ],
      "execution_count": 0,
      "outputs": [
        {
          "output_type": "execute_result",
          "data": {
            "text/plain": [
              "1"
            ]
          },
          "metadata": {
            "tags": []
          },
          "execution_count": 10
        }
      ]
    },
    {
      "cell_type": "code",
      "metadata": {
        "id": "MGCdSumKFGzN",
        "colab_type": "code",
        "colab": {},
        "outputId": "db8219c0-bd2a-49a4-8a18-657c83530f85"
      },
      "source": [
        "b.index(7) # 아이템 7의 인덱스를 알려준다"
      ],
      "execution_count": 0,
      "outputs": [
        {
          "output_type": "execute_result",
          "data": {
            "text/plain": [
              "6"
            ]
          },
          "metadata": {
            "tags": []
          },
          "execution_count": 11
        }
      ]
    },
    {
      "cell_type": "markdown",
      "metadata": {
        "id": "r9oPPEPZFGzP",
        "colab_type": "text"
      },
      "source": [
        "### 다양한 tuple 값 대입"
      ]
    },
    {
      "cell_type": "code",
      "metadata": {
        "id": "Av0LUvKDFGzQ",
        "colab_type": "code",
        "colab": {},
        "outputId": "cd1e632e-79af-49aa-b381-ed42d05b21ae"
      },
      "source": [
        "x = 1,\n",
        "type(x)"
      ],
      "execution_count": 0,
      "outputs": [
        {
          "output_type": "execute_result",
          "data": {
            "text/plain": [
              "tuple"
            ]
          },
          "metadata": {
            "tags": []
          },
          "execution_count": 12
        }
      ]
    },
    {
      "cell_type": "code",
      "metadata": {
        "id": "nWn0xc1qFGzS",
        "colab_type": "code",
        "colab": {},
        "outputId": "b2c41789-de76-4ba5-c44f-dc5e37d9b56c"
      },
      "source": [
        "x = 1, 2\n",
        "type(x)"
      ],
      "execution_count": 0,
      "outputs": [
        {
          "output_type": "execute_result",
          "data": {
            "text/plain": [
              "tuple"
            ]
          },
          "metadata": {
            "tags": []
          },
          "execution_count": 13
        }
      ]
    },
    {
      "cell_type": "code",
      "metadata": {
        "id": "6EYsEOPGFGzV",
        "colab_type": "code",
        "colab": {},
        "outputId": "0514b88b-44bc-4aaf-ffe0-40dba960488f"
      },
      "source": [
        "x, y = 1, 2\n",
        "type(x)"
      ],
      "execution_count": 0,
      "outputs": [
        {
          "output_type": "execute_result",
          "data": {
            "text/plain": [
              "int"
            ]
          },
          "metadata": {
            "tags": []
          },
          "execution_count": 16
        }
      ]
    },
    {
      "cell_type": "code",
      "metadata": {
        "id": "_NJs32gwFGzX",
        "colab_type": "code",
        "colab": {},
        "outputId": "b02ebfb9-1cc0-46b4-b2d8-892f7e2ef452"
      },
      "source": [
        "x = 1, (2,3)\n",
        "type(x)"
      ],
      "execution_count": 0,
      "outputs": [
        {
          "output_type": "execute_result",
          "data": {
            "text/plain": [
              "tuple"
            ]
          },
          "metadata": {
            "tags": []
          },
          "execution_count": 20
        }
      ]
    },
    {
      "cell_type": "code",
      "metadata": {
        "id": "smWzzmBeFGza",
        "colab_type": "code",
        "colab": {},
        "outputId": "2cea76b1-a05c-4220-e685-55645eba08ff"
      },
      "source": [
        "x = (1,)\n",
        "type(x)"
      ],
      "execution_count": 0,
      "outputs": [
        {
          "output_type": "execute_result",
          "data": {
            "text/plain": [
              "tuple"
            ]
          },
          "metadata": {
            "tags": []
          },
          "execution_count": 21
        }
      ]
    },
    {
      "cell_type": "code",
      "metadata": {
        "id": "dAreBPXQFGzc",
        "colab_type": "code",
        "colab": {},
        "outputId": "c80d3a02-40d8-487f-aaa4-7f75837c2cbb"
      },
      "source": [
        "x = (1,(2,3))\n",
        "type(x)"
      ],
      "execution_count": 0,
      "outputs": [
        {
          "output_type": "execute_result",
          "data": {
            "text/plain": [
              "tuple"
            ]
          },
          "metadata": {
            "tags": []
          },
          "execution_count": 22
        }
      ]
    },
    {
      "cell_type": "code",
      "metadata": {
        "id": "308WeWwWFGzg",
        "colab_type": "code",
        "colab": {},
        "outputId": "1b16a42b-3682-4276-ced9-d1ba7aefe7a7"
      },
      "source": [
        "x = (1,(2,3))\n",
        "type(x)"
      ],
      "execution_count": 0,
      "outputs": [
        {
          "output_type": "execute_result",
          "data": {
            "text/plain": [
              "tuple"
            ]
          },
          "metadata": {
            "tags": []
          },
          "execution_count": 23
        }
      ]
    },
    {
      "cell_type": "code",
      "metadata": {
        "id": "jGx0VrkqFGzj",
        "colab_type": "code",
        "colab": {},
        "outputId": "1d4f5b27-f183-44f7-dbb8-cf740e0acc2e"
      },
      "source": [
        "(x,y) = (1,2)\n",
        "type(x)"
      ],
      "execution_count": 0,
      "outputs": [
        {
          "output_type": "execute_result",
          "data": {
            "text/plain": [
              "int"
            ]
          },
          "metadata": {
            "tags": []
          },
          "execution_count": 24
        }
      ]
    },
    {
      "cell_type": "code",
      "metadata": {
        "id": "EmvKIcdGFGzo",
        "colab_type": "code",
        "colab": {},
        "outputId": "37666301-d7ca-405b-e7d6-819073093506"
      },
      "source": [
        "type((x,y))"
      ],
      "execution_count": 0,
      "outputs": [
        {
          "output_type": "execute_result",
          "data": {
            "text/plain": [
              "tuple"
            ]
          },
          "metadata": {
            "tags": []
          },
          "execution_count": 25
        }
      ]
    },
    {
      "cell_type": "markdown",
      "metadata": {
        "id": "cH86ZKguFGzr",
        "colab_type": "text"
      },
      "source": [
        "## 딕셔너리\n",
        "- key와 value 쌍으로 이루어진 자료구조\n",
        "- 중괄호 {}로 생성"
      ]
    },
    {
      "cell_type": "code",
      "metadata": {
        "id": "wexe56UoFGzr",
        "colab_type": "code",
        "colab": {},
        "outputId": "4a6d3d3e-8bbc-426d-a4bc-0b1f5ae3494e"
      },
      "source": [
        "a = {'a':1, 'b':2}\n",
        "a"
      ],
      "execution_count": 0,
      "outputs": [
        {
          "output_type": "execute_result",
          "data": {
            "text/plain": [
              "{'a': 1, 'b': 2}"
            ]
          },
          "metadata": {
            "tags": []
          },
          "execution_count": 28
        }
      ]
    },
    {
      "cell_type": "code",
      "metadata": {
        "id": "hwh_fCS3FGzt",
        "colab_type": "code",
        "colab": {},
        "outputId": "7dd147be-5d70-4691-834d-29a4378dba30"
      },
      "source": [
        "phone_book = {'신사임당': '010-1234-5678', '홍길동':'010-4532-4532'}\n",
        "phone_book"
      ],
      "execution_count": 0,
      "outputs": [
        {
          "output_type": "execute_result",
          "data": {
            "text/plain": [
              "{'신사임당': '010-1234-5678', '홍길동': '010-4532-4532'}"
            ]
          },
          "metadata": {
            "tags": []
          },
          "execution_count": 29
        }
      ]
    },
    {
      "cell_type": "markdown",
      "metadata": {
        "id": "2P9w7J-FFGzw",
        "colab_type": "text"
      },
      "source": [
        "### 딕셔너리 키-값 추가"
      ]
    },
    {
      "cell_type": "code",
      "metadata": {
        "id": "tRMdg80eFGz1",
        "colab_type": "code",
        "colab": {}
      },
      "source": [
        "phone_book['이순신'] = '010-0987-6543'"
      ],
      "execution_count": 0,
      "outputs": []
    },
    {
      "cell_type": "code",
      "metadata": {
        "id": "QCaKCk4GFGz3",
        "colab_type": "code",
        "colab": {},
        "outputId": "aec386ef-a400-4ea6-91a4-b0fe97457d9b"
      },
      "source": [
        "phone_book"
      ],
      "execution_count": 0,
      "outputs": [
        {
          "output_type": "execute_result",
          "data": {
            "text/plain": [
              "{'신사임당': '010-1234-5678', '홍길동': '010-4532-4532', '이순신': '010-0987-6543'}"
            ]
          },
          "metadata": {
            "tags": []
          },
          "execution_count": 31
        }
      ]
    },
    {
      "cell_type": "markdown",
      "metadata": {
        "id": "W33lxZuNFGz5",
        "colab_type": "text"
      },
      "source": [
        "### 딕셔너리 키-값 검색"
      ]
    },
    {
      "cell_type": "code",
      "metadata": {
        "id": "l5IyhBSgFGz6",
        "colab_type": "code",
        "colab": {},
        "outputId": "17e3cdee-dcd9-4066-fd7f-565a97b8d68e"
      },
      "source": [
        "phone_book['이순신']"
      ],
      "execution_count": 0,
      "outputs": [
        {
          "output_type": "execute_result",
          "data": {
            "text/plain": [
              "'010-0987-6543'"
            ]
          },
          "metadata": {
            "tags": []
          },
          "execution_count": 32
        }
      ]
    },
    {
      "cell_type": "code",
      "metadata": {
        "id": "r4Q-xxpUFGz8",
        "colab_type": "code",
        "colab": {},
        "outputId": "0ae9f2c6-cd43-40ba-a209-22d90d7acc90"
      },
      "source": [
        "'이순신' in phone_book"
      ],
      "execution_count": 0,
      "outputs": [
        {
          "output_type": "execute_result",
          "data": {
            "text/plain": [
              "True"
            ]
          },
          "metadata": {
            "tags": []
          },
          "execution_count": 33
        }
      ]
    },
    {
      "cell_type": "code",
      "metadata": {
        "id": "9b7zRz19FGz-",
        "colab_type": "code",
        "colab": {},
        "outputId": "3200b3f2-e472-42ff-a7c4-e2b9b692357c"
      },
      "source": [
        "'강감찬' in phone_book"
      ],
      "execution_count": 0,
      "outputs": [
        {
          "output_type": "execute_result",
          "data": {
            "text/plain": [
              "False"
            ]
          },
          "metadata": {
            "tags": []
          },
          "execution_count": 34
        }
      ]
    },
    {
      "cell_type": "code",
      "metadata": {
        "id": "VR4pqvIlFG0A",
        "colab_type": "code",
        "colab": {},
        "outputId": "0194c57e-a84e-410c-e686-47ac026d5532"
      },
      "source": [
        "phone_book.get('이순신')"
      ],
      "execution_count": 0,
      "outputs": [
        {
          "output_type": "execute_result",
          "data": {
            "text/plain": [
              "'010-0987-6543'"
            ]
          },
          "metadata": {
            "tags": []
          },
          "execution_count": 35
        }
      ]
    },
    {
      "cell_type": "markdown",
      "metadata": {
        "id": "lpkcIHUTFG0D",
        "colab_type": "text"
      },
      "source": [
        "### 딕셔너리 keys 출력"
      ]
    },
    {
      "cell_type": "code",
      "metadata": {
        "id": "_1UFzbOgFG0E",
        "colab_type": "code",
        "colab": {},
        "outputId": "a7d6e6c4-230c-430f-d8df-bc60c566ad11"
      },
      "source": [
        "phone_book.keys()"
      ],
      "execution_count": 0,
      "outputs": [
        {
          "output_type": "execute_result",
          "data": {
            "text/plain": [
              "dict_keys(['신사임당', '홍길동', '이순신'])"
            ]
          },
          "metadata": {
            "tags": []
          },
          "execution_count": 36
        }
      ]
    },
    {
      "cell_type": "markdown",
      "metadata": {
        "id": "H2kdtUbRFG0H",
        "colab_type": "text"
      },
      "source": [
        "### 딕셔너리 values 출력"
      ]
    },
    {
      "cell_type": "code",
      "metadata": {
        "id": "b1Wt4mv2FG0H",
        "colab_type": "code",
        "colab": {},
        "outputId": "a26d5b4c-87f0-48d9-b63e-980e8d9c368e"
      },
      "source": [
        "phone_book.values()"
      ],
      "execution_count": 0,
      "outputs": [
        {
          "output_type": "execute_result",
          "data": {
            "text/plain": [
              "dict_values(['010-1234-5678', '010-4532-4532', '010-0987-6543'])"
            ]
          },
          "metadata": {
            "tags": []
          },
          "execution_count": 37
        }
      ]
    },
    {
      "cell_type": "markdown",
      "metadata": {
        "id": "ppS9tVOhFG0J",
        "colab_type": "text"
      },
      "source": [
        "### 딕셔너리 항목 삭제"
      ]
    },
    {
      "cell_type": "code",
      "metadata": {
        "id": "IzM8673zFG0K",
        "colab_type": "code",
        "colab": {}
      },
      "source": [
        "del phone_book['홍길동']"
      ],
      "execution_count": 0,
      "outputs": []
    },
    {
      "cell_type": "code",
      "metadata": {
        "id": "nIU5XLajFG0L",
        "colab_type": "code",
        "colab": {},
        "outputId": "1d8f22c0-0920-43af-a696-3fb0fc294f0f"
      },
      "source": [
        "phone_book"
      ],
      "execution_count": 0,
      "outputs": [
        {
          "output_type": "execute_result",
          "data": {
            "text/plain": [
              "{'신사임당': '010-1234-5678', '이순신': '010-0987-6543'}"
            ]
          },
          "metadata": {
            "tags": []
          },
          "execution_count": 39
        }
      ]
    },
    {
      "cell_type": "code",
      "metadata": {
        "id": "tbyH-c7FFG0N",
        "colab_type": "code",
        "colab": {},
        "outputId": "6e28202b-39bb-411f-bc4c-e8dda6002de8"
      },
      "source": [
        "phone_book.clear()\n",
        "phone_book"
      ],
      "execution_count": 0,
      "outputs": [
        {
          "output_type": "execute_result",
          "data": {
            "text/plain": [
              "{}"
            ]
          },
          "metadata": {
            "tags": []
          },
          "execution_count": 40
        }
      ]
    },
    {
      "cell_type": "code",
      "metadata": {
        "id": "18MQyfNnFG0O",
        "colab_type": "code",
        "colab": {}
      },
      "source": [
        "phone_book = {'신사임당': '010-1234-5678', '홍길동':'010-4532-4532', '이순신': '010-0987-6543'}"
      ],
      "execution_count": 0,
      "outputs": []
    },
    {
      "cell_type": "code",
      "metadata": {
        "id": "QExYFjmVFG0Q",
        "colab_type": "code",
        "colab": {},
        "outputId": "9cd3ceb2-d98b-45fe-fef4-e9db5dbb03e3"
      },
      "source": [
        "for i in phone_book:\n",
        "    print(i)"
      ],
      "execution_count": 0,
      "outputs": [
        {
          "output_type": "stream",
          "text": [
            "신사임당\n",
            "홍길동\n",
            "이순신\n"
          ],
          "name": "stdout"
        }
      ]
    },
    {
      "cell_type": "code",
      "metadata": {
        "id": "DmFQgBrNFG0T",
        "colab_type": "code",
        "colab": {},
        "outputId": "73632cfd-a05c-4768-a630-185dc74a5b23"
      },
      "source": [
        "for i in phone_book:\n",
        "    print(i)\n",
        "else:\n",
        "    print('end')"
      ],
      "execution_count": 0,
      "outputs": [
        {
          "output_type": "stream",
          "text": [
            "신사임당\n",
            "홍길동\n",
            "이순신\n",
            "end\n"
          ],
          "name": "stdout"
        }
      ]
    },
    {
      "cell_type": "code",
      "metadata": {
        "id": "SyvpGWwEFG0W",
        "colab_type": "code",
        "colab": {},
        "outputId": "9c7823e7-3bca-4b73-cb17-f4184eecc032"
      },
      "source": [
        "# key값만 출력\n",
        "for i in phone_book.keys():\n",
        "    print(i)"
      ],
      "execution_count": 0,
      "outputs": [
        {
          "output_type": "stream",
          "text": [
            "신사임당\n",
            "홍길동\n",
            "이순신\n"
          ],
          "name": "stdout"
        }
      ]
    },
    {
      "cell_type": "code",
      "metadata": {
        "id": "sBW7uu2_FG0X",
        "colab_type": "code",
        "colab": {},
        "outputId": "a945ed8d-a5af-4867-9a33-86a340b22563"
      },
      "source": [
        "# value값만 출력\n",
        "for i in phone_book.values():\n",
        "    print(i)"
      ],
      "execution_count": 0,
      "outputs": [
        {
          "output_type": "stream",
          "text": [
            "010-1234-5678\n",
            "010-4532-4532\n",
            "010-0987-6543\n"
          ],
          "name": "stdout"
        }
      ]
    },
    {
      "cell_type": "code",
      "metadata": {
        "id": "HVd46LeeFG0Z",
        "colab_type": "code",
        "colab": {},
        "outputId": "95adb031-fd8a-4f25-d713-c43034b2e173"
      },
      "source": [
        "# key와 value 모두 출력 (Tuple 형식)\n",
        "for i in phone_book.items():\n",
        "    print(i)"
      ],
      "execution_count": 0,
      "outputs": [
        {
          "output_type": "stream",
          "text": [
            "('신사임당', '010-1234-5678')\n",
            "('홍길동', '010-4532-4532')\n",
            "('이순신', '010-0987-6543')\n"
          ],
          "name": "stdout"
        }
      ]
    },
    {
      "cell_type": "code",
      "metadata": {
        "id": "J8VWtm7SFG0b",
        "colab_type": "code",
        "colab": {},
        "outputId": "6ae38dcf-efa8-4988-97e5-3974bd725057"
      },
      "source": [
        "# key와 value 모두 출력 (일반 형식)\n",
        "for i, j in phone_book.items():\n",
        "    print(i, j)"
      ],
      "execution_count": 0,
      "outputs": [
        {
          "output_type": "stream",
          "text": [
            "신사임당 010-1234-5678\n",
            "홍길동 010-4532-4532\n",
            "이순신 010-0987-6543\n"
          ],
          "name": "stdout"
        }
      ]
    },
    {
      "cell_type": "markdown",
      "metadata": {
        "id": "V1g1wiXFFG0d",
        "colab_type": "text"
      },
      "source": [
        "### 편의점 제고관리 프로그램"
      ]
    },
    {
      "cell_type": "code",
      "metadata": {
        "id": "8jPXHuXpFG0e",
        "colab_type": "code",
        "colab": {},
        "outputId": "3312b7a7-e55e-4241-bba4-444ffd73365e"
      },
      "source": [
        "# 편의점 아이템\n",
        "\n",
        "items = {\"커피\":7, \"펜\":3, \"종이컵\":2, \"우유\":1, \"콜라\":4, \"책\":5}\n",
        "items"
      ],
      "execution_count": 0,
      "outputs": [
        {
          "output_type": "execute_result",
          "data": {
            "text/plain": [
              "{'커피': 7, '펜': 3, '종이컵': 2, '우유': 1, '콜라': 4, '책': 5}"
            ]
          },
          "metadata": {
            "tags": []
          },
          "execution_count": 53
        }
      ]
    },
    {
      "cell_type": "code",
      "metadata": {
        "id": "mvQPnW9PFG0g",
        "colab_type": "code",
        "colab": {},
        "outputId": "ed6a8817-484e-4006-9f03-df03613733ed"
      },
      "source": [
        "menu = 0\n",
        "\n",
        "while menu != 3:\n",
        "    print('----------메 뉴----------')\n",
        "    print('1.재고확인   2.판매   3.종료')\n",
        "    menu = int(input())\n",
        "    if menu == 1:\n",
        "        value = input('재고 확인을 위한 물건명을 입력하세요.')\n",
        "        items[value]\n",
        "    elif menu == 2:\n",
        "        value = input('판매한 물건명을 입력하세요.')\n",
        "        cnt = int(input(value + '의 판매 개수를 입력하세요.'))\n"
      ],
      "execution_count": 0,
      "outputs": [
        {
          "output_type": "stream",
          "text": [
            "----------메 뉴----------\n",
            "1.재고확인   2.판매   3.종료\n"
          ],
          "name": "stdout"
        },
        {
          "output_type": "stream",
          "text": [
            " 1\n",
            "재고 확인을 위한 물건명을 입력하세요. 콜라\n"
          ],
          "name": "stdin"
        },
        {
          "output_type": "stream",
          "text": [
            "----------메 뉴----------\n",
            "1.재고확인   2.판매   3.종료\n"
          ],
          "name": "stdout"
        },
        {
          "output_type": "stream",
          "text": [
            " 2\n",
            "판매한 물건명을 입력하세요. 콜라\n",
            "콜라의 판매 개수를 입력하세요. 7\n"
          ],
          "name": "stdin"
        },
        {
          "output_type": "stream",
          "text": [
            "----------메 뉴----------\n",
            "1.재고확인   2.판매   3.종료\n"
          ],
          "name": "stdout"
        },
        {
          "output_type": "stream",
          "text": [
            " 3\n"
          ],
          "name": "stdin"
        }
      ]
    },
    {
      "cell_type": "code",
      "metadata": {
        "id": "Pbs9LsGlFG0l",
        "colab_type": "code",
        "colab": {},
        "outputId": "fc7ed5b5-8ada-4480-b21b-071e04c55a0d"
      },
      "source": [
        "a = '콜라'\n",
        "b = input(a + '의 개수를 입력하세요')"
      ],
      "execution_count": 0,
      "outputs": [
        {
          "output_type": "stream",
          "text": [
            "콜라의 개수를 입력하세요 5\n"
          ],
          "name": "stdin"
        }
      ]
    },
    {
      "cell_type": "markdown",
      "metadata": {
        "id": "8dS4Mwm0FG0m",
        "colab_type": "text"
      },
      "source": [
        "## 집합 (Set)\n",
        "- set은 순서가 없으며, 수정이 가능하고, 값이 중복되지 않음"
      ]
    },
    {
      "cell_type": "code",
      "metadata": {
        "id": "5ZhKeN_FFG0n",
        "colab_type": "code",
        "colab": {},
        "outputId": "c822f314-a69e-451e-d8d4-1b0a15cf3acb"
      },
      "source": [
        "a = {1,2,3,4,5}\n",
        "a\n",
        "type(a)"
      ],
      "execution_count": 0,
      "outputs": [
        {
          "output_type": "execute_result",
          "data": {
            "text/plain": [
              "set"
            ]
          },
          "metadata": {
            "tags": []
          },
          "execution_count": 62
        }
      ]
    },
    {
      "cell_type": "code",
      "metadata": {
        "id": "yHwhWTlDFG0r",
        "colab_type": "code",
        "colab": {},
        "outputId": "f7b4e4d9-44b3-49c8-d7c6-8c07552cd5b2"
      },
      "source": [
        "# 리스트를 집합으로 넣을 수 있다 (필요없는 중복 값을 없앨 때 유용하다)\n",
        "b = set([1,2,4,2,2,6,6,6,7,8,10,4,2,8,6,3])\n",
        "b"
      ],
      "execution_count": 0,
      "outputs": [
        {
          "output_type": "execute_result",
          "data": {
            "text/plain": [
              "{1, 2, 3, 4, 6, 7, 8, 10}"
            ]
          },
          "metadata": {
            "tags": []
          },
          "execution_count": 64
        }
      ]
    },
    {
      "cell_type": "code",
      "metadata": {
        "id": "gbCJFfiOFG0u",
        "colab_type": "code",
        "colab": {},
        "outputId": "c13864d5-9e60-4234-8755-e377a588f159"
      },
      "source": [
        "# set에 아이템 추가\n",
        "b.add(5)\n",
        "b"
      ],
      "execution_count": 0,
      "outputs": [
        {
          "output_type": "execute_result",
          "data": {
            "text/plain": [
              "{1, 2, 3, 4, 5, 6, 7, 8, 10}"
            ]
          },
          "metadata": {
            "tags": []
          },
          "execution_count": 66
        }
      ]
    },
    {
      "cell_type": "code",
      "metadata": {
        "id": "ZjF6Rq4wFG0v",
        "colab_type": "code",
        "colab": {},
        "outputId": "d067c342-937a-4101-8387-38783b8093c8"
      },
      "source": [
        "# set에 아이템 제거\n",
        "b.remove(5)\n",
        "b"
      ],
      "execution_count": 0,
      "outputs": [
        {
          "output_type": "execute_result",
          "data": {
            "text/plain": [
              "{1, 2, 3, 4, 6, 7, 8, 10}"
            ]
          },
          "metadata": {
            "tags": []
          },
          "execution_count": 68
        }
      ]
    },
    {
      "cell_type": "code",
      "metadata": {
        "id": "mlxGGK_BFG0y",
        "colab_type": "code",
        "colab": {},
        "outputId": "1ad60562-8c26-4dfd-ac78-a18280953d7f"
      },
      "source": [
        "# set 아이템 모두 제거\n",
        "b.clear()\n",
        "b"
      ],
      "execution_count": 0,
      "outputs": [
        {
          "output_type": "execute_result",
          "data": {
            "text/plain": [
              "set()"
            ]
          },
          "metadata": {
            "tags": []
          },
          "execution_count": 70
        }
      ]
    },
    {
      "cell_type": "code",
      "metadata": {
        "id": "7_5-EB7UFG00",
        "colab_type": "code",
        "colab": {},
        "outputId": "8b5e7bb9-08cc-4917-a65d-bd00674d6526"
      },
      "source": [
        "# 가장 먼저 있는 아이템을 제거한다\n",
        "a.pop()\n",
        "a"
      ],
      "execution_count": 0,
      "outputs": [
        {
          "output_type": "execute_result",
          "data": {
            "text/plain": [
              "{2, 3, 4, 5}"
            ]
          },
          "metadata": {
            "tags": []
          },
          "execution_count": 71
        }
      ]
    },
    {
      "cell_type": "markdown",
      "metadata": {
        "id": "ANkdv4FeFG01",
        "colab_type": "text"
      },
      "source": [
        "### set은 집합이므로, 합집합, 차집합, 교집합, 대칭차집합을 표현할 수 있음"
      ]
    },
    {
      "cell_type": "code",
      "metadata": {
        "id": "85ClAjHeFG02",
        "colab_type": "code",
        "colab": {}
      },
      "source": [
        "a = {1,4,7}\n",
        "b = {1,3,6,8,10}"
      ],
      "execution_count": 0,
      "outputs": []
    },
    {
      "cell_type": "code",
      "metadata": {
        "id": "6uGeNsq0FG03",
        "colab_type": "code",
        "colab": {},
        "outputId": "e4ae61e4-4102-4e2e-e876-71c73fc02a95"
      },
      "source": [
        "# 합집합\n",
        "a | b"
      ],
      "execution_count": 0,
      "outputs": [
        {
          "output_type": "execute_result",
          "data": {
            "text/plain": [
              "{1, 3, 4, 6, 7, 8, 10}"
            ]
          },
          "metadata": {
            "tags": []
          },
          "execution_count": 73
        }
      ]
    },
    {
      "cell_type": "code",
      "metadata": {
        "id": "GBMQrAT4FG05",
        "colab_type": "code",
        "colab": {},
        "outputId": "0b3b215a-498b-4c1f-bcfb-35a1d0f18abe"
      },
      "source": [
        "# 차집합\n",
        "a - b"
      ],
      "execution_count": 0,
      "outputs": [
        {
          "output_type": "execute_result",
          "data": {
            "text/plain": [
              "{4, 7}"
            ]
          },
          "metadata": {
            "tags": []
          },
          "execution_count": 74
        }
      ]
    },
    {
      "cell_type": "code",
      "metadata": {
        "id": "XN4jfGAzFG07",
        "colab_type": "code",
        "colab": {},
        "outputId": "66672b2d-335f-4d8b-b4a8-8ac5ed853139"
      },
      "source": [
        "# 교집합\n",
        "a & b"
      ],
      "execution_count": 0,
      "outputs": [
        {
          "output_type": "execute_result",
          "data": {
            "text/plain": [
              "{1}"
            ]
          },
          "metadata": {
            "tags": []
          },
          "execution_count": 75
        }
      ]
    },
    {
      "cell_type": "code",
      "metadata": {
        "id": "8ZX2ZshTFG0-",
        "colab_type": "code",
        "colab": {},
        "outputId": "61823117-fdc7-449f-8cc7-97a87c302fa3"
      },
      "source": [
        "# 대칭차집합 : (합집합) - (교집합)\n",
        "a ^ b"
      ],
      "execution_count": 0,
      "outputs": [
        {
          "output_type": "execute_result",
          "data": {
            "text/plain": [
              "{3, 4, 6, 7, 8, 10}"
            ]
          },
          "metadata": {
            "tags": []
          },
          "execution_count": 76
        }
      ]
    },
    {
      "cell_type": "markdown",
      "metadata": {
        "id": "nUGUlOLXFG1B",
        "colab_type": "text"
      },
      "source": [
        "### Container에서의 깞 할당의 여러가 지 예 \n",
        "- '*' 나머지 값의 의미로 활용한다."
      ]
    },
    {
      "cell_type": "code",
      "metadata": {
        "id": "SwyqD0JKFG1C",
        "colab_type": "code",
        "colab": {}
      },
      "source": [
        "# *b에 나머지 list 값으로 채워진다\n",
        "a, *b, c = 1,2,3,4,5"
      ],
      "execution_count": 0,
      "outputs": []
    },
    {
      "cell_type": "code",
      "metadata": {
        "id": "2Xx7Qe_pFG1D",
        "colab_type": "code",
        "colab": {},
        "outputId": "77383b94-ae39-4250-fb43-7ce9d5b610b1"
      },
      "source": [
        "a"
      ],
      "execution_count": 0,
      "outputs": [
        {
          "output_type": "execute_result",
          "data": {
            "text/plain": [
              "1"
            ]
          },
          "metadata": {
            "tags": []
          },
          "execution_count": 90
        }
      ]
    },
    {
      "cell_type": "code",
      "metadata": {
        "id": "cepCP5ZTFG1E",
        "colab_type": "code",
        "colab": {},
        "outputId": "8b6c3b56-9c4c-4b74-f7cc-95376a519a93"
      },
      "source": [
        "b"
      ],
      "execution_count": 0,
      "outputs": [
        {
          "output_type": "execute_result",
          "data": {
            "text/plain": [
              "[2, 3, 4]"
            ]
          },
          "metadata": {
            "tags": []
          },
          "execution_count": 91
        }
      ]
    },
    {
      "cell_type": "code",
      "metadata": {
        "id": "o1F1ZjUbFG1G",
        "colab_type": "code",
        "colab": {},
        "outputId": "5f53df93-a9f8-47a8-8aad-79b2175bab1c"
      },
      "source": [
        "c"
      ],
      "execution_count": 0,
      "outputs": [
        {
          "output_type": "execute_result",
          "data": {
            "text/plain": [
              "5"
            ]
          },
          "metadata": {
            "tags": []
          },
          "execution_count": 92
        }
      ]
    },
    {
      "cell_type": "code",
      "metadata": {
        "id": "wY82Zd7HFG1H",
        "colab_type": "code",
        "colab": {}
      },
      "source": [
        "a, b = {1, 2}"
      ],
      "execution_count": 0,
      "outputs": []
    },
    {
      "cell_type": "code",
      "metadata": {
        "id": "k8tYkrNgFG1I",
        "colab_type": "code",
        "colab": {},
        "outputId": "f0c266ec-d986-4d13-f7be-b2674fcb5912"
      },
      "source": [
        "a"
      ],
      "execution_count": 0,
      "outputs": [
        {
          "output_type": "execute_result",
          "data": {
            "text/plain": [
              "1"
            ]
          },
          "metadata": {
            "tags": []
          },
          "execution_count": 94
        }
      ]
    },
    {
      "cell_type": "code",
      "metadata": {
        "id": "BYu_bznvFG1K",
        "colab_type": "code",
        "colab": {},
        "outputId": "3e9be750-4ebb-4d6d-d608-45c375e198c6"
      },
      "source": [
        "b"
      ],
      "execution_count": 0,
      "outputs": [
        {
          "output_type": "execute_result",
          "data": {
            "text/plain": [
              "2"
            ]
          },
          "metadata": {
            "tags": []
          },
          "execution_count": 95
        }
      ]
    },
    {
      "cell_type": "code",
      "metadata": {
        "id": "evhCohfNFG1L",
        "colab_type": "code",
        "colab": {},
        "outputId": "f6d97fff-5161-47d5-8757-b6eb6f5ed9c1"
      },
      "source": [
        "{3,1,2,3,1}"
      ],
      "execution_count": 0,
      "outputs": [
        {
          "output_type": "execute_result",
          "data": {
            "text/plain": [
              "{1, 2, 3}"
            ]
          },
          "metadata": {
            "tags": []
          },
          "execution_count": 96
        }
      ]
    },
    {
      "cell_type": "code",
      "metadata": {
        "id": "JN4VPhbFFG1N",
        "colab_type": "code",
        "colab": {}
      },
      "source": [
        "*a, b, c = \"안녕하세요\""
      ],
      "execution_count": 0,
      "outputs": []
    },
    {
      "cell_type": "code",
      "metadata": {
        "id": "ia89lprvFG1O",
        "colab_type": "code",
        "colab": {},
        "outputId": "c6be5461-f828-452b-9dbe-01e742ad7b31"
      },
      "source": [
        "a"
      ],
      "execution_count": 0,
      "outputs": [
        {
          "output_type": "execute_result",
          "data": {
            "text/plain": [
              "['안', '녕', '하']"
            ]
          },
          "metadata": {
            "tags": []
          },
          "execution_count": 98
        }
      ]
    },
    {
      "cell_type": "code",
      "metadata": {
        "id": "DZuJyWXGFG1Q",
        "colab_type": "code",
        "colab": {},
        "outputId": "48f7e10c-481e-448b-b373-745a78a1e2a3"
      },
      "source": [
        "b"
      ],
      "execution_count": 0,
      "outputs": [
        {
          "output_type": "execute_result",
          "data": {
            "text/plain": [
              "'세'"
            ]
          },
          "metadata": {
            "tags": []
          },
          "execution_count": 99
        }
      ]
    },
    {
      "cell_type": "code",
      "metadata": {
        "id": "JTJ-aQKlFG1S",
        "colab_type": "code",
        "colab": {},
        "outputId": "8a9cdb7f-1473-4589-be9f-c464f43aaa71"
      },
      "source": [
        "c"
      ],
      "execution_count": 0,
      "outputs": [
        {
          "output_type": "execute_result",
          "data": {
            "text/plain": [
              "'요'"
            ]
          },
          "metadata": {
            "tags": []
          },
          "execution_count": 100
        }
      ]
    },
    {
      "cell_type": "markdown",
      "metadata": {
        "id": "Ep1h8J17FG1V",
        "colab_type": "text"
      },
      "source": [
        "### 해당요소가 있으면 True, 없으면 False"
      ]
    },
    {
      "cell_type": "code",
      "metadata": {
        "id": "kzEDL3lRFG1V",
        "colab_type": "code",
        "colab": {},
        "outputId": "bbd5c3d2-8e7b-49f2-9c03-014f5b3c2be0"
      },
      "source": [
        "a = 'Hello'\n",
        "'h' in a"
      ],
      "execution_count": 0,
      "outputs": [
        {
          "output_type": "execute_result",
          "data": {
            "text/plain": [
              "False"
            ]
          },
          "metadata": {
            "tags": []
          },
          "execution_count": 105
        }
      ]
    },
    {
      "cell_type": "code",
      "metadata": {
        "id": "zntF4ES7FG1X",
        "colab_type": "code",
        "colab": {},
        "outputId": "af56dd91-7607-481f-defc-2cc8f15a1a3c"
      },
      "source": [
        "'b' in a"
      ],
      "execution_count": 0,
      "outputs": [
        {
          "output_type": "execute_result",
          "data": {
            "text/plain": [
              "False"
            ]
          },
          "metadata": {
            "tags": []
          },
          "execution_count": 106
        }
      ]
    },
    {
      "cell_type": "code",
      "metadata": {
        "id": "5IEGriQvFG1Y",
        "colab_type": "code",
        "colab": {},
        "outputId": "0e858e96-0484-4ba4-96a2-7f42574b1660"
      },
      "source": [
        "b = {1,3,6,8,10}\n",
        "1 in b"
      ],
      "execution_count": 0,
      "outputs": [
        {
          "output_type": "execute_result",
          "data": {
            "text/plain": [
              "True"
            ]
          },
          "metadata": {
            "tags": []
          },
          "execution_count": 107
        }
      ]
    },
    {
      "cell_type": "code",
      "metadata": {
        "id": "H47jUJGBFG1Z",
        "colab_type": "code",
        "colab": {},
        "outputId": "21320f1a-58de-43d3-c348-0f2a9a3f8c50"
      },
      "source": [
        "c = [1,2,3,4,5]\n",
        "3 in c"
      ],
      "execution_count": 0,
      "outputs": [
        {
          "output_type": "execute_result",
          "data": {
            "text/plain": [
              "True"
            ]
          },
          "metadata": {
            "tags": []
          },
          "execution_count": 108
        }
      ]
    },
    {
      "cell_type": "code",
      "metadata": {
        "id": "KQ2yzZrZFG1b",
        "colab_type": "code",
        "colab": {},
        "outputId": "7c97a5b7-0ad2-44c1-ab85-cd276961367e"
      },
      "source": [
        "d=[[4,6], '1', '2']\n",
        "[4] in d"
      ],
      "execution_count": 0,
      "outputs": [
        {
          "output_type": "execute_result",
          "data": {
            "text/plain": [
              "False"
            ]
          },
          "metadata": {
            "tags": []
          },
          "execution_count": 111
        }
      ]
    },
    {
      "cell_type": "code",
      "metadata": {
        "id": "cF8dzPr7FG1e",
        "colab_type": "code",
        "colab": {},
        "outputId": "385ab8fa-bbd7-4449-f401-a7ab430610ff"
      },
      "source": [
        "[4,6] in d"
      ],
      "execution_count": 0,
      "outputs": [
        {
          "output_type": "execute_result",
          "data": {
            "text/plain": [
              "True"
            ]
          },
          "metadata": {
            "tags": []
          },
          "execution_count": 112
        }
      ]
    },
    {
      "cell_type": "markdown",
      "metadata": {
        "id": "wQ5cvnEPFG1g",
        "colab_type": "text"
      },
      "source": [
        "### 0이외의 값은 모두 True이다. "
      ]
    },
    {
      "cell_type": "code",
      "metadata": {
        "id": "jpV1Ugp-FG1g",
        "colab_type": "code",
        "colab": {},
        "outputId": "2691f30b-0add-47c5-c2c6-4262dc5122b0"
      },
      "source": [
        "if 2:\n",
        "    print('True')"
      ],
      "execution_count": 0,
      "outputs": [
        {
          "output_type": "stream",
          "text": [
            "True\n"
          ],
          "name": "stdout"
        }
      ]
    },
    {
      "cell_type": "code",
      "metadata": {
        "id": "6AXk26GtFG1k",
        "colab_type": "code",
        "colab": {},
        "outputId": "3a014999-4939-49dc-fe58-0d7c7c546ded"
      },
      "source": [
        "if [2]:\n",
        "    print('True')"
      ],
      "execution_count": 0,
      "outputs": [
        {
          "output_type": "stream",
          "text": [
            "True\n"
          ],
          "name": "stdout"
        }
      ]
    },
    {
      "cell_type": "code",
      "metadata": {
        "id": "-0pQwBs-FG1l",
        "colab_type": "code",
        "colab": {}
      },
      "source": [
        "a = -3\n",
        "b = 3 if a > 0 else 8"
      ],
      "execution_count": 0,
      "outputs": []
    },
    {
      "cell_type": "code",
      "metadata": {
        "id": "MkXXvvtmFG1m",
        "colab_type": "code",
        "colab": {},
        "outputId": "adefceca-8a21-4168-e763-08e9b53da01e"
      },
      "source": [
        "a"
      ],
      "execution_count": 0,
      "outputs": [
        {
          "output_type": "execute_result",
          "data": {
            "text/plain": [
              "-3"
            ]
          },
          "metadata": {
            "tags": []
          },
          "execution_count": 119
        }
      ]
    },
    {
      "cell_type": "code",
      "metadata": {
        "id": "AHU5elvfFG1n",
        "colab_type": "code",
        "colab": {},
        "outputId": "6b2f0402-dc5d-4bad-871f-05b747a250b8"
      },
      "source": [
        "b"
      ],
      "execution_count": 0,
      "outputs": [
        {
          "output_type": "execute_result",
          "data": {
            "text/plain": [
              "8"
            ]
          },
          "metadata": {
            "tags": []
          },
          "execution_count": 120
        }
      ]
    },
    {
      "cell_type": "code",
      "metadata": {
        "id": "Xag3e_NrFG1p",
        "colab_type": "code",
        "colab": {},
        "outputId": "082bf817-609a-4c2c-c67e-7d133872b320"
      },
      "source": [
        "if []:\n",
        "    print('T')\n",
        "else:\n",
        "    print('F')"
      ],
      "execution_count": 0,
      "outputs": [
        {
          "output_type": "stream",
          "text": [
            "F\n"
          ],
          "name": "stdout"
        }
      ]
    },
    {
      "cell_type": "code",
      "metadata": {
        "id": "TOLY_WzLFG1t",
        "colab_type": "code",
        "colab": {},
        "outputId": "bb7c311d-7542-4f78-c499-0e47dff80c2b"
      },
      "source": [
        "a = 3\n",
        "\n",
        "if 1 < a < 5:\n",
        "    print('T')\n",
        "else:\n",
        "    print('F')"
      ],
      "execution_count": 0,
      "outputs": [
        {
          "output_type": "stream",
          "text": [
            "T\n"
          ],
          "name": "stdout"
        }
      ]
    },
    {
      "cell_type": "markdown",
      "metadata": {
        "id": "KX7QiWtbFG1u",
        "colab_type": "text"
      },
      "source": [
        "### 비교연산자 is는 값 비교가 아닌 레퍼런스 비교를 수행 함"
      ]
    },
    {
      "cell_type": "code",
      "metadata": {
        "id": "auVM_DE8FG1u",
        "colab_type": "code",
        "colab": {},
        "outputId": "8159370b-baf7-4ac9-965d-b1399f18cb33"
      },
      "source": [
        "1 is 3"
      ],
      "execution_count": 0,
      "outputs": [
        {
          "output_type": "execute_result",
          "data": {
            "text/plain": [
              "False"
            ]
          },
          "metadata": {
            "tags": []
          },
          "execution_count": 124
        }
      ]
    },
    {
      "cell_type": "code",
      "metadata": {
        "id": "X0UQA5rfFG1v",
        "colab_type": "code",
        "colab": {},
        "outputId": "6bfbccf8-e73a-4c45-f321-1bf73d2653d7"
      },
      "source": [
        "a = '1'\n",
        "b = 1\n",
        "a is b"
      ],
      "execution_count": 0,
      "outputs": [
        {
          "output_type": "execute_result",
          "data": {
            "text/plain": [
              "False"
            ]
          },
          "metadata": {
            "tags": []
          },
          "execution_count": 125
        }
      ]
    },
    {
      "cell_type": "code",
      "metadata": {
        "id": "FR6qTSa4FG1y",
        "colab_type": "code",
        "colab": {},
        "outputId": "7aba073c-bc37-4645-ff50-3ad7ba65c47a"
      },
      "source": [
        "a = 10\n",
        "b = 10\n",
        "a is b"
      ],
      "execution_count": 0,
      "outputs": [
        {
          "output_type": "execute_result",
          "data": {
            "text/plain": [
              "True"
            ]
          },
          "metadata": {
            "tags": []
          },
          "execution_count": 126
        }
      ]
    },
    {
      "cell_type": "code",
      "metadata": {
        "id": "HDZVf55kFG1z",
        "colab_type": "code",
        "colab": {},
        "outputId": "ccb863f3-8347-41d9-dd48-736ac7a927da"
      },
      "source": [
        "id(a), id(b)"
      ],
      "execution_count": 0,
      "outputs": [
        {
          "output_type": "execute_result",
          "data": {
            "text/plain": [
              "(4301465280, 4301465280)"
            ]
          },
          "metadata": {
            "tags": []
          },
          "execution_count": 127
        }
      ]
    },
    {
      "cell_type": "code",
      "metadata": {
        "id": "_P0fF1eNFG10",
        "colab_type": "code",
        "colab": {},
        "outputId": "ab54331b-b90a-4379-afaf-762d03891584"
      },
      "source": [
        "a = -5\n",
        "b = -5\n",
        "a is b"
      ],
      "execution_count": 0,
      "outputs": [
        {
          "output_type": "execute_result",
          "data": {
            "text/plain": [
              "True"
            ]
          },
          "metadata": {
            "tags": []
          },
          "execution_count": 128
        }
      ]
    },
    {
      "cell_type": "code",
      "metadata": {
        "id": "rp0UqZJsFG11",
        "colab_type": "code",
        "colab": {},
        "outputId": "da7a1684-c030-4142-f621-94377a4c64f6"
      },
      "source": [
        "a = -6\n",
        "b = -6\n",
        "a is b"
      ],
      "execution_count": 0,
      "outputs": [
        {
          "output_type": "execute_result",
          "data": {
            "text/plain": [
              "False"
            ]
          },
          "metadata": {
            "tags": []
          },
          "execution_count": 129
        }
      ]
    },
    {
      "cell_type": "code",
      "metadata": {
        "id": "GYldGdecFG12",
        "colab_type": "code",
        "colab": {},
        "outputId": "fa061a6a-fa05-4f0c-a15a-aa990b61b5dc"
      },
      "source": [
        "a = 256\n",
        "b = 256\n",
        "a is b"
      ],
      "execution_count": 0,
      "outputs": [
        {
          "output_type": "execute_result",
          "data": {
            "text/plain": [
              "True"
            ]
          },
          "metadata": {
            "tags": []
          },
          "execution_count": 130
        }
      ]
    },
    {
      "cell_type": "code",
      "metadata": {
        "id": "DiqX1aqWFG13",
        "colab_type": "code",
        "colab": {},
        "outputId": "a860ac1b-2e73-4eaa-d2be-3b7651abbf39"
      },
      "source": [
        "a = 257\n",
        "b = 257\n",
        "a is b"
      ],
      "execution_count": 0,
      "outputs": [
        {
          "output_type": "execute_result",
          "data": {
            "text/plain": [
              "False"
            ]
          },
          "metadata": {
            "tags": []
          },
          "execution_count": 131
        }
      ]
    },
    {
      "cell_type": "markdown",
      "metadata": {
        "id": "CTpmJysYFG14",
        "colab_type": "text"
      },
      "source": [
        "#### 파이썬에서는 -5~256까지는 메모리에 캐시하여 동일한 주소를 참조하도록 하고 있다."
      ]
    },
    {
      "cell_type": "markdown",
      "metadata": {
        "id": "PyaE-2kHFG14",
        "colab_type": "text"
      },
      "source": [
        "## 함수\n",
        "- 프로그램에서 자주 사용되는 코드를 따로 만들어 두고 필요할 때마다 불러서(호출해서) 사용하는 기능"
      ]
    },
    {
      "cell_type": "code",
      "metadata": {
        "id": "wVbme9mrFG14",
        "colab_type": "code",
        "colab": {}
      },
      "source": [
        "def summation(y):\n",
        "    num = 1\n",
        "    total = 0\n",
        "    while num <= y:\n",
        "        total += num\n",
        "        num += 1\n",
        "    print('1 부터' + str(y) + '까지의 합은 ' + str(total) + ' 입니다.')"
      ],
      "execution_count": 0,
      "outputs": []
    },
    {
      "cell_type": "code",
      "metadata": {
        "id": "U2ehZ0vWFG15",
        "colab_type": "code",
        "colab": {},
        "outputId": "5c46ed10-e165-47b0-a35a-18de5b22c346"
      },
      "source": [
        "summation(10)\n",
        "summation(100)\n",
        "summation(1000)"
      ],
      "execution_count": 0,
      "outputs": [
        {
          "output_type": "stream",
          "text": [
            "1 부터10까지의 합은 55 입니다.\n",
            "1 부터100까지의 합은 5050 입니다.\n",
            "1 부터1000까지의 합은 500500 입니다.\n"
          ],
          "name": "stdout"
        }
      ]
    },
    {
      "cell_type": "markdown",
      "metadata": {
        "id": "mW8zrVF0FG16",
        "colab_type": "text"
      },
      "source": [
        "### 함수 작성 방법\n",
        "\n",
        "- *함수 정의 파트*와 *함수 호출* 파트로 이루어진다.\n",
        "- 함수 정의 파트가 함수 호출 파트보다 먼저 작성되어 있어야 한다.\n",
        "- 함수 호출 파트(외부) 에서 함수 정의 파트(내부)로 값을 전달할 때 전달인자를 사용한다.\n",
        "- 함수 정의 파트에서는 값을 받을 때 매개변수로 받는다.\n",
        "- 전달인자나 매개변수를 파라미터라고도 부름\n",
        "- 함수 정의 파트에서 함수 호출 파트로 값을 내 보낼 때에는 반환(return)을 사용한다.\n",
        "- 전달인자, 매개변수, 반환이 없는 함수도 있다.\n",
        "- 함수안에서 사용하는 지역변수와 함수 밖에서 사용하는 전역변수가 있다"
      ]
    },
    {
      "cell_type": "code",
      "metadata": {
        "id": "meuqatKkFG16",
        "colab_type": "code",
        "colab": {}
      },
      "source": [
        "def bird1( ):\n",
        "    print ('''\n",
        "    ___\n",
        "    {o,o}\n",
        "    |)__)\n",
        "    -″-″-\n",
        "    ''')"
      ],
      "execution_count": 0,
      "outputs": []
    },
    {
      "cell_type": "code",
      "metadata": {
        "id": "KXmYGD8_FG17",
        "colab_type": "code",
        "colab": {},
        "outputId": "cf587ad2-e20c-48b6-c296-fc4a7b6dd00b"
      },
      "source": [
        "bird1()"
      ],
      "execution_count": 0,
      "outputs": [
        {
          "output_type": "stream",
          "text": [
            "\n",
            "    ___\n",
            "    {o,o}\n",
            "    |)__)\n",
            "    -″-″-\n",
            "    \n"
          ],
          "name": "stdout"
        }
      ]
    },
    {
      "cell_type": "code",
      "metadata": {
        "id": "FGXm7_0TFG18",
        "colab_type": "code",
        "colab": {}
      },
      "source": [
        "def bird2( ):\n",
        "    print ('''\n",
        "    ___\n",
        "    {o,o}\n",
        "    |)_(|\n",
        "    -″-″-\n",
        "    ''')"
      ],
      "execution_count": 0,
      "outputs": []
    },
    {
      "cell_type": "code",
      "metadata": {
        "id": "ZSNcF-b_FG18",
        "colab_type": "code",
        "colab": {},
        "outputId": "ea07008e-33eb-4f89-8de7-8627bbd7941b"
      },
      "source": [
        "bird2()"
      ],
      "execution_count": 0,
      "outputs": [
        {
          "output_type": "stream",
          "text": [
            "\n",
            "    ___\n",
            "    {o,o}\n",
            "    |)_(|\n",
            "    -″-″-\n",
            "    \n"
          ],
          "name": "stdout"
        }
      ]
    },
    {
      "cell_type": "code",
      "metadata": {
        "id": "4m1m8LSKFG1-",
        "colab_type": "code",
        "colab": {},
        "outputId": "5d4c1ea8-49c7-4dab-80cc-a60459680977"
      },
      "source": [
        "def bird3( ):\n",
        "    print ('''\n",
        "    ___\n",
        "    {o,o}\n",
        "    (__(|\n",
        "    -″-″-\n",
        "    ''')\n",
        "\n",
        "import time\n",
        "\n",
        "count = 1\n",
        "while count <= 10:\n",
        "    bird1()\n",
        "    time.sleep(1)\n",
        "    bird2()\n",
        "    time.sleep(1)\n",
        "    bird3()\n",
        "    time.sleep(1)\n",
        "    count = count + 1"
      ],
      "execution_count": 0,
      "outputs": [
        {
          "output_type": "stream",
          "text": [
            "\n",
            "    ___\n",
            "    {o,o}\n",
            "    |)__)\n",
            "    -″-″-\n",
            "    \n",
            "\n",
            "    ___\n",
            "    {o,o}\n",
            "    |)_(|\n",
            "    -″-″-\n",
            "    \n",
            "\n",
            "    ___\n",
            "    {o,o}\n",
            "    (__(|\n",
            "    -″-″-\n",
            "    \n",
            "\n",
            "    ___\n",
            "    {o,o}\n",
            "    |)__)\n",
            "    -″-″-\n",
            "    \n",
            "\n",
            "    ___\n",
            "    {o,o}\n",
            "    |)_(|\n",
            "    -″-″-\n",
            "    \n",
            "\n",
            "    ___\n",
            "    {o,o}\n",
            "    (__(|\n",
            "    -″-″-\n",
            "    \n",
            "\n",
            "    ___\n",
            "    {o,o}\n",
            "    |)__)\n",
            "    -″-″-\n",
            "    \n",
            "\n",
            "    ___\n",
            "    {o,o}\n",
            "    |)_(|\n",
            "    -″-″-\n",
            "    \n",
            "\n",
            "    ___\n",
            "    {o,o}\n",
            "    (__(|\n",
            "    -″-″-\n",
            "    \n",
            "\n",
            "    ___\n",
            "    {o,o}\n",
            "    |)__)\n",
            "    -″-″-\n",
            "    \n",
            "\n",
            "    ___\n",
            "    {o,o}\n",
            "    |)_(|\n",
            "    -″-″-\n",
            "    \n",
            "\n",
            "    ___\n",
            "    {o,o}\n",
            "    (__(|\n",
            "    -″-″-\n",
            "    \n",
            "\n",
            "    ___\n",
            "    {o,o}\n",
            "    |)__)\n",
            "    -″-″-\n",
            "    \n",
            "\n",
            "    ___\n",
            "    {o,o}\n",
            "    |)_(|\n",
            "    -″-″-\n",
            "    \n",
            "\n",
            "    ___\n",
            "    {o,o}\n",
            "    (__(|\n",
            "    -″-″-\n",
            "    \n",
            "\n",
            "    ___\n",
            "    {o,o}\n",
            "    |)__)\n",
            "    -″-″-\n",
            "    \n",
            "\n",
            "    ___\n",
            "    {o,o}\n",
            "    |)_(|\n",
            "    -″-″-\n",
            "    \n",
            "\n",
            "    ___\n",
            "    {o,o}\n",
            "    (__(|\n",
            "    -″-″-\n",
            "    \n",
            "\n",
            "    ___\n",
            "    {o,o}\n",
            "    |)__)\n",
            "    -″-″-\n",
            "    \n",
            "\n",
            "    ___\n",
            "    {o,o}\n",
            "    |)_(|\n",
            "    -″-″-\n",
            "    \n",
            "\n",
            "    ___\n",
            "    {o,o}\n",
            "    (__(|\n",
            "    -″-″-\n",
            "    \n",
            "\n",
            "    ___\n",
            "    {o,o}\n",
            "    |)__)\n",
            "    -″-″-\n",
            "    \n",
            "\n",
            "    ___\n",
            "    {o,o}\n",
            "    |)_(|\n",
            "    -″-″-\n",
            "    \n",
            "\n",
            "    ___\n",
            "    {o,o}\n",
            "    (__(|\n",
            "    -″-″-\n",
            "    \n",
            "\n",
            "    ___\n",
            "    {o,o}\n",
            "    |)__)\n",
            "    -″-″-\n",
            "    \n",
            "\n",
            "    ___\n",
            "    {o,o}\n",
            "    |)_(|\n",
            "    -″-″-\n",
            "    \n",
            "\n",
            "    ___\n",
            "    {o,o}\n",
            "    (__(|\n",
            "    -″-″-\n",
            "    \n",
            "\n",
            "    ___\n",
            "    {o,o}\n",
            "    |)__)\n",
            "    -″-″-\n",
            "    \n",
            "\n",
            "    ___\n",
            "    {o,o}\n",
            "    |)_(|\n",
            "    -″-″-\n",
            "    \n",
            "\n",
            "    ___\n",
            "    {o,o}\n",
            "    (__(|\n",
            "    -″-″-\n",
            "    \n"
          ],
          "name": "stdout"
        }
      ]
    },
    {
      "cell_type": "markdown",
      "metadata": {
        "id": "Fe9vYUBdFG1_",
        "colab_type": "text"
      },
      "source": [
        "### Intro 출력하기\n",
        "- print()를 이용하여 출력"
      ]
    },
    {
      "cell_type": "code",
      "metadata": {
        "id": "v_VdeaSpFG1_",
        "colab_type": "code",
        "colab": {},
        "outputId": "af936f24-ef3d-4451-a854-82941a55d74e"
      },
      "source": [
        "print ('You are in a land full of dragons.')\n",
        "print ('In front of you, you see two caves. ')\n",
        "print ('In one cave, the dragon is friendly, ')\n",
        "print (' and will share his treasure with you. ')\n",
        "print ('The other dragon is greedy and hungry, ')\n",
        "print ('and will eat you on sight. ')"
      ],
      "execution_count": 0,
      "outputs": [
        {
          "output_type": "stream",
          "text": [
            "You are in a land full of dragons.\n",
            "In front of you, you see two caves. \n",
            "In one cave, the dragon is friendly, \n",
            " and will share his treasure with you. \n",
            "The other dragon is greedy and hungry, \n",
            "and will eat you on sight. \n"
          ],
          "name": "stdout"
        }
      ]
    },
    {
      "cell_type": "markdown",
      "metadata": {
        "id": "GAlIC3T-FG2C",
        "colab_type": "text"
      },
      "source": [
        "### 으스스~효과를 주기\n",
        "- 맨 윗줄에 import time을 추가\n",
        "- 시간 지연을 넣고자 하는 곳에 time.sleep(1)을 추가"
      ]
    },
    {
      "cell_type": "code",
      "metadata": {
        "id": "oVIuTjTuFG2C",
        "colab_type": "code",
        "colab": {}
      },
      "source": [
        "import time\n",
        "\n",
        "print ('You are in a land full of dragons.')\n",
        "time.sleep(1)\n",
        "print ('In front of you, you see two caves. ')\n",
        "time.sleep(1)\n",
        "print ('In one cave, the dragon is friendly, ')\n",
        "time.sleep(1)\n",
        "print (' and will share his treasure with you. ')\n",
        "time.sleep(1)\n",
        "print ('The other dragon is greedy and hungry, ')\n",
        "time.sleep(1)\n",
        "print ('and will eat you on sight. ')"
      ],
      "execution_count": 0,
      "outputs": []
    },
    {
      "cell_type": "markdown",
      "metadata": {
        "id": "SMRAM-rNFG2D",
        "colab_type": "text"
      },
      "source": [
        "### 동굴번호 입력받기\n",
        "- 동굴번호를 입력받아 저장할 변수 : cave"
      ]
    },
    {
      "cell_type": "code",
      "metadata": {
        "id": "uCy1t_NLFG2D",
        "colab_type": "code",
        "colab": {},
        "outputId": "b398f4d5-2045-47e9-90f5-7eb588286695"
      },
      "source": [
        "cave = 0\n",
        "\n",
        "while cave != 1 and cave != 2:\n",
        "    cave = int(input('While cave will you go into? (1 or 2)'))"
      ],
      "execution_count": 0,
      "outputs": [
        {
          "output_type": "stream",
          "text": [
            "While cave will you go into? (1 or 2) 3\n",
            "While cave will you go into? (1 or 2) 1\n"
          ],
          "name": "stdin"
        }
      ]
    },
    {
      "cell_type": "markdown",
      "metadata": {
        "id": "b82v1k1CFG2E",
        "colab_type": "text"
      },
      "source": [
        "### 동굴번호 입력 후 메시지\n",
        "- 메시지를 출력하는 소스코드를 작성하세요.\n",
        "- 시간 지연을 넣고자 하는 곳에 time.sleep(1)을 추가하세요."
      ]
    },
    {
      "cell_type": "code",
      "metadata": {
        "id": "qgviGJpNFG2E",
        "colab_type": "code",
        "colab": {},
        "outputId": "ea3c74af-4fdc-4380-c878-d0f07a808a4f"
      },
      "source": [
        "cave = 0\n",
        "\n",
        "while cave != 1 and cave != 2:\n",
        "    cave = int(input('While cave will you go into? (1 or 2)'))\n",
        "\n",
        "    if cave == 1 or cave == 2:\n",
        "        print ('You are in a land full of dragons.')\n",
        "        time.sleep(1)\n",
        "        print ('In front of you, you see two caves. ')\n",
        "        time.sleep(1)\n",
        "        print ('In one cave, the dragon is friendly, ')\n",
        "        time.sleep(1)\n",
        "        print (' and will share his treasure with you. ')\n",
        "        time.sleep(1)\n",
        "        print ('The other dragon is greedy and hungry, ')\n",
        "        time.sleep(1)\n",
        "        print ('and will eat you on sight. ')"
      ],
      "execution_count": 0,
      "outputs": [
        {
          "output_type": "stream",
          "text": [
            "While cave will you go into? (1 or 2) 1\n"
          ],
          "name": "stdin"
        },
        {
          "output_type": "stream",
          "text": [
            "You are in a land full of dragons.\n",
            "In front of you, you see two caves. \n",
            "In one cave, the dragon is friendly, \n",
            " and will share his treasure with you. \n",
            "The other dragon is greedy and hungry, \n",
            "and will eat you on sight. \n"
          ],
          "name": "stdout"
        }
      ]
    },
    {
      "cell_type": "code",
      "metadata": {
        "id": "WVV7D_qJFG2F",
        "colab_type": "code",
        "colab": {},
        "outputId": "6939f57a-b9a5-4b87-92d6-8def0502e01d"
      },
      "source": [
        "import random\n",
        "\n",
        "friendlycave = random.randint(1,2) # 랜덤값 발생\n",
        "\n",
        "if friendlycave == int(cave):\n",
        "    print('Gives you his trasurre!')\n",
        "else:\n",
        "    print('Gobbles you down in one cave')"
      ],
      "execution_count": 0,
      "outputs": [
        {
          "output_type": "stream",
          "text": [
            "Gobbles you down in one cave\n"
          ],
          "name": "stdout"
        }
      ]
    },
    {
      "cell_type": "code",
      "metadata": {
        "id": "nSszqFb0FG2G",
        "colab_type": "code",
        "colab": {},
        "outputId": "20096e15-7ce6-4e77-d462-6e3fa00e2a46"
      },
      "source": [
        "# 게임 계속 여부 질문 넣기\n",
        "playagain = ''\n",
        "\n",
        "while playagain != 'n' and playagain != 'no':\n",
        "        print ('You are in a land full of dragons.')\n",
        "        time.sleep(1)\n",
        "        print ('In front of you, you see two caves. ')\n",
        "        time.sleep(1)\n",
        "        print ('In one cave, the dragon is friendly, ')\n",
        "        time.sleep(1)\n",
        "        print (' and will share his treasure with you. ')\n",
        "        time.sleep(1)\n",
        "        print ('The other dragon is greedy and hungry, ')\n",
        "        time.sleep(1)\n",
        "        print ('and will eat you on sight. ')\n",
        "        playagain = input('Do you want to play again? (y/n)')"
      ],
      "execution_count": 0,
      "outputs": [
        {
          "output_type": "stream",
          "text": [
            "You are in a land full of dragons.\n",
            "In front of you, you see two caves. \n",
            "In one cave, the dragon is friendly, \n",
            " and will share his treasure with you. \n",
            "The other dragon is greedy and hungry, \n",
            "and will eat you on sight. \n"
          ],
          "name": "stdout"
        },
        {
          "output_type": "stream",
          "text": [
            "Do you want to play again? (y/n) n\n"
          ],
          "name": "stdin"
        }
      ]
    },
    {
      "cell_type": "code",
      "metadata": {
        "id": "uluqmdiRFG2H",
        "colab_type": "code",
        "colab": {},
        "outputId": "9791110f-617c-4a4e-ea72-45dffc9c79da"
      },
      "source": [
        "# 게임 계속 여부 질문 넣기\n",
        "playagain = 'y'\n",
        "\n",
        "while playagain == 'yes' or playagain == 'y':\n",
        "        print ('You are in a land full of dragons.')\n",
        "        time.sleep(1)\n",
        "        print ('In front of you, you see two caves. ')\n",
        "        time.sleep(1)\n",
        "        print ('In one cave, the dragon is friendly, ')\n",
        "        time.sleep(1)\n",
        "        print (' and will share his treasure with you. ')\n",
        "        time.sleep(1)\n",
        "        print ('The other dragon is greedy and hungry, ')\n",
        "        time.sleep(1)\n",
        "        print ('and will eat you on sight. ')\n",
        "        playagain = input('Do you want to play again? (y/n)')"
      ],
      "execution_count": 0,
      "outputs": [
        {
          "output_type": "stream",
          "text": [
            "You are in a land full of dragons.\n",
            "In front of you, you see two caves. \n",
            "In one cave, the dragon is friendly, \n",
            " and will share his treasure with you. \n",
            "The other dragon is greedy and hungry, \n",
            "and will eat you on sight. \n"
          ],
          "name": "stdout"
        },
        {
          "output_type": "stream",
          "text": [
            "Do you want to play again? (y/n) n\n"
          ],
          "name": "stdin"
        }
      ]
    },
    {
      "cell_type": "code",
      "metadata": {
        "id": "3WUPW6kYFG2J",
        "colab_type": "code",
        "colab": {},
        "outputId": "cdb83752-0b31-4ace-f4dc-367f7677ba38"
      },
      "source": [
        "import random\n",
        "\n",
        "cave = 0\n",
        "\n",
        "while cave != 1 and cave != 2:\n",
        "    cave = int(input('While cave will you go into? (1 or 2)'))\n",
        "\n",
        "    if cave == 1 or cave == 2:\n",
        "        print ('You are in a land full of dragons.')\n",
        "        time.sleep(1)\n",
        "        print ('In front of you, you see two caves. ')\n",
        "        time.sleep(1)\n",
        "        print ('In one cave, the dragon is friendly, ')\n",
        "        time.sleep(1)\n",
        "        print (' and will share his treasure with you. ')\n",
        "        time.sleep(1)\n",
        "        print ('The other dragon is greedy and hungry, ')\n",
        "        time.sleep(1)\n",
        "        print ('and will eat you on sight. ')\n",
        "    \n",
        "    friendlycave = random.randint(1,2) # 랜덤값 발생\n",
        "\n",
        "    if friendlycave == int(cave):\n",
        "        print('Gives you his trasurre!')\n",
        "    else:\n",
        "        print('Gobbles you down in one cave')\n",
        "        \n",
        "    playagain = 'y'\n",
        "\n",
        "    while playagain == 'yes' or playagain == 'y':\n",
        "            print ('You are in a land full of dragons.')\n",
        "            time.sleep(1)\n",
        "            print ('In front of you, you see two caves. ')\n",
        "            time.sleep(1)\n",
        "            print ('In one cave, the dragon is friendly, ')\n",
        "            time.sleep(1)\n",
        "            print (' and will share his treasure with you. ')\n",
        "            time.sleep(1)\n",
        "            print ('The other dragon is greedy and hungry, ')\n",
        "            time.sleep(1)\n",
        "            print ('and will eat you on sight. ')\n",
        "            playagain = input('Do you want to play again? (y/n)')"
      ],
      "execution_count": 0,
      "outputs": [
        {
          "output_type": "stream",
          "text": [
            "While cave will you go into? (1 or 2) 2\n"
          ],
          "name": "stdin"
        },
        {
          "output_type": "stream",
          "text": [
            "You are in a land full of dragons.\n",
            "In front of you, you see two caves. \n",
            "In one cave, the dragon is friendly, \n",
            " and will share his treasure with you. \n",
            "The other dragon is greedy and hungry, \n",
            "and will eat you on sight. \n",
            "Gobbles you down in one cave\n",
            "You are in a land full of dragons.\n",
            "In front of you, you see two caves. \n",
            "In one cave, the dragon is friendly, \n",
            " and will share his treasure with you. \n",
            "The other dragon is greedy and hungry, \n",
            "and will eat you on sight. \n"
          ],
          "name": "stdout"
        },
        {
          "output_type": "stream",
          "text": [
            "Do you want to play again? (y/n) n\n"
          ],
          "name": "stdin"
        }
      ]
    }
  ]
}