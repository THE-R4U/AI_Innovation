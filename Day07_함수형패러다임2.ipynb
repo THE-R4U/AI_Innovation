{
  "nbformat": 4,
  "nbformat_minor": 0,
  "metadata": {
    "colab": {
      "name": "Day07_함수형패러다임2.ipynb",
      "version": "0.3.2",
      "provenance": [],
      "include_colab_link": true
    },
    "language_info": {
      "codemirror_mode": {
        "name": "ipython",
        "version": 3
      },
      "file_extension": ".py",
      "mimetype": "text/x-python",
      "name": "python",
      "nbconvert_exporter": "python",
      "pygments_lexer": "ipython3",
      "version": "3.7.3"
    },
    "kernelspec": {
      "display_name": "Python 3",
      "language": "python",
      "name": "python3"
    }
  },
  "cells": [
    {
      "cell_type": "markdown",
      "metadata": {
        "id": "view-in-github",
        "colab_type": "text"
      },
      "source": [
        "<a href=\"https://colab.research.google.com/github/THE-R4U/AI_Innovation/blob/master/Day07_%E1%84%92%E1%85%A1%E1%86%B7%E1%84%89%E1%85%AE%E1%84%92%E1%85%A7%E1%86%BC%E1%84%91%E1%85%A2%E1%84%85%E1%85%A5%E1%84%83%E1%85%A1%E1%84%8B%E1%85%B5%E1%86%B72.ipynb\" target=\"_parent\"><img src=\"https://colab.research.google.com/assets/colab-badge.svg\" alt=\"Open In Colab\"/></a>"
      ]
    },
    {
      "cell_type": "markdown",
      "metadata": {
        "id": "yF8UPKKSpokO",
        "colab_type": "text"
      },
      "source": [
        "# 함수형 패러다임 II (전준헌 강사)"
      ]
    },
    {
      "cell_type": "code",
      "metadata": {
        "id": "DcIM6qWSpokP",
        "colab_type": "code",
        "colab": {}
      },
      "source": [
        "def wow(text):\n",
        "    return text.upper()"
      ],
      "execution_count": 0,
      "outputs": []
    },
    {
      "cell_type": "code",
      "metadata": {
        "id": "Qj6kMDD6pokS",
        "colab_type": "code",
        "colab": {}
      },
      "source": [
        "oh = wow"
      ],
      "execution_count": 0,
      "outputs": []
    },
    {
      "cell_type": "code",
      "metadata": {
        "id": "fF2t0biTpokU",
        "colab_type": "code",
        "colab": {}
      },
      "source": [
        "def greet(func):\n",
        "    greeting = func('i love python')\n",
        "    print(greeting)"
      ],
      "execution_count": 0,
      "outputs": []
    },
    {
      "cell_type": "code",
      "metadata": {
        "id": "DbgLUKBqpokW",
        "colab_type": "code",
        "colab": {},
        "outputId": "fddb260f-022c-49da-d749-44533f671200"
      },
      "source": [
        "greet(oh)"
      ],
      "execution_count": 0,
      "outputs": [
        {
          "output_type": "stream",
          "text": [
            "I LOVE PYTHON\n"
          ],
          "name": "stdout"
        }
      ]
    },
    {
      "cell_type": "markdown",
      "metadata": {
        "id": "zBtIrdbMpoka",
        "colab_type": "text"
      },
      "source": [
        "## map(f, iterable 자료형) : iterable 자료에서 꺼내서 f라는 함수 호출"
      ]
    },
    {
      "cell_type": "code",
      "metadata": {
        "id": "oVwTc-o2pokb",
        "colab_type": "code",
        "colab": {},
        "outputId": "b93d6e0d-6ef9-4ee3-84ca-0da1b42290f4"
      },
      "source": [
        "list(map(oh,['hi', 'hello', 'welcome']))"
      ],
      "execution_count": 0,
      "outputs": [
        {
          "output_type": "execute_result",
          "data": {
            "text/plain": [
              "['HI', 'HELLO', 'WELCOME']"
            ]
          },
          "metadata": {
            "tags": []
          },
          "execution_count": 10
        }
      ]
    },
    {
      "cell_type": "code",
      "metadata": {
        "id": "os_CMif2poke",
        "colab_type": "code",
        "colab": {},
        "outputId": "30bdc55b-1105-41c4-b2b9-e1514faf0def"
      },
      "source": [
        "# lambda 함수와 map을 사용하여 한줄로 [1,2,3]의 제곱을 구하는 코드를 작성\n",
        "\n",
        "list(map(lambda x : x**2, [1,2,3]))"
      ],
      "execution_count": 0,
      "outputs": [
        {
          "output_type": "execute_result",
          "data": {
            "text/plain": [
              "[1, 4, 9]"
            ]
          },
          "metadata": {
            "tags": []
          },
          "execution_count": 16
        }
      ]
    },
    {
      "cell_type": "markdown",
      "metadata": {
        "id": "9_GgSV6hpokh",
        "colab_type": "text"
      },
      "source": [
        "## reducce(f, interable)\n",
        "- reduce(함수, 순서형 자료) #순서형 자료(리스트, 튜플, 문자열)\n",
        "- 두개의 매개변수를 받아야 한다\n",
        "- from functools import reduce를 선언해야 한다"
      ]
    },
    {
      "cell_type": "code",
      "metadata": {
        "id": "h-s_NitVpokh",
        "colab_type": "code",
        "colab": {}
      },
      "source": [
        "from functools import reduce"
      ],
      "execution_count": 0,
      "outputs": []
    },
    {
      "cell_type": "code",
      "metadata": {
        "id": "tUFCjGlxpokk",
        "colab_type": "code",
        "colab": {},
        "outputId": "e0b998a2-8cf1-4b25-83b9-89379155f082"
      },
      "source": [
        "reduce(lambda x,y:x+y, [1,2,3,4])"
      ],
      "execution_count": 0,
      "outputs": [
        {
          "output_type": "execute_result",
          "data": {
            "text/plain": [
              "10"
            ]
          },
          "metadata": {
            "tags": []
          },
          "execution_count": 18
        }
      ]
    },
    {
      "cell_type": "code",
      "metadata": {
        "id": "JErC9P7kpokm",
        "colab_type": "code",
        "colab": {},
        "outputId": "9a266f36-bcc2-4218-b90b-cbac7278b82c"
      },
      "source": [
        "reduce(lambda x,y:y+x, 'abcd')"
      ],
      "execution_count": 0,
      "outputs": [
        {
          "output_type": "execute_result",
          "data": {
            "text/plain": [
              "'dcba'"
            ]
          },
          "metadata": {
            "tags": []
          },
          "execution_count": 19
        }
      ]
    },
    {
      "cell_type": "markdown",
      "metadata": {
        "id": "xCCcLcZZpokp",
        "colab_type": "text"
      },
      "source": [
        "## filter(함수, 리스트)\n",
        "- filter 함수는 built-in 함수로 list 나 dictionary 같은 iterable 한 데이터를 특정 조건에 일치하는 값만 추출해 낼때 사용하는 함수이다."
      ]
    },
    {
      "cell_type": "code",
      "metadata": {
        "id": "RiGwvabspokp",
        "colab_type": "code",
        "colab": {},
        "outputId": "972c549c-af00-4a00-c53d-a985a3eff213"
      },
      "source": [
        "# 5보다 작은 숫자 출력\n",
        "list(filter(lambda x:x<5, range(10)))"
      ],
      "execution_count": 0,
      "outputs": [
        {
          "output_type": "execute_result",
          "data": {
            "text/plain": [
              "[0, 1, 2, 3, 4]"
            ]
          },
          "metadata": {
            "tags": []
          },
          "execution_count": 24
        }
      ]
    },
    {
      "cell_type": "code",
      "metadata": {
        "id": "QEeDKMKmpoks",
        "colab_type": "code",
        "colab": {},
        "outputId": "d221761f-ee43-4ad0-f144-44ded61ed886"
      },
      "source": [
        "# 5보다 큰 숫자 출력\n",
        "list(filter(lambda x:x>5, range(10)))"
      ],
      "execution_count": 0,
      "outputs": [
        {
          "output_type": "execute_result",
          "data": {
            "text/plain": [
              "[6, 7, 8, 9]"
            ]
          },
          "metadata": {
            "tags": []
          },
          "execution_count": 25
        }
      ]
    },
    {
      "cell_type": "code",
      "metadata": {
        "id": "0h61yBtYpoku",
        "colab_type": "code",
        "colab": {},
        "outputId": "d2f58d52-9b65-4066-d907-100b0a87fcce"
      },
      "source": [
        "# 홀수만 출력\n",
        "list(filter(lambda x:x%2 == 1, range(10)))"
      ],
      "execution_count": 0,
      "outputs": [
        {
          "output_type": "execute_result",
          "data": {
            "text/plain": [
              "[1, 3, 5, 7, 9]"
            ]
          },
          "metadata": {
            "tags": []
          },
          "execution_count": 3
        }
      ]
    },
    {
      "cell_type": "code",
      "metadata": {
        "id": "-L3U888Gpokx",
        "colab_type": "code",
        "colab": {},
        "outputId": "90a341ae-11f7-48d9-ec89-75ced98e0d7f"
      },
      "source": [
        "list(filter(lambda x:x%2, range(10)))"
      ],
      "execution_count": 0,
      "outputs": [
        {
          "output_type": "execute_result",
          "data": {
            "text/plain": [
              "[1, 3, 5, 7, 9]"
            ]
          },
          "metadata": {
            "tags": []
          },
          "execution_count": 4
        }
      ]
    },
    {
      "cell_type": "markdown",
      "metadata": {
        "id": "FYjlSeHCpok0",
        "colab_type": "text"
      },
      "source": [
        "## 함수 속에 함수 (내부함수)\n",
        "- 상위함수에서 받은 text 변수에 접근하는 행동을 하는 함수 클로저 라고 한다\n",
        "- 함수 내에는 다른 함수가 존재할 수 있고, 이런 내부 함수는 상위 변수값을 가질 수 있다\n",
        "- 중첩함수라고도 한다\n",
        "- 상위함수의 매겨변수를 내부 함수에서도 사용 가능"
      ]
    },
    {
      "cell_type": "code",
      "metadata": {
        "id": "AnXg5N_Zpok0",
        "colab_type": "code",
        "colab": {}
      },
      "source": [
        "def speak(text):\n",
        "    def wow(t): # 내부(중첩) 함수\n",
        "        return t.lower()\n",
        "    return wow(text)"
      ],
      "execution_count": 0,
      "outputs": []
    },
    {
      "cell_type": "code",
      "metadata": {
        "id": "NeJhunVipok3",
        "colab_type": "code",
        "colab": {},
        "outputId": "c2a5c25b-e737-4666-96af-85efd1205a49"
      },
      "source": [
        "speak('THDF')"
      ],
      "execution_count": 0,
      "outputs": [
        {
          "output_type": "execute_result",
          "data": {
            "text/plain": [
              "'thdf'"
            ]
          },
          "metadata": {
            "tags": []
          },
          "execution_count": 16
        }
      ]
    },
    {
      "cell_type": "code",
      "metadata": {
        "id": "oX95pyClpok6",
        "colab_type": "code",
        "colab": {}
      },
      "source": [
        "def get_speak_wow(volume):\n",
        "    def wow(text):\n",
        "        return text.lower()\n",
        "    def oh(text):\n",
        "        return text.upper()\n",
        "    if volume > 0.5:\n",
        "        return oh\n",
        "    else:\n",
        "        return wow"
      ],
      "execution_count": 0,
      "outputs": []
    },
    {
      "cell_type": "code",
      "metadata": {
        "id": "18d4Vx84pok8",
        "colab_type": "code",
        "colab": {}
      },
      "source": [
        "speak_func = get_speak_wow(0.8)"
      ],
      "execution_count": 0,
      "outputs": []
    },
    {
      "cell_type": "code",
      "metadata": {
        "id": "rp-3G3C6pok_",
        "colab_type": "code",
        "colab": {},
        "outputId": "3b7a1b16-ee2a-45e8-cd7f-b6670ed1cd16"
      },
      "source": [
        "speak_func('hello')"
      ],
      "execution_count": 0,
      "outputs": [
        {
          "output_type": "execute_result",
          "data": {
            "text/plain": [
              "'HELLO'"
            ]
          },
          "metadata": {
            "tags": []
          },
          "execution_count": 24
        }
      ]
    },
    {
      "cell_type": "code",
      "metadata": {
        "id": "Hz1_UwZkpolC",
        "colab_type": "code",
        "colab": {}
      },
      "source": [
        "def get_speak_wow(text, volume):\n",
        "    def wow():\n",
        "        return text.lower()\n",
        "    def oh():\n",
        "        return text.upper()\n",
        "    if volume > 0.5:\n",
        "        return oh\n",
        "    else:\n",
        "        return wow"
      ],
      "execution_count": 0,
      "outputs": []
    },
    {
      "cell_type": "code",
      "metadata": {
        "id": "5DUJyZexpolF",
        "colab_type": "code",
        "colab": {},
        "outputId": "8f2ddabc-fc7c-4f1c-f69a-02ba4d2bd9f5"
      },
      "source": [
        "get_speak_wow('hello wordl', 0.7)()"
      ],
      "execution_count": 0,
      "outputs": [
        {
          "output_type": "execute_result",
          "data": {
            "text/plain": [
              "'HELLO WORDL'"
            ]
          },
          "metadata": {
            "tags": []
          },
          "execution_count": 34
        }
      ]
    },
    {
      "cell_type": "code",
      "metadata": {
        "id": "UUyzgdqCpolI",
        "colab_type": "code",
        "colab": {}
      },
      "source": [
        "# 내부 함수를 사용하여 덧셈, 뺄셈, 곱셈, 나눗셈을 수행하는 함수를 작성하시오\n",
        "\n",
        "def math_func1(x,y,op):\n",
        "    def add_():\n",
        "        return x+y\n",
        "    def sub_():\n",
        "        return x-y\n",
        "    def mul_():\n",
        "        return x*y\n",
        "    def div_():\n",
        "        return x/y\n",
        "    op_func = {'+':add_,'-':sub_,'*':mul_,'/':div_}.get(op)\n",
        "    return op_func()"
      ],
      "execution_count": 0,
      "outputs": []
    },
    {
      "cell_type": "code",
      "metadata": {
        "id": "La-22SNApolL",
        "colab_type": "code",
        "colab": {},
        "outputId": "5ddb285c-523c-42ca-b692-fa8a7d001fed"
      },
      "source": [
        "math_func1(5,7,'-')"
      ],
      "execution_count": 0,
      "outputs": [
        {
          "output_type": "execute_result",
          "data": {
            "text/plain": [
              "-2"
            ]
          },
          "metadata": {
            "tags": []
          },
          "execution_count": 42
        }
      ]
    },
    {
      "cell_type": "code",
      "metadata": {
        "id": "_699dPx9polN",
        "colab_type": "code",
        "colab": {},
        "outputId": "dda34836-fa3d-484e-8b07-4797902c9158"
      },
      "source": [
        "math_func1(8,6,'/')"
      ],
      "execution_count": 0,
      "outputs": [
        {
          "output_type": "execute_result",
          "data": {
            "text/plain": [
              "1.3333333333333333"
            ]
          },
          "metadata": {
            "tags": []
          },
          "execution_count": 43
        }
      ]
    },
    {
      "cell_type": "code",
      "metadata": {
        "id": "avVuPn6WpolP",
        "colab_type": "code",
        "colab": {}
      },
      "source": [
        "# 내부 함수를 사용하여 덧셈, 뺄셈, 곱셈, 나눗셈을 수행하는 함수를 작성하시오.(클로저)\n",
        "\n",
        "def math_func2(x,op):\n",
        "    def add_(y):\n",
        "        return x+y\n",
        "    def sub_(y):\n",
        "        return x-y\n",
        "    def mul_(y):\n",
        "        return x*y\n",
        "    def div_(y):\n",
        "        return x/y\n",
        "    op_func = {'+':add_,'-':sub_,'*':mul_,'/':div_}.get(op)\n",
        "    return op_func"
      ],
      "execution_count": 0,
      "outputs": []
    },
    {
      "cell_type": "code",
      "metadata": {
        "id": "iAkqDg09polR",
        "colab_type": "code",
        "colab": {},
        "outputId": "43d03cf2-2213-4634-a7c1-8388d39989e8"
      },
      "source": [
        "sub = math_func2(3,'-')\n",
        "print(sub(3))"
      ],
      "execution_count": 0,
      "outputs": [
        {
          "output_type": "stream",
          "text": [
            "0\n"
          ],
          "name": "stdout"
        }
      ]
    },
    {
      "cell_type": "markdown",
      "metadata": {
        "id": "BBzJEs_WpolU",
        "colab_type": "text"
      },
      "source": [
        "## map 함수 복습\n",
        "- 필요할 때 가져다 쓴다.\n",
        "- iterator 객체\n",
        "    - next() 메소드로 데이터를 순차적으로 호출 가능한 객체\n",
        "    - 마지막 데이터까지 불러 오면 다음은 stopiteration exception 발생\n",
        "    - iterable 한 객체를 iterator로 변환하고 싶다면, iter() 내장 함수 사용\n",
        "    - for 문으로 looping 하는 동안, python 내부에서는 임시로 list를 iteration로 자동 변환"
      ]
    },
    {
      "cell_type": "code",
      "metadata": {
        "id": "9b5DYwPIpolU",
        "colab_type": "code",
        "colab": {}
      },
      "source": [
        "lst = [1,2,3]"
      ],
      "execution_count": 0,
      "outputs": []
    },
    {
      "cell_type": "code",
      "metadata": {
        "id": "NxDS-yR2polW",
        "colab_type": "code",
        "colab": {}
      },
      "source": [
        "result = map(lambda i:i**2, lst)"
      ],
      "execution_count": 0,
      "outputs": []
    },
    {
      "cell_type": "code",
      "metadata": {
        "id": "YZvF-QkhpolY",
        "colab_type": "code",
        "colab": {},
        "outputId": "6bbcff6f-3a63-4c27-d249-9db5255329fd"
      },
      "source": [
        "next(result)"
      ],
      "execution_count": 0,
      "outputs": [
        {
          "output_type": "execute_result",
          "data": {
            "text/plain": [
              "1"
            ]
          },
          "metadata": {
            "tags": []
          },
          "execution_count": 50
        }
      ]
    },
    {
      "cell_type": "code",
      "metadata": {
        "id": "pDMoEKR8pola",
        "colab_type": "code",
        "colab": {},
        "outputId": "de447ca5-26fa-45b9-a6e0-bd6db7c16578"
      },
      "source": [
        "next(result)"
      ],
      "execution_count": 0,
      "outputs": [
        {
          "output_type": "execute_result",
          "data": {
            "text/plain": [
              "4"
            ]
          },
          "metadata": {
            "tags": []
          },
          "execution_count": 51
        }
      ]
    },
    {
      "cell_type": "code",
      "metadata": {
        "id": "nSpRh2ydpolc",
        "colab_type": "code",
        "colab": {},
        "outputId": "e684287d-edb6-40b1-e4cc-4fe3fcb66e4d"
      },
      "source": [
        "next(result)"
      ],
      "execution_count": 0,
      "outputs": [
        {
          "output_type": "execute_result",
          "data": {
            "text/plain": [
              "9"
            ]
          },
          "metadata": {
            "tags": []
          },
          "execution_count": 52
        }
      ]
    },
    {
      "cell_type": "markdown",
      "metadata": {
        "id": "UfJsWWtqpole",
        "colab_type": "text"
      },
      "source": [
        "### iterable 객체\n",
        "- 필요할 때 사용가능\n",
        "- 반복(순환) 가능한 객체\n",
        "- 대표적 iterable 한 타입: list, dict, set, tupple\n",
        "- 반복자(iterator)\n",
        "    - iter()와 next() 함수 필요\n",
        "    - 함수 iter(): 반복 가능한 데이터를 입력 받아 iterator를 반환\n",
        "    - 함수 next(): iterator를 입력 받아 다음 출력 값을 반환\n",
        "    \n",
        "- 이런식으로 값 생성하는 iterator를 생성기(generator)라고 함"
      ]
    },
    {
      "cell_type": "code",
      "metadata": {
        "id": "llA3VY-Npole",
        "colab_type": "code",
        "colab": {}
      },
      "source": [
        "def abc():\n",
        "    '''a,b,c를 출력하는 생성기'''\n",
        "    yield 'a'\n",
        "    yield 'b'\n",
        "    yield 'c'"
      ],
      "execution_count": 0,
      "outputs": []
    },
    {
      "cell_type": "code",
      "metadata": {
        "id": "BYFB6zD9polg",
        "colab_type": "code",
        "colab": {},
        "outputId": "1e6aee35-0fac-4700-84d5-5add566a5a05"
      },
      "source": [
        "abc() # 생성기 만들기"
      ],
      "execution_count": 0,
      "outputs": [
        {
          "output_type": "execute_result",
          "data": {
            "text/plain": [
              "<generator object abc at 0x104f65660>"
            ]
          },
          "metadata": {
            "tags": []
          },
          "execution_count": 54
        }
      ]
    },
    {
      "cell_type": "markdown",
      "metadata": {
        "id": "8Wn4AGe0poli",
        "colab_type": "text"
      },
      "source": [
        "- 함수 abc()의 정의, 함수 자체는 genrator가 아니라 함수\n",
        "- Generator는"
      ]
    },
    {
      "cell_type": "code",
      "metadata": {
        "id": "4G6coVaspolj",
        "colab_type": "code",
        "colab": {}
      },
      "source": [
        "abc_generator = abc() # 생성기 만들기"
      ],
      "execution_count": 0,
      "outputs": []
    },
    {
      "cell_type": "code",
      "metadata": {
        "id": "gExbqSvZpoll",
        "colab_type": "code",
        "colab": {},
        "outputId": "573a323e-8774-4167-fafa-f32461bc8a1c"
      },
      "source": [
        "next(abc_generator)"
      ],
      "execution_count": 0,
      "outputs": [
        {
          "output_type": "execute_result",
          "data": {
            "text/plain": [
              "'a'"
            ]
          },
          "metadata": {
            "tags": []
          },
          "execution_count": 56
        }
      ]
    },
    {
      "cell_type": "code",
      "metadata": {
        "id": "bf_ZJG_Rpoln",
        "colab_type": "code",
        "colab": {},
        "outputId": "62c2484d-643b-4528-957e-509fbcb03b0b"
      },
      "source": [
        "next(abc_generator)"
      ],
      "execution_count": 0,
      "outputs": [
        {
          "output_type": "execute_result",
          "data": {
            "text/plain": [
              "'b'"
            ]
          },
          "metadata": {
            "tags": []
          },
          "execution_count": 57
        }
      ]
    },
    {
      "cell_type": "code",
      "metadata": {
        "id": "DzpQNKDbpolp",
        "colab_type": "code",
        "colab": {},
        "outputId": "57a52b6f-6d17-46df-dcff-ece8a1468754"
      },
      "source": [
        "next(abc_generator)"
      ],
      "execution_count": 0,
      "outputs": [
        {
          "output_type": "execute_result",
          "data": {
            "text/plain": [
              "'c'"
            ]
          },
          "metadata": {
            "tags": []
          },
          "execution_count": 58
        }
      ]
    },
    {
      "cell_type": "code",
      "metadata": {
        "id": "knT5ArUHpolr",
        "colab_type": "code",
        "colab": {},
        "outputId": "12ef0257-bb0b-42cd-c4c4-f48039f5f96a"
      },
      "source": [
        "next(abc_generator) # 더 구할 요소가 없으면 오류 발생"
      ],
      "execution_count": 0,
      "outputs": [
        {
          "output_type": "error",
          "ename": "StopIteration",
          "evalue": "",
          "traceback": [
            "\u001b[0;31m---------------------------------------------------------------------------\u001b[0m",
            "\u001b[0;31mStopIteration\u001b[0m                             Traceback (most recent call last)",
            "\u001b[0;32m<ipython-input-60-af23aee78c41>\u001b[0m in \u001b[0;36m<module>\u001b[0;34m\u001b[0m\n\u001b[0;32m----> 1\u001b[0;31m \u001b[0mnext\u001b[0m\u001b[0;34m(\u001b[0m\u001b[0mabc_generator\u001b[0m\u001b[0;34m)\u001b[0m \u001b[0;31m# 더 구할 요소가 없으면 오류 발생\u001b[0m\u001b[0;34m\u001b[0m\u001b[0;34m\u001b[0m\u001b[0m\n\u001b[0m",
            "\u001b[0;31mStopIteration\u001b[0m: "
          ]
        }
      ]
    },
    {
      "cell_type": "code",
      "metadata": {
        "id": "y_dfoJYIpols",
        "colab_type": "code",
        "colab": {}
      },
      "source": [
        "def ont_to_three():\n",
        "    '''1 2 3을 반환하는 함수'''\n",
        "    print('생성기가 1을 출력')\n",
        "    yield 1\n",
        "    print('생성기가 2를 출력')\n",
        "    yield 2\n",
        "    print('생성기가 3을 출력')\n",
        "    yield 3\n",
        "    "
      ],
      "execution_count": 0,
      "outputs": []
    },
    {
      "cell_type": "code",
      "metadata": {
        "id": "zLQnmdVwpolv",
        "colab_type": "code",
        "colab": {}
      },
      "source": [
        "one_to_three_generator = ont_to_three()"
      ],
      "execution_count": 0,
      "outputs": []
    },
    {
      "cell_type": "code",
      "metadata": {
        "id": "8Q2TkAMwpolx",
        "colab_type": "code",
        "colab": {},
        "outputId": "4ac63808-58f2-45e1-dc4a-6b85c5f5f9b3"
      },
      "source": [
        "next(one_to_three_generator)"
      ],
      "execution_count": 0,
      "outputs": [
        {
          "output_type": "stream",
          "text": [
            "생성기가 1을 출력\n"
          ],
          "name": "stdout"
        },
        {
          "output_type": "execute_result",
          "data": {
            "text/plain": [
              "1"
            ]
          },
          "metadata": {
            "tags": []
          },
          "execution_count": 71
        }
      ]
    },
    {
      "cell_type": "code",
      "metadata": {
        "id": "TsEMBo_vpol0",
        "colab_type": "code",
        "colab": {},
        "outputId": "bc80fa48-76d2-4270-9976-798ef93f9dd5"
      },
      "source": [
        "next(one_to_three_generator)"
      ],
      "execution_count": 0,
      "outputs": [
        {
          "output_type": "stream",
          "text": [
            "생성기가 2를 출력\n"
          ],
          "name": "stdout"
        },
        {
          "output_type": "execute_result",
          "data": {
            "text/plain": [
              "2"
            ]
          },
          "metadata": {
            "tags": []
          },
          "execution_count": 72
        }
      ]
    },
    {
      "cell_type": "code",
      "metadata": {
        "id": "5ljNby6Fpol3",
        "colab_type": "code",
        "colab": {},
        "outputId": "e69398a0-e218-4232-e679-2748c85f0cbd"
      },
      "source": [
        "next(one_to_three_generator)"
      ],
      "execution_count": 0,
      "outputs": [
        {
          "output_type": "stream",
          "text": [
            "생성기가 3을 출력\n"
          ],
          "name": "stdout"
        },
        {
          "output_type": "execute_result",
          "data": {
            "text/plain": [
              "3"
            ]
          },
          "metadata": {
            "tags": []
          },
          "execution_count": 73
        }
      ]
    },
    {
      "cell_type": "code",
      "metadata": {
        "id": "knRJ3-ohpol5",
        "colab_type": "code",
        "colab": {},
        "outputId": "93ae08ec-3c36-4f2e-a436-1b39f5d27bd3"
      },
      "source": [
        "next(one_to_three_generator)"
      ],
      "execution_count": 0,
      "outputs": [
        {
          "output_type": "error",
          "ename": "StopIteration",
          "evalue": "",
          "traceback": [
            "\u001b[0;31m---------------------------------------------------------------------------\u001b[0m",
            "\u001b[0;31mStopIteration\u001b[0m                             Traceback (most recent call last)",
            "\u001b[0;32m<ipython-input-74-496bb88718bf>\u001b[0m in \u001b[0;36m<module>\u001b[0;34m\u001b[0m\n\u001b[0;32m----> 1\u001b[0;31m \u001b[0mnext\u001b[0m\u001b[0;34m(\u001b[0m\u001b[0mone_to_three_generator\u001b[0m\u001b[0;34m)\u001b[0m\u001b[0;34m\u001b[0m\u001b[0;34m\u001b[0m\u001b[0m\n\u001b[0m",
            "\u001b[0;31mStopIteration\u001b[0m: "
          ]
        }
      ]
    },
    {
      "cell_type": "markdown",
      "metadata": {
        "id": "voU-UgNnpol7",
        "colab_type": "text"
      },
      "source": [
        "### generator는 어디에 활용할까?"
      ]
    },
    {
      "cell_type": "code",
      "metadata": {
        "id": "15SDp13Kpol7",
        "colab_type": "code",
        "colab": {}
      },
      "source": [
        "def one_to_infinite():\n",
        "    '''1 - 무한대의 자연수대로 나오는 생성기'''\n",
        "    n = 1\n",
        "    while True:\n",
        "        yield n\n",
        "        n += 1"
      ],
      "execution_count": 0,
      "outputs": []
    },
    {
      "cell_type": "code",
      "metadata": {
        "id": "Vwxg8ViXpol-",
        "colab_type": "code",
        "colab": {}
      },
      "source": [
        "natural_number = one_to_infinite()"
      ],
      "execution_count": 0,
      "outputs": []
    },
    {
      "cell_type": "code",
      "metadata": {
        "id": "KFPL8ybhpol_",
        "colab_type": "code",
        "colab": {},
        "outputId": "0e7325da-7ff3-4a71-b739-9f453b40fb7b"
      },
      "source": [
        "next(natural_number)"
      ],
      "execution_count": 0,
      "outputs": [
        {
          "output_type": "execute_result",
          "data": {
            "text/plain": [
              "1"
            ]
          },
          "metadata": {
            "tags": []
          },
          "execution_count": 64
        }
      ]
    },
    {
      "cell_type": "code",
      "metadata": {
        "id": "VhqanYLLpomD",
        "colab_type": "code",
        "colab": {},
        "outputId": "fab3bd7b-23b5-4b2a-d97c-22ea46614886"
      },
      "source": [
        "next(natural_number)"
      ],
      "execution_count": 0,
      "outputs": [
        {
          "output_type": "execute_result",
          "data": {
            "text/plain": [
              "2"
            ]
          },
          "metadata": {
            "tags": []
          },
          "execution_count": 65
        }
      ]
    },
    {
      "cell_type": "code",
      "metadata": {
        "id": "2Lr5Pu3ppomF",
        "colab_type": "code",
        "colab": {},
        "outputId": "7fea6fae-0032-4bd8-d320-c28a1f1f45fc"
      },
      "source": [
        "next(natural_number)"
      ],
      "execution_count": 0,
      "outputs": [
        {
          "output_type": "execute_result",
          "data": {
            "text/plain": [
              "3"
            ]
          },
          "metadata": {
            "tags": []
          },
          "execution_count": 66
        }
      ]
    },
    {
      "cell_type": "code",
      "metadata": {
        "id": "F5VqfjxGpomI",
        "colab_type": "code",
        "colab": {},
        "outputId": "275305ed-6a67-4d82-829f-138119a34e4d"
      },
      "source": [
        "next(natural_number)"
      ],
      "execution_count": 0,
      "outputs": [
        {
          "output_type": "execute_result",
          "data": {
            "text/plain": [
              "4"
            ]
          },
          "metadata": {
            "tags": []
          },
          "execution_count": 67
        }
      ]
    },
    {
      "cell_type": "code",
      "metadata": {
        "id": "byz6gV60pomL",
        "colab_type": "code",
        "colab": {}
      },
      "source": [
        "# generator를 사용하여 리스트와 튜플로 변환하기\n",
        "\n",
        "def countdown(start, end):\n",
        "    '''start(포함)부터 end(포함) 까지 꺼꾸로 세는 생성기'''\n",
        "    n = start\n",
        "    while end < 0:\n",
        "        yield n\n",
        "        n += 1"
      ],
      "execution_count": 0,
      "outputs": []
    },
    {
      "cell_type": "code",
      "metadata": {
        "id": "lzPI3P9BpomN",
        "colab_type": "code",
        "colab": {},
        "outputId": "5f9b6637-3bd4-4f9a-d870-797f677ffe87"
      },
      "source": [
        "list(countdown(10,0))"
      ],
      "execution_count": 0,
      "outputs": [
        {
          "output_type": "execute_result",
          "data": {
            "text/plain": [
              "[]"
            ]
          },
          "metadata": {
            "tags": []
          },
          "execution_count": 81
        }
      ]
    },
    {
      "cell_type": "code",
      "metadata": {
        "id": "GSGrOvnopomO",
        "colab_type": "code",
        "colab": {},
        "outputId": "403318dc-1433-4c21-b9b4-e6302d669db2"
      },
      "source": [
        "# 1 ~ 45까지 랜덤한 값을 리스트로 출력\n",
        "\n",
        "import random\n",
        "\n",
        "rlist = []\n",
        "for x in range(5):\n",
        "    rlist.append(random.randint(1,45))\n",
        "print(rlist)"
      ],
      "execution_count": 0,
      "outputs": [
        {
          "output_type": "stream",
          "text": [
            "[22, 27, 29, 20, 45]\n"
          ],
          "name": "stdout"
        }
      ]
    },
    {
      "cell_type": "code",
      "metadata": {
        "id": "D7lJeHffpomT",
        "colab_type": "code",
        "colab": {},
        "outputId": "0159ca9d-5e81-40bd-8d90-d8f21d4dcf69"
      },
      "source": [
        "[random.randint(1,45) for x in range(5)]  # 리스트조건제시법\n",
        "\n",
        "# 리스트 존건 제법\n",
        "# [연산 for 변수 in 컬렉션]"
      ],
      "execution_count": 0,
      "outputs": [
        {
          "output_type": "execute_result",
          "data": {
            "text/plain": [
              "[12, 21, 9, 30, 43]"
            ]
          },
          "metadata": {
            "tags": []
          },
          "execution_count": 86
        }
      ]
    },
    {
      "cell_type": "code",
      "metadata": {
        "id": "2koR6AblpomV",
        "colab_type": "code",
        "colab": {},
        "outputId": "aeb81813-caa5-4aba-efb5-e6acaeb23a4f"
      },
      "source": [
        "(x**2 for x in range(5))"
      ],
      "execution_count": 0,
      "outputs": [
        {
          "output_type": "execute_result",
          "data": {
            "text/plain": [
              "<generator object <genexpr> at 0x104f76f48>"
            ]
          },
          "metadata": {
            "tags": []
          },
          "execution_count": 88
        }
      ]
    },
    {
      "cell_type": "code",
      "metadata": {
        "id": "7PpCoxHzpomW",
        "colab_type": "code",
        "colab": {},
        "outputId": "44b07ebd-cf56-4073-a97d-f96457a06948"
      },
      "source": [
        "(x**2 for x in range(100000000000000))"
      ],
      "execution_count": 0,
      "outputs": [
        {
          "output_type": "execute_result",
          "data": {
            "text/plain": [
              "<generator object <genexpr> at 0x104f76de0>"
            ]
          },
          "metadata": {
            "tags": []
          },
          "execution_count": 89
        }
      ]
    },
    {
      "cell_type": "code",
      "metadata": {
        "id": "jbbfWaJqpomY",
        "colab_type": "code",
        "colab": {}
      },
      "source": [
        "x_genrator = (x**2 for x in range(100000000000000))"
      ],
      "execution_count": 0,
      "outputs": []
    },
    {
      "cell_type": "code",
      "metadata": {
        "id": "A3Oe0n2XpomY",
        "colab_type": "code",
        "colab": {},
        "outputId": "92d8b8f9-81da-4e7d-df8e-12097f3d6522"
      },
      "source": [
        "next(x_genrator)"
      ],
      "execution_count": 0,
      "outputs": [
        {
          "output_type": "execute_result",
          "data": {
            "text/plain": [
              "0"
            ]
          },
          "metadata": {
            "tags": []
          },
          "execution_count": 91
        }
      ]
    },
    {
      "cell_type": "code",
      "metadata": {
        "id": "pCXjmWsDpoma",
        "colab_type": "code",
        "colab": {},
        "outputId": "71519a82-b5e4-46c8-a03e-3982080ea7fa"
      },
      "source": [
        "next(x_genrator)"
      ],
      "execution_count": 0,
      "outputs": [
        {
          "output_type": "execute_result",
          "data": {
            "text/plain": [
              "1"
            ]
          },
          "metadata": {
            "tags": []
          },
          "execution_count": 93
        }
      ]
    },
    {
      "cell_type": "code",
      "metadata": {
        "id": "rSsAZQUwpomc",
        "colab_type": "code",
        "colab": {},
        "outputId": "afc5722b-c545-451f-c158-1cb47ec5ca01"
      },
      "source": [
        "next(x_genrator)"
      ],
      "execution_count": 0,
      "outputs": [
        {
          "output_type": "execute_result",
          "data": {
            "text/plain": [
              "4"
            ]
          },
          "metadata": {
            "tags": []
          },
          "execution_count": 94
        }
      ]
    },
    {
      "cell_type": "code",
      "metadata": {
        "id": "jfYiCAvFpomd",
        "colab_type": "code",
        "colab": {},
        "outputId": "f38ac770-26df-4ec9-fa9e-3576358b28c3"
      },
      "source": [
        "next(x_genrator)"
      ],
      "execution_count": 0,
      "outputs": [
        {
          "output_type": "execute_result",
          "data": {
            "text/plain": [
              "9"
            ]
          },
          "metadata": {
            "tags": []
          },
          "execution_count": 95
        }
      ]
    },
    {
      "cell_type": "code",
      "metadata": {
        "id": "VOGak_2Qpome",
        "colab_type": "code",
        "colab": {},
        "outputId": "9acc02b3-6f2d-4dd1-ddaf-62d083d84172"
      },
      "source": [
        "next(x_genrator)"
      ],
      "execution_count": 0,
      "outputs": [
        {
          "output_type": "execute_result",
          "data": {
            "text/plain": [
              "16"
            ]
          },
          "metadata": {
            "tags": []
          },
          "execution_count": 96
        }
      ]
    },
    {
      "cell_type": "markdown",
      "metadata": {
        "id": "8vm4uwGapomh",
        "colab_type": "text"
      },
      "source": [
        "### 주문받기\n",
        "- input_order() 함수는 사용자로 부터 n개의 주문을 받아 리스트로 반환\n",
        "- 이 함수를 이용해 음료를 3개 입력 받고 제조를 지시\n",
        "- 다음 코드의 출력을 예상 하시오."
      ]
    },
    {
      "cell_type": "code",
      "metadata": {
        "id": "Wqo0gq-Upomh",
        "colab_type": "code",
        "colab": {}
      },
      "source": [
        "def input_order(n):\n",
        "    '''n 개의 음료를 주문받아 리스트로 반환'''\n",
        "    return [input() for x in range(n)]"
      ],
      "execution_count": 0,
      "outputs": []
    },
    {
      "cell_type": "code",
      "metadata": {
        "id": "EncFGgJ7pomj",
        "colab_type": "code",
        "colab": {},
        "outputId": "cfac1670-3929-4ac8-ed89-93ebd28a96f7"
      },
      "source": [
        "for drink in input_order(3):\n",
        "    print(drink, '만들어 주세요')"
      ],
      "execution_count": 0,
      "outputs": [
        {
          "output_type": "stream",
          "text": [
            " 아메리카노\n",
            " 사이다\n",
            " 딸기주스\n"
          ],
          "name": "stdin"
        },
        {
          "output_type": "stream",
          "text": [
            "아메리카노 만들어 주세요\n",
            "사이다 만들어 주세요\n",
            "딸기주스 만들어 주세요\n"
          ],
          "name": "stdout"
        }
      ]
    },
    {
      "cell_type": "code",
      "metadata": {
        "id": "0dnQS3Rjpomk",
        "colab_type": "code",
        "colab": {},
        "outputId": "4894c0b2-123e-432f-d017-158b738e957a"
      },
      "source": [
        "def input_order(n):\n",
        "    '''n 개의 음료를 주문받아 리스트로 반환'''\n",
        "    return (input() for x in range(n))\n",
        "for drink in input_order(3):\n",
        "    print(drink, '만들어 주세요')"
      ],
      "execution_count": 0,
      "outputs": [
        {
          "output_type": "stream",
          "text": [
            " 아메리카노\n"
          ],
          "name": "stdin"
        },
        {
          "output_type": "stream",
          "text": [
            "아메리카노 만들어 주세요\n"
          ],
          "name": "stdout"
        },
        {
          "output_type": "stream",
          "text": [
            " 사이다\n"
          ],
          "name": "stdin"
        },
        {
          "output_type": "stream",
          "text": [
            "사이다 만들어 주세요\n"
          ],
          "name": "stdout"
        },
        {
          "output_type": "stream",
          "text": [
            " 딸기주스\n"
          ],
          "name": "stdin"
        },
        {
          "output_type": "stream",
          "text": [
            "딸기주스 만들어 주세요\n"
          ],
          "name": "stdout"
        }
      ]
    },
    {
      "cell_type": "code",
      "metadata": {
        "id": "Gl3D66v-poml",
        "colab_type": "code",
        "colab": {}
      },
      "source": [
        "def hello():\n",
        "    print('시작')\n",
        "    print('hello')\n",
        "    print('끝')"
      ],
      "execution_count": 0,
      "outputs": []
    },
    {
      "cell_type": "code",
      "metadata": {
        "id": "rpfoVyiKpomm",
        "colab_type": "code",
        "colab": {},
        "outputId": "dc6f8465-b047-4aad-949c-eb33a02181d5"
      },
      "source": [
        "hello()"
      ],
      "execution_count": 0,
      "outputs": [
        {
          "output_type": "stream",
          "text": [
            "시작\n",
            "hello\n",
            "끝\n"
          ],
          "name": "stdout"
        }
      ]
    },
    {
      "cell_type": "code",
      "metadata": {
        "id": "6VBFV5hSpomn",
        "colab_type": "code",
        "colab": {}
      },
      "source": [
        "def trace(func):\n",
        "    def wrapper():\n",
        "        print('시작')\n",
        "        func()\n",
        "        print('끝')\n",
        "    return wrapper"
      ],
      "execution_count": 0,
      "outputs": []
    },
    {
      "cell_type": "code",
      "metadata": {
        "id": "9TvbJ5tipomp",
        "colab_type": "code",
        "colab": {}
      },
      "source": [
        "def hello():\n",
        "    print('hi')"
      ],
      "execution_count": 0,
      "outputs": []
    },
    {
      "cell_type": "code",
      "metadata": {
        "id": "Z_rxURN8pomr",
        "colab_type": "code",
        "colab": {}
      },
      "source": [
        "x = trace(hello)"
      ],
      "execution_count": 0,
      "outputs": []
    },
    {
      "cell_type": "code",
      "metadata": {
        "id": "iXNg57Zapoms",
        "colab_type": "code",
        "colab": {},
        "outputId": "eeb16fb2-5eb9-40b0-9df4-62f4e1b997ef"
      },
      "source": [
        "x()"
      ],
      "execution_count": 0,
      "outputs": [
        {
          "output_type": "stream",
          "text": [
            "시작\n",
            "hi\n",
            "끝\n"
          ],
          "name": "stdout"
        }
      ]
    },
    {
      "cell_type": "code",
      "metadata": {
        "id": "CLVWfOKkpomv",
        "colab_type": "code",
        "colab": {}
      },
      "source": [
        "def trace(func):\n",
        "    def wrapper():\n",
        "        print('시작')\n",
        "        func()\n",
        "        print('끝')\n",
        "    return wrapper"
      ],
      "execution_count": 0,
      "outputs": []
    },
    {
      "cell_type": "code",
      "metadata": {
        "id": "IB8jaCJcpomw",
        "colab_type": "code",
        "colab": {}
      },
      "source": [
        "@trace  #데코레이터\n",
        "def hello():\n",
        "    print('hi')"
      ],
      "execution_count": 0,
      "outputs": []
    },
    {
      "cell_type": "code",
      "metadata": {
        "id": "uZzV8Gnkpomz",
        "colab_type": "code",
        "colab": {},
        "outputId": "35cef209-8526-4ed2-a294-e2dfbb32c7e0"
      },
      "source": [
        "hello()"
      ],
      "execution_count": 0,
      "outputs": [
        {
          "output_type": "stream",
          "text": [
            "시작\n",
            "hi\n",
            "끝\n"
          ],
          "name": "stdout"
        }
      ]
    },
    {
      "cell_type": "markdown",
      "metadata": {
        "id": "OonVko5Xpom1",
        "colab_type": "text"
      },
      "source": [
        "- 꾸미다(decorate) + er(or) = 장식하는 도구\n",
        "- 함수(메서드)를 장식한다\n",
        "- 함수를 수정하지 않은 상태에서 추가"
      ]
    },
    {
      "cell_type": "markdown",
      "metadata": {
        "id": "XOn-xkN1pom1",
        "colab_type": "text"
      },
      "source": [
        "### 리스트 조건 제시법"
      ]
    },
    {
      "cell_type": "markdown",
      "metadata": {
        "id": "7bMbGooypom2",
        "colab_type": "text"
      },
      "source": [
        "### generator 표현식 : (연산 for 변수 in 컬렉션)"
      ]
    },
    {
      "cell_type": "code",
      "metadata": {
        "id": "kCLSjlH6pom2",
        "colab_type": "code",
        "colab": {}
      },
      "source": [
        ""
      ],
      "execution_count": 0,
      "outputs": []
    }
  ]
}