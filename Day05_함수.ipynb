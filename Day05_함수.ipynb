{
  "nbformat": 4,
  "nbformat_minor": 0,
  "metadata": {
    "colab": {
      "name": "Day05_함수.ipynb",
      "version": "0.3.2",
      "provenance": [],
      "include_colab_link": true
    },
    "language_info": {
      "codemirror_mode": {
        "name": "ipython",
        "version": 3
      },
      "file_extension": ".py",
      "mimetype": "text/x-python",
      "name": "python",
      "nbconvert_exporter": "python",
      "pygments_lexer": "ipython3",
      "version": "3.7.3"
    },
    "kernelspec": {
      "display_name": "Python 3",
      "language": "python",
      "name": "python3"
    }
  },
  "cells": [
    {
      "cell_type": "markdown",
      "metadata": {
        "id": "view-in-github",
        "colab_type": "text"
      },
      "source": [
        "<a href=\"https://colab.research.google.com/github/THE-R4U/AI_Innovation/blob/master/Day05_%E1%84%92%E1%85%A1%E1%86%B7%E1%84%89%E1%85%AE.ipynb\" target=\"_parent\"><img src=\"https://colab.research.google.com/assets/colab-badge.svg\" alt=\"Open In Colab\"/></a>"
      ]
    },
    {
      "cell_type": "markdown",
      "metadata": {
        "id": "2Bk-MCRcFS9r",
        "colab_type": "text"
      },
      "source": [
        "# 함수\n",
        "\n",
        "## 지역변수/전역변수\n",
        "\n",
        "### 매개변수 & 전달인자 & 반환\n",
        "- 함수 호출 파트(외부) 에서 함수 정의 파트(내부)로 값을 전달할 때 전달인자를 사용한다.\n",
        "- 함수 정의 파트에서는 값을 받을 때 매개변수로 받는다.\n",
        "- 함수 정의 파트에서 함수 호출 파트로 값을 내 보낼 때에는 반환(return)을 사용한다"
      ]
    },
    {
      "cell_type": "code",
      "metadata": {
        "id": "AB7_2yL2FS9s",
        "colab_type": "code",
        "colab": {},
        "outputId": "ca7f3c79-e8bc-433d-e06a-29d39ccc721f"
      },
      "source": [
        "def f_a(x, y, z):\n",
        "    result = x+y+z\n",
        "    return result\n",
        "\n",
        "result = f_a(10, 20, 30)\n",
        "print (result)"
      ],
      "execution_count": 0,
      "outputs": [
        {
          "output_type": "stream",
          "text": [
            "60\n"
          ],
          "name": "stdout"
        }
      ]
    },
    {
      "cell_type": "code",
      "metadata": {
        "id": "WlOrHwyaFS9x",
        "colab_type": "code",
        "colab": {},
        "outputId": "7d005602-a6a7-4bd0-98de-f623978f14fd"
      },
      "source": [
        "def f_b():\n",
        "    result = 0\n",
        "    for count in range(100):\n",
        "        result += count\n",
        "    print('result:', result)\n",
        "\n",
        "result = f_b()\n",
        "print (result)"
      ],
      "execution_count": 0,
      "outputs": [
        {
          "output_type": "stream",
          "text": [
            "result: 4950\n",
            "None\n"
          ],
          "name": "stdout"
        }
      ]
    },
    {
      "cell_type": "markdown",
      "metadata": {
        "id": "DasV9bjZFS9z",
        "colab_type": "text"
      },
      "source": [
        "`None은 타입 자체가 None이다.`"
      ]
    },
    {
      "cell_type": "code",
      "metadata": {
        "id": "qWg4zYfRFS90",
        "colab_type": "code",
        "colab": {},
        "outputId": "0e93eb96-d838-44d7-fa2e-4fa62faa80cf"
      },
      "source": [
        "None == False"
      ],
      "execution_count": 0,
      "outputs": [
        {
          "output_type": "execute_result",
          "data": {
            "text/plain": [
              "False"
            ]
          },
          "metadata": {
            "tags": []
          },
          "execution_count": 1
        }
      ]
    },
    {
      "cell_type": "code",
      "metadata": {
        "id": "abcRY_DpFS93",
        "colab_type": "code",
        "colab": {},
        "outputId": "515f6b50-9fde-4c02-a4c7-38db57a38ada"
      },
      "source": [
        "type(None)"
      ],
      "execution_count": 0,
      "outputs": [
        {
          "output_type": "execute_result",
          "data": {
            "text/plain": [
              "NoneType"
            ]
          },
          "metadata": {
            "tags": []
          },
          "execution_count": 2
        }
      ]
    },
    {
      "cell_type": "code",
      "metadata": {
        "id": "tR99IvZVFS95",
        "colab_type": "code",
        "colab": {},
        "outputId": "cc0b46aa-3b89-4668-eb39-c15e9bf9422e"
      },
      "source": [
        "def f_a():\n",
        "    result=10+20+30\n",
        "    return result\n",
        "\n",
        "result = f_a()\n",
        "print ('result:', result)"
      ],
      "execution_count": 0,
      "outputs": [
        {
          "output_type": "stream",
          "text": [
            "result: 60\n"
          ],
          "name": "stdout"
        }
      ]
    },
    {
      "cell_type": "code",
      "metadata": {
        "id": "YxqRpcbNFS98",
        "colab_type": "code",
        "colab": {},
        "outputId": "1da5b496-832b-454e-9a80-8186eab931f2"
      },
      "source": [
        "def f(x=10):\n",
        "    return 10\n",
        "    \n",
        "f(10)"
      ],
      "execution_count": 0,
      "outputs": [
        {
          "output_type": "execute_result",
          "data": {
            "text/plain": [
              "10"
            ]
          },
          "metadata": {
            "tags": []
          },
          "execution_count": 6
        }
      ]
    },
    {
      "cell_type": "markdown",
      "metadata": {
        "id": "VFQ7Rj8YFS9-",
        "colab_type": "text"
      },
      "source": [
        "### 함수 지역변수/전역변수\n",
        "\n",
        "- 지역변수\n",
        "    - 함수 정의 파트(내부)에서만 유효한 변수\n",
        "    - 함수가 호출되었을 때 생성되며 함수를 벗어날 때 사라짐\n",
        "- 전역변수\n",
        "    - 프로그램 전체에서 유효한 변수\n",
        "    - 프로그램이 시작될 때 생성되며, 프로그램이 끝날 때 사라짐"
      ]
    },
    {
      "cell_type": "code",
      "metadata": {
        "id": "LM-Y2g3rFS9_",
        "colab_type": "code",
        "colab": {},
        "outputId": "4f9b3159-8178-4235-e75b-cecf16a243ae"
      },
      "source": [
        "def add():\n",
        "    number = 5\n",
        "    number = number + 3\n",
        "    print (number)\n",
        "\n",
        "number = 5\n",
        "add()\n",
        "print (number)"
      ],
      "execution_count": 0,
      "outputs": [
        {
          "output_type": "stream",
          "text": [
            "8\n",
            "5\n"
          ],
          "name": "stdout"
        }
      ]
    },
    {
      "cell_type": "markdown",
      "metadata": {
        "id": "RrDadDCvFS-B",
        "colab_type": "text"
      },
      "source": [
        "### 지역변수, 전역변수의 사용\n",
        "\n",
        "- 전역변수를 함수 내부에서 수정 또는 선언하고자 할 때에는 global 키워드를 사용함"
      ]
    },
    {
      "cell_type": "code",
      "metadata": {
        "id": "6k3t54AtFS-C",
        "colab_type": "code",
        "colab": {},
        "outputId": "0c2997b6-0a7e-46e0-963a-b0a01a02eb4d"
      },
      "source": [
        "def add():\n",
        "    global number\n",
        "    number = number + 3\n",
        "    print (number)\n",
        "\n",
        "number = 5\n",
        "add()\n",
        "print (number)"
      ],
      "execution_count": 0,
      "outputs": [
        {
          "output_type": "stream",
          "text": [
            "8\n",
            "8\n"
          ],
          "name": "stdout"
        }
      ]
    },
    {
      "cell_type": "code",
      "metadata": {
        "id": "7WDSbcHpFS-F",
        "colab_type": "code",
        "colab": {},
        "outputId": "13b96a0d-5536-4134-a88a-4e88aa20f7ad"
      },
      "source": [
        "# 지역변수/전역변수 사용\n",
        "\n",
        "number = 5\n",
        "\n",
        "def add():\n",
        "    global number\n",
        "    number = number + 3\n",
        "\n",
        "add()\n",
        "print (number)"
      ],
      "execution_count": 0,
      "outputs": [
        {
          "output_type": "stream",
          "text": [
            "8\n"
          ],
          "name": "stdout"
        }
      ]
    },
    {
      "cell_type": "code",
      "metadata": {
        "id": "w9FYGuMHFS-I",
        "colab_type": "code",
        "colab": {},
        "outputId": "e8c82bb2-afa0-4170-eb56-f5ff102a8b19"
      },
      "source": [
        "# 함수내에 number 변수에 대한 정의가 있어야 한다\n",
        "number = 5\n",
        "\n",
        "def add():\n",
        "    number = number + 3\n",
        "\n",
        "add()\n",
        "print(number)"
      ],
      "execution_count": 0,
      "outputs": [
        {
          "output_type": "error",
          "ename": "UnboundLocalError",
          "evalue": "local variable 'number' referenced before assignment",
          "traceback": [
            "\u001b[0;31m---------------------------------------------------------------------------\u001b[0m",
            "\u001b[0;31mUnboundLocalError\u001b[0m                         Traceback (most recent call last)",
            "\u001b[0;32m<ipython-input-14-c81369ae7cca>\u001b[0m in \u001b[0;36m<module>\u001b[0;34m\u001b[0m\n\u001b[1;32m      5\u001b[0m     \u001b[0mnumber\u001b[0m \u001b[0;34m=\u001b[0m \u001b[0mnumber\u001b[0m \u001b[0;34m+\u001b[0m \u001b[0;36m3\u001b[0m\u001b[0;34m\u001b[0m\u001b[0;34m\u001b[0m\u001b[0m\n\u001b[1;32m      6\u001b[0m \u001b[0;34m\u001b[0m\u001b[0m\n\u001b[0;32m----> 7\u001b[0;31m \u001b[0madd\u001b[0m\u001b[0;34m(\u001b[0m\u001b[0;34m)\u001b[0m\u001b[0;34m\u001b[0m\u001b[0;34m\u001b[0m\u001b[0m\n\u001b[0m\u001b[1;32m      8\u001b[0m \u001b[0mprint\u001b[0m\u001b[0;34m(\u001b[0m\u001b[0mnumber\u001b[0m\u001b[0;34m)\u001b[0m\u001b[0;34m\u001b[0m\u001b[0;34m\u001b[0m\u001b[0m\n",
            "\u001b[0;32m<ipython-input-14-c81369ae7cca>\u001b[0m in \u001b[0;36madd\u001b[0;34m()\u001b[0m\n\u001b[1;32m      3\u001b[0m \u001b[0;34m\u001b[0m\u001b[0m\n\u001b[1;32m      4\u001b[0m \u001b[0;32mdef\u001b[0m \u001b[0madd\u001b[0m\u001b[0;34m(\u001b[0m\u001b[0;34m)\u001b[0m\u001b[0;34m:\u001b[0m\u001b[0;34m\u001b[0m\u001b[0;34m\u001b[0m\u001b[0m\n\u001b[0;32m----> 5\u001b[0;31m     \u001b[0mnumber\u001b[0m \u001b[0;34m=\u001b[0m \u001b[0mnumber\u001b[0m \u001b[0;34m+\u001b[0m \u001b[0;36m3\u001b[0m\u001b[0;34m\u001b[0m\u001b[0;34m\u001b[0m\u001b[0m\n\u001b[0m\u001b[1;32m      6\u001b[0m \u001b[0;34m\u001b[0m\u001b[0m\n\u001b[1;32m      7\u001b[0m \u001b[0madd\u001b[0m\u001b[0;34m(\u001b[0m\u001b[0;34m)\u001b[0m\u001b[0;34m\u001b[0m\u001b[0;34m\u001b[0m\u001b[0m\n",
            "\u001b[0;31mUnboundLocalError\u001b[0m: local variable 'number' referenced before assignment"
          ]
        }
      ]
    },
    {
      "cell_type": "code",
      "metadata": {
        "id": "g3BNmvZFFS-L",
        "colab_type": "code",
        "colab": {},
        "outputId": "d989ceb2-f0fd-4b84-ac13-b78b384a9062"
      },
      "source": [
        "# 전역변수의 값을 변경하는 것 없이, 단순히 전역변수의 값을 참조만 하는 경우에는 함수 내부에서 global로 선언하지 않아도 함수에 정의된 지역변수가 없다면 전역변수를 찾아 참조한다\n",
        "\n",
        "number = 5\n",
        "def add():\n",
        "    print (number)\n",
        "add()"
      ],
      "execution_count": 0,
      "outputs": [
        {
          "output_type": "stream",
          "text": [
            "5\n"
          ],
          "name": "stdout"
        }
      ]
    },
    {
      "cell_type": "code",
      "metadata": {
        "id": "yRYwqg7EFS-N",
        "colab_type": "code",
        "colab": {},
        "outputId": "1422e402-d3f6-492e-b33d-16c04a6bec6a"
      },
      "source": [
        "x = 100\n",
        "\n",
        "def f():\n",
        "    y = x + 100\n",
        "    return y\n",
        "    \n",
        "f()"
      ],
      "execution_count": 0,
      "outputs": [
        {
          "output_type": "execute_result",
          "data": {
            "text/plain": [
              "200"
            ]
          },
          "metadata": {
            "tags": []
          },
          "execution_count": 18
        }
      ]
    },
    {
      "cell_type": "markdown",
      "metadata": {
        "id": "6Ru9h2u3FS-Q",
        "colab_type": "text"
      },
      "source": [
        "### Local Variables and Global Variables with the Same Name"
      ]
    },
    {
      "cell_type": "code",
      "metadata": {
        "id": "nYohOK8yFS-Q",
        "colab_type": "code",
        "colab": {},
        "outputId": "b5459132-c10e-4f64-935f-099a5b1ce7ea"
      },
      "source": [
        "# spam 함수에 return이 없기 때문에 None이 되므로 오류가 발생한다\n",
        "\n",
        "def spam(myName):\n",
        "    print ('Hello, ' + myName)\n",
        "    myName = 'Waffles'\n",
        "    print('Your new name is ' + myName)\n",
        "\n",
        "myName = 'Albert'\n",
        "myName = spam(myName)\n",
        "print ('Howdy, ' + myName)"
      ],
      "execution_count": 0,
      "outputs": [
        {
          "output_type": "stream",
          "text": [
            "Hello, Albert\n",
            "Your new name is Waffles\n"
          ],
          "name": "stdout"
        },
        {
          "output_type": "error",
          "ename": "TypeError",
          "evalue": "can only concatenate str (not \"NoneType\") to str",
          "traceback": [
            "\u001b[0;31m---------------------------------------------------------------------------\u001b[0m",
            "\u001b[0;31mTypeError\u001b[0m                                 Traceback (most recent call last)",
            "\u001b[0;32m<ipython-input-20-04074b92c749>\u001b[0m in \u001b[0;36m<module>\u001b[0;34m\u001b[0m\n\u001b[1;32m      8\u001b[0m \u001b[0mmyName\u001b[0m \u001b[0;34m=\u001b[0m \u001b[0;34m'Albert'\u001b[0m\u001b[0;34m\u001b[0m\u001b[0;34m\u001b[0m\u001b[0m\n\u001b[1;32m      9\u001b[0m \u001b[0mmyName\u001b[0m \u001b[0;34m=\u001b[0m \u001b[0mspam\u001b[0m\u001b[0;34m(\u001b[0m\u001b[0mmyName\u001b[0m\u001b[0;34m)\u001b[0m\u001b[0;34m\u001b[0m\u001b[0;34m\u001b[0m\u001b[0m\n\u001b[0;32m---> 10\u001b[0;31m \u001b[0mprint\u001b[0m \u001b[0;34m(\u001b[0m\u001b[0;34m'Howdy, '\u001b[0m \u001b[0;34m+\u001b[0m \u001b[0mmyName\u001b[0m\u001b[0;34m)\u001b[0m\u001b[0;34m\u001b[0m\u001b[0;34m\u001b[0m\u001b[0m\n\u001b[0m",
            "\u001b[0;31mTypeError\u001b[0m: can only concatenate str (not \"NoneType\") to str"
          ]
        }
      ]
    },
    {
      "cell_type": "code",
      "metadata": {
        "id": "XjVZGfN-FS-T",
        "colab_type": "code",
        "colab": {},
        "outputId": "44a44045-d185-4d3c-c3b3-1ed77a2f820d"
      },
      "source": [
        "# spam 함수에 return을 했기에 오류없이 실행된다\n",
        "\n",
        "def spam(myName):\n",
        "    print ('Hello, ' + myName)\n",
        "    myName = 'Waffles'\n",
        "    print('Your new name is ' + myName)\n",
        "    return myName\n",
        "\n",
        "myName = 'Albert'\n",
        "myName = spam(myName)\n",
        "print ('Howdy, ' + myName)"
      ],
      "execution_count": 0,
      "outputs": [
        {
          "output_type": "stream",
          "text": [
            "Hello, Albert\n",
            "Your new name is Waffles\n",
            "Howdy, Waffles\n"
          ],
          "name": "stdout"
        }
      ]
    },
    {
      "cell_type": "code",
      "metadata": {
        "id": "dCoRA3FjFS-W",
        "colab_type": "code",
        "colab": {},
        "outputId": "db560493-dc6d-4726-c432-cefad39c3860"
      },
      "source": [
        "import random\n",
        "\n",
        "random.randint(1,20)"
      ],
      "execution_count": 0,
      "outputs": [
        {
          "output_type": "execute_result",
          "data": {
            "text/plain": [
              "7"
            ]
          },
          "metadata": {
            "tags": []
          },
          "execution_count": 23
        }
      ]
    },
    {
      "cell_type": "code",
      "metadata": {
        "id": "_ZZU9P5CFS-Y",
        "colab_type": "code",
        "colab": {},
        "outputId": "77c4e96e-47a8-44a8-d308-557b71681f8d"
      },
      "source": [
        "# from을 사용하여 모듈명을 생략해서 사용한다\n",
        "\n",
        "from random import randint\n",
        "\n",
        "randint(1,20)"
      ],
      "execution_count": 0,
      "outputs": [
        {
          "output_type": "execute_result",
          "data": {
            "text/plain": [
              "5"
            ]
          },
          "metadata": {
            "tags": []
          },
          "execution_count": 24
        }
      ]
    },
    {
      "cell_type": "code",
      "metadata": {
        "id": "9np0W6BlFS-b",
        "colab_type": "code",
        "colab": {},
        "outputId": "570c0b49-c5cb-4f14-d062-7d4def2bc660"
      },
      "source": [
        "# 2개의 return 값을 2개로 받으면, 각자의 형으로 된다\n",
        "def roots(value):\n",
        "    from math import sqrt\n",
        "    result = sqrt(value)\n",
        "    return result, -result\n",
        "\n",
        "x, y = roots(2)\n",
        "print(x, y)\n",
        "print(type(x))\n",
        "print(type(y))"
      ],
      "execution_count": 0,
      "outputs": [
        {
          "output_type": "stream",
          "text": [
            "1.4142135623730951 -1.4142135623730951\n",
            "<class 'float'>\n",
            "<class 'float'>\n"
          ],
          "name": "stdout"
        }
      ]
    },
    {
      "cell_type": "code",
      "metadata": {
        "id": "YfpCt-98FS-e",
        "colab_type": "code",
        "colab": {},
        "outputId": "2c368739-d94c-4b85-9282-afd350ba866a"
      },
      "source": [
        "# 2개의 retrun 값을 하나의 변수로 받으면 tuple형으로 된다\n",
        "\n",
        "def roots(value):\n",
        "    from math import sqrt\n",
        "    result = sqrt(value)\n",
        "    return result, -result\n",
        "\n",
        "x = roots(2)\n",
        "print(x)\n",
        "print(type(x))"
      ],
      "execution_count": 0,
      "outputs": [
        {
          "output_type": "stream",
          "text": [
            "(1.4142135623730951, -1.4142135623730951)\n",
            "<class 'tuple'>\n"
          ],
          "name": "stdout"
        }
      ]
    },
    {
      "cell_type": "code",
      "metadata": {
        "id": "6Cl_6tVdFS-h",
        "colab_type": "code",
        "colab": {}
      },
      "source": [
        "def a():\n",
        "    return 0"
      ],
      "execution_count": 0,
      "outputs": []
    },
    {
      "cell_type": "code",
      "metadata": {
        "id": "9lYB5r9RFS-j",
        "colab_type": "code",
        "colab": {}
      },
      "source": [
        "def b():\n",
        "    print(0)"
      ],
      "execution_count": 0,
      "outputs": []
    },
    {
      "cell_type": "code",
      "metadata": {
        "id": "KXcq91BZFS-l",
        "colab_type": "code",
        "colab": {},
        "outputId": "4890a29b-44a0-48c7-e0ff-5a139e74865e"
      },
      "source": [
        "a() + 1"
      ],
      "execution_count": 0,
      "outputs": [
        {
          "output_type": "execute_result",
          "data": {
            "text/plain": [
              "1"
            ]
          },
          "metadata": {
            "tags": []
          },
          "execution_count": 30
        }
      ]
    },
    {
      "cell_type": "code",
      "metadata": {
        "id": "Ixssv4YlFS-n",
        "colab_type": "code",
        "colab": {},
        "outputId": "6272e39f-6401-4f04-c17d-a0e0b96b6267"
      },
      "source": [
        "# return 이 없어 None + int가 되어 오류 발생\n",
        "b() + 1"
      ],
      "execution_count": 0,
      "outputs": [
        {
          "output_type": "stream",
          "text": [
            "0\n"
          ],
          "name": "stdout"
        },
        {
          "output_type": "error",
          "ename": "TypeError",
          "evalue": "unsupported operand type(s) for +: 'NoneType' and 'int'",
          "traceback": [
            "\u001b[0;31m---------------------------------------------------------------------------\u001b[0m",
            "\u001b[0;31mTypeError\u001b[0m                                 Traceback (most recent call last)",
            "\u001b[0;32m<ipython-input-31-8d0a83cdffbb>\u001b[0m in \u001b[0;36m<module>\u001b[0;34m\u001b[0m\n\u001b[1;32m      1\u001b[0m \u001b[0;31m# return 이 없어 None + int가 되어 오류 발생\u001b[0m\u001b[0;34m\u001b[0m\u001b[0;34m\u001b[0m\u001b[0;34m\u001b[0m\u001b[0m\n\u001b[0;32m----> 2\u001b[0;31m \u001b[0mb\u001b[0m\u001b[0;34m(\u001b[0m\u001b[0;34m)\u001b[0m \u001b[0;34m+\u001b[0m \u001b[0;36m1\u001b[0m\u001b[0;34m\u001b[0m\u001b[0;34m\u001b[0m\u001b[0m\n\u001b[0m",
            "\u001b[0;31mTypeError\u001b[0m: unsupported operand type(s) for +: 'NoneType' and 'int'"
          ]
        }
      ]
    },
    {
      "cell_type": "markdown",
      "metadata": {
        "id": "VMTBDfNQFS-p",
        "colab_type": "text"
      },
      "source": [
        "### Dragon Realm Game 함수 만들기\n",
        "\n",
        "#### 함수로 바꾸어보기\n",
        "- displayIntro() 함수 : 게임 시작에 나오는 인트로 메시지 부분\n",
        "- chooseCave()함수 : 동굴번호 선택 코드 부분\n",
        "- checkCave() 함수 : 동굴번호와 랜덤번호 비교하는 코드 부분"
      ]
    },
    {
      "cell_type": "code",
      "metadata": {
        "id": "ctkSnvcEFS-q",
        "colab_type": "code",
        "colab": {},
        "outputId": "92e0bc7c-b9d5-4cf5-d95e-afc00bb7f4fb"
      },
      "source": [
        "import random\n",
        "import time\n",
        "\n",
        "def displayIntro():\n",
        "    print ('You are in a land full of dragons.')\n",
        "    time.sleep(1)\n",
        "    print ('In front of you, you see two caves. ')\n",
        "    time.sleep(1)\n",
        "    print ('In one cave, the dragon is friendly, ')\n",
        "    time.sleep(1)\n",
        "    print (' and will share his treasure with you. ')\n",
        "    time.sleep(1)\n",
        "    print ('The other dragon is greedy and hungry, ')\n",
        "    time.sleep(1)\n",
        "    print ('and will eat you on sight. ')\n",
        "\n",
        "def chooseCave():\n",
        "    cave = ''\n",
        "    while cave != '1' and cave != '2':\n",
        "        cave = input('While cave will you go into? (1 or 2)')\n",
        "    return cave\n",
        "\n",
        "def checkCave(cave):\n",
        "    friendlycave = random.randint(1,2) # 랜덤값 발생\n",
        "\n",
        "    if friendlycave == int(cave):\n",
        "        print('Gives you his trasurre!')\n",
        "    else:\n",
        "        print('Gobbles you down in one cave')\n",
        "\n",
        "def displayIntro2():\n",
        "    print('You approach the cave...')\n",
        "    time.sleep(1)\n",
        "    print('It is dark and spooky...')\n",
        "    time.sleep(1)\n",
        "    print('A large dragon jumps out in front of you!')\n",
        "    time.sleep(1)\n",
        "    print('He opens his jaws and...')\n",
        "\n",
        "playagain = 'yes'\n",
        "while playagain == 'yes' or playagain == 'y':\n",
        "    displayIntro()\n",
        "    chosenCave = chooseCave()\n",
        "    displayIntro2()\n",
        "    checkCave(chosenCave)\n",
        "    playagain = input('Do you want to play again?(yes or no)')"
      ],
      "execution_count": 0,
      "outputs": [
        {
          "output_type": "stream",
          "text": [
            "You are in a land full of dragons.\n",
            "In front of you, you see two caves. \n",
            "In one cave, the dragon is friendly, \n",
            " and will share his treasure with you. \n",
            "The other dragon is greedy and hungry, \n",
            "and will eat you on sight. \n"
          ],
          "name": "stdout"
        },
        {
          "output_type": "stream",
          "text": [
            "While cave will you go into? (1 or 2) 1\n"
          ],
          "name": "stdin"
        },
        {
          "output_type": "stream",
          "text": [
            "You approach the cave...\n",
            "It is dark and spooky...\n",
            "A large dragon jumps out in front of you!\n",
            "He opens his jaws and...\n",
            "Gives you his trasurre!\n"
          ],
          "name": "stdout"
        },
        {
          "output_type": "stream",
          "text": [
            "Do you want to play again?(yes or no) no\n"
          ],
          "name": "stdin"
        }
      ]
    },
    {
      "cell_type": "markdown",
      "metadata": {
        "id": "kKhWOjJ0FS-s",
        "colab_type": "text"
      },
      "source": [
        "# 예외처리\n",
        "\n",
        "- Syntax errors : incorrect statement.\n",
        "- Exception error : 실행중에 발행하는 오류"
      ]
    },
    {
      "cell_type": "code",
      "metadata": {
        "id": "PWmhZ5xqFS-t",
        "colab_type": "code",
        "colab": {},
        "outputId": "362f63dc-f8c4-4d74-d7fa-a4f875b4a7bb"
      },
      "source": [
        "try:\n",
        "    number1, number2 = eval(input('두 숫자를 컴마로 분리하여 입력하세요')) # eval 함수는 문자를 그대로 계산하라 (숫자는 오류 발생)\n",
        "    result = number1/number2\n",
        "    print('결과는', result, '입니다.')\n",
        "except ZeroDivisionError:\n",
        "    print('0으로 나누기')\n",
        "except SyntaxError:\n",
        "    print('입력에 컴마가 빠졌습니다.')\n",
        "except:\n",
        "    print('입력에 문제가 있습니다.')\n",
        "else:\n",
        "    print(\"예외는 없습니다.\")\n",
        "finally:\n",
        "    print(\"finally절이 실행되었습니다.\")\n",
        "    "
      ],
      "execution_count": 0,
      "outputs": [
        {
          "output_type": "stream",
          "text": [
            "두 숫자를 컴마로 분리하여 입력하세요 3,4\n"
          ],
          "name": "stdin"
        },
        {
          "output_type": "stream",
          "text": [
            "결과는 0.75 입니다.\n",
            "예외는 없습니다.\n",
            "finally절이 실행되었습니다.\n"
          ],
          "name": "stdout"
        }
      ]
    },
    {
      "cell_type": "code",
      "metadata": {
        "id": "gekj4wgfFS-v",
        "colab_type": "code",
        "colab": {},
        "outputId": "ea3decd3-8de5-47af-8324-c54a0206f24c"
      },
      "source": [
        "int1 = int(input('첫번째 정수를 입력하세요:'))\n",
        "int2 = int(input('두번째 정수를 입력하세요:'))\n",
        "\n",
        "def addition(x, y):\n",
        "    print('addition result:', x + y)\n",
        "    return x + y\n",
        "    \n",
        "addition(int1, int2)    "
      ],
      "execution_count": 0,
      "outputs": [
        {
          "output_type": "stream",
          "text": [
            "첫번째 정수를 입력하세요: 30\n",
            "두번째 정수를 입력하세요: 10\n"
          ],
          "name": "stdin"
        },
        {
          "output_type": "stream",
          "text": [
            "addition result: 40\n"
          ],
          "name": "stdout"
        },
        {
          "output_type": "execute_result",
          "data": {
            "text/plain": [
              "40"
            ]
          },
          "metadata": {
            "tags": []
          },
          "execution_count": 82
        }
      ]
    },
    {
      "cell_type": "code",
      "metadata": {
        "id": "5x6KOXr1FS-y",
        "colab_type": "code",
        "colab": {},
        "outputId": "018aa471-c5a1-46ae-fcbe-f0e69f0a7222"
      },
      "source": [
        "def subtraction(x, y):\n",
        "    print('subtrraction result:', x - y)\n",
        "    return x - y\n",
        "\n",
        "subtraction(int1, int2)"
      ],
      "execution_count": 0,
      "outputs": [
        {
          "output_type": "stream",
          "text": [
            "subtrraction result: 20\n"
          ],
          "name": "stdout"
        },
        {
          "output_type": "execute_result",
          "data": {
            "text/plain": [
              "20"
            ]
          },
          "metadata": {
            "tags": []
          },
          "execution_count": 83
        }
      ]
    },
    {
      "cell_type": "code",
      "metadata": {
        "id": "STuVjOx7FS-0",
        "colab_type": "code",
        "colab": {},
        "outputId": "ee3ce2d1-fb20-44df-c6db-1c2d37226991"
      },
      "source": [
        "def multiplication(x, y):\n",
        "    print('multiplication result:', x * y)\n",
        "    return x * y\n",
        "\n",
        "multiplication(int1, int2)"
      ],
      "execution_count": 0,
      "outputs": [
        {
          "output_type": "stream",
          "text": [
            "multiplication result: 300\n"
          ],
          "name": "stdout"
        },
        {
          "output_type": "execute_result",
          "data": {
            "text/plain": [
              "300"
            ]
          },
          "metadata": {
            "tags": []
          },
          "execution_count": 84
        }
      ]
    },
    {
      "cell_type": "code",
      "metadata": {
        "id": "0x5CEacWFS-2",
        "colab_type": "code",
        "colab": {},
        "outputId": "3150eed7-387b-40f4-9634-2028881c5b5d"
      },
      "source": [
        "def division(x, y):\n",
        "    print('division rresult:', x / y)\n",
        "    return x / y\n",
        "    \n",
        "division(int1, int2)"
      ],
      "execution_count": 0,
      "outputs": [
        {
          "output_type": "stream",
          "text": [
            "division rresult: 3.0\n"
          ],
          "name": "stdout"
        },
        {
          "output_type": "execute_result",
          "data": {
            "text/plain": [
              "3.0"
            ]
          },
          "metadata": {
            "tags": []
          },
          "execution_count": 85
        }
      ]
    },
    {
      "cell_type": "code",
      "metadata": {
        "id": "i-S4Nta7FS-4",
        "colab_type": "code",
        "colab": {},
        "outputId": "548af8b2-cc40-4a4c-b778-1ff549c5cfe4"
      },
      "source": [
        "# 연산자를 함께 입력 받도록 수정한 후, 연산자에 따라 필요한 함수를 호출하는 프로그램\n",
        "\n",
        "int1 = int(input('첫번째 정수를 입력하세요:'))\n",
        "int2 = int(input('두번째 정수를 입력하세요:'))\n",
        "op = input('연산자를 입력하세요(+, -, *, /):')\n",
        "    \n",
        "if op == '+':\n",
        "    addition(int1, int2)\n",
        "elif op == '-':\n",
        "    subtraction(int1, int2)\n",
        "elif op == '*':\n",
        "    multiplication(int1, int2)\n",
        "elif op == '/':\n",
        "    subtraction(int1, int2)\n",
        "else:\n",
        "    print('잘못된 연산자를 입력 했습니다.')"
      ],
      "execution_count": 0,
      "outputs": [
        {
          "output_type": "stream",
          "text": [
            "첫번째 정수를 입력하세요: 30\n",
            "두번째 정수를 입력하세요: 10\n",
            "연산자를 입력하세요(+, -, *, /): +\n"
          ],
          "name": "stdin"
        },
        {
          "output_type": "stream",
          "text": [
            "addition result: 40\n"
          ],
          "name": "stdout"
        }
      ]
    },
    {
      "cell_type": "code",
      "metadata": {
        "id": "9Vnf80zqFS-6",
        "colab_type": "code",
        "colab": {},
        "outputId": "01363051-8923-495a-95cc-85af15b21472"
      },
      "source": [
        "# 연산자에 all을 추가하고 all을 입력 받았을 때 모든 결과의 합을 출력하도록 수정해보세요.(all이라는 연산자는 실제 없음!)\n",
        "\n",
        "int1 = int(input('첫번째 정수를 입력하세요:'))\n",
        "int2 = int(input('두번째 정수를 입력하세요:'))\n",
        "op = input('연산자를 입력하세요(+, -, *, /, all):')\n",
        "    \n",
        "if op == '+':\n",
        "    addition(int1, int2)\n",
        "elif op == '-':\n",
        "    subtraction(int1, int2)\n",
        "elif op == '*':\n",
        "    multiplication(int1, int2)\n",
        "elif op == '/':\n",
        "    subtraction(int1, int2)\n",
        "elif op == 'all':\n",
        "    a = addition(int1, int2)\n",
        "    s = subtraction(int1, int2)\n",
        "    m = multiplication(int1, int2)\n",
        "    d = division(int1, int2)\n",
        "    print('모든 결과의 값은', a + s + m + d)\n",
        "else:\n",
        "    print('잘못된 연산자를 입력 했습니다.')"
      ],
      "execution_count": 0,
      "outputs": [
        {
          "output_type": "stream",
          "text": [
            "첫번째 정수를 입력하세요: 30\n",
            "두번째 정수를 입력하세요: 10\n",
            "연산자를 입력하세요(+, -, *, /, all): all\n"
          ],
          "name": "stdin"
        },
        {
          "output_type": "stream",
          "text": [
            "addition result: 40\n",
            "subtrraction result: 20\n",
            "multiplication result: 300\n",
            "division rresult: 3.0\n",
            "모든 결과의 값은 363.0\n"
          ],
          "name": "stdout"
        }
      ]
    },
    {
      "cell_type": "markdown",
      "metadata": {
        "id": "d6pERbYhFS-9",
        "colab_type": "text"
      },
      "source": [
        "### 응용실습\n",
        "\n",
        "### Hangman game 요구사항\n",
        "- getRandomWord() : 단어가운데 하나를 골라 리턴하는 함수\n",
        "- displayBoard() :\n",
        "    - 틀린 문자의 수에 해당하는 그림을 나타냄\n",
        "    - Missed letters:틀린 글자를 나타냄\n",
        "    - 맞힌 글자는 글자로 아직 못 맞힌 글자는 언더바(_) 로 나타냄\n",
        "- getGuesss():\n",
        "    - 글자를 입력받아 입력 글자가 올바르면 반환함\n",
        "    - 입력글자가 한글자가 아니면 Please enter a single letter. 를 출력함\n",
        "    - 입력글자가 이미 이전에 입력한 글자이면 You have already guessed that letter.Choose again. 를 출력함\n",
        "    - 입력글자가 알파벳이 아니면 Please enter a LETTER. 를 출력함\n",
        "    - 올바른 글자를 입력 받을 때까지 반복함.\n",
        "- playAgain():\n",
        "    - 'Do you want to play again? (yes or no)' 메시지 출력, 값을 입력받아 반환"
      ]
    },
    {
      "cell_type": "code",
      "metadata": {
        "id": "Z14Lc0h_FS--",
        "colab_type": "code",
        "colab": {},
        "outputId": "c15369e2-219b-4178-b249-ffebbfaf025e"
      },
      "source": [
        "import random\n",
        "\n",
        "HANGMANPICS = ['''\n",
        "     +---+\n",
        "     |   |\n",
        "         |\n",
        "         |\n",
        "         |\n",
        "         |\n",
        "============''', '''\n",
        "     +---+\n",
        "     |   |\n",
        "     o   |\n",
        "         |\n",
        "         |\n",
        "         |\n",
        "============''', '''\n",
        "     +---+\n",
        "     |   |\n",
        "     o   |\n",
        "     |   | \n",
        "         |\n",
        "         |\n",
        "============''', '''\n",
        "     +---+\n",
        "     |   |\n",
        "     o   |\n",
        "    /|   | \n",
        "         |\n",
        "         |\n",
        "============''', '''\n",
        "     +---+\n",
        "     |   |\n",
        "     o   |\n",
        "    /|\\  | \n",
        "         |\n",
        "         |\n",
        "============''', '''\n",
        "     +---+\n",
        "     |   |\n",
        "     o   |\n",
        "    /|\\  | \n",
        "    /    |\n",
        "         |\n",
        "============''', '''\n",
        "     +---+\n",
        "     |   |\n",
        "     o   |\n",
        "    /|\\  | \n",
        "    / \\ |\n",
        "         |\n",
        "============''']\n",
        "\n",
        "animals = 'ant baboon badger bat bear beaver camel cat clam cobra cougar coyote crow deer dog donkey duck eagle ferret fox frog goat goose hawk lion lizard llama mole monkey moose mouse mule newt otter owl panda parrot pigeon python rabbit ram rat raven rhino salmon seal shark sheep skunk sloth snake spider stork swan tiger toad trout turkey turtle weasel whale wolf zebra'\n",
        "WORDS = animals.split()\n",
        "\n",
        "def getRandomWord(wordlist):\n",
        "    i = random.randint(0, len(wordlist)-1)\n",
        "    word = wordlist[i]\n",
        "    return word\n",
        "\n",
        "def getRandomWord2(wordlist):\n",
        "    word = random.choice(wordlist)\n",
        "    return word\n",
        "\n",
        "#getRandomWord(WORDS)\n",
        "\n",
        "getRandomWord2(WORDS)\n"
      ],
      "execution_count": 0,
      "outputs": [
        {
          "output_type": "execute_result",
          "data": {
            "text/plain": [
              "'frog'"
            ]
          },
          "metadata": {
            "tags": []
          },
          "execution_count": 107
        }
      ]
    },
    {
      "cell_type": "code",
      "metadata": {
        "id": "3wqfwQFNFS_A",
        "colab_type": "code",
        "colab": {}
      },
      "source": [
        "HANGMANPICS = ['''\n",
        "     +---+\n",
        "     |   |\n",
        "         |\n",
        "         |\n",
        "         |\n",
        "         |\n",
        "============''', '''\n",
        "     +---+\n",
        "     |   |\n",
        "     o   |\n",
        "         |\n",
        "         |\n",
        "         |\n",
        "============''', '''\n",
        "     +---+\n",
        "     |   |\n",
        "     o   |\n",
        "     |   | \n",
        "         |\n",
        "         |\n",
        "============''', '''\n",
        "     +---+\n",
        "     |   |\n",
        "     o   |\n",
        "    /|   | \n",
        "         |\n",
        "         |\n",
        "============''', '''\n",
        "     +---+\n",
        "     |   |\n",
        "     o   |\n",
        "    /|\\  | \n",
        "         |\n",
        "         |\n",
        "============''', '''\n",
        "     +---+\n",
        "     |   |\n",
        "     o   |\n",
        "    /|\\  | \n",
        "    /    |\n",
        "         |\n",
        "============''', '''\n",
        "     +---+\n",
        "     |   |\n",
        "     o   |\n",
        "    /|\\  | \n",
        "    / \\ |\n",
        "         |\n",
        "============''']\n",
        "\n",
        "getRandomWord()\n",
        "\n",
        "\n",
        "def displayBoard():\n",
        "    "
      ],
      "execution_count": 0,
      "outputs": []
    }
  ]
}