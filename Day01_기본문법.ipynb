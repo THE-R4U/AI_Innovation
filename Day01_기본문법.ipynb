{
  "nbformat": 4,
  "nbformat_minor": 0,
  "metadata": {
    "colab": {
      "name": "Day01_기본문법.ipynb",
      "version": "0.3.2",
      "provenance": [],
      "toc_visible": true,
      "include_colab_link": true
    },
    "language_info": {
      "codemirror_mode": {
        "name": "ipython",
        "version": 3
      },
      "file_extension": ".py",
      "mimetype": "text/x-python",
      "name": "python",
      "nbconvert_exporter": "python",
      "pygments_lexer": "ipython3",
      "version": "3.7.3"
    },
    "kernelspec": {
      "display_name": "Python 3",
      "language": "python",
      "name": "python3"
    }
  },
  "cells": [
    {
      "cell_type": "markdown",
      "metadata": {
        "id": "view-in-github",
        "colab_type": "text"
      },
      "source": [
        "<a href=\"https://colab.research.google.com/github/THE-R4U/AI_Innovation/blob/master/Day01_%E1%84%80%E1%85%B5%E1%84%87%E1%85%A9%E1%86%AB%E1%84%86%E1%85%AE%E1%86%AB%E1%84%87%E1%85%A5%E1%86%B8.ipynb\" target=\"_parent\"><img src=\"https://colab.research.google.com/assets/colab-badge.svg\" alt=\"Open In Colab\"/></a>"
      ]
    },
    {
      "cell_type": "markdown",
      "metadata": {
        "id": "n3SelYTmEWx_",
        "colab_type": "text"
      },
      "source": [
        "# 1일차 - 기본문법"
      ]
    },
    {
      "cell_type": "code",
      "metadata": {
        "id": "83q_H4TPEWyA",
        "colab_type": "code",
        "colab": {}
      },
      "source": [
        "import antigravity"
      ],
      "execution_count": 0,
      "outputs": []
    },
    {
      "cell_type": "code",
      "metadata": {
        "id": "COrtZ9PXEWyD",
        "colab_type": "code",
        "colab": {},
        "outputId": "e38fe7c0-02e9-4cb8-f1c7-bbf3d31d2535"
      },
      "source": [
        "import this"
      ],
      "execution_count": 0,
      "outputs": [
        {
          "output_type": "stream",
          "text": [
            "The Zen of Python, by Tim Peters\n",
            "\n",
            "Beautiful is better than ugly.\n",
            "Explicit is better than implicit.\n",
            "Simple is better than complex.\n",
            "Complex is better than complicated.\n",
            "Flat is better than nested.\n",
            "Sparse is better than dense.\n",
            "Readability counts.\n",
            "Special cases aren't special enough to break the rules.\n",
            "Although practicality beats purity.\n",
            "Errors should never pass silently.\n",
            "Unless explicitly silenced.\n",
            "In the face of ambiguity, refuse the temptation to guess.\n",
            "There should be one-- and preferably only one --obvious way to do it.\n",
            "Although that way may not be obvious at first unless you're Dutch.\n",
            "Now is better than never.\n",
            "Although never is often better than *right* now.\n",
            "If the implementation is hard to explain, it's a bad idea.\n",
            "If the implementation is easy to explain, it may be a good idea.\n",
            "Namespaces are one honking great idea -- let's do more of those!\n"
          ],
          "name": "stdout"
        }
      ]
    },
    {
      "cell_type": "code",
      "metadata": {
        "id": "wxmTJYemEWyH",
        "colab_type": "code",
        "colab": {},
        "outputId": "834403fd-a43f-4a07-e993-f7315ef00684"
      },
      "source": [
        "import keyword\n",
        "keyword.kwlist"
      ],
      "execution_count": 0,
      "outputs": [
        {
          "output_type": "execute_result",
          "data": {
            "text/plain": [
              "['False',\n",
              " 'None',\n",
              " 'True',\n",
              " 'and',\n",
              " 'as',\n",
              " 'assert',\n",
              " 'async',\n",
              " 'await',\n",
              " 'break',\n",
              " 'class',\n",
              " 'continue',\n",
              " 'def',\n",
              " 'del',\n",
              " 'elif',\n",
              " 'else',\n",
              " 'except',\n",
              " 'finally',\n",
              " 'for',\n",
              " 'from',\n",
              " 'global',\n",
              " 'if',\n",
              " 'import',\n",
              " 'in',\n",
              " 'is',\n",
              " 'lambda',\n",
              " 'nonlocal',\n",
              " 'not',\n",
              " 'or',\n",
              " 'pass',\n",
              " 'raise',\n",
              " 'return',\n",
              " 'try',\n",
              " 'while',\n",
              " 'with',\n",
              " 'yield']"
            ]
          },
          "metadata": {
            "tags": []
          },
          "execution_count": 3
        }
      ]
    },
    {
      "cell_type": "markdown",
      "metadata": {
        "id": "Eg-oKkHgEWyK",
        "colab_type": "text"
      },
      "source": [
        "## 표현식(expression) = 평가식 = 식\n",
        "\n",
        "- 값\n",
        "- 값들과 연산자를 함께 사용해서 표현\n",
        "\n",
        "### 수식 표현\n",
        "Operater : +, -, *, / "
      ]
    },
    {
      "cell_type": "code",
      "metadata": {
        "id": "fTwsUNdbEWyK",
        "colab_type": "code",
        "colab": {},
        "outputId": "cbd98fd2-fdde-4c1a-d43b-380a6b600c98"
      },
      "source": [
        "2 + 2"
      ],
      "execution_count": 0,
      "outputs": [
        {
          "output_type": "execute_result",
          "data": {
            "text/plain": [
              "4"
            ]
          },
          "metadata": {
            "tags": []
          },
          "execution_count": 4
        }
      ]
    },
    {
      "cell_type": "code",
      "metadata": {
        "id": "mwohpWsEEWyN",
        "colab_type": "code",
        "colab": {},
        "outputId": "d1bd8c7b-0f82-4f44-fadb-ce9a3c95f6ab"
      },
      "source": [
        "5 - 7"
      ],
      "execution_count": 0,
      "outputs": [
        {
          "output_type": "execute_result",
          "data": {
            "text/plain": [
              "-2"
            ]
          },
          "metadata": {
            "tags": []
          },
          "execution_count": 5
        }
      ]
    },
    {
      "cell_type": "code",
      "metadata": {
        "id": "wkRVvFuZEWyP",
        "colab_type": "code",
        "colab": {},
        "outputId": "7b373b17-ecdd-480d-ee62-57667eab8289"
      },
      "source": [
        "8 * 9"
      ],
      "execution_count": 0,
      "outputs": [
        {
          "output_type": "execute_result",
          "data": {
            "text/plain": [
              "72"
            ]
          },
          "metadata": {
            "tags": []
          },
          "execution_count": 6
        }
      ]
    },
    {
      "cell_type": "code",
      "metadata": {
        "id": "RaA862xlEWyS",
        "colab_type": "code",
        "colab": {},
        "outputId": "6cb29127-a413-41c5-c907-4366f6dbb70f"
      },
      "source": [
        "10/2"
      ],
      "execution_count": 0,
      "outputs": [
        {
          "output_type": "execute_result",
          "data": {
            "text/plain": [
              "5.0"
            ]
          },
          "metadata": {
            "tags": []
          },
          "execution_count": 7
        }
      ]
    },
    {
      "cell_type": "code",
      "metadata": {
        "id": "fwRk3wbKEWyU",
        "colab_type": "code",
        "colab": {},
        "outputId": "6a246f8c-3c97-4807-e693-4af0bbbd89b6"
      },
      "source": [
        "3**2"
      ],
      "execution_count": 0,
      "outputs": [
        {
          "output_type": "execute_result",
          "data": {
            "text/plain": [
              "9"
            ]
          },
          "metadata": {
            "tags": []
          },
          "execution_count": 8
        }
      ]
    },
    {
      "cell_type": "code",
      "metadata": {
        "id": "mLLWn-HkEWyX",
        "colab_type": "code",
        "colab": {},
        "outputId": "ac2f5a04-eb97-4f79-d562-dc3ba4decae0"
      },
      "source": [
        "2%2"
      ],
      "execution_count": 0,
      "outputs": [
        {
          "output_type": "execute_result",
          "data": {
            "text/plain": [
              "0"
            ]
          },
          "metadata": {
            "tags": []
          },
          "execution_count": 10
        }
      ]
    },
    {
      "cell_type": "markdown",
      "metadata": {
        "id": "nx_0jRaBEWyZ",
        "colab_type": "text"
      },
      "source": [
        "### 문자열 표현\n",
        "- 분자열: 텍스트 묶음\n",
        "- 문자열은 홑 따옴표 또는 쌍 따옴표로 묶어준다.\n",
        "- 문자열 + 문자열 (문자열의 나열)"
      ]
    },
    {
      "cell_type": "code",
      "metadata": {
        "id": "IeHEczh8EWya",
        "colab_type": "code",
        "colab": {},
        "outputId": "7772bd16-0907-4a1a-cf32-e85aead464a0"
      },
      "source": [
        "'Hello' + ' World!'"
      ],
      "execution_count": 0,
      "outputs": [
        {
          "output_type": "execute_result",
          "data": {
            "text/plain": [
              "'Hello World!'"
            ]
          },
          "metadata": {
            "tags": []
          },
          "execution_count": 12
        }
      ]
    },
    {
      "cell_type": "markdown",
      "metadata": {
        "id": "1WjzP8siEWyc",
        "colab_type": "text"
      },
      "source": [
        "## Assignment(할당)\n",
        "\n",
        "- a = 23\n",
        "- a(identifier) =(assignment) 23 (value)\n",
        "\n",
        "### 변수의 일반적 의미\n",
        "- 양이나 정보에 대한 상징적인 이름\n",
        "- 프고르래밍에서의 변수\n",
        "    - 값을 기억해 두고 필요할 때 활용\n",
        "- Python\n",
        "    - 값(객체)을 저장하는 메모리 상의 공간을 가르키는(object reference) 이름"
      ]
    },
    {
      "cell_type": "markdown",
      "metadata": {
        "id": "xE00zSCfEWyc",
        "colab_type": "text"
      },
      "source": [
        "### 변수(Variables)\n",
        "- 변수는 어떤 값을 갖고 있는 박스와 같다\n",
        "- = (대입연산자)를 이용하여 값, 또는 연산 결과를 저장한다."
      ]
    },
    {
      "cell_type": "code",
      "metadata": {
        "id": "la8iYVa8EWyd",
        "colab_type": "code",
        "colab": {}
      },
      "source": [
        "spam = 15"
      ],
      "execution_count": 0,
      "outputs": []
    },
    {
      "cell_type": "code",
      "metadata": {
        "id": "ACMl-Y5_EWye",
        "colab_type": "code",
        "colab": {},
        "outputId": "1bae79fc-090c-4db6-d8fc-bcc35c17ebd2"
      },
      "source": [
        "spam"
      ],
      "execution_count": 0,
      "outputs": [
        {
          "output_type": "execute_result",
          "data": {
            "text/plain": [
              "15"
            ]
          },
          "metadata": {
            "tags": []
          },
          "execution_count": 14
        }
      ]
    },
    {
      "cell_type": "markdown",
      "metadata": {
        "id": "y85iT93NEWyh",
        "colab_type": "text"
      },
      "source": [
        "- 변수에 값을 저장하면 메모리에 저장하게 되는데, 메모리는 고유의 주소값을 가짐\n",
        "- 주소값을 확인하려면 id() 함수 사용"
      ]
    },
    {
      "cell_type": "code",
      "metadata": {
        "id": "HUziva_NEWyh",
        "colab_type": "code",
        "colab": {},
        "outputId": "caf10d9b-9264-4977-ae20-715b8117e24f"
      },
      "source": [
        "id(spam)"
      ],
      "execution_count": 0,
      "outputs": [
        {
          "output_type": "execute_result",
          "data": {
            "text/plain": [
              "4362893152"
            ]
          },
          "metadata": {
            "tags": []
          },
          "execution_count": 15
        }
      ]
    },
    {
      "cell_type": "markdown",
      "metadata": {
        "id": "orgbQBSIEWyk",
        "colab_type": "text"
      },
      "source": [
        "- %whos : 현재 메모리에 올라간 변수들의 목록을 확인"
      ]
    },
    {
      "cell_type": "code",
      "metadata": {
        "id": "ELmn1HMfEWyl",
        "colab_type": "code",
        "colab": {}
      },
      "source": [
        "a = 10\n",
        "b = 'hi'\n",
        "c = 3.14"
      ],
      "execution_count": 0,
      "outputs": []
    },
    {
      "cell_type": "code",
      "metadata": {
        "id": "6b1sLVfQEWyn",
        "colab_type": "code",
        "colab": {},
        "outputId": "39217aa0-42c2-4320-f785-9fd055739888"
      },
      "source": [
        "%whos"
      ],
      "execution_count": 0,
      "outputs": [
        {
          "output_type": "stream",
          "text": [
            "Variable      Type      Data/Info\n",
            "---------------------------------\n",
            "a             int       10\n",
            "antigravity   module    <module 'antigravity' fro<...>ython3.7/antigravity.py'>\n",
            "b             str       hi\n",
            "c             float     3.14\n",
            "keyword       module    <module 'keyword' from '/<...>ib/python3.7/keyword.py'>\n",
            "spam          int       15\n",
            "this          module    <module 'this' from '/Use<...>3/lib/python3.7/this.py'>\n"
          ],
          "name": "stdout"
        }
      ]
    },
    {
      "cell_type": "markdown",
      "metadata": {
        "id": "b0vY5oQhEWyr",
        "colab_type": "text"
      },
      "source": [
        "- 변수를 더 이상 사용하고 싶지 않다면 del 사용"
      ]
    },
    {
      "cell_type": "code",
      "metadata": {
        "id": "kKqUzocdEWyr",
        "colab_type": "code",
        "colab": {}
      },
      "source": [
        "del a"
      ],
      "execution_count": 0,
      "outputs": []
    },
    {
      "cell_type": "code",
      "metadata": {
        "id": "Sai4PWVMEWyt",
        "colab_type": "code",
        "colab": {},
        "outputId": "bdc1b8e2-1719-432d-d392-ee376a3ff885"
      },
      "source": [
        "a"
      ],
      "execution_count": 0,
      "outputs": [
        {
          "output_type": "error",
          "ename": "NameError",
          "evalue": "name 'a' is not defined",
          "traceback": [
            "\u001b[0;31m---------------------------------------------------------------------------\u001b[0m",
            "\u001b[0;31mNameError\u001b[0m                                 Traceback (most recent call last)",
            "\u001b[0;32m<ipython-input-19-3f786850e387>\u001b[0m in \u001b[0;36m<module>\u001b[0;34m\u001b[0m\n\u001b[0;32m----> 1\u001b[0;31m \u001b[0ma\u001b[0m\u001b[0;34m\u001b[0m\u001b[0;34m\u001b[0m\u001b[0m\n\u001b[0m",
            "\u001b[0;31mNameError\u001b[0m: name 'a' is not defined"
          ]
        }
      ]
    },
    {
      "cell_type": "code",
      "metadata": {
        "id": "OpmiwNI3EWyv",
        "colab_type": "code",
        "colab": {},
        "outputId": "7b3e1363-69ed-445e-e6ce-9de3f1f0c2bf"
      },
      "source": [
        "%whos"
      ],
      "execution_count": 0,
      "outputs": [
        {
          "output_type": "stream",
          "text": [
            "Variable      Type      Data/Info\n",
            "---------------------------------\n",
            "antigravity   module    <module 'antigravity' fro<...>ython3.7/antigravity.py'>\n",
            "b             str       hi\n",
            "c             float     3.14\n",
            "keyword       module    <module 'keyword' from '/<...>ib/python3.7/keyword.py'>\n",
            "spam          int       15\n",
            "this          module    <module 'this' from '/Use<...>3/lib/python3.7/this.py'>\n"
          ],
          "name": "stdout"
        }
      ]
    },
    {
      "cell_type": "markdown",
      "metadata": {
        "id": "xn-zOreAEWyx",
        "colab_type": "text"
      },
      "source": [
        "### 변수 이름 지정\n",
        "- 의미 있는 이름 사용 (권장)\n",
        "- 소문자/댐문자는 서로 다르게 취급\n",
        "- 변수 이름 : 영문자와 숫자, 밑줄로 이루어짐\n",
        "- 숫자로 시작할 수 없음\n",
        "- 낙타체(권장)"
      ]
    },
    {
      "cell_type": "markdown",
      "metadata": {
        "id": "HjpLW1wuEWyy",
        "colab_type": "text"
      },
      "source": [
        "#### 변수 이름을 사용하기에 적절?\n",
        "\n",
        "- sum (o)\n",
        "- 밑줄_count (o)\n",
        "- number_of_pictures (o)\n",
        "- King3 (o)\n",
        "- 2nd_base (x)\n",
        "- money# (x)\n",
        "- while (x)"
      ]
    },
    {
      "cell_type": "markdown",
      "metadata": {
        "id": "WneXjSwhEWyz",
        "colab_type": "text"
      },
      "source": [
        "- 변수 : id +  값 + type"
      ]
    },
    {
      "cell_type": "code",
      "metadata": {
        "id": "7bskTeI-EWyz",
        "colab_type": "code",
        "colab": {}
      },
      "source": [
        "spam = 15"
      ],
      "execution_count": 0,
      "outputs": []
    },
    {
      "cell_type": "code",
      "metadata": {
        "id": "1qetrjUPEWy1",
        "colab_type": "code",
        "colab": {},
        "outputId": "5b24b98b-af7d-44ef-b4e8-3c935fdeb2b2"
      },
      "source": [
        "spam + 5"
      ],
      "execution_count": 0,
      "outputs": [
        {
          "output_type": "execute_result",
          "data": {
            "text/plain": [
              "20"
            ]
          },
          "metadata": {
            "tags": []
          },
          "execution_count": 25
        }
      ]
    },
    {
      "cell_type": "code",
      "metadata": {
        "id": "SX8wh0h6EWy3",
        "colab_type": "code",
        "colab": {}
      },
      "source": [
        "spam = 3"
      ],
      "execution_count": 0,
      "outputs": []
    },
    {
      "cell_type": "code",
      "metadata": {
        "id": "CwPuDzi1EWy4",
        "colab_type": "code",
        "colab": {},
        "outputId": "41416fdf-e766-457b-bb0c-c7ecca1c6ff5"
      },
      "source": [
        "spam + 5"
      ],
      "execution_count": 0,
      "outputs": [
        {
          "output_type": "execute_result",
          "data": {
            "text/plain": [
              "8"
            ]
          },
          "metadata": {
            "tags": []
          },
          "execution_count": 27
        }
      ]
    },
    {
      "cell_type": "code",
      "metadata": {
        "id": "GATvXq6gEWy6",
        "colab_type": "code",
        "colab": {}
      },
      "source": [
        "spam = 5 + 7"
      ],
      "execution_count": 0,
      "outputs": []
    },
    {
      "cell_type": "code",
      "metadata": {
        "id": "2OtBFWCVEWy8",
        "colab_type": "code",
        "colab": {},
        "outputId": "55a3020d-0bf3-4e9d-d832-1733a4c10a13"
      },
      "source": [
        "spam"
      ],
      "execution_count": 0,
      "outputs": [
        {
          "output_type": "execute_result",
          "data": {
            "text/plain": [
              "12"
            ]
          },
          "metadata": {
            "tags": []
          },
          "execution_count": 29
        }
      ]
    },
    {
      "cell_type": "code",
      "metadata": {
        "id": "i2-PxpgNEWy-",
        "colab_type": "code",
        "colab": {}
      },
      "source": [
        "spam = 15"
      ],
      "execution_count": 0,
      "outputs": []
    },
    {
      "cell_type": "code",
      "metadata": {
        "id": "Tu12ps7CEWzA",
        "colab_type": "code",
        "colab": {},
        "outputId": "99ba406e-7ea5-4325-cb3a-cfafa725489a"
      },
      "source": [
        "spam + spam"
      ],
      "execution_count": 0,
      "outputs": [
        {
          "output_type": "execute_result",
          "data": {
            "text/plain": [
              "30"
            ]
          },
          "metadata": {
            "tags": []
          },
          "execution_count": 31
        }
      ]
    },
    {
      "cell_type": "code",
      "metadata": {
        "id": "6RZiF6FZEWzB",
        "colab_type": "code",
        "colab": {},
        "outputId": "ddb683e5-6969-4ff7-d498-162b3b5119a7"
      },
      "source": [
        "spam - spam"
      ],
      "execution_count": 0,
      "outputs": [
        {
          "output_type": "execute_result",
          "data": {
            "text/plain": [
              "0"
            ]
          },
          "metadata": {
            "tags": []
          },
          "execution_count": 32
        }
      ]
    },
    {
      "cell_type": "code",
      "metadata": {
        "id": "GDEdjJEjEWzD",
        "colab_type": "code",
        "colab": {}
      },
      "source": [
        "spam = 15"
      ],
      "execution_count": 0,
      "outputs": []
    },
    {
      "cell_type": "code",
      "metadata": {
        "id": "5k9CoxPbEWzF",
        "colab_type": "code",
        "colab": {}
      },
      "source": [
        "spam = spam + 5"
      ],
      "execution_count": 0,
      "outputs": []
    },
    {
      "cell_type": "code",
      "metadata": {
        "id": "mao21G8XEWzG",
        "colab_type": "code",
        "colab": {},
        "outputId": "0b87dd31-a2d7-40fc-bece-35e383fa85c1"
      },
      "source": [
        "spam"
      ],
      "execution_count": 0,
      "outputs": [
        {
          "output_type": "execute_result",
          "data": {
            "text/plain": [
              "20"
            ]
          },
          "metadata": {
            "tags": []
          },
          "execution_count": 35
        }
      ]
    },
    {
      "cell_type": "code",
      "metadata": {
        "id": "ap8H7622EWzJ",
        "colab_type": "code",
        "colab": {}
      },
      "source": [
        "spam = 15"
      ],
      "execution_count": 0,
      "outputs": []
    },
    {
      "cell_type": "code",
      "metadata": {
        "id": "puZIJEGpEWzL",
        "colab_type": "code",
        "colab": {}
      },
      "source": [
        "spam = spam + 5"
      ],
      "execution_count": 0,
      "outputs": []
    },
    {
      "cell_type": "code",
      "metadata": {
        "id": "Ocz7a26eEWzN",
        "colab_type": "code",
        "colab": {}
      },
      "source": [
        "spam = spam + 5"
      ],
      "execution_count": 0,
      "outputs": []
    },
    {
      "cell_type": "code",
      "metadata": {
        "id": "f8RuW8RNEWzO",
        "colab_type": "code",
        "colab": {}
      },
      "source": [
        "spam = spam + 5"
      ],
      "execution_count": 0,
      "outputs": []
    },
    {
      "cell_type": "code",
      "metadata": {
        "id": "VJ2O3whGEWzP",
        "colab_type": "code",
        "colab": {},
        "outputId": "322ea857-e663-4890-a4f7-f30dfd762db8"
      },
      "source": [
        "spam"
      ],
      "execution_count": 0,
      "outputs": [
        {
          "output_type": "execute_result",
          "data": {
            "text/plain": [
              "30"
            ]
          },
          "metadata": {
            "tags": []
          },
          "execution_count": 40
        }
      ]
    },
    {
      "cell_type": "markdown",
      "metadata": {
        "id": "-CAWuXCjEWzR",
        "colab_type": "text"
      },
      "source": [
        "### 문자열\n",
        "- 문자열은 문자뿐만 아니라 공백, 숫자, 특수문자를 포함할 수 있음"
      ]
    },
    {
      "cell_type": "code",
      "metadata": {
        "id": "w7oCxWK1EWzS",
        "colab_type": "code",
        "colab": {}
      },
      "source": [
        "spam = 'Hello'"
      ],
      "execution_count": 0,
      "outputs": []
    },
    {
      "cell_type": "code",
      "metadata": {
        "id": "N7XICcD9EWzU",
        "colab_type": "code",
        "colab": {}
      },
      "source": [
        "fizz = 'World'"
      ],
      "execution_count": 0,
      "outputs": []
    },
    {
      "cell_type": "code",
      "metadata": {
        "id": "ktyJqUlCEWzY",
        "colab_type": "code",
        "colab": {},
        "outputId": "7907e92b-60ac-4235-9bce-d8ee3ee380e0"
      },
      "source": [
        "'spam' + 'fizz'"
      ],
      "execution_count": 0,
      "outputs": [
        {
          "output_type": "execute_result",
          "data": {
            "text/plain": [
              "'spamfizz'"
            ]
          },
          "metadata": {
            "tags": []
          },
          "execution_count": 43
        }
      ]
    },
    {
      "cell_type": "code",
      "metadata": {
        "id": "h2NdpcBhEWza",
        "colab_type": "code",
        "colab": {}
      },
      "source": [
        "spam = 'Hello'"
      ],
      "execution_count": 0,
      "outputs": []
    },
    {
      "cell_type": "code",
      "metadata": {
        "id": "4tP2idJQEWzd",
        "colab_type": "code",
        "colab": {}
      },
      "source": [
        "fizz = 'World'"
      ],
      "execution_count": 0,
      "outputs": []
    },
    {
      "cell_type": "code",
      "metadata": {
        "id": "bwwiCkD9EWzf",
        "colab_type": "code",
        "colab": {},
        "outputId": "96298542-c35f-405f-d80d-b6cc16f78da2"
      },
      "source": [
        "spam + 'fizz'"
      ],
      "execution_count": 0,
      "outputs": [
        {
          "output_type": "execute_result",
          "data": {
            "text/plain": [
              "'Hellofizz'"
            ]
          },
          "metadata": {
            "tags": []
          },
          "execution_count": 46
        }
      ]
    },
    {
      "cell_type": "code",
      "metadata": {
        "id": "DjU_Pz_CEWzi",
        "colab_type": "code",
        "colab": {},
        "outputId": "7438cd25-8410-4b7e-8c70-125e8bc0b048"
      },
      "source": [
        "'hi' + spam + fizz"
      ],
      "execution_count": 0,
      "outputs": [
        {
          "output_type": "execute_result",
          "data": {
            "text/plain": [
              "'hiHelloWorld'"
            ]
          },
          "metadata": {
            "tags": []
          },
          "execution_count": 47
        }
      ]
    },
    {
      "cell_type": "code",
      "metadata": {
        "id": "KucffjmfEWzk",
        "colab_type": "code",
        "colab": {},
        "outputId": "d3efe241-be92-4235-fae5-635c9a7fcd5c"
      },
      "source": [
        "'Hello' + '5'"
      ],
      "execution_count": 0,
      "outputs": [
        {
          "output_type": "execute_result",
          "data": {
            "text/plain": [
              "'Hello5'"
            ]
          },
          "metadata": {
            "tags": []
          },
          "execution_count": 49
        }
      ]
    },
    {
      "cell_type": "code",
      "metadata": {
        "id": "d2gePLCvEWzm",
        "colab_type": "code",
        "colab": {},
        "outputId": "29487bed-44fe-43ca-9183-bd9cd91ca7ad"
      },
      "source": [
        "'5' + '5'"
      ],
      "execution_count": 0,
      "outputs": [
        {
          "output_type": "execute_result",
          "data": {
            "text/plain": [
              "'55'"
            ]
          },
          "metadata": {
            "tags": []
          },
          "execution_count": 51
        }
      ]
    },
    {
      "cell_type": "code",
      "metadata": {
        "id": "GLYr3VBpEWzp",
        "colab_type": "code",
        "colab": {}
      },
      "source": [
        "spam = 5"
      ],
      "execution_count": 0,
      "outputs": []
    },
    {
      "cell_type": "code",
      "metadata": {
        "id": "a-l_I_diEWzq",
        "colab_type": "code",
        "colab": {},
        "outputId": "05cc4698-7876-4da8-febb-3b108d557879"
      },
      "source": [
        "'Hello' + spam"
      ],
      "execution_count": 0,
      "outputs": [
        {
          "output_type": "error",
          "ename": "TypeError",
          "evalue": "can only concatenate str (not \"int\") to str",
          "traceback": [
            "\u001b[0;31m---------------------------------------------------------------------------\u001b[0m",
            "\u001b[0;31mTypeError\u001b[0m                                 Traceback (most recent call last)",
            "\u001b[0;32m<ipython-input-53-f6e86cabb9fd>\u001b[0m in \u001b[0;36m<module>\u001b[0;34m\u001b[0m\n\u001b[0;32m----> 1\u001b[0;31m \u001b[0;34m'Hello'\u001b[0m \u001b[0;34m+\u001b[0m \u001b[0mspam\u001b[0m\u001b[0;34m\u001b[0m\u001b[0;34m\u001b[0m\u001b[0m\n\u001b[0m",
            "\u001b[0;31mTypeError\u001b[0m: can only concatenate str (not \"int\") to str"
          ]
        }
      ]
    },
    {
      "cell_type": "code",
      "metadata": {
        "id": "xXVckhAbEWzs",
        "colab_type": "code",
        "colab": {}
      },
      "source": [
        "spam = 'Hello'"
      ],
      "execution_count": 0,
      "outputs": []
    },
    {
      "cell_type": "code",
      "metadata": {
        "id": "FM9q9_1yEWzt",
        "colab_type": "code",
        "colab": {}
      },
      "source": [
        "spam = 'World!'"
      ],
      "execution_count": 0,
      "outputs": []
    },
    {
      "cell_type": "code",
      "metadata": {
        "id": "X_4CsECgEWzv",
        "colab_type": "code",
        "colab": {},
        "outputId": "8365f272-f9c1-4b50-e796-ecbececdc785"
      },
      "source": [
        "spam + spam"
      ],
      "execution_count": 0,
      "outputs": [
        {
          "output_type": "execute_result",
          "data": {
            "text/plain": [
              "'World!World!'"
            ]
          },
          "metadata": {
            "tags": []
          },
          "execution_count": 56
        }
      ]
    },
    {
      "cell_type": "code",
      "metadata": {
        "id": "Ytj5ZuWZEWzx",
        "colab_type": "code",
        "colab": {},
        "outputId": "52056fa5-4ecf-455a-de77-616d66f70a72"
      },
      "source": [
        "'Hello' * 5"
      ],
      "execution_count": 0,
      "outputs": [
        {
          "output_type": "execute_result",
          "data": {
            "text/plain": [
              "'HelloHelloHelloHelloHello'"
            ]
          },
          "metadata": {
            "tags": []
          },
          "execution_count": 57
        }
      ]
    },
    {
      "cell_type": "code",
      "metadata": {
        "id": "zI47kdjaEWzy",
        "colab_type": "code",
        "colab": {}
      },
      "source": [
        "a = 1\n",
        "a = b = c = a"
      ],
      "execution_count": 0,
      "outputs": []
    },
    {
      "cell_type": "code",
      "metadata": {
        "id": "CrOKYUIzEWz0",
        "colab_type": "code",
        "colab": {},
        "outputId": "cdb46e01-b5e5-4c10-abc2-61d87afa98c3"
      },
      "source": [
        "lhs, rhs = lhs, rhs"
      ],
      "execution_count": 0,
      "outputs": [
        {
          "output_type": "error",
          "ename": "NameError",
          "evalue": "name 'lhs' is not defined",
          "traceback": [
            "\u001b[0;31m---------------------------------------------------------------------------\u001b[0m",
            "\u001b[0;31mNameError\u001b[0m                                 Traceback (most recent call last)",
            "\u001b[0;32m<ipython-input-59-6dfdf4a76e17>\u001b[0m in \u001b[0;36m<module>\u001b[0;34m\u001b[0m\n\u001b[0;32m----> 1\u001b[0;31m \u001b[0mlhs\u001b[0m\u001b[0;34m,\u001b[0m \u001b[0mrhs\u001b[0m \u001b[0;34m=\u001b[0m \u001b[0mlhs\u001b[0m\u001b[0;34m,\u001b[0m \u001b[0mrhs\u001b[0m\u001b[0;34m\u001b[0m\u001b[0;34m\u001b[0m\u001b[0m\n\u001b[0m",
            "\u001b[0;31mNameError\u001b[0m: name 'lhs' is not defined"
          ]
        }
      ]
    },
    {
      "cell_type": "code",
      "metadata": {
        "id": "GUHY_kNgEWz5",
        "colab_type": "code",
        "colab": {}
      },
      "source": [
        "a, b = 1, 2"
      ],
      "execution_count": 0,
      "outputs": []
    },
    {
      "cell_type": "code",
      "metadata": {
        "id": "ueAAt9XIEWz6",
        "colab_type": "code",
        "colab": {},
        "outputId": "161fbdfd-5e9d-40db-d82b-afd15311cb85"
      },
      "source": [
        "a"
      ],
      "execution_count": 0,
      "outputs": [
        {
          "output_type": "execute_result",
          "data": {
            "text/plain": [
              "1"
            ]
          },
          "metadata": {
            "tags": []
          },
          "execution_count": 61
        }
      ]
    },
    {
      "cell_type": "code",
      "metadata": {
        "id": "V5FLEajiEWz7",
        "colab_type": "code",
        "colab": {},
        "outputId": "deab99c2-3ed1-4803-a792-cee15f88f691"
      },
      "source": [
        "b"
      ],
      "execution_count": 0,
      "outputs": [
        {
          "output_type": "execute_result",
          "data": {
            "text/plain": [
              "2"
            ]
          },
          "metadata": {
            "tags": []
          },
          "execution_count": 62
        }
      ]
    },
    {
      "cell_type": "code",
      "metadata": {
        "id": "fpFPKWLLEWz9",
        "colab_type": "code",
        "colab": {},
        "outputId": "1af32356-b9c9-43db-ba16-b6462d9675fa"
      },
      "source": [
        "c"
      ],
      "execution_count": 0,
      "outputs": [
        {
          "output_type": "execute_result",
          "data": {
            "text/plain": [
              "1"
            ]
          },
          "metadata": {
            "tags": []
          },
          "execution_count": 63
        }
      ]
    },
    {
      "cell_type": "code",
      "metadata": {
        "id": "a48eBGHdEW0A",
        "colab_type": "code",
        "colab": {}
      },
      "source": [
        "counter = 0\n",
        "counter += 1"
      ],
      "execution_count": 0,
      "outputs": []
    },
    {
      "cell_type": "code",
      "metadata": {
        "id": "XBCc9N-3EW0B",
        "colab_type": "code",
        "colab": {},
        "outputId": "0d6b7b8d-a25c-4853-dcaa-7a4803f1ff9b"
      },
      "source": [
        "counter"
      ],
      "execution_count": 0,
      "outputs": [
        {
          "output_type": "execute_result",
          "data": {
            "text/plain": [
              "1"
            ]
          },
          "metadata": {
            "tags": []
          },
          "execution_count": 66
        }
      ]
    },
    {
      "cell_type": "code",
      "metadata": {
        "id": "N1IQ_A46EW0E",
        "colab_type": "code",
        "colab": {},
        "outputId": "ed9f7bc8-3d5b-45dc-a104-792ff1f0ce7f"
      },
      "source": [
        "a++"
      ],
      "execution_count": 0,
      "outputs": [
        {
          "output_type": "error",
          "ename": "SyntaxError",
          "evalue": "invalid syntax (<ipython-input-67-22e3d6dc1353>, line 1)",
          "traceback": [
            "\u001b[0;36m  File \u001b[0;32m\"<ipython-input-67-22e3d6dc1353>\"\u001b[0;36m, line \u001b[0;32m1\u001b[0m\n\u001b[0;31m    a++\u001b[0m\n\u001b[0m       ^\u001b[0m\n\u001b[0;31mSyntaxError\u001b[0m\u001b[0;31m:\u001b[0m invalid syntax\n"
          ]
        }
      ]
    },
    {
      "cell_type": "code",
      "metadata": {
        "id": "bmx4lZOjEW0H",
        "colab_type": "code",
        "colab": {},
        "outputId": "d6b10cdb-6233-430e-fedf-a01fab6f1aa4"
      },
      "source": [
        "a--"
      ],
      "execution_count": 0,
      "outputs": [
        {
          "output_type": "error",
          "ename": "SyntaxError",
          "evalue": "invalid syntax (<ipython-input-68-ea557c56caec>, line 1)",
          "traceback": [
            "\u001b[0;36m  File \u001b[0;32m\"<ipython-input-68-ea557c56caec>\"\u001b[0;36m, line \u001b[0;32m1\u001b[0m\n\u001b[0;31m    a--\u001b[0m\n\u001b[0m       ^\u001b[0m\n\u001b[0;31mSyntaxError\u001b[0m\u001b[0;31m:\u001b[0m invalid syntax\n"
          ]
        }
      ]
    },
    {
      "cell_type": "code",
      "metadata": {
        "id": "wxaGIBzGEW0I",
        "colab_type": "code",
        "colab": {},
        "outputId": "c835d7b5-38a8-445e-f5fd-e6079c6a80e2"
      },
      "source": [
        "c++"
      ],
      "execution_count": 0,
      "outputs": [
        {
          "output_type": "error",
          "ename": "SyntaxError",
          "evalue": "invalid syntax (<ipython-input-69-fb35cc329dab>, line 1)",
          "traceback": [
            "\u001b[0;36m  File \u001b[0;32m\"<ipython-input-69-fb35cc329dab>\"\u001b[0;36m, line \u001b[0;32m1\u001b[0m\n\u001b[0;31m    c++\u001b[0m\n\u001b[0m       ^\u001b[0m\n\u001b[0;31mSyntaxError\u001b[0m\u001b[0;31m:\u001b[0m invalid syntax\n"
          ]
        }
      ]
    },
    {
      "cell_type": "markdown",
      "metadata": {
        "id": "7YPm9KVUEW0K",
        "colab_type": "text"
      },
      "source": [
        "복합연사자인 +=, -=, *= 모두 사용 가능"
      ]
    },
    {
      "cell_type": "markdown",
      "metadata": {
        "id": "Q8eotOLJEW0K",
        "colab_type": "text"
      },
      "source": [
        "### 주석\n",
        "- 해시문자(#)로 시작하고 줄의 끝까지 이어 짐\n",
        "- 파이썬에서는 여러 줄 주석은 없고 한 줄 주석만 있음 (jupyter notebook)\n",
        "- IDE 환경에서는 ''' 으로 멀티라인 주석을 할 수 있음"
      ]
    },
    {
      "cell_type": "code",
      "metadata": {
        "id": "b8B92vcuEW0L",
        "colab_type": "code",
        "colab": {},
        "outputId": "c9502a14-bf62-4f67-f5fd-cfbb7f6316c4"
      },
      "source": [
        "# This program says hello and saasks for my name\n",
        "print('hello world!')\n",
        "print('input your name.')\n",
        "myName = input()\n",
        "print('Welcome, ' + myName + '.')"
      ],
      "execution_count": 0,
      "outputs": [
        {
          "output_type": "stream",
          "text": [
            "hello world!\n",
            "input your name.\n"
          ],
          "name": "stdout"
        },
        {
          "output_type": "stream",
          "text": [
            " Jin Hoon\n"
          ],
          "name": "stdin"
        },
        {
          "output_type": "stream",
          "text": [
            "Welcome, Jin Hoon.\n"
          ],
          "name": "stdout"
        }
      ]
    },
    {
      "cell_type": "code",
      "metadata": {
        "id": "ER04qHfREW0N",
        "colab_type": "code",
        "colab": {},
        "outputId": "06a298b7-ba3c-4ef5-e75f-cfd92a97eb12"
      },
      "source": [
        "# This program saays hello and asks for my name (특정 코드를 잠시 실행시키고 싶지 않을 때도 사용)\n",
        "print('hello world!')\n",
        "print('input your name.')"
      ],
      "execution_count": 0,
      "outputs": [
        {
          "output_type": "stream",
          "text": [
            "hello world!\n",
            "input your name.\n"
          ],
          "name": "stdout"
        }
      ]
    },
    {
      "cell_type": "code",
      "metadata": {
        "id": "v-DPsPLCEW0P",
        "colab_type": "code",
        "colab": {},
        "outputId": "546732c4-24ef-4891-9459-7b25c0034d4e"
      },
      "source": [
        "print('hello world!')\n",
        "print('input your name.')\n",
        "myName = input()\n",
        "print('Welcome, ', myName, '.')"
      ],
      "execution_count": 0,
      "outputs": [
        {
          "output_type": "stream",
          "text": [
            "hello world!\n",
            "input your name.\n"
          ],
          "name": "stdout"
        },
        {
          "output_type": "stream",
          "text": [
            " Jin-Hoon\n"
          ],
          "name": "stdin"
        },
        {
          "output_type": "stream",
          "text": [
            "Welcome,  Jin-Hoon .\n"
          ],
          "name": "stdout"
        }
      ]
    },
    {
      "cell_type": "markdown",
      "metadata": {
        "id": "zoHDnzNqEW0Q",
        "colab_type": "text"
      },
      "source": [
        "### 값에 대한 type이 중요함\n",
        "- 정수형\n",
        "- 실수형"
      ]
    },
    {
      "cell_type": "markdown",
      "metadata": {
        "id": "mSS_ygIAEW0Q",
        "colab_type": "text"
      },
      "source": [
        "### 정수형"
      ]
    },
    {
      "cell_type": "code",
      "metadata": {
        "id": "HMVLL_vdEW0Q",
        "colab_type": "code",
        "colab": {},
        "outputId": "5428709e-f5ff-4cce-9624-502b69b8a980"
      },
      "source": [
        "a = 10\n",
        "a"
      ],
      "execution_count": 0,
      "outputs": [
        {
          "output_type": "execute_result",
          "data": {
            "text/plain": [
              "10"
            ]
          },
          "metadata": {
            "tags": []
          },
          "execution_count": 3
        }
      ]
    },
    {
      "cell_type": "code",
      "metadata": {
        "id": "cgSnDY5fEW0T",
        "colab_type": "code",
        "colab": {},
        "outputId": "eb63882d-ea90-4956-9aaa-d606e31d4557"
      },
      "source": [
        "type(a)"
      ],
      "execution_count": 0,
      "outputs": [
        {
          "output_type": "execute_result",
          "data": {
            "text/plain": [
              "int"
            ]
          },
          "metadata": {
            "tags": []
          },
          "execution_count": 4
        }
      ]
    },
    {
      "cell_type": "code",
      "metadata": {
        "id": "I9oQ8A-6EW0U",
        "colab_type": "code",
        "colab": {},
        "outputId": "538cc637-b3b2-4baf-ae44-a3d808b8b7ec"
      },
      "source": [
        "b = -2\n",
        "b"
      ],
      "execution_count": 0,
      "outputs": [
        {
          "output_type": "execute_result",
          "data": {
            "text/plain": [
              "-2"
            ]
          },
          "metadata": {
            "tags": []
          },
          "execution_count": 5
        }
      ]
    },
    {
      "cell_type": "code",
      "metadata": {
        "id": "NJZ9jWllEW0W",
        "colab_type": "code",
        "colab": {},
        "outputId": "9541461a-53b0-4eed-ec44-4ae47262db76"
      },
      "source": [
        "type(b)"
      ],
      "execution_count": 0,
      "outputs": [
        {
          "output_type": "execute_result",
          "data": {
            "text/plain": [
              "int"
            ]
          },
          "metadata": {
            "tags": []
          },
          "execution_count": 6
        }
      ]
    },
    {
      "cell_type": "code",
      "metadata": {
        "id": "mD_oVPJUEW0X",
        "colab_type": "code",
        "colab": {},
        "outputId": "31dbf312-2583-49da-d763-c93784a210cd"
      },
      "source": [
        "c = int(10)\n",
        "c"
      ],
      "execution_count": 0,
      "outputs": [
        {
          "output_type": "execute_result",
          "data": {
            "text/plain": [
              "10"
            ]
          },
          "metadata": {
            "tags": []
          },
          "execution_count": 7
        }
      ]
    },
    {
      "cell_type": "code",
      "metadata": {
        "id": "qceGdrGaEW0a",
        "colab_type": "code",
        "colab": {},
        "outputId": "e27fa820-0935-46d1-d2cf-19c1aeef0f6c"
      },
      "source": [
        "type(c)"
      ],
      "execution_count": 0,
      "outputs": [
        {
          "output_type": "execute_result",
          "data": {
            "text/plain": [
              "int"
            ]
          },
          "metadata": {
            "tags": []
          },
          "execution_count": 8
        }
      ]
    },
    {
      "cell_type": "code",
      "metadata": {
        "id": "I7B8yrp8EW0e",
        "colab_type": "code",
        "colab": {},
        "outputId": "4218132a-e5aa-4172-db3c-d4da5ec9462c"
      },
      "source": [
        "d = int(-32)\n",
        "d"
      ],
      "execution_count": 0,
      "outputs": [
        {
          "output_type": "execute_result",
          "data": {
            "text/plain": [
              "-32"
            ]
          },
          "metadata": {
            "tags": []
          },
          "execution_count": 10
        }
      ]
    },
    {
      "cell_type": "code",
      "metadata": {
        "id": "vN4XVerfEW0g",
        "colab_type": "code",
        "colab": {},
        "outputId": "2e61616b-81e0-4edc-c031-d07c51795f23"
      },
      "source": [
        "type(d)"
      ],
      "execution_count": 0,
      "outputs": [
        {
          "output_type": "execute_result",
          "data": {
            "text/plain": [
              "int"
            ]
          },
          "metadata": {
            "tags": []
          },
          "execution_count": 12
        }
      ]
    },
    {
      "cell_type": "code",
      "metadata": {
        "id": "6TFINNCkEW0i",
        "colab_type": "code",
        "colab": {},
        "outputId": "64257d00-60f6-4f42-d6ec-1cba3a6d5b9f"
      },
      "source": [
        "c = int('10')\n",
        "c"
      ],
      "execution_count": 0,
      "outputs": [
        {
          "output_type": "execute_result",
          "data": {
            "text/plain": [
              "10"
            ]
          },
          "metadata": {
            "tags": []
          },
          "execution_count": 13
        }
      ]
    },
    {
      "cell_type": "code",
      "metadata": {
        "id": "Q5V3_MwkEW0k",
        "colab_type": "code",
        "colab": {},
        "outputId": "36eb8ad6-aa5b-443d-9e5c-2c3cc6fe16c3"
      },
      "source": [
        "import sys\n",
        "sys.maxsize"
      ],
      "execution_count": 0,
      "outputs": [
        {
          "output_type": "execute_result",
          "data": {
            "text/plain": [
              "9223372036854775807"
            ]
          },
          "metadata": {
            "tags": []
          },
          "execution_count": 14
        }
      ]
    },
    {
      "cell_type": "markdown",
      "metadata": {
        "id": "XzUHMuAtEW0m",
        "colab_type": "text"
      },
      "source": [
        "### 실수형"
      ]
    },
    {
      "cell_type": "code",
      "metadata": {
        "id": "Ks3y41rFEW0n",
        "colab_type": "code",
        "colab": {},
        "outputId": "7b0ed628-d459-4712-b4bf-71c73ef475c8"
      },
      "source": [
        "c = float(10)\n",
        "c"
      ],
      "execution_count": 0,
      "outputs": [
        {
          "output_type": "execute_result",
          "data": {
            "text/plain": [
              "10.0"
            ]
          },
          "metadata": {
            "tags": []
          },
          "execution_count": 15
        }
      ]
    },
    {
      "cell_type": "code",
      "metadata": {
        "id": "UBHBH86_EW0o",
        "colab_type": "code",
        "colab": {},
        "outputId": "954aadf4-3913-4903-ce00-c3e11f8dc61e"
      },
      "source": [
        "sys.float_info"
      ],
      "execution_count": 0,
      "outputs": [
        {
          "output_type": "execute_result",
          "data": {
            "text/plain": [
              "sys.float_info(max=1.7976931348623157e+308, max_exp=1024, max_10_exp=308, min=2.2250738585072014e-308, min_exp=-1021, min_10_exp=-307, dig=15, mant_dig=53, epsilon=2.220446049250313e-16, radix=2, rounds=1)"
            ]
          },
          "metadata": {
            "tags": []
          },
          "execution_count": 16
        }
      ]
    },
    {
      "cell_type": "markdown",
      "metadata": {
        "id": "0AZ_JP0aEW0q",
        "colab_type": "text"
      },
      "source": [
        "**파이썬에서는 실수형의 최대 범위를 넘어가게 되면 inf(무한대)로 변함**"
      ]
    },
    {
      "cell_type": "code",
      "metadata": {
        "id": "f4oAfP4LEW0q",
        "colab_type": "code",
        "colab": {},
        "outputId": "84e4d7db-69ff-4719-8e21-7c2c6a9c4f86"
      },
      "source": [
        "0.1 + 0.1 + 0.1 == 0.3"
      ],
      "execution_count": 0,
      "outputs": [
        {
          "output_type": "execute_result",
          "data": {
            "text/plain": [
              "False"
            ]
          },
          "metadata": {
            "tags": []
          },
          "execution_count": 17
        }
      ]
    },
    {
      "cell_type": "code",
      "metadata": {
        "id": "94rg9lciEW0t",
        "colab_type": "code",
        "colab": {},
        "outputId": "808fe127-1815-4429-ca3d-f77f5ff8b56d"
      },
      "source": [
        "0.1 + 0.1 + 0.1"
      ],
      "execution_count": 0,
      "outputs": [
        {
          "output_type": "execute_result",
          "data": {
            "text/plain": [
              "0.30000000000000004"
            ]
          },
          "metadata": {
            "tags": []
          },
          "execution_count": 18
        }
      ]
    },
    {
      "cell_type": "code",
      "metadata": {
        "id": "JzCJCRCZEW0u",
        "colab_type": "code",
        "colab": {},
        "outputId": "649eae56-e3ce-4bec-e08a-2f882ae065a7"
      },
      "source": [
        "c = float('10')\n",
        "c"
      ],
      "execution_count": 0,
      "outputs": [
        {
          "output_type": "execute_result",
          "data": {
            "text/plain": [
              "10.0"
            ]
          },
          "metadata": {
            "tags": []
          },
          "execution_count": 19
        }
      ]
    },
    {
      "cell_type": "code",
      "metadata": {
        "id": "a3o5Yw8lEW0x",
        "colab_type": "code",
        "colab": {},
        "outputId": "557a1262-f95a-41ec-866b-53003460c8ee"
      },
      "source": [
        "type(c)"
      ],
      "execution_count": 0,
      "outputs": [
        {
          "output_type": "execute_result",
          "data": {
            "text/plain": [
              "float"
            ]
          },
          "metadata": {
            "tags": []
          },
          "execution_count": 20
        }
      ]
    },
    {
      "cell_type": "code",
      "metadata": {
        "id": "Ckt6uYQaEW0x",
        "colab_type": "code",
        "colab": {}
      },
      "source": [
        ""
      ],
      "execution_count": 0,
      "outputs": []
    }
  ]
}