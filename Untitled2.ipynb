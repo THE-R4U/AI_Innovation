{
 "cells": [
  {
   "cell_type": "code",
   "execution_count": null,
   "metadata": {},
   "outputs": [],
   "source": [
    "import requests\n",
    "import urllib3\n",
    "import pymongo\n",
    " \n",
    " \n",
    "def get_request_by_episode(episode):\n",
    "    params = {\n",
    "        'method': 'getLottoNumber',\n",
    "        'drwNo': episode\n",
    "    }\n",
    " \n",
    "    # verify=False SSL 무시\n",
    "    req = requests.get('https://www.nlotto.co.kr/common.do', params=params, verify=False)\n",
    "    result = req.json()\n",
    "    return result\n",
    " \n",
    " \n",
    "def return_last_episode_in_db():\n",
    "    # db connection\n",
    "    conn = pymongo.MongoClient('localhost')\n",
    "    db = conn.lotto_db\n",
    "    collection = db.lotto\n",
    " \n",
    "    # db에 저장된 마지막 회차 받아오기\n",
    "    last_insert_episode = collection.find().sort('drwNo', -1).limit(1)\n",
    " \n",
    "    # db 도큐먼트가 하나라도 있는지 확인\n",
    "    try:\n",
    "        last_episode = last_insert_episode.next()['drwNo']\n",
    "    except StopIteration:\n",
    "        last_episode = 0\n",
    "    finally:\n",
    "        conn.close()\n",
    " \n",
    "    return last_episode\n",
    " \n",
    " \n",
    "def insert_episode_to_db():\n",
    "    # db connection\n",
    "    conn = pymongo.MongoClient('localhost')\n",
    "    db = conn.lotto_db\n",
    "    collection = db.lotto\n",
    " \n",
    "    # db에 저장된 마지막 회차보다 1큰 수 부터 받아온다\n",
    "    count = return_last_episode_in_db() + 1\n",
    "    while 1:\n",
    "        # 회차별 get request\n",
    "        lotto_result = get_request_by_episode(count)\n",
    "        # 로또 정보가 있는지 확인\n",
    "        if lotto_result['returnValue'] != 'success':\n",
    "            break\n",
    " \n",
    "        # db에 추가할 회차가 이미 저장되어 있는지 확인\n",
    "        count_result = collection.count_documents({'drwNo': count})\n",
    "        if count_result < 1:\n",
    "            # db insert\n",
    "            collection.insert_one(lotto_result)\n",
    "            print(lotto_result)\n",
    "        count = count + 1\n",
    " \n",
    "    conn.close()\n",
    " \n",
    " \n",
    "if __name__ == '__main__':\n",
    "    # Warning log 없애기\n",
    "    urllib3.disable_warnings()\n",
    " \n",
    "    # db insert 절차 진행\n",
    "    insert_episode_to_db()\n",
    " "
   ]
  },
  {
   "cell_type": "code",
   "execution_count": 4,
   "metadata": {},
   "outputs": [
    {
     "ename": "NameError",
     "evalue": "name 'db' is not defined",
     "output_type": "error",
     "traceback": [
      "\u001b[0;31m---------------------------------------------------------------------------\u001b[0m",
      "\u001b[0;31mNameError\u001b[0m                                 Traceback (most recent call last)",
      "\u001b[0;32m<ipython-input-4-f5b4e5eae8e6>\u001b[0m in \u001b[0;36m<module>\u001b[0;34m\u001b[0m\n\u001b[0;32m----> 1\u001b[0;31m \u001b[0mdb\u001b[0m\u001b[0;34m.\u001b[0m\u001b[0mlotto\u001b[0m\u001b[0;34m.\u001b[0m\u001b[0mfind\u001b[0m\u001b[0;34m.\u001b[0m\u001b[0mcount\u001b[0m\u001b[0;34m(\u001b[0m\u001b[0;34m)\u001b[0m\u001b[0;34m\u001b[0m\u001b[0;34m\u001b[0m\u001b[0m\n\u001b[0m",
      "\u001b[0;31mNameError\u001b[0m: name 'db' is not defined"
     ]
    }
   ],
   "source": [
    "db.lotto.find.count()"
   ]
  },
  {
   "cell_type": "code",
   "execution_count": null,
   "metadata": {},
   "outputs": [],
   "source": []
  }
 ],
 "metadata": {
  "kernelspec": {
   "display_name": "Python 3",
   "language": "python",
   "name": "python3"
  },
  "language_info": {
   "codemirror_mode": {
    "name": "ipython",
    "version": 3
   },
   "file_extension": ".py",
   "mimetype": "text/x-python",
   "name": "python",
   "nbconvert_exporter": "python",
   "pygments_lexer": "ipython3",
   "version": "3.7.3"
  }
 },
 "nbformat": 4,
 "nbformat_minor": 2
}
