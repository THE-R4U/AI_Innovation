{
 "cells": [
  {
   "cell_type": "code",
   "execution_count": 1,
   "metadata": {},
   "outputs": [
    {
     "name": "stdin",
     "output_type": "stream",
     "text": [
      "lotto 구매 개수를 입력  :  20\n"
     ]
    },
    {
     "name": "stdout",
     "output_type": "stream",
     "text": [
      "----------------------\n",
      "[2, 5, 13, 21, 23, 31]\n",
      "[8, 12, 23, 25, 27, 38]\n",
      "[6, 12, 14, 25, 35, 39]\n",
      "[9, 10, 15, 31, 32, 44]\n",
      "[3, 6, 15, 22, 40, 45]\n",
      "[1, 7, 11, 18, 25, 35]\n",
      "[3, 13, 15, 21, 29, 36]\n",
      "[6, 11, 14, 20, 25, 32]\n",
      "[16, 18, 22, 30, 31, 44]\n",
      "[5, 24, 26, 28, 34, 37]\n",
      "[15, 16, 26, 27, 28, 38]\n",
      "[18, 28, 30, 34, 36, 40]\n",
      "[2, 8, 20, 32, 33, 37]\n",
      "[7, 26, 27, 35, 38, 41]\n",
      "[24, 27, 32, 33, 39, 44]\n",
      "[3, 9, 14, 19, 20, 39]\n",
      "[5, 6, 12, 31, 32, 36]\n",
      "[6, 7, 12, 29, 30, 38]\n",
      "[1, 19, 25, 26, 34, 40]\n",
      "[14, 21, 27, 32, 41, 44]\n"
     ]
    }
   ],
   "source": [
    "import random\n",
    " \n",
    "buy = int(input(\"lotto 구매 개수를 입력  : \"))\n",
    " \n",
    "print(\"----------------------\")\n",
    " \n",
    "for x in range(1, buy+1):\n",
    "    lucky = [0, 0, 0, 0, 0, 0]\n",
    " \n",
    "    lucky[0] = random.randrange(1, 46, 1)\n",
    " \n",
    "    lucky[1] = lucky[0]\n",
    "    lucky[2] = lucky[0]\n",
    "    lucky[3] = lucky[0]\n",
    "    lucky[4] = lucky[0]\n",
    "    lucky[5] = lucky[0]\n",
    " \n",
    "    while (lucky[0] == lucky[1]):\n",
    "        lucky[1] = random.randrange(1, 46, 1)\n",
    "    while (lucky[0] == lucky[2] or lucky[1] == lucky[2]):\n",
    "        lucky[2] = random.randrange(1, 46, 1)\n",
    "    while (lucky[0] == lucky[3] or lucky[1] == lucky[3] or lucky[2] == lucky[3]):\n",
    "        lucky[3] = random.randrange(1, 46, 1)\n",
    "    while (lucky[0] == lucky[4] or lucky[1] == lucky[4] or lucky[2] == lucky[4] or lucky[3] == lucky[4]):\n",
    "        lucky[4] = random.randrange(1, 46, 1)\n",
    "    while (lucky[0] == lucky[5] or lucky[1] == lucky[5] or lucky[2] == lucky[5] or lucky[3] == lucky[5] or lucky[4] == lucky[5]):\n",
    "        lucky[5] = random.randrange(1, 46, 1)\n",
    " \n",
    "    lucky.sort()\n",
    " \n",
    "    print(lucky)"
   ]
  },
  {
   "cell_type": "code",
   "execution_count": null,
   "metadata": {},
   "outputs": [],
   "source": []
  }
 ],
 "metadata": {
  "kernelspec": {
   "display_name": "Python 3",
   "language": "python",
   "name": "python3"
  },
  "language_info": {
   "codemirror_mode": {
    "name": "ipython",
    "version": 3
   },
   "file_extension": ".py",
   "mimetype": "text/x-python",
   "name": "python",
   "nbconvert_exporter": "python",
   "pygments_lexer": "ipython3",
   "version": "3.7.3"
  }
 },
 "nbformat": 4,
 "nbformat_minor": 2
}
