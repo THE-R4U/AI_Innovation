{
 "cells": [
  {
   "cell_type": "markdown",
   "metadata": {},
   "source": [
    "# 4일차 - 제어 구문\n",
    "\n",
    "## 튜플\n",
    "- 리스트와 동일하지만, 튜플은 불변객체이다는 차이점이 있음"
   ]
  },
  {
   "cell_type": "code",
   "execution_count": 1,
   "metadata": {},
   "outputs": [],
   "source": [
    "a = (1,2,3,4,5)"
   ]
  },
  {
   "cell_type": "code",
   "execution_count": 2,
   "metadata": {},
   "outputs": [
    {
     "data": {
      "text/plain": [
       "(1, 2, 3, 4, 5)"
      ]
     },
     "execution_count": 2,
     "metadata": {},
     "output_type": "execute_result"
    }
   ],
   "source": [
    "a"
   ]
  },
  {
   "cell_type": "code",
   "execution_count": 26,
   "metadata": {},
   "outputs": [
    {
     "ename": "TypeError",
     "evalue": "'tuple' object does not support item assignment",
     "output_type": "error",
     "traceback": [
      "\u001b[0;31m---------------------------------------------------------------------------\u001b[0m",
      "\u001b[0;31mTypeError\u001b[0m                                 Traceback (most recent call last)",
      "\u001b[0;32m<ipython-input-26-005d3c121641>\u001b[0m in \u001b[0;36m<module>\u001b[0;34m\u001b[0m\n\u001b[1;32m      1\u001b[0m \u001b[0;31m# 불변객체이므로 오류가 난다\u001b[0m\u001b[0;34m\u001b[0m\u001b[0;34m\u001b[0m\u001b[0;34m\u001b[0m\u001b[0m\n\u001b[0;32m----> 2\u001b[0;31m \u001b[0ma\u001b[0m\u001b[0;34m[\u001b[0m\u001b[0;36m0\u001b[0m\u001b[0;34m]\u001b[0m \u001b[0;34m=\u001b[0m \u001b[0;36m0\u001b[0m\u001b[0;34m\u001b[0m\u001b[0;34m\u001b[0m\u001b[0m\n\u001b[0m",
      "\u001b[0;31mTypeError\u001b[0m: 'tuple' object does not support item assignment"
     ]
    }
   ],
   "source": [
    "# 불변객체이므로 오류가 난다\n",
    "a[0] = 0"
   ]
  },
  {
   "cell_type": "code",
   "execution_count": 6,
   "metadata": {},
   "outputs": [
    {
     "data": {
      "text/plain": [
       "(1, 2, 3, 4, 5, 6, 7, 8, 9)"
      ]
     },
     "execution_count": 6,
     "metadata": {},
     "output_type": "execute_result"
    }
   ],
   "source": [
    "b = tuple(range(1,10))\n",
    "b"
   ]
  },
  {
   "cell_type": "code",
   "execution_count": 10,
   "metadata": {},
   "outputs": [
    {
     "data": {
      "text/plain": [
       "1"
      ]
     },
     "execution_count": 10,
     "metadata": {},
     "output_type": "execute_result"
    }
   ],
   "source": [
    "b.count(7) # 해당하는 아이템 7의 개수를 세어준다"
   ]
  },
  {
   "cell_type": "code",
   "execution_count": 11,
   "metadata": {},
   "outputs": [
    {
     "data": {
      "text/plain": [
       "6"
      ]
     },
     "execution_count": 11,
     "metadata": {},
     "output_type": "execute_result"
    }
   ],
   "source": [
    "b.index(7) # 아이템 7의 인덱스를 알려준다"
   ]
  },
  {
   "cell_type": "markdown",
   "metadata": {},
   "source": [
    "### 다양한 tuple 값 대입"
   ]
  },
  {
   "cell_type": "code",
   "execution_count": 12,
   "metadata": {},
   "outputs": [
    {
     "data": {
      "text/plain": [
       "tuple"
      ]
     },
     "execution_count": 12,
     "metadata": {},
     "output_type": "execute_result"
    }
   ],
   "source": [
    "x = 1,\n",
    "type(x)"
   ]
  },
  {
   "cell_type": "code",
   "execution_count": 13,
   "metadata": {},
   "outputs": [
    {
     "data": {
      "text/plain": [
       "tuple"
      ]
     },
     "execution_count": 13,
     "metadata": {},
     "output_type": "execute_result"
    }
   ],
   "source": [
    "x = 1, 2\n",
    "type(x)"
   ]
  },
  {
   "cell_type": "code",
   "execution_count": 16,
   "metadata": {},
   "outputs": [
    {
     "data": {
      "text/plain": [
       "int"
      ]
     },
     "execution_count": 16,
     "metadata": {},
     "output_type": "execute_result"
    }
   ],
   "source": [
    "x, y = 1, 2\n",
    "type(x)"
   ]
  },
  {
   "cell_type": "code",
   "execution_count": 20,
   "metadata": {},
   "outputs": [
    {
     "data": {
      "text/plain": [
       "tuple"
      ]
     },
     "execution_count": 20,
     "metadata": {},
     "output_type": "execute_result"
    }
   ],
   "source": [
    "x = 1, (2,3)\n",
    "type(x)"
   ]
  },
  {
   "cell_type": "code",
   "execution_count": 21,
   "metadata": {},
   "outputs": [
    {
     "data": {
      "text/plain": [
       "tuple"
      ]
     },
     "execution_count": 21,
     "metadata": {},
     "output_type": "execute_result"
    }
   ],
   "source": [
    "x = (1,)\n",
    "type(x)"
   ]
  },
  {
   "cell_type": "code",
   "execution_count": 22,
   "metadata": {},
   "outputs": [
    {
     "data": {
      "text/plain": [
       "tuple"
      ]
     },
     "execution_count": 22,
     "metadata": {},
     "output_type": "execute_result"
    }
   ],
   "source": [
    "x = (1,(2,3))\n",
    "type(x)"
   ]
  },
  {
   "cell_type": "code",
   "execution_count": 23,
   "metadata": {},
   "outputs": [
    {
     "data": {
      "text/plain": [
       "tuple"
      ]
     },
     "execution_count": 23,
     "metadata": {},
     "output_type": "execute_result"
    }
   ],
   "source": [
    "x = (1,(2,3))\n",
    "type(x)"
   ]
  },
  {
   "cell_type": "code",
   "execution_count": 24,
   "metadata": {},
   "outputs": [
    {
     "data": {
      "text/plain": [
       "int"
      ]
     },
     "execution_count": 24,
     "metadata": {},
     "output_type": "execute_result"
    }
   ],
   "source": [
    "(x,y) = (1,2)\n",
    "type(x)"
   ]
  },
  {
   "cell_type": "code",
   "execution_count": 25,
   "metadata": {},
   "outputs": [
    {
     "data": {
      "text/plain": [
       "tuple"
      ]
     },
     "execution_count": 25,
     "metadata": {},
     "output_type": "execute_result"
    }
   ],
   "source": [
    "type((x,y))"
   ]
  },
  {
   "cell_type": "markdown",
   "metadata": {},
   "source": [
    "## 딕셔너리\n",
    "- key와 value 쌍으로 이루어진 자료구조\n",
    "- 중괄호 {}로 생성"
   ]
  },
  {
   "cell_type": "code",
   "execution_count": 28,
   "metadata": {},
   "outputs": [
    {
     "data": {
      "text/plain": [
       "{'a': 1, 'b': 2}"
      ]
     },
     "execution_count": 28,
     "metadata": {},
     "output_type": "execute_result"
    }
   ],
   "source": [
    "a = {'a':1, 'b':2}\n",
    "a"
   ]
  },
  {
   "cell_type": "code",
   "execution_count": 29,
   "metadata": {},
   "outputs": [
    {
     "data": {
      "text/plain": [
       "{'신사임당': '010-1234-5678', '홍길동': '010-4532-4532'}"
      ]
     },
     "execution_count": 29,
     "metadata": {},
     "output_type": "execute_result"
    }
   ],
   "source": [
    "phone_book = {'신사임당': '010-1234-5678', '홍길동':'010-4532-4532'}\n",
    "phone_book"
   ]
  },
  {
   "cell_type": "markdown",
   "metadata": {},
   "source": [
    "### 딕셔너리 키-값 추가"
   ]
  },
  {
   "cell_type": "code",
   "execution_count": 30,
   "metadata": {},
   "outputs": [],
   "source": [
    "phone_book['이순신'] = '010-0987-6543'"
   ]
  },
  {
   "cell_type": "code",
   "execution_count": 31,
   "metadata": {},
   "outputs": [
    {
     "data": {
      "text/plain": [
       "{'신사임당': '010-1234-5678', '홍길동': '010-4532-4532', '이순신': '010-0987-6543'}"
      ]
     },
     "execution_count": 31,
     "metadata": {},
     "output_type": "execute_result"
    }
   ],
   "source": [
    "phone_book"
   ]
  },
  {
   "cell_type": "markdown",
   "metadata": {},
   "source": [
    "### 딕셔너리 키-값 검색"
   ]
  },
  {
   "cell_type": "code",
   "execution_count": 32,
   "metadata": {},
   "outputs": [
    {
     "data": {
      "text/plain": [
       "'010-0987-6543'"
      ]
     },
     "execution_count": 32,
     "metadata": {},
     "output_type": "execute_result"
    }
   ],
   "source": [
    "phone_book['이순신']"
   ]
  },
  {
   "cell_type": "code",
   "execution_count": 33,
   "metadata": {},
   "outputs": [
    {
     "data": {
      "text/plain": [
       "True"
      ]
     },
     "execution_count": 33,
     "metadata": {},
     "output_type": "execute_result"
    }
   ],
   "source": [
    "'이순신' in phone_book"
   ]
  },
  {
   "cell_type": "code",
   "execution_count": 34,
   "metadata": {},
   "outputs": [
    {
     "data": {
      "text/plain": [
       "False"
      ]
     },
     "execution_count": 34,
     "metadata": {},
     "output_type": "execute_result"
    }
   ],
   "source": [
    "'강감찬' in phone_book"
   ]
  },
  {
   "cell_type": "code",
   "execution_count": 35,
   "metadata": {},
   "outputs": [
    {
     "data": {
      "text/plain": [
       "'010-0987-6543'"
      ]
     },
     "execution_count": 35,
     "metadata": {},
     "output_type": "execute_result"
    }
   ],
   "source": [
    "phone_book.get('이순신')"
   ]
  },
  {
   "cell_type": "markdown",
   "metadata": {},
   "source": [
    "### 딕셔너리 keys 출력"
   ]
  },
  {
   "cell_type": "code",
   "execution_count": 36,
   "metadata": {},
   "outputs": [
    {
     "data": {
      "text/plain": [
       "dict_keys(['신사임당', '홍길동', '이순신'])"
      ]
     },
     "execution_count": 36,
     "metadata": {},
     "output_type": "execute_result"
    }
   ],
   "source": [
    "phone_book.keys()"
   ]
  },
  {
   "cell_type": "markdown",
   "metadata": {},
   "source": [
    "### 딕셔너리 values 출력"
   ]
  },
  {
   "cell_type": "code",
   "execution_count": 37,
   "metadata": {},
   "outputs": [
    {
     "data": {
      "text/plain": [
       "dict_values(['010-1234-5678', '010-4532-4532', '010-0987-6543'])"
      ]
     },
     "execution_count": 37,
     "metadata": {},
     "output_type": "execute_result"
    }
   ],
   "source": [
    "phone_book.values()"
   ]
  },
  {
   "cell_type": "markdown",
   "metadata": {},
   "source": [
    "### 딕셔너리 항목 삭제"
   ]
  },
  {
   "cell_type": "code",
   "execution_count": 38,
   "metadata": {},
   "outputs": [],
   "source": [
    "del phone_book['홍길동']"
   ]
  },
  {
   "cell_type": "code",
   "execution_count": 39,
   "metadata": {},
   "outputs": [
    {
     "data": {
      "text/plain": [
       "{'신사임당': '010-1234-5678', '이순신': '010-0987-6543'}"
      ]
     },
     "execution_count": 39,
     "metadata": {},
     "output_type": "execute_result"
    }
   ],
   "source": [
    "phone_book"
   ]
  },
  {
   "cell_type": "code",
   "execution_count": 40,
   "metadata": {},
   "outputs": [
    {
     "data": {
      "text/plain": [
       "{}"
      ]
     },
     "execution_count": 40,
     "metadata": {},
     "output_type": "execute_result"
    }
   ],
   "source": [
    "phone_book.clear()\n",
    "phone_book"
   ]
  },
  {
   "cell_type": "code",
   "execution_count": 41,
   "metadata": {},
   "outputs": [],
   "source": [
    "phone_book = {'신사임당': '010-1234-5678', '홍길동':'010-4532-4532', '이순신': '010-0987-6543'}"
   ]
  },
  {
   "cell_type": "code",
   "execution_count": 42,
   "metadata": {},
   "outputs": [
    {
     "name": "stdout",
     "output_type": "stream",
     "text": [
      "신사임당\n",
      "홍길동\n",
      "이순신\n"
     ]
    }
   ],
   "source": [
    "for i in phone_book:\n",
    "    print(i)"
   ]
  },
  {
   "cell_type": "code",
   "execution_count": 43,
   "metadata": {},
   "outputs": [
    {
     "name": "stdout",
     "output_type": "stream",
     "text": [
      "신사임당\n",
      "홍길동\n",
      "이순신\n",
      "end\n"
     ]
    }
   ],
   "source": [
    "for i in phone_book:\n",
    "    print(i)\n",
    "else:\n",
    "    print('end')"
   ]
  },
  {
   "cell_type": "code",
   "execution_count": 44,
   "metadata": {},
   "outputs": [
    {
     "name": "stdout",
     "output_type": "stream",
     "text": [
      "신사임당\n",
      "홍길동\n",
      "이순신\n"
     ]
    }
   ],
   "source": [
    "# key값만 출력\n",
    "for i in phone_book.keys():\n",
    "    print(i)"
   ]
  },
  {
   "cell_type": "code",
   "execution_count": 45,
   "metadata": {},
   "outputs": [
    {
     "name": "stdout",
     "output_type": "stream",
     "text": [
      "010-1234-5678\n",
      "010-4532-4532\n",
      "010-0987-6543\n"
     ]
    }
   ],
   "source": [
    "# value값만 출력\n",
    "for i in phone_book.values():\n",
    "    print(i)"
   ]
  },
  {
   "cell_type": "code",
   "execution_count": 49,
   "metadata": {},
   "outputs": [
    {
     "name": "stdout",
     "output_type": "stream",
     "text": [
      "('신사임당', '010-1234-5678')\n",
      "('홍길동', '010-4532-4532')\n",
      "('이순신', '010-0987-6543')\n"
     ]
    }
   ],
   "source": [
    "# key와 value 모두 출력 (Tuple 형식)\n",
    "for i in phone_book.items():\n",
    "    print(i)"
   ]
  },
  {
   "cell_type": "code",
   "execution_count": 51,
   "metadata": {},
   "outputs": [
    {
     "name": "stdout",
     "output_type": "stream",
     "text": [
      "신사임당 010-1234-5678\n",
      "홍길동 010-4532-4532\n",
      "이순신 010-0987-6543\n"
     ]
    }
   ],
   "source": [
    "# key와 value 모두 출력 (일반 형식)\n",
    "for i, j in phone_book.items():\n",
    "    print(i, j)"
   ]
  },
  {
   "cell_type": "markdown",
   "metadata": {},
   "source": [
    "### 편의점 제고관리 프로그램"
   ]
  },
  {
   "cell_type": "code",
   "execution_count": 53,
   "metadata": {},
   "outputs": [
    {
     "data": {
      "text/plain": [
       "{'커피': 7, '펜': 3, '종이컵': 2, '우유': 1, '콜라': 4, '책': 5}"
      ]
     },
     "execution_count": 53,
     "metadata": {},
     "output_type": "execute_result"
    }
   ],
   "source": [
    "# 편의점 아이템\n",
    "\n",
    "items = {\"커피\":7, \"펜\":3, \"종이컵\":2, \"우유\":1, \"콜라\":4, \"책\":5}\n",
    "items"
   ]
  },
  {
   "cell_type": "code",
   "execution_count": 59,
   "metadata": {},
   "outputs": [
    {
     "name": "stdout",
     "output_type": "stream",
     "text": [
      "----------메 뉴----------\n",
      "1.재고확인   2.판매   3.종료\n"
     ]
    },
    {
     "name": "stdin",
     "output_type": "stream",
     "text": [
      " 1\n",
      "재고 확인을 위한 물건명을 입력하세요. 콜라\n"
     ]
    },
    {
     "name": "stdout",
     "output_type": "stream",
     "text": [
      "----------메 뉴----------\n",
      "1.재고확인   2.판매   3.종료\n"
     ]
    },
    {
     "name": "stdin",
     "output_type": "stream",
     "text": [
      " 2\n",
      "판매한 물건명을 입력하세요. 콜라\n",
      "콜라의 판매 개수를 입력하세요. 7\n"
     ]
    },
    {
     "name": "stdout",
     "output_type": "stream",
     "text": [
      "----------메 뉴----------\n",
      "1.재고확인   2.판매   3.종료\n"
     ]
    },
    {
     "name": "stdin",
     "output_type": "stream",
     "text": [
      " 3\n"
     ]
    }
   ],
   "source": [
    "menu = 0\n",
    "\n",
    "while menu != 3:\n",
    "    print('----------메 뉴----------')\n",
    "    print('1.재고확인   2.판매   3.종료')\n",
    "    menu = int(input())\n",
    "    if menu == 1:\n",
    "        value = input('재고 확인을 위한 물건명을 입력하세요.')\n",
    "        items[value]\n",
    "    elif menu == 2:\n",
    "        value = input('판매한 물건명을 입력하세요.')\n",
    "        cnt = int(input(value + '의 판매 개수를 입력하세요.'))\n"
   ]
  },
  {
   "cell_type": "code",
   "execution_count": 58,
   "metadata": {},
   "outputs": [
    {
     "name": "stdin",
     "output_type": "stream",
     "text": [
      "콜라의 개수를 입력하세요 5\n"
     ]
    }
   ],
   "source": [
    "a = '콜라'\n",
    "b = input(a + '의 개수를 입력하세요')"
   ]
  },
  {
   "cell_type": "markdown",
   "metadata": {},
   "source": [
    "## 집합 (Set)\n",
    "- set은 순서가 없으며, 수정이 가능하고, 값이 중복되지 않음"
   ]
  },
  {
   "cell_type": "code",
   "execution_count": 62,
   "metadata": {},
   "outputs": [
    {
     "data": {
      "text/plain": [
       "set"
      ]
     },
     "execution_count": 62,
     "metadata": {},
     "output_type": "execute_result"
    }
   ],
   "source": [
    "a = {1,2,3,4,5}\n",
    "a\n",
    "type(a)"
   ]
  },
  {
   "cell_type": "code",
   "execution_count": 64,
   "metadata": {},
   "outputs": [
    {
     "data": {
      "text/plain": [
       "{1, 2, 3, 4, 6, 7, 8, 10}"
      ]
     },
     "execution_count": 64,
     "metadata": {},
     "output_type": "execute_result"
    }
   ],
   "source": [
    "# 리스트를 집합으로 넣을 수 있다 (필요없는 중복 값을 없앨 때 유용하다)\n",
    "b = set([1,2,4,2,2,6,6,6,7,8,10,4,2,8,6,3])\n",
    "b"
   ]
  },
  {
   "cell_type": "code",
   "execution_count": 66,
   "metadata": {},
   "outputs": [
    {
     "data": {
      "text/plain": [
       "{1, 2, 3, 4, 5, 6, 7, 8, 10}"
      ]
     },
     "execution_count": 66,
     "metadata": {},
     "output_type": "execute_result"
    }
   ],
   "source": [
    "# set에 아이템 추가\n",
    "b.add(5)\n",
    "b"
   ]
  },
  {
   "cell_type": "code",
   "execution_count": 68,
   "metadata": {},
   "outputs": [
    {
     "data": {
      "text/plain": [
       "{1, 2, 3, 4, 6, 7, 8, 10}"
      ]
     },
     "execution_count": 68,
     "metadata": {},
     "output_type": "execute_result"
    }
   ],
   "source": [
    "# set에 아이템 제거\n",
    "b.remove(5)\n",
    "b"
   ]
  },
  {
   "cell_type": "code",
   "execution_count": 70,
   "metadata": {},
   "outputs": [
    {
     "data": {
      "text/plain": [
       "set()"
      ]
     },
     "execution_count": 70,
     "metadata": {},
     "output_type": "execute_result"
    }
   ],
   "source": [
    "# set 아이템 모두 제거\n",
    "b.clear()\n",
    "b"
   ]
  },
  {
   "cell_type": "code",
   "execution_count": 71,
   "metadata": {},
   "outputs": [
    {
     "data": {
      "text/plain": [
       "{2, 3, 4, 5}"
      ]
     },
     "execution_count": 71,
     "metadata": {},
     "output_type": "execute_result"
    }
   ],
   "source": [
    "# 가장 먼저 있는 아이템을 제거한다\n",
    "a.pop()\n",
    "a"
   ]
  },
  {
   "cell_type": "markdown",
   "metadata": {},
   "source": [
    "### set은 집합이므로, 합집합, 차집합, 교집합, 대칭차집합을 표현할 수 있음"
   ]
  },
  {
   "cell_type": "code",
   "execution_count": 72,
   "metadata": {},
   "outputs": [],
   "source": [
    "a = {1,4,7}\n",
    "b = {1,3,6,8,10}"
   ]
  },
  {
   "cell_type": "code",
   "execution_count": 73,
   "metadata": {},
   "outputs": [
    {
     "data": {
      "text/plain": [
       "{1, 3, 4, 6, 7, 8, 10}"
      ]
     },
     "execution_count": 73,
     "metadata": {},
     "output_type": "execute_result"
    }
   ],
   "source": [
    "# 합집합\n",
    "a | b"
   ]
  },
  {
   "cell_type": "code",
   "execution_count": 74,
   "metadata": {},
   "outputs": [
    {
     "data": {
      "text/plain": [
       "{4, 7}"
      ]
     },
     "execution_count": 74,
     "metadata": {},
     "output_type": "execute_result"
    }
   ],
   "source": [
    "# 차집합\n",
    "a - b"
   ]
  },
  {
   "cell_type": "code",
   "execution_count": 75,
   "metadata": {},
   "outputs": [
    {
     "data": {
      "text/plain": [
       "{1}"
      ]
     },
     "execution_count": 75,
     "metadata": {},
     "output_type": "execute_result"
    }
   ],
   "source": [
    "# 교집합\n",
    "a & b"
   ]
  },
  {
   "cell_type": "code",
   "execution_count": 76,
   "metadata": {},
   "outputs": [
    {
     "data": {
      "text/plain": [
       "{3, 4, 6, 7, 8, 10}"
      ]
     },
     "execution_count": 76,
     "metadata": {},
     "output_type": "execute_result"
    }
   ],
   "source": [
    "# 대칭차집합 : (합집합) - (교집합)\n",
    "a ^ b"
   ]
  },
  {
   "cell_type": "markdown",
   "metadata": {},
   "source": [
    "### Container에서의 깞 할당의 여러가 지 예 \n",
    "- '*' 나머지 값의 의미로 활용한다."
   ]
  },
  {
   "cell_type": "code",
   "execution_count": 89,
   "metadata": {},
   "outputs": [],
   "source": [
    "# *b에 나머지 list 값으로 채워진다\n",
    "a, *b, c = 1,2,3,4,5"
   ]
  },
  {
   "cell_type": "code",
   "execution_count": 90,
   "metadata": {},
   "outputs": [
    {
     "data": {
      "text/plain": [
       "1"
      ]
     },
     "execution_count": 90,
     "metadata": {},
     "output_type": "execute_result"
    }
   ],
   "source": [
    "a"
   ]
  },
  {
   "cell_type": "code",
   "execution_count": 91,
   "metadata": {},
   "outputs": [
    {
     "data": {
      "text/plain": [
       "[2, 3, 4]"
      ]
     },
     "execution_count": 91,
     "metadata": {},
     "output_type": "execute_result"
    }
   ],
   "source": [
    "b"
   ]
  },
  {
   "cell_type": "code",
   "execution_count": 92,
   "metadata": {},
   "outputs": [
    {
     "data": {
      "text/plain": [
       "5"
      ]
     },
     "execution_count": 92,
     "metadata": {},
     "output_type": "execute_result"
    }
   ],
   "source": [
    "c"
   ]
  },
  {
   "cell_type": "code",
   "execution_count": 93,
   "metadata": {},
   "outputs": [],
   "source": [
    "a, b = {1, 2}"
   ]
  },
  {
   "cell_type": "code",
   "execution_count": 94,
   "metadata": {},
   "outputs": [
    {
     "data": {
      "text/plain": [
       "1"
      ]
     },
     "execution_count": 94,
     "metadata": {},
     "output_type": "execute_result"
    }
   ],
   "source": [
    "a"
   ]
  },
  {
   "cell_type": "code",
   "execution_count": 95,
   "metadata": {},
   "outputs": [
    {
     "data": {
      "text/plain": [
       "2"
      ]
     },
     "execution_count": 95,
     "metadata": {},
     "output_type": "execute_result"
    }
   ],
   "source": [
    "b"
   ]
  },
  {
   "cell_type": "code",
   "execution_count": 96,
   "metadata": {},
   "outputs": [
    {
     "data": {
      "text/plain": [
       "{1, 2, 3}"
      ]
     },
     "execution_count": 96,
     "metadata": {},
     "output_type": "execute_result"
    }
   ],
   "source": [
    "{3,1,2,3,1}"
   ]
  },
  {
   "cell_type": "code",
   "execution_count": 97,
   "metadata": {},
   "outputs": [],
   "source": [
    "*a, b, c = \"안녕하세요\""
   ]
  },
  {
   "cell_type": "code",
   "execution_count": 98,
   "metadata": {},
   "outputs": [
    {
     "data": {
      "text/plain": [
       "['안', '녕', '하']"
      ]
     },
     "execution_count": 98,
     "metadata": {},
     "output_type": "execute_result"
    }
   ],
   "source": [
    "a"
   ]
  },
  {
   "cell_type": "code",
   "execution_count": 99,
   "metadata": {},
   "outputs": [
    {
     "data": {
      "text/plain": [
       "'세'"
      ]
     },
     "execution_count": 99,
     "metadata": {},
     "output_type": "execute_result"
    }
   ],
   "source": [
    "b"
   ]
  },
  {
   "cell_type": "code",
   "execution_count": 100,
   "metadata": {},
   "outputs": [
    {
     "data": {
      "text/plain": [
       "'요'"
      ]
     },
     "execution_count": 100,
     "metadata": {},
     "output_type": "execute_result"
    }
   ],
   "source": [
    "c"
   ]
  },
  {
   "cell_type": "markdown",
   "metadata": {},
   "source": [
    "### 해당요소가 있으면 True, 없으면 False"
   ]
  },
  {
   "cell_type": "code",
   "execution_count": 105,
   "metadata": {},
   "outputs": [
    {
     "data": {
      "text/plain": [
       "False"
      ]
     },
     "execution_count": 105,
     "metadata": {},
     "output_type": "execute_result"
    }
   ],
   "source": [
    "a = 'Hello'\n",
    "'h' in a"
   ]
  },
  {
   "cell_type": "code",
   "execution_count": 106,
   "metadata": {},
   "outputs": [
    {
     "data": {
      "text/plain": [
       "False"
      ]
     },
     "execution_count": 106,
     "metadata": {},
     "output_type": "execute_result"
    }
   ],
   "source": [
    "'b' in a"
   ]
  },
  {
   "cell_type": "code",
   "execution_count": 107,
   "metadata": {},
   "outputs": [
    {
     "data": {
      "text/plain": [
       "True"
      ]
     },
     "execution_count": 107,
     "metadata": {},
     "output_type": "execute_result"
    }
   ],
   "source": [
    "b = {1,3,6,8,10}\n",
    "1 in b"
   ]
  },
  {
   "cell_type": "code",
   "execution_count": 108,
   "metadata": {},
   "outputs": [
    {
     "data": {
      "text/plain": [
       "True"
      ]
     },
     "execution_count": 108,
     "metadata": {},
     "output_type": "execute_result"
    }
   ],
   "source": [
    "c = [1,2,3,4,5]\n",
    "3 in c"
   ]
  },
  {
   "cell_type": "code",
   "execution_count": 111,
   "metadata": {},
   "outputs": [
    {
     "data": {
      "text/plain": [
       "False"
      ]
     },
     "execution_count": 111,
     "metadata": {},
     "output_type": "execute_result"
    }
   ],
   "source": [
    "d=[[4,6], '1', '2']\n",
    "[4] in d"
   ]
  },
  {
   "cell_type": "code",
   "execution_count": 112,
   "metadata": {},
   "outputs": [
    {
     "data": {
      "text/plain": [
       "True"
      ]
     },
     "execution_count": 112,
     "metadata": {},
     "output_type": "execute_result"
    }
   ],
   "source": [
    "[4,6] in d"
   ]
  },
  {
   "cell_type": "markdown",
   "metadata": {},
   "source": [
    "### 0이외의 값은 모두 True이다. "
   ]
  },
  {
   "cell_type": "code",
   "execution_count": 113,
   "metadata": {},
   "outputs": [
    {
     "name": "stdout",
     "output_type": "stream",
     "text": [
      "True\n"
     ]
    }
   ],
   "source": [
    "if 2:\n",
    "    print('True')"
   ]
  },
  {
   "cell_type": "code",
   "execution_count": 114,
   "metadata": {},
   "outputs": [
    {
     "name": "stdout",
     "output_type": "stream",
     "text": [
      "True\n"
     ]
    }
   ],
   "source": [
    "if [2]:\n",
    "    print('True')"
   ]
  },
  {
   "cell_type": "code",
   "execution_count": 118,
   "metadata": {},
   "outputs": [],
   "source": [
    "a = -3\n",
    "b = 3 if a > 0 else 8"
   ]
  },
  {
   "cell_type": "code",
   "execution_count": 119,
   "metadata": {},
   "outputs": [
    {
     "data": {
      "text/plain": [
       "-3"
      ]
     },
     "execution_count": 119,
     "metadata": {},
     "output_type": "execute_result"
    }
   ],
   "source": [
    "a"
   ]
  },
  {
   "cell_type": "code",
   "execution_count": 120,
   "metadata": {},
   "outputs": [
    {
     "data": {
      "text/plain": [
       "8"
      ]
     },
     "execution_count": 120,
     "metadata": {},
     "output_type": "execute_result"
    }
   ],
   "source": [
    "b"
   ]
  },
  {
   "cell_type": "code",
   "execution_count": 121,
   "metadata": {},
   "outputs": [
    {
     "name": "stdout",
     "output_type": "stream",
     "text": [
      "F\n"
     ]
    }
   ],
   "source": [
    "if []:\n",
    "    print('T')\n",
    "else:\n",
    "    print('F')"
   ]
  },
  {
   "cell_type": "code",
   "execution_count": 123,
   "metadata": {},
   "outputs": [
    {
     "name": "stdout",
     "output_type": "stream",
     "text": [
      "T\n"
     ]
    }
   ],
   "source": [
    "a = 3\n",
    "\n",
    "if 1 < a < 5:\n",
    "    print('T')\n",
    "else:\n",
    "    print('F')"
   ]
  },
  {
   "cell_type": "markdown",
   "metadata": {},
   "source": [
    "### 비교연산자 is는 값 비교가 아닌 레퍼런스 비교를 수행 함"
   ]
  },
  {
   "cell_type": "code",
   "execution_count": 124,
   "metadata": {},
   "outputs": [
    {
     "data": {
      "text/plain": [
       "False"
      ]
     },
     "execution_count": 124,
     "metadata": {},
     "output_type": "execute_result"
    }
   ],
   "source": [
    "1 is 3"
   ]
  },
  {
   "cell_type": "code",
   "execution_count": 125,
   "metadata": {},
   "outputs": [
    {
     "data": {
      "text/plain": [
       "False"
      ]
     },
     "execution_count": 125,
     "metadata": {},
     "output_type": "execute_result"
    }
   ],
   "source": [
    "a = '1'\n",
    "b = 1\n",
    "a is b"
   ]
  },
  {
   "cell_type": "code",
   "execution_count": 126,
   "metadata": {},
   "outputs": [
    {
     "data": {
      "text/plain": [
       "True"
      ]
     },
     "execution_count": 126,
     "metadata": {},
     "output_type": "execute_result"
    }
   ],
   "source": [
    "a = 10\n",
    "b = 10\n",
    "a is b"
   ]
  },
  {
   "cell_type": "code",
   "execution_count": 127,
   "metadata": {},
   "outputs": [
    {
     "data": {
      "text/plain": [
       "(4301465280, 4301465280)"
      ]
     },
     "execution_count": 127,
     "metadata": {},
     "output_type": "execute_result"
    }
   ],
   "source": [
    "id(a), id(b)"
   ]
  },
  {
   "cell_type": "code",
   "execution_count": 128,
   "metadata": {},
   "outputs": [
    {
     "data": {
      "text/plain": [
       "True"
      ]
     },
     "execution_count": 128,
     "metadata": {},
     "output_type": "execute_result"
    }
   ],
   "source": [
    "a = -5\n",
    "b = -5\n",
    "a is b"
   ]
  },
  {
   "cell_type": "code",
   "execution_count": 129,
   "metadata": {},
   "outputs": [
    {
     "data": {
      "text/plain": [
       "False"
      ]
     },
     "execution_count": 129,
     "metadata": {},
     "output_type": "execute_result"
    }
   ],
   "source": [
    "a = -6\n",
    "b = -6\n",
    "a is b"
   ]
  },
  {
   "cell_type": "code",
   "execution_count": 130,
   "metadata": {},
   "outputs": [
    {
     "data": {
      "text/plain": [
       "True"
      ]
     },
     "execution_count": 130,
     "metadata": {},
     "output_type": "execute_result"
    }
   ],
   "source": [
    "a = 256\n",
    "b = 256\n",
    "a is b"
   ]
  },
  {
   "cell_type": "code",
   "execution_count": 131,
   "metadata": {},
   "outputs": [
    {
     "data": {
      "text/plain": [
       "False"
      ]
     },
     "execution_count": 131,
     "metadata": {},
     "output_type": "execute_result"
    }
   ],
   "source": [
    "a = 257\n",
    "b = 257\n",
    "a is b"
   ]
  },
  {
   "cell_type": "markdown",
   "metadata": {},
   "source": [
    "#### 파이썬에서는 -5~256까지는 메모리에 캐시하여 동일한 주소를 참조하도록 하고 있다."
   ]
  },
  {
   "cell_type": "markdown",
   "metadata": {},
   "source": [
    "## 함수\n",
    "- 프로그램에서 자주 사용되는 코드를 따로 만들어 두고 필요할 때마다 불러서(호출해서) 사용하는 기능"
   ]
  },
  {
   "cell_type": "code",
   "execution_count": 133,
   "metadata": {},
   "outputs": [],
   "source": [
    "def summation(y):\n",
    "    num = 1\n",
    "    total = 0\n",
    "    while num <= y:\n",
    "        total += num\n",
    "        num += 1\n",
    "    print('1 부터' + str(y) + '까지의 합은 ' + str(total) + ' 입니다.')"
   ]
  },
  {
   "cell_type": "code",
   "execution_count": 134,
   "metadata": {},
   "outputs": [
    {
     "name": "stdout",
     "output_type": "stream",
     "text": [
      "1 부터10까지의 합은 55 입니다.\n",
      "1 부터100까지의 합은 5050 입니다.\n",
      "1 부터1000까지의 합은 500500 입니다.\n"
     ]
    }
   ],
   "source": [
    "summation(10)\n",
    "summation(100)\n",
    "summation(1000)"
   ]
  },
  {
   "cell_type": "markdown",
   "metadata": {},
   "source": [
    "### 함수 작성 방법\n",
    "\n",
    "- *함수 정의 파트*와 *함수 호출* 파트로 이루어진다.\n",
    "- 함수 정의 파트가 함수 호출 파트보다 먼저 작성되어 있어야 한다.\n",
    "- 함수 호출 파트(외부) 에서 함수 정의 파트(내부)로 값을 전달할 때 전달인자를 사용한다.\n",
    "- 함수 정의 파트에서는 값을 받을 때 매개변수로 받는다.\n",
    "- 전달인자나 매개변수를 파라미터라고도 부름\n",
    "- 함수 정의 파트에서 함수 호출 파트로 값을 내 보낼 때에는 반환(return)을 사용한다.\n",
    "- 전달인자, 매개변수, 반환이 없는 함수도 있다.\n",
    "- 함수안에서 사용하는 지역변수와 함수 밖에서 사용하는 전역변수가 있다"
   ]
  },
  {
   "cell_type": "code",
   "execution_count": 136,
   "metadata": {},
   "outputs": [],
   "source": [
    "def bird1( ):\n",
    "    print ('''\n",
    "    ___\n",
    "    {o,o}\n",
    "    |)__)\n",
    "    -″-″-\n",
    "    ''')"
   ]
  },
  {
   "cell_type": "code",
   "execution_count": 137,
   "metadata": {},
   "outputs": [
    {
     "name": "stdout",
     "output_type": "stream",
     "text": [
      "\n",
      "    ___\n",
      "    {o,o}\n",
      "    |)__)\n",
      "    -″-″-\n",
      "    \n"
     ]
    }
   ],
   "source": [
    "bird1()"
   ]
  },
  {
   "cell_type": "code",
   "execution_count": 138,
   "metadata": {},
   "outputs": [],
   "source": [
    "def bird2( ):\n",
    "    print ('''\n",
    "    ___\n",
    "    {o,o}\n",
    "    |)_(|\n",
    "    -″-″-\n",
    "    ''')"
   ]
  },
  {
   "cell_type": "code",
   "execution_count": 139,
   "metadata": {},
   "outputs": [
    {
     "name": "stdout",
     "output_type": "stream",
     "text": [
      "\n",
      "    ___\n",
      "    {o,o}\n",
      "    |)_(|\n",
      "    -″-″-\n",
      "    \n"
     ]
    }
   ],
   "source": [
    "bird2()"
   ]
  },
  {
   "cell_type": "code",
   "execution_count": 141,
   "metadata": {},
   "outputs": [
    {
     "name": "stdout",
     "output_type": "stream",
     "text": [
      "\n",
      "    ___\n",
      "    {o,o}\n",
      "    |)__)\n",
      "    -″-″-\n",
      "    \n",
      "\n",
      "    ___\n",
      "    {o,o}\n",
      "    |)_(|\n",
      "    -″-″-\n",
      "    \n",
      "\n",
      "    ___\n",
      "    {o,o}\n",
      "    (__(|\n",
      "    -″-″-\n",
      "    \n",
      "\n",
      "    ___\n",
      "    {o,o}\n",
      "    |)__)\n",
      "    -″-″-\n",
      "    \n",
      "\n",
      "    ___\n",
      "    {o,o}\n",
      "    |)_(|\n",
      "    -″-″-\n",
      "    \n",
      "\n",
      "    ___\n",
      "    {o,o}\n",
      "    (__(|\n",
      "    -″-″-\n",
      "    \n",
      "\n",
      "    ___\n",
      "    {o,o}\n",
      "    |)__)\n",
      "    -″-″-\n",
      "    \n",
      "\n",
      "    ___\n",
      "    {o,o}\n",
      "    |)_(|\n",
      "    -″-″-\n",
      "    \n",
      "\n",
      "    ___\n",
      "    {o,o}\n",
      "    (__(|\n",
      "    -″-″-\n",
      "    \n",
      "\n",
      "    ___\n",
      "    {o,o}\n",
      "    |)__)\n",
      "    -″-″-\n",
      "    \n",
      "\n",
      "    ___\n",
      "    {o,o}\n",
      "    |)_(|\n",
      "    -″-″-\n",
      "    \n",
      "\n",
      "    ___\n",
      "    {o,o}\n",
      "    (__(|\n",
      "    -″-″-\n",
      "    \n",
      "\n",
      "    ___\n",
      "    {o,o}\n",
      "    |)__)\n",
      "    -″-″-\n",
      "    \n",
      "\n",
      "    ___\n",
      "    {o,o}\n",
      "    |)_(|\n",
      "    -″-″-\n",
      "    \n",
      "\n",
      "    ___\n",
      "    {o,o}\n",
      "    (__(|\n",
      "    -″-″-\n",
      "    \n",
      "\n",
      "    ___\n",
      "    {o,o}\n",
      "    |)__)\n",
      "    -″-″-\n",
      "    \n",
      "\n",
      "    ___\n",
      "    {o,o}\n",
      "    |)_(|\n",
      "    -″-″-\n",
      "    \n",
      "\n",
      "    ___\n",
      "    {o,o}\n",
      "    (__(|\n",
      "    -″-″-\n",
      "    \n",
      "\n",
      "    ___\n",
      "    {o,o}\n",
      "    |)__)\n",
      "    -″-″-\n",
      "    \n",
      "\n",
      "    ___\n",
      "    {o,o}\n",
      "    |)_(|\n",
      "    -″-″-\n",
      "    \n",
      "\n",
      "    ___\n",
      "    {o,o}\n",
      "    (__(|\n",
      "    -″-″-\n",
      "    \n",
      "\n",
      "    ___\n",
      "    {o,o}\n",
      "    |)__)\n",
      "    -″-″-\n",
      "    \n",
      "\n",
      "    ___\n",
      "    {o,o}\n",
      "    |)_(|\n",
      "    -″-″-\n",
      "    \n",
      "\n",
      "    ___\n",
      "    {o,o}\n",
      "    (__(|\n",
      "    -″-″-\n",
      "    \n",
      "\n",
      "    ___\n",
      "    {o,o}\n",
      "    |)__)\n",
      "    -″-″-\n",
      "    \n",
      "\n",
      "    ___\n",
      "    {o,o}\n",
      "    |)_(|\n",
      "    -″-″-\n",
      "    \n",
      "\n",
      "    ___\n",
      "    {o,o}\n",
      "    (__(|\n",
      "    -″-″-\n",
      "    \n",
      "\n",
      "    ___\n",
      "    {o,o}\n",
      "    |)__)\n",
      "    -″-″-\n",
      "    \n",
      "\n",
      "    ___\n",
      "    {o,o}\n",
      "    |)_(|\n",
      "    -″-″-\n",
      "    \n",
      "\n",
      "    ___\n",
      "    {o,o}\n",
      "    (__(|\n",
      "    -″-″-\n",
      "    \n"
     ]
    }
   ],
   "source": [
    "def bird3( ):\n",
    "    print ('''\n",
    "    ___\n",
    "    {o,o}\n",
    "    (__(|\n",
    "    -″-″-\n",
    "    ''')\n",
    "\n",
    "import time\n",
    "\n",
    "count = 1\n",
    "while count <= 10:\n",
    "    bird1()\n",
    "    time.sleep(1)\n",
    "    bird2()\n",
    "    time.sleep(1)\n",
    "    bird3()\n",
    "    time.sleep(1)\n",
    "    count = count + 1"
   ]
  },
  {
   "cell_type": "markdown",
   "metadata": {},
   "source": [
    "### Intro 출력하기\n",
    "- print()를 이용하여 출력"
   ]
  },
  {
   "cell_type": "code",
   "execution_count": 142,
   "metadata": {},
   "outputs": [
    {
     "name": "stdout",
     "output_type": "stream",
     "text": [
      "You are in a land full of dragons.\n",
      "In front of you, you see two caves. \n",
      "In one cave, the dragon is friendly, \n",
      " and will share his treasure with you. \n",
      "The other dragon is greedy and hungry, \n",
      "and will eat you on sight. \n"
     ]
    }
   ],
   "source": [
    "print ('You are in a land full of dragons.')\n",
    "print ('In front of you, you see two caves. ')\n",
    "print ('In one cave, the dragon is friendly, ')\n",
    "print (' and will share his treasure with you. ')\n",
    "print ('The other dragon is greedy and hungry, ')\n",
    "print ('and will eat you on sight. ')"
   ]
  },
  {
   "cell_type": "markdown",
   "metadata": {},
   "source": [
    "### 으스스~효과를 주기\n",
    "- 맨 윗줄에 import time을 추가\n",
    "- 시간 지연을 넣고자 하는 곳에 time.sleep(1)을 추가"
   ]
  },
  {
   "cell_type": "code",
   "execution_count": null,
   "metadata": {},
   "outputs": [],
   "source": [
    "import time\n",
    "\n",
    "print ('You are in a land full of dragons.')\n",
    "time.sleep(1)\n",
    "print ('In front of you, you see two caves. ')\n",
    "time.sleep(1)\n",
    "print ('In one cave, the dragon is friendly, ')\n",
    "time.sleep(1)\n",
    "print (' and will share his treasure with you. ')\n",
    "time.sleep(1)\n",
    "print ('The other dragon is greedy and hungry, ')\n",
    "time.sleep(1)\n",
    "print ('and will eat you on sight. ')"
   ]
  },
  {
   "cell_type": "markdown",
   "metadata": {},
   "source": [
    "### 동굴번호 입력받기\n",
    "- 동굴번호를 입력받아 저장할 변수 : cave"
   ]
  },
  {
   "cell_type": "code",
   "execution_count": 155,
   "metadata": {},
   "outputs": [
    {
     "name": "stdin",
     "output_type": "stream",
     "text": [
      "While cave will you go into? (1 or 2) 3\n",
      "While cave will you go into? (1 or 2) 1\n"
     ]
    }
   ],
   "source": [
    "cave = 0\n",
    "\n",
    "while cave != 1 and cave != 2:\n",
    "    cave = int(input('While cave will you go into? (1 or 2)'))"
   ]
  },
  {
   "cell_type": "markdown",
   "metadata": {},
   "source": [
    "### 동굴번호 입력 후 메시지\n",
    "- 메시지를 출력하는 소스코드를 작성하세요.\n",
    "- 시간 지연을 넣고자 하는 곳에 time.sleep(1)을 추가하세요."
   ]
  },
  {
   "cell_type": "code",
   "execution_count": 158,
   "metadata": {},
   "outputs": [
    {
     "name": "stdin",
     "output_type": "stream",
     "text": [
      "While cave will you go into? (1 or 2) 1\n"
     ]
    },
    {
     "name": "stdout",
     "output_type": "stream",
     "text": [
      "You are in a land full of dragons.\n",
      "In front of you, you see two caves. \n",
      "In one cave, the dragon is friendly, \n",
      " and will share his treasure with you. \n",
      "The other dragon is greedy and hungry, \n",
      "and will eat you on sight. \n"
     ]
    }
   ],
   "source": [
    "cave = 0\n",
    "\n",
    "while cave != 1 and cave != 2:\n",
    "    cave = int(input('While cave will you go into? (1 or 2)'))\n",
    "\n",
    "    if cave == 1 or cave == 2:\n",
    "        print ('You are in a land full of dragons.')\n",
    "        time.sleep(1)\n",
    "        print ('In front of you, you see two caves. ')\n",
    "        time.sleep(1)\n",
    "        print ('In one cave, the dragon is friendly, ')\n",
    "        time.sleep(1)\n",
    "        print (' and will share his treasure with you. ')\n",
    "        time.sleep(1)\n",
    "        print ('The other dragon is greedy and hungry, ')\n",
    "        time.sleep(1)\n",
    "        print ('and will eat you on sight. ')"
   ]
  },
  {
   "cell_type": "code",
   "execution_count": 159,
   "metadata": {},
   "outputs": [
    {
     "name": "stdout",
     "output_type": "stream",
     "text": [
      "Gobbles you down in one cave\n"
     ]
    }
   ],
   "source": [
    "import random\n",
    "\n",
    "friendlycave = random.randint(1,2) # 랜덤값 발생\n",
    "\n",
    "if friendlycave == int(cave):\n",
    "    print('Gives you his trasurre!')\n",
    "else:\n",
    "    print('Gobbles you down in one cave')"
   ]
  },
  {
   "cell_type": "code",
   "execution_count": 188,
   "metadata": {},
   "outputs": [
    {
     "name": "stdout",
     "output_type": "stream",
     "text": [
      "You are in a land full of dragons.\n",
      "In front of you, you see two caves. \n",
      "In one cave, the dragon is friendly, \n",
      " and will share his treasure with you. \n",
      "The other dragon is greedy and hungry, \n",
      "and will eat you on sight. \n"
     ]
    },
    {
     "name": "stdin",
     "output_type": "stream",
     "text": [
      "Do you want to play again? (y/n) n\n"
     ]
    }
   ],
   "source": [
    "# 게임 계속 여부 질문 넣기\n",
    "playagain = ''\n",
    "\n",
    "while playagain != 'n' and playagain != 'no':\n",
    "        print ('You are in a land full of dragons.')\n",
    "        time.sleep(1)\n",
    "        print ('In front of you, you see two caves. ')\n",
    "        time.sleep(1)\n",
    "        print ('In one cave, the dragon is friendly, ')\n",
    "        time.sleep(1)\n",
    "        print (' and will share his treasure with you. ')\n",
    "        time.sleep(1)\n",
    "        print ('The other dragon is greedy and hungry, ')\n",
    "        time.sleep(1)\n",
    "        print ('and will eat you on sight. ')\n",
    "        playagain = input('Do you want to play again? (y/n)')"
   ]
  },
  {
   "cell_type": "code",
   "execution_count": 192,
   "metadata": {},
   "outputs": [
    {
     "name": "stdout",
     "output_type": "stream",
     "text": [
      "You are in a land full of dragons.\n",
      "In front of you, you see two caves. \n",
      "In one cave, the dragon is friendly, \n",
      " and will share his treasure with you. \n",
      "The other dragon is greedy and hungry, \n",
      "and will eat you on sight. \n"
     ]
    },
    {
     "name": "stdin",
     "output_type": "stream",
     "text": [
      "Do you want to play again? (y/n) n\n"
     ]
    }
   ],
   "source": [
    "# 게임 계속 여부 질문 넣기\n",
    "playagain = 'y'\n",
    "\n",
    "while playagain == 'yes' or playagain == 'y':\n",
    "        print ('You are in a land full of dragons.')\n",
    "        time.sleep(1)\n",
    "        print ('In front of you, you see two caves. ')\n",
    "        time.sleep(1)\n",
    "        print ('In one cave, the dragon is friendly, ')\n",
    "        time.sleep(1)\n",
    "        print (' and will share his treasure with you. ')\n",
    "        time.sleep(1)\n",
    "        print ('The other dragon is greedy and hungry, ')\n",
    "        time.sleep(1)\n",
    "        print ('and will eat you on sight. ')\n",
    "        playagain = input('Do you want to play again? (y/n)')"
   ]
  },
  {
   "cell_type": "code",
   "execution_count": 194,
   "metadata": {},
   "outputs": [
    {
     "name": "stdin",
     "output_type": "stream",
     "text": [
      "While cave will you go into? (1 or 2) 2\n"
     ]
    },
    {
     "name": "stdout",
     "output_type": "stream",
     "text": [
      "You are in a land full of dragons.\n",
      "In front of you, you see two caves. \n",
      "In one cave, the dragon is friendly, \n",
      " and will share his treasure with you. \n",
      "The other dragon is greedy and hungry, \n",
      "and will eat you on sight. \n",
      "Gobbles you down in one cave\n",
      "You are in a land full of dragons.\n",
      "In front of you, you see two caves. \n",
      "In one cave, the dragon is friendly, \n",
      " and will share his treasure with you. \n",
      "The other dragon is greedy and hungry, \n",
      "and will eat you on sight. \n"
     ]
    },
    {
     "name": "stdin",
     "output_type": "stream",
     "text": [
      "Do you want to play again? (y/n) n\n"
     ]
    }
   ],
   "source": [
    "import random\n",
    "\n",
    "cave = 0\n",
    "\n",
    "while cave != 1 and cave != 2:\n",
    "    cave = int(input('While cave will you go into? (1 or 2)'))\n",
    "\n",
    "    if cave == 1 or cave == 2:\n",
    "        print ('You are in a land full of dragons.')\n",
    "        time.sleep(1)\n",
    "        print ('In front of you, you see two caves. ')\n",
    "        time.sleep(1)\n",
    "        print ('In one cave, the dragon is friendly, ')\n",
    "        time.sleep(1)\n",
    "        print (' and will share his treasure with you. ')\n",
    "        time.sleep(1)\n",
    "        print ('The other dragon is greedy and hungry, ')\n",
    "        time.sleep(1)\n",
    "        print ('and will eat you on sight. ')\n",
    "    \n",
    "    friendlycave = random.randint(1,2) # 랜덤값 발생\n",
    "\n",
    "    if friendlycave == int(cave):\n",
    "        print('Gives you his trasurre!')\n",
    "    else:\n",
    "        print('Gobbles you down in one cave')\n",
    "        \n",
    "    playagain = 'y'\n",
    "\n",
    "    while playagain == 'yes' or playagain == 'y':\n",
    "            print ('You are in a land full of dragons.')\n",
    "            time.sleep(1)\n",
    "            print ('In front of you, you see two caves. ')\n",
    "            time.sleep(1)\n",
    "            print ('In one cave, the dragon is friendly, ')\n",
    "            time.sleep(1)\n",
    "            print (' and will share his treasure with you. ')\n",
    "            time.sleep(1)\n",
    "            print ('The other dragon is greedy and hungry, ')\n",
    "            time.sleep(1)\n",
    "            print ('and will eat you on sight. ')\n",
    "            playagain = input('Do you want to play again? (y/n)')"
   ]
  }
 ],
 "metadata": {
  "kernelspec": {
   "display_name": "Python 3",
   "language": "python",
   "name": "python3"
  },
  "language_info": {
   "codemirror_mode": {
    "name": "ipython",
    "version": 3
   },
   "file_extension": ".py",
   "mimetype": "text/x-python",
   "name": "python",
   "nbconvert_exporter": "python",
   "pygments_lexer": "ipython3",
   "version": "3.7.3"
  }
 },
 "nbformat": 4,
 "nbformat_minor": 2
}
