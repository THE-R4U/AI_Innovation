{
 "cells": [
  {
   "cell_type": "markdown",
   "metadata": {},
   "source": [
    "# 3일차 - 자료형 Container \n",
    "\n",
    "## List\n",
    "- 여러 개의 데이터를 하나의 변수에 저장하고자 할 때 매우 유용함\n",
    "- 리스트에 들어있는 데이터를 아이템이라고 부름\n",
    "- 리스트는 [ ]로 묶어주고, 리스트의 아이템은 ,(컴마)로 구분함\n",
    "- 리스트의 아이템에 접근하고자 할 때에는 인덱스를 사용함\n",
    "- 인덱스는 0부터 시작함!!"
   ]
  },
  {
   "cell_type": "code",
   "execution_count": 3,
   "metadata": {},
   "outputs": [],
   "source": [
    "shape = ['turrtle', 'aarrow', 'circle', 'suqare']"
   ]
  },
  {
   "cell_type": "code",
   "execution_count": 4,
   "metadata": {},
   "outputs": [
    {
     "data": {
      "text/plain": [
       "'turrtle'"
      ]
     },
     "execution_count": 4,
     "metadata": {},
     "output_type": "execute_result"
    }
   ],
   "source": [
    "shape[0]"
   ]
  },
  {
   "cell_type": "code",
   "execution_count": 5,
   "metadata": {},
   "outputs": [
    {
     "data": {
      "text/plain": [
       "'aarrow'"
      ]
     },
     "execution_count": 5,
     "metadata": {},
     "output_type": "execute_result"
    }
   ],
   "source": [
    "shape[1]"
   ]
  },
  {
   "cell_type": "code",
   "execution_count": 6,
   "metadata": {},
   "outputs": [
    {
     "data": {
      "text/plain": [
       "'circle'"
      ]
     },
     "execution_count": 6,
     "metadata": {},
     "output_type": "execute_result"
    }
   ],
   "source": [
    "shape[2]"
   ]
  },
  {
   "cell_type": "code",
   "execution_count": 7,
   "metadata": {},
   "outputs": [
    {
     "data": {
      "text/plain": [
       "'suqare'"
      ]
     },
     "execution_count": 7,
     "metadata": {},
     "output_type": "execute_result"
    }
   ],
   "source": [
    "shape[3]"
   ]
  },
  {
   "cell_type": "code",
   "execution_count": 9,
   "metadata": {},
   "outputs": [
    {
     "ename": "IndexError",
     "evalue": "list index out of range",
     "output_type": "error",
     "traceback": [
      "\u001b[0;31m---------------------------------------------------------------------------\u001b[0m",
      "\u001b[0;31mIndexError\u001b[0m                                Traceback (most recent call last)",
      "\u001b[0;32m<ipython-input-9-c0758277eccc>\u001b[0m in \u001b[0;36m<module>\u001b[0;34m\u001b[0m\n\u001b[1;32m      1\u001b[0m \u001b[0;31m#없는 인덱스를 지정함면\u001b[0m\u001b[0;34m\u001b[0m\u001b[0;34m\u001b[0m\u001b[0;34m\u001b[0m\u001b[0m\n\u001b[0;32m----> 2\u001b[0;31m \u001b[0mshape\u001b[0m\u001b[0;34m[\u001b[0m\u001b[0;36m4\u001b[0m\u001b[0;34m]\u001b[0m\u001b[0;34m\u001b[0m\u001b[0;34m\u001b[0m\u001b[0m\n\u001b[0m",
      "\u001b[0;31mIndexError\u001b[0m: list index out of range"
     ]
    }
   ],
   "source": [
    "#없는 인덱스를 지정함면\n",
    "shape[4]"
   ]
  },
  {
   "cell_type": "code",
   "execution_count": 20,
   "metadata": {},
   "outputs": [],
   "source": [
    "# 아이템 수정\n",
    "\n",
    "shape[1] = 'ARROW'"
   ]
  },
  {
   "cell_type": "code",
   "execution_count": 13,
   "metadata": {},
   "outputs": [
    {
     "data": {
      "text/plain": [
       "'ARROW'"
      ]
     },
     "execution_count": 13,
     "metadata": {},
     "output_type": "execute_result"
    }
   ],
   "source": [
    "shape[1]"
   ]
  },
  {
   "cell_type": "code",
   "execution_count": 14,
   "metadata": {},
   "outputs": [
    {
     "data": {
      "text/plain": [
       "['turrtle', 'ARROW', 'circle', 'suqare']"
      ]
     },
     "execution_count": 14,
     "metadata": {},
     "output_type": "execute_result"
    }
   ],
   "source": [
    "shape"
   ]
  },
  {
   "cell_type": "code",
   "execution_count": 15,
   "metadata": {},
   "outputs": [
    {
     "data": {
      "text/plain": [
       "list"
      ]
     },
     "execution_count": 15,
     "metadata": {},
     "output_type": "execute_result"
    }
   ],
   "source": [
    "type(shape)"
   ]
  },
  {
   "cell_type": "code",
   "execution_count": 16,
   "metadata": {},
   "outputs": [],
   "source": [
    "# 아이템 추가\n",
    "\n",
    "shape.append('heart')"
   ]
  },
  {
   "cell_type": "code",
   "execution_count": 17,
   "metadata": {},
   "outputs": [
    {
     "data": {
      "text/plain": [
       "['turrtle', 'ARROW', 'circle', 'suqare', 'heart']"
      ]
     },
     "execution_count": 17,
     "metadata": {},
     "output_type": "execute_result"
    }
   ],
   "source": [
    "shape"
   ]
  },
  {
   "cell_type": "code",
   "execution_count": 18,
   "metadata": {},
   "outputs": [],
   "source": [
    "shape.append(27)"
   ]
  },
  {
   "cell_type": "code",
   "execution_count": 19,
   "metadata": {},
   "outputs": [
    {
     "data": {
      "text/plain": [
       "['turrtle', 'ARROW', 'circle', 'suqare', 'heart', 27]"
      ]
     },
     "execution_count": 19,
     "metadata": {},
     "output_type": "execute_result"
    }
   ],
   "source": [
    "shape"
   ]
  },
  {
   "cell_type": "code",
   "execution_count": 21,
   "metadata": {},
   "outputs": [],
   "source": [
    "# 아이템 삽입\n",
    "\n",
    "shape.insert(1, ' heart')"
   ]
  },
  {
   "cell_type": "code",
   "execution_count": 22,
   "metadata": {},
   "outputs": [
    {
     "data": {
      "text/plain": [
       "['turrtle', ' heart', 'ARROW', 'circle', 'suqare', 'heart', 27]"
      ]
     },
     "execution_count": 22,
     "metadata": {},
     "output_type": "execute_result"
    }
   ],
   "source": [
    "shape"
   ]
  },
  {
   "cell_type": "code",
   "execution_count": 23,
   "metadata": {},
   "outputs": [],
   "source": [
    "shape.insert(3, 'triangle')"
   ]
  },
  {
   "cell_type": "code",
   "execution_count": 24,
   "metadata": {},
   "outputs": [
    {
     "data": {
      "text/plain": [
       "['turrtle', ' heart', 'ARROW', 'triangle', 'circle', 'suqare', 'heart', 27]"
      ]
     },
     "execution_count": 24,
     "metadata": {},
     "output_type": "execute_result"
    }
   ],
   "source": [
    "shape"
   ]
  },
  {
   "cell_type": "markdown",
   "metadata": {},
   "source": [
    "**리스트는 중복된 데이터가 들어갈 수 있다**"
   ]
  },
  {
   "cell_type": "code",
   "execution_count": 25,
   "metadata": {},
   "outputs": [
    {
     "data": {
      "text/plain": [
       "True"
      ]
     },
     "execution_count": 25,
     "metadata": {},
     "output_type": "execute_result"
    }
   ],
   "source": [
    "# 아이템 검색\n",
    "\n",
    "'heart' in shape"
   ]
  },
  {
   "cell_type": "code",
   "execution_count": 26,
   "metadata": {},
   "outputs": [
    {
     "data": {
      "text/plain": [
       "False"
      ]
     },
     "execution_count": 26,
     "metadata": {},
     "output_type": "execute_result"
    }
   ],
   "source": [
    "'rectaangle' in shape"
   ]
  },
  {
   "cell_type": "code",
   "execution_count": 27,
   "metadata": {},
   "outputs": [],
   "source": [
    "# 아이템 삭제\n",
    "\n",
    "del shape[1]"
   ]
  },
  {
   "cell_type": "code",
   "execution_count": 28,
   "metadata": {},
   "outputs": [
    {
     "data": {
      "text/plain": [
       "['turrtle', 'ARROW', 'triangle', 'circle', 'suqare', 'heart', 27]"
      ]
     },
     "execution_count": 28,
     "metadata": {},
     "output_type": "execute_result"
    }
   ],
   "source": [
    "shape"
   ]
  },
  {
   "cell_type": "code",
   "execution_count": 29,
   "metadata": {},
   "outputs": [],
   "source": [
    "del shape[1]"
   ]
  },
  {
   "cell_type": "code",
   "execution_count": 30,
   "metadata": {},
   "outputs": [
    {
     "data": {
      "text/plain": [
       "['turrtle', 'triangle', 'circle', 'suqare', 'heart', 27]"
      ]
     },
     "execution_count": 30,
     "metadata": {},
     "output_type": "execute_result"
    }
   ],
   "source": [
    "shape"
   ]
  },
  {
   "cell_type": "code",
   "execution_count": 31,
   "metadata": {},
   "outputs": [
    {
     "data": {
      "text/plain": [
       "['turrtle', 'triangle', 'circle']"
      ]
     },
     "execution_count": 31,
     "metadata": {},
     "output_type": "execute_result"
    }
   ],
   "source": [
    "# 리스트 슬라이싱(리스트의 일부를 자를 때 사용)\n",
    "\n",
    "shape[0:3] #0부터 3이전까지: 0 ~ 2"
   ]
  },
  {
   "cell_type": "code",
   "execution_count": 32,
   "metadata": {},
   "outputs": [
    {
     "data": {
      "text/plain": [
       "['circle', 'suqare']"
      ]
     },
     "execution_count": 32,
     "metadata": {},
     "output_type": "execute_result"
    }
   ],
   "source": [
    "shape[2:4] #2부터 4이전까지: 2 ~ 3"
   ]
  },
  {
   "cell_type": "code",
   "execution_count": 34,
   "metadata": {},
   "outputs": [
    {
     "data": {
      "text/plain": [
       "['turrtle', 'triangle']"
      ]
     },
     "execution_count": 34,
     "metadata": {},
     "output_type": "execute_result"
    }
   ],
   "source": [
    "shape[:2] #처음부터 2이전까지: 0 ~ 1"
   ]
  },
  {
   "cell_type": "code",
   "execution_count": 35,
   "metadata": {},
   "outputs": [
    {
     "data": {
      "text/plain": [
       "['suqare', 'heart', 27]"
      ]
     },
     "execution_count": 35,
     "metadata": {},
     "output_type": "execute_result"
    }
   ],
   "source": [
    "shape[3:] #3부터 끝까지: 3 ~ 4"
   ]
  },
  {
   "cell_type": "code",
   "execution_count": 36,
   "metadata": {},
   "outputs": [
    {
     "data": {
      "text/plain": [
       "[1, 2, 8, 3, 9]"
      ]
     },
     "execution_count": 36,
     "metadata": {},
     "output_type": "execute_result"
    }
   ],
   "source": [
    "a = [1,6,2,4,8,5,3,10,9,7]\n",
    "a[::2] #처음부터 끝까지 2식 건너뛴 요소를 슬라이싱"
   ]
  },
  {
   "cell_type": "code",
   "execution_count": 37,
   "metadata": {},
   "outputs": [
    {
     "data": {
      "text/plain": [
       "[1, 4, 3, 7]"
      ]
     },
     "execution_count": 37,
     "metadata": {},
     "output_type": "execute_result"
    }
   ],
   "source": [
    "a[::3] #처음부터 끝까지 3식 건너뛴 요소를 슬라이싱"
   ]
  },
  {
   "cell_type": "code",
   "execution_count": 38,
   "metadata": {},
   "outputs": [
    {
     "data": {
      "text/plain": [
       "[]"
      ]
     },
     "execution_count": 38,
     "metadata": {},
     "output_type": "execute_result"
    }
   ],
   "source": [
    "# Quiz\n",
    "\n",
    "shape[0:0]"
   ]
  },
  {
   "cell_type": "code",
   "execution_count": 39,
   "metadata": {},
   "outputs": [
    {
     "data": {
      "text/plain": [
       "['turrtle', 'triangle', 'circle', 'suqare', 'heart', 27]"
      ]
     },
     "execution_count": 39,
     "metadata": {},
     "output_type": "execute_result"
    }
   ],
   "source": [
    "shape[:]"
   ]
  },
  {
   "cell_type": "code",
   "execution_count": 40,
   "metadata": {},
   "outputs": [],
   "source": [
    "# 리스트 연결\n",
    "\n",
    "shape = ['turrtle', 'aarrow', 'circle', 'suqare', 'heart']"
   ]
  },
  {
   "cell_type": "code",
   "execution_count": 41,
   "metadata": {},
   "outputs": [
    {
     "data": {
      "text/plain": [
       "'turrtlecircle'"
      ]
     },
     "execution_count": 41,
     "metadata": {},
     "output_type": "execute_result"
    }
   ],
   "source": [
    "shape[0] + shape[2]"
   ]
  },
  {
   "cell_type": "code",
   "execution_count": 43,
   "metadata": {},
   "outputs": [
    {
     "data": {
      "text/plain": [
       "[1, 2, 3, 4, 'Seoul', 'Kwabgju', 'Alice', 'Bob']"
      ]
     },
     "execution_count": 43,
     "metadata": {},
     "output_type": "execute_result"
    }
   ],
   "source": [
    "# 여러개의 리스트를 묶어 하나로 만들 수 있다\n",
    "\n",
    "[1,2,3,4] + ['Seoul', 'Kwabgju'] + ['Alice', 'Bob']"
   ]
  },
  {
   "cell_type": "code",
   "execution_count": 44,
   "metadata": {},
   "outputs": [],
   "source": [
    "# 리스트 안에 리스트(list of list)\n",
    "\n",
    "ID = [1, 2, 3, 4]"
   ]
  },
  {
   "cell_type": "code",
   "execution_count": 45,
   "metadata": {},
   "outputs": [
    {
     "data": {
      "text/plain": [
       "[1, 2, 3, 4]"
      ]
     },
     "execution_count": 45,
     "metadata": {},
     "output_type": "execute_result"
    }
   ],
   "source": [
    "ID"
   ]
  },
  {
   "cell_type": "code",
   "execution_count": 47,
   "metadata": {},
   "outputs": [],
   "source": [
    "ID = list(range(1,5)) #1부터 5이하까지 리스트를 만들어준다"
   ]
  },
  {
   "cell_type": "code",
   "execution_count": 48,
   "metadata": {},
   "outputs": [
    {
     "data": {
      "text/plain": [
       "[1, 2, 3, 4]"
      ]
     },
     "execution_count": 48,
     "metadata": {},
     "output_type": "execute_result"
    }
   ],
   "source": [
    "ID"
   ]
  },
  {
   "cell_type": "code",
   "execution_count": 49,
   "metadata": {},
   "outputs": [],
   "source": [
    "ID = list(range(1,101))"
   ]
  },
  {
   "cell_type": "code",
   "execution_count": 50,
   "metadata": {},
   "outputs": [
    {
     "data": {
      "text/plain": [
       "[1,\n",
       " 2,\n",
       " 3,\n",
       " 4,\n",
       " 5,\n",
       " 6,\n",
       " 7,\n",
       " 8,\n",
       " 9,\n",
       " 10,\n",
       " 11,\n",
       " 12,\n",
       " 13,\n",
       " 14,\n",
       " 15,\n",
       " 16,\n",
       " 17,\n",
       " 18,\n",
       " 19,\n",
       " 20,\n",
       " 21,\n",
       " 22,\n",
       " 23,\n",
       " 24,\n",
       " 25,\n",
       " 26,\n",
       " 27,\n",
       " 28,\n",
       " 29,\n",
       " 30,\n",
       " 31,\n",
       " 32,\n",
       " 33,\n",
       " 34,\n",
       " 35,\n",
       " 36,\n",
       " 37,\n",
       " 38,\n",
       " 39,\n",
       " 40,\n",
       " 41,\n",
       " 42,\n",
       " 43,\n",
       " 44,\n",
       " 45,\n",
       " 46,\n",
       " 47,\n",
       " 48,\n",
       " 49,\n",
       " 50,\n",
       " 51,\n",
       " 52,\n",
       " 53,\n",
       " 54,\n",
       " 55,\n",
       " 56,\n",
       " 57,\n",
       " 58,\n",
       " 59,\n",
       " 60,\n",
       " 61,\n",
       " 62,\n",
       " 63,\n",
       " 64,\n",
       " 65,\n",
       " 66,\n",
       " 67,\n",
       " 68,\n",
       " 69,\n",
       " 70,\n",
       " 71,\n",
       " 72,\n",
       " 73,\n",
       " 74,\n",
       " 75,\n",
       " 76,\n",
       " 77,\n",
       " 78,\n",
       " 79,\n",
       " 80,\n",
       " 81,\n",
       " 82,\n",
       " 83,\n",
       " 84,\n",
       " 85,\n",
       " 86,\n",
       " 87,\n",
       " 88,\n",
       " 89,\n",
       " 90,\n",
       " 91,\n",
       " 92,\n",
       " 93,\n",
       " 94,\n",
       " 95,\n",
       " 96,\n",
       " 97,\n",
       " 98,\n",
       " 99,\n",
       " 100]"
      ]
     },
     "execution_count": 50,
     "metadata": {},
     "output_type": "execute_result"
    }
   ],
   "source": [
    "ID"
   ]
  },
  {
   "cell_type": "code",
   "execution_count": 51,
   "metadata": {},
   "outputs": [],
   "source": [
    "area = ['Seoul', 'Kwaangju']"
   ]
  },
  {
   "cell_type": "code",
   "execution_count": 52,
   "metadata": {},
   "outputs": [],
   "source": [
    "name = ['Alice', 'Bob']"
   ]
  },
  {
   "cell_type": "code",
   "execution_count": 53,
   "metadata": {},
   "outputs": [],
   "source": [
    "ID = list(range(1,5))"
   ]
  },
  {
   "cell_type": "code",
   "execution_count": 54,
   "metadata": {},
   "outputs": [],
   "source": [
    "student = [ID, area, name]"
   ]
  },
  {
   "cell_type": "code",
   "execution_count": 55,
   "metadata": {},
   "outputs": [
    {
     "data": {
      "text/plain": [
       "[[1, 2, 3, 4], ['Seoul', 'Kwaangju'], ['Alice', 'Bob']]"
      ]
     },
     "execution_count": 55,
     "metadata": {},
     "output_type": "execute_result"
    }
   ],
   "source": [
    "student"
   ]
  },
  {
   "cell_type": "code",
   "execution_count": 56,
   "metadata": {},
   "outputs": [],
   "source": [
    "student = [1, ID, area, name, 'pass']"
   ]
  },
  {
   "cell_type": "code",
   "execution_count": 58,
   "metadata": {},
   "outputs": [
    {
     "data": {
      "text/plain": [
       "[1, [1, 2, 3, 4], ['Seoul', 'Kwaangju'], ['Alice', 'Bob'], 'pass']"
      ]
     },
     "execution_count": 58,
     "metadata": {},
     "output_type": "execute_result"
    }
   ],
   "source": [
    "student"
   ]
  },
  {
   "cell_type": "code",
   "execution_count": 62,
   "metadata": {},
   "outputs": [],
   "source": [
    "# 아이템 정렬_01\n",
    "\n",
    "shape = ['turrtle', 'arrow', 'circle', 'suqare', 'heart']"
   ]
  },
  {
   "cell_type": "code",
   "execution_count": 63,
   "metadata": {},
   "outputs": [],
   "source": [
    "shape.sort()"
   ]
  },
  {
   "cell_type": "code",
   "execution_count": 64,
   "metadata": {},
   "outputs": [
    {
     "data": {
      "text/plain": [
       "['arrow', 'circle', 'heart', 'suqare', 'turrtle']"
      ]
     },
     "execution_count": 64,
     "metadata": {},
     "output_type": "execute_result"
    }
   ],
   "source": [
    "shape"
   ]
  },
  {
   "cell_type": "code",
   "execution_count": 71,
   "metadata": {},
   "outputs": [],
   "source": [
    "numbers = [8, 6, 3, 10, 2, 9, 1, 4, 7, 5]"
   ]
  },
  {
   "cell_type": "code",
   "execution_count": 66,
   "metadata": {},
   "outputs": [],
   "source": [
    "numbers.sort()"
   ]
  },
  {
   "cell_type": "code",
   "execution_count": 67,
   "metadata": {},
   "outputs": [
    {
     "data": {
      "text/plain": [
       "[1, 2, 3, 4, 5, 6, 7, 8, 9, 10]"
      ]
     },
     "execution_count": 67,
     "metadata": {},
     "output_type": "execute_result"
    }
   ],
   "source": [
    "numbers"
   ]
  },
  {
   "cell_type": "code",
   "execution_count": 75,
   "metadata": {},
   "outputs": [],
   "source": [
    "# 아이템 정렬_02\n",
    "# sort()함수를 사용하면 원본 데이터가 정렬되어 바뀐다\n",
    "# 원래 raw 상태를 유지하고 싶으면 sorted() 함수 사용\n",
    "\n",
    "sorted_numbers = sorted(numbers)"
   ]
  },
  {
   "cell_type": "code",
   "execution_count": 76,
   "metadata": {},
   "outputs": [
    {
     "data": {
      "text/plain": [
       "[1, 2, 3, 4, 5, 6, 7, 8, 9, 10]"
      ]
     },
     "execution_count": 76,
     "metadata": {},
     "output_type": "execute_result"
    }
   ],
   "source": [
    "sorted_numbers"
   ]
  },
  {
   "cell_type": "code",
   "execution_count": 77,
   "metadata": {},
   "outputs": [
    {
     "data": {
      "text/plain": [
       "[8, 6, 3, 10, 2, 9, 1, 4, 7, 5]"
      ]
     },
     "execution_count": 77,
     "metadata": {},
     "output_type": "execute_result"
    }
   ],
   "source": [
    "numbers"
   ]
  },
  {
   "cell_type": "code",
   "execution_count": 78,
   "metadata": {},
   "outputs": [
    {
     "data": {
      "text/plain": [
       "3"
      ]
     },
     "execution_count": 78,
     "metadata": {},
     "output_type": "execute_result"
    }
   ],
   "source": [
    "# 인덱스 번호를 알고 싶으면\n",
    "\n",
    "numbers = [8, 6, 3, 10, 2, 9, 1, 4, 7, 5]\n",
    "numbers.index(10)"
   ]
  },
  {
   "cell_type": "code",
   "execution_count": 79,
   "metadata": {},
   "outputs": [
    {
     "data": {
      "text/plain": [
       "0"
      ]
     },
     "execution_count": 79,
     "metadata": {},
     "output_type": "execute_result"
    }
   ],
   "source": [
    "numbers.index(8)"
   ]
  },
  {
   "cell_type": "code",
   "execution_count": 80,
   "metadata": {},
   "outputs": [],
   "source": [
    "# 리스트에서 인덱스를 음수로 준 경우, 반대로 시작 하며 -1인경우, 맨 마지막 위치에 있는 요소를 가져옴\n",
    "\n",
    "numbers = [8, 6, 3, 10, 2, 9, 1, 4, 7, 5]"
   ]
  },
  {
   "cell_type": "code",
   "execution_count": 81,
   "metadata": {},
   "outputs": [
    {
     "data": {
      "text/plain": [
       "5"
      ]
     },
     "execution_count": 81,
     "metadata": {},
     "output_type": "execute_result"
    }
   ],
   "source": [
    "numbers[-1]"
   ]
  },
  {
   "cell_type": "code",
   "execution_count": 129,
   "metadata": {},
   "outputs": [],
   "source": [
    "# 리스트에서 여러개의 속담을 저장한 후, 속담중에서 하나를 랜덤하게 골라서 제공하는 프로그램을 작성하시오.\n",
    "\n",
    "prob = ['꿈을 지녀라. 구러면 어려운 현실을 익길 수 있다', '고생없이 얻을 수 있는 진실리ㅗ 귀중한 것은 하나도 없다.',\n",
    "         '사람은 사랑할 때 누구나 시인이 된다.', '시작이 반이다', '나는 사랑으로 내가 이해하는 모든 것들을 이해한다.']"
   ]
  },
  {
   "cell_type": "code",
   "execution_count": 130,
   "metadata": {},
   "outputs": [
    {
     "data": {
      "text/plain": [
       "['꿈을 지녀라. 구러면 어려운 현실을 익길 수 있다',\n",
       " '고생없이 얻을 수 있는 진실리ㅗ 귀중한 것은 하나도 없다.',\n",
       " '사람은 사랑할 때 누구나 시인이 된다.',\n",
       " '시작이 반이다',\n",
       " '나는 사랑으로 내가 이해하는 모든 것들을 이해한다.']"
      ]
     },
     "execution_count": 130,
     "metadata": {},
     "output_type": "execute_result"
    }
   ],
   "source": [
    "prob"
   ]
  },
  {
   "cell_type": "code",
   "execution_count": 131,
   "metadata": {},
   "outputs": [
    {
     "data": {
      "text/plain": [
       "'사람은 사랑할 때 누구나 시인이 된다.'"
      ]
     },
     "execution_count": 131,
     "metadata": {},
     "output_type": "execute_result"
    }
   ],
   "source": [
    "import random\n",
    "\n",
    "number = random.randint(0, 3)\n",
    "prob[number]"
   ]
  },
  {
   "cell_type": "code",
   "execution_count": 114,
   "metadata": {},
   "outputs": [],
   "source": [
    "items = ['커피', '우유', '바나나', '감귤', '화장지', '장갑', '이불', '베게', '장남감', '음료수', '빵']"
   ]
  },
  {
   "cell_type": "code",
   "execution_count": 115,
   "metadata": {},
   "outputs": [
    {
     "name": "stdin",
     "output_type": "stream",
     "text": [
      "삽입하고자 하는 상품을 입력하세요. 사과\n",
      "삽임하고자 하는 위치를 입력하세요 4\n"
     ]
    }
   ],
   "source": [
    "item = input('삽입하고자 하는 상품을 입력하세요.')\n",
    "location = int(input('삽임하고자 하는 위치를 입력하세요'))"
   ]
  },
  {
   "cell_type": "code",
   "execution_count": 116,
   "metadata": {},
   "outputs": [],
   "source": [
    "items.insert(location, item)"
   ]
  },
  {
   "cell_type": "code",
   "execution_count": 117,
   "metadata": {},
   "outputs": [
    {
     "data": {
      "text/plain": [
       "['커피', '우유', '바나나', '감귤', '사과', '화장지', '장갑', '이불', '베게', '장남감', '음료수', '빵']"
      ]
     },
     "execution_count": 117,
     "metadata": {},
     "output_type": "execute_result"
    }
   ],
   "source": [
    "items"
   ]
  },
  {
   "cell_type": "code",
   "execution_count": 118,
   "metadata": {},
   "outputs": [
    {
     "name": "stdin",
     "output_type": "stream",
     "text": [
      "삭제하고자 하는 상품을 입력하세요 장갑\n"
     ]
    }
   ],
   "source": [
    "del_item = input('삭제하고자 하는 상품을 입력하세요')"
   ]
  },
  {
   "cell_type": "code",
   "execution_count": 119,
   "metadata": {},
   "outputs": [],
   "source": [
    "del items[items.index(del_item)]"
   ]
  },
  {
   "cell_type": "code",
   "execution_count": 120,
   "metadata": {},
   "outputs": [
    {
     "data": {
      "text/plain": [
       "['커피', '우유', '바나나', '감귤', '사과', '화장지', '이불', '베게', '장남감', '음료수', '빵']"
      ]
     },
     "execution_count": 120,
     "metadata": {},
     "output_type": "execute_result"
    }
   ],
   "source": [
    "items"
   ]
  },
  {
   "cell_type": "code",
   "execution_count": 123,
   "metadata": {},
   "outputs": [
    {
     "name": "stdin",
     "output_type": "stream",
     "text": [
      "추가하고자 하는 상품을 입력하세요. \n"
     ]
    },
    {
     "data": {
      "text/plain": [
       "['커피', '우유', '바나나', '감귤', '사과', '화장지', '이불', '베게', '장남감', '음료수', '빵', '물', '']"
      ]
     },
     "execution_count": 123,
     "metadata": {},
     "output_type": "execute_result"
    }
   ],
   "source": [
    "app_item = input('추가하고자 하는 상품을 입력하세요.')\n",
    "items.append(app_item)\n",
    "items"
   ]
  },
  {
   "cell_type": "code",
   "execution_count": 124,
   "metadata": {},
   "outputs": [],
   "source": [
    "del items[-1]"
   ]
  },
  {
   "cell_type": "code",
   "execution_count": 125,
   "metadata": {},
   "outputs": [
    {
     "data": {
      "text/plain": [
       "['커피', '우유', '바나나', '감귤', '사과', '화장지', '이불', '베게', '장남감', '음료수', '빵', '물']"
      ]
     },
     "execution_count": 125,
     "metadata": {},
     "output_type": "execute_result"
    }
   ],
   "source": [
    "items"
   ]
  },
  {
   "cell_type": "code",
   "execution_count": 126,
   "metadata": {},
   "outputs": [
    {
     "name": "stdin",
     "output_type": "stream",
     "text": [
      "검색하고자 하는 상품을 입력하세요. 화장지\n"
     ]
    },
    {
     "data": {
      "text/plain": [
       "True"
      ]
     },
     "execution_count": 126,
     "metadata": {},
     "output_type": "execute_result"
    }
   ],
   "source": [
    "search_item = input('검색하고자 하는 상품을 입력하세요.')\n",
    "search_item in items"
   ]
  },
  {
   "cell_type": "code",
   "execution_count": 154,
   "metadata": {},
   "outputs": [],
   "source": [
    "import random"
   ]
  },
  {
   "cell_type": "code",
   "execution_count": 139,
   "metadata": {},
   "outputs": [
    {
     "name": "stdout",
     "output_type": "stream",
     "text": [
      "['커피', '우유', '바나나', '감귤', '화장지', '장갑', '이불', '베게', '장난감', '음료수', '빵']\n"
     ]
    },
    {
     "name": "stdin",
     "output_type": "stream",
     "text": [
      "검색하고자 하는 상품을 입력하세요 장갑\n"
     ]
    }
   ],
   "source": [
    "a = '커피 우유 바나나 감귤 화장지 장갑 이불 베게 장난감 음료수 빵'.split()\n",
    "print(a)\n",
    "good = input('검색하고자 하는 상품을 입력하세요')"
   ]
  },
  {
   "cell_type": "code",
   "execution_count": 141,
   "metadata": {},
   "outputs": [
    {
     "name": "stdout",
     "output_type": "stream",
     "text": [
      "상품이 있습니다\n"
     ]
    }
   ],
   "source": [
    "if good in a:\n",
    "    print('상품이 있습니다')\n",
    "else:\n",
    "    print('상품이 없습니다')"
   ]
  },
  {
   "cell_type": "code",
   "execution_count": 142,
   "metadata": {},
   "outputs": [
    {
     "data": {
      "text/plain": [
       "['1', '2', '3', '4', '5']"
      ]
     },
     "execution_count": 142,
     "metadata": {},
     "output_type": "execute_result"
    }
   ],
   "source": [
    "a = '1 2 3 4 5'\n",
    "b = a.split()\n",
    "b"
   ]
  },
  {
   "cell_type": "markdown",
   "metadata": {},
   "source": [
    "### len() 함수\n",
    "\n",
    "- 리스트의 개수, 문자열의 길이를 반환"
   ]
  },
  {
   "cell_type": "code",
   "execution_count": 155,
   "metadata": {},
   "outputs": [],
   "source": [
    "items = '커피 우유 커피 바나나 감귤 화장지 장갑 이불 베게 장난감 음료수 빵'.split()"
   ]
  },
  {
   "cell_type": "code",
   "execution_count": 156,
   "metadata": {},
   "outputs": [
    {
     "data": {
      "text/plain": [
       "1"
      ]
     },
     "execution_count": 156,
     "metadata": {},
     "output_type": "execute_result"
    }
   ],
   "source": [
    "random.randint(0, len(items))"
   ]
  },
  {
   "cell_type": "code",
   "execution_count": 157,
   "metadata": {},
   "outputs": [
    {
     "name": "stdout",
     "output_type": "stream",
     "text": [
      "12\n"
     ]
    }
   ],
   "source": [
    "print(len(items))"
   ]
  },
  {
   "cell_type": "code",
   "execution_count": 158,
   "metadata": {},
   "outputs": [
    {
     "ename": "AttributeError",
     "evalue": "module 'random' has no attribute 'ranint'",
     "output_type": "error",
     "traceback": [
      "\u001b[0;31m---------------------------------------------------------------------------\u001b[0m",
      "\u001b[0;31mAttributeError\u001b[0m                            Traceback (most recent call last)",
      "\u001b[0;32m<ipython-input-158-58ebd103904d>\u001b[0m in \u001b[0;36m<module>\u001b[0;34m\u001b[0m\n\u001b[0;32m----> 1\u001b[0;31m \u001b[0mprint\u001b[0m\u001b[0;34m(\u001b[0m\u001b[0mitems\u001b[0m\u001b[0;34m[\u001b[0m\u001b[0mrandom\u001b[0m\u001b[0;34m.\u001b[0m\u001b[0mranint\u001b[0m\u001b[0;34m(\u001b[0m\u001b[0;36m0\u001b[0m\u001b[0;34m,\u001b[0m \u001b[0mlen\u001b[0m\u001b[0;34m(\u001b[0m\u001b[0mitems\u001b[0m\u001b[0;34m)\u001b[0m \u001b[0;34m-\u001b[0m \u001b[0;36m1\u001b[0m\u001b[0;34m)\u001b[0m\u001b[0;34m]\u001b[0m\u001b[0;34m)\u001b[0m\u001b[0;34m\u001b[0m\u001b[0;34m\u001b[0m\u001b[0m\n\u001b[0m",
      "\u001b[0;31mAttributeError\u001b[0m: module 'random' has no attribute 'ranint'"
     ]
    }
   ],
   "source": [
    "print(items[random.ranint(0, len(items) - 1)])"
   ]
  },
  {
   "cell_type": "markdown",
   "metadata": {},
   "source": [
    "### range() 함수\n",
    "- 규칙적인 숫자열로 구성된 범위 생성\n",
    "- range(끝) [0, 1, 2, 3, …, 끝-1] list(range(4)) → [0, 1, 2, 3]\n",
    "- range(시작, 끝) [시작, 시작+1, 시작+2, …, 끝-1] list(range (3, 5)) → [3, 4]\n",
    "- range(시작, 끝, 스텝) [시작, 시작+스텝, 시작+스텝×2, …, 시작+스텝×k] list(range(2, 11, 2)) → [2, 4, 6, 8, 10]\n",
    "- range(시작, 끝, -스텝) [시작, 시작-스텝, 시작-스텝×2, …, 시작-스텝×k] list(range(9, 1, -2)) → [9, 7, 5, 3]"
   ]
  },
  {
   "cell_type": "code",
   "execution_count": 151,
   "metadata": {},
   "outputs": [
    {
     "data": {
      "text/plain": [
       "range(0, 10)"
      ]
     },
     "execution_count": 151,
     "metadata": {},
     "output_type": "execute_result"
    }
   ],
   "source": [
    "range(10)"
   ]
  },
  {
   "cell_type": "code",
   "execution_count": 152,
   "metadata": {},
   "outputs": [
    {
     "data": {
      "text/plain": [
       "range(10, 20)"
      ]
     },
     "execution_count": 152,
     "metadata": {},
     "output_type": "execute_result"
    }
   ],
   "source": [
    "range(10,20)"
   ]
  },
  {
   "cell_type": "code",
   "execution_count": 153,
   "metadata": {},
   "outputs": [
    {
     "data": {
      "text/plain": [
       "[10, 11, 12, 13, 14, 15, 16, 17, 18, 19]"
      ]
     },
     "execution_count": 153,
     "metadata": {},
     "output_type": "execute_result"
    }
   ],
   "source": [
    "list(range(10,20))"
   ]
  },
  {
   "cell_type": "code",
   "execution_count": 159,
   "metadata": {},
   "outputs": [],
   "source": [
    "a = range(1, 100)"
   ]
  },
  {
   "cell_type": "code",
   "execution_count": 161,
   "metadata": {},
   "outputs": [
    {
     "data": {
      "text/plain": [
       "range(3, 6)"
      ]
     },
     "execution_count": 161,
     "metadata": {},
     "output_type": "execute_result"
    }
   ],
   "source": [
    "a[2:5] # 인덱스 2부터 5까지 슬라이싱으로 range를 만듦"
   ]
  },
  {
   "cell_type": "code",
   "execution_count": 163,
   "metadata": {},
   "outputs": [
    {
     "data": {
      "text/plain": [
       "range(3, 6)"
      ]
     },
     "execution_count": 163,
     "metadata": {},
     "output_type": "execute_result"
    }
   ],
   "source": [
    "b = a[2:5]\n",
    "b"
   ]
  },
  {
   "cell_type": "code",
   "execution_count": 165,
   "metadata": {},
   "outputs": [
    {
     "ename": "TypeError",
     "evalue": "'range' object does not support item assignment",
     "output_type": "error",
     "traceback": [
      "\u001b[0;31m---------------------------------------------------------------------------\u001b[0m",
      "\u001b[0;31mTypeError\u001b[0m                                 Traceback (most recent call last)",
      "\u001b[0;32m<ipython-input-165-2b988a03e2b0>\u001b[0m in \u001b[0;36m<module>\u001b[0;34m\u001b[0m\n\u001b[0;32m----> 1\u001b[0;31m \u001b[0mb\u001b[0m\u001b[0;34m[\u001b[0m\u001b[0;36m0\u001b[0m\u001b[0;34m]\u001b[0m \u001b[0;34m=\u001b[0m \u001b[0;36m5\u001b[0m \u001b[0;31m# range도 불변 객체이므로 재할당할 수 없음\u001b[0m\u001b[0;34m\u001b[0m\u001b[0;34m\u001b[0m\u001b[0m\n\u001b[0m",
      "\u001b[0;31mTypeError\u001b[0m: 'range' object does not support item assignment"
     ]
    }
   ],
   "source": [
    "b[0] = 5 # range도 불변 객체이므로 재할당할 수 없음"
   ]
  },
  {
   "cell_type": "markdown",
   "metadata": {},
   "source": [
    "### list() 함수\n",
    "- list(문자열) 문자열을 한 글자씩 분리하여 리스트 생성 list('12345') → ['1', '2', '3', '4', '5']"
   ]
  },
  {
   "cell_type": "code",
   "execution_count": 184,
   "metadata": {},
   "outputs": [
    {
     "data": {
      "text/plain": [
       "['h', 'e', 'l', 'l', 'o']"
      ]
     },
     "execution_count": 184,
     "metadata": {},
     "output_type": "execute_result"
    }
   ],
   "source": [
    "list('hello')"
   ]
  },
  {
   "cell_type": "code",
   "execution_count": 166,
   "metadata": {},
   "outputs": [],
   "source": [
    "a = 'Hello world'"
   ]
  },
  {
   "cell_type": "code",
   "execution_count": 167,
   "metadata": {},
   "outputs": [],
   "source": [
    "b = list(a)"
   ]
  },
  {
   "cell_type": "code",
   "execution_count": 168,
   "metadata": {},
   "outputs": [],
   "source": [
    "c = a.split()"
   ]
  },
  {
   "cell_type": "code",
   "execution_count": 169,
   "metadata": {},
   "outputs": [],
   "source": [
    "d = a.split('o')"
   ]
  },
  {
   "cell_type": "code",
   "execution_count": 170,
   "metadata": {},
   "outputs": [
    {
     "data": {
      "text/plain": [
       "'Hello world'"
      ]
     },
     "execution_count": 170,
     "metadata": {},
     "output_type": "execute_result"
    }
   ],
   "source": [
    "a"
   ]
  },
  {
   "cell_type": "code",
   "execution_count": 171,
   "metadata": {},
   "outputs": [
    {
     "data": {
      "text/plain": [
       "['H', 'e', 'l', 'l', 'o', ' ', 'w', 'o', 'r', 'l', 'd']"
      ]
     },
     "execution_count": 171,
     "metadata": {},
     "output_type": "execute_result"
    }
   ],
   "source": [
    "b"
   ]
  },
  {
   "cell_type": "code",
   "execution_count": 172,
   "metadata": {},
   "outputs": [
    {
     "data": {
      "text/plain": [
       "['Hello', 'world']"
      ]
     },
     "execution_count": 172,
     "metadata": {},
     "output_type": "execute_result"
    }
   ],
   "source": [
    "c"
   ]
  },
  {
   "cell_type": "code",
   "execution_count": 173,
   "metadata": {},
   "outputs": [
    {
     "data": {
      "text/plain": [
       "['Hell', ' w', 'rld']"
      ]
     },
     "execution_count": 173,
     "metadata": {},
     "output_type": "execute_result"
    }
   ],
   "source": [
    "d"
   ]
  },
  {
   "cell_type": "code",
   "execution_count": 174,
   "metadata": {},
   "outputs": [
    {
     "data": {
      "text/plain": [
       "[0, 1, 2, 3, 4, 5, 6, 7, 8, 9]"
      ]
     },
     "execution_count": 174,
     "metadata": {},
     "output_type": "execute_result"
    }
   ],
   "source": [
    "list(range(10))"
   ]
  },
  {
   "cell_type": "code",
   "execution_count": 175,
   "metadata": {},
   "outputs": [
    {
     "data": {
      "text/plain": [
       "[3, 4, 5, 6]"
      ]
     },
     "execution_count": 175,
     "metadata": {},
     "output_type": "execute_result"
    }
   ],
   "source": [
    "list(range(3,7))"
   ]
  },
  {
   "cell_type": "code",
   "execution_count": 176,
   "metadata": {},
   "outputs": [
    {
     "data": {
      "text/plain": [
       "[10, 8, 6, 4, 2]"
      ]
     },
     "execution_count": 176,
     "metadata": {},
     "output_type": "execute_result"
    }
   ],
   "source": [
    "list(range(10, 1, -2))"
   ]
  },
  {
   "cell_type": "code",
   "execution_count": 177,
   "metadata": {},
   "outputs": [
    {
     "data": {
      "text/plain": [
       "[]"
      ]
     },
     "execution_count": 177,
     "metadata": {},
     "output_type": "execute_result"
    }
   ],
   "source": [
    "list(range(1, 7, -1))"
   ]
  },
  {
   "cell_type": "code",
   "execution_count": 183,
   "metadata": {},
   "outputs": [
    {
     "data": {
      "text/plain": [
       "20"
      ]
     },
     "execution_count": 183,
     "metadata": {},
     "output_type": "execute_result"
    }
   ],
   "source": [
    "random.randint(1,20)"
   ]
  },
  {
   "cell_type": "markdown",
   "metadata": {},
   "source": [
    "## 반복문\n",
    "- 반복(iteration)은 동일한 문장을 여러 번 반복시키는 구조\n",
    "- 조건식이 True인 동안 실행문장을 반복함\n",
    "- If문과 마찬가지로 반복실행 되어야 할 문장은 들여쓰기가 되 있어야 함\n",
    "- 컴퓨터는 반복작업을 빠르게 실행 할 수 있음"
   ]
  },
  {
   "cell_type": "code",
   "execution_count": 186,
   "metadata": {},
   "outputs": [
    {
     "name": "stdout",
     "output_type": "stream",
     "text": [
      "파이썬은 즐거워\n",
      "파이썬은 즐거워\n",
      "파이썬은 즐거워\n",
      "파이썬은 즐거워\n",
      "파이썬은 즐거워\n",
      "count =  5\n"
     ]
    }
   ],
   "source": [
    "# 반복 조건식에 사용할 변수 (while 족건식에 사용할 변수는 반드시 먼저 정의 되야 함)\n",
    "\n",
    "count = 0\n",
    "\n",
    "while count < 5:\n",
    "    print('파이썬은 즐거워')\n",
    "    count += 1\n",
    "print('count = ', count)    "
   ]
  },
  {
   "cell_type": "markdown",
   "metadata": {},
   "source": [
    "### for 반복문\n",
    "\n",
    "for 변수 in 범위:\n",
    "  실행문장1\n",
    "  실행문장2\n",
    "  실행문장3\n",
    "  \n",
    "범위의 처음부터 끝까지 반복함\n",
    "- while과의 차이점\n",
    "- while: 조건비교결과가 참인 동안 실행문장들이 반복해서 실행됨\n",
    "- for : 범위의 처음부터 끝까지 반복해서 실행됨"
   ]
  },
  {
   "cell_type": "code",
   "execution_count": 187,
   "metadata": {},
   "outputs": [
    {
     "name": "stdout",
     "output_type": "stream",
     "text": [
      "나무를 1 번 찍었습니다. 딱! \n",
      "나무를 2 번 찍었습니다. 딱! 딱! \n",
      "나무를 3 번 찍었습니다. 딱! 딱! 딱! \n",
      "나무를 4 번 찍었습니다. 딱! 딱! 딱! 딱! \n",
      "나무를 5 번 찍었습니다. 딱! 딱! 딱! 딱! 딱! \n",
      "나무를 6 번 찍었습니다. 딱! 딱! 딱! 딱! 딱! 딱! \n",
      "나무를 7 번 찍었습니다. 딱! 딱! 딱! 딱! 딱! 딱! 딱! \n",
      "나무를 8 번 찍었습니다. 딱! 딱! 딱! 딱! 딱! 딱! 딱! 딱! \n",
      "나무를 9 번 찍었습니다. 딱! 딱! 딱! 딱! 딱! 딱! 딱! 딱! 딱! \n",
      "넘어가자\n"
     ]
    }
   ],
   "source": [
    "# 범위에 숫자 리스트를 준 예제\n",
    "\n",
    "for count in [1,2,3,4,5,6,7,8,9]:\n",
    "    print ('나무를', count, '번 찍었습니다.', '딱! ' *count)\n",
    "\n",
    "print('넘어가자')"
   ]
  },
  {
   "cell_type": "code",
   "execution_count": 194,
   "metadata": {},
   "outputs": [
    {
     "name": "stdout",
     "output_type": "stream",
     "text": [
      "2 * 1 2\n",
      "2 * 2 4\n",
      "2 * 3 6\n",
      "2 * 4 8\n",
      "2 * 5 10\n",
      "2 * 6 12\n",
      "2 * 7 14\n",
      "2 * 8 16\n",
      "2 * 9 18\n",
      "3 * 1 3\n",
      "3 * 2 6\n",
      "3 * 3 9\n",
      "3 * 4 12\n",
      "3 * 5 15\n",
      "3 * 6 18\n",
      "3 * 7 21\n",
      "3 * 8 24\n",
      "3 * 9 27\n",
      "4 * 1 4\n",
      "4 * 2 8\n",
      "4 * 3 12\n",
      "4 * 4 16\n",
      "4 * 5 20\n",
      "4 * 6 24\n",
      "4 * 7 28\n",
      "4 * 8 32\n",
      "4 * 9 36\n",
      "5 * 1 5\n",
      "5 * 2 10\n",
      "5 * 3 15\n",
      "5 * 4 20\n",
      "5 * 5 25\n",
      "5 * 6 30\n",
      "5 * 7 35\n",
      "5 * 8 40\n",
      "5 * 9 45\n",
      "6 * 1 6\n",
      "6 * 2 12\n",
      "6 * 3 18\n",
      "6 * 4 24\n",
      "6 * 5 30\n",
      "6 * 6 36\n",
      "6 * 7 42\n",
      "6 * 8 48\n",
      "6 * 9 54\n",
      "7 * 1 7\n",
      "7 * 2 14\n",
      "7 * 3 21\n",
      "7 * 4 28\n",
      "7 * 5 35\n",
      "7 * 6 42\n",
      "7 * 7 49\n",
      "7 * 8 56\n",
      "7 * 9 63\n",
      "8 * 1 8\n",
      "8 * 2 16\n",
      "8 * 3 24\n",
      "8 * 4 32\n",
      "8 * 5 40\n",
      "8 * 6 48\n",
      "8 * 7 56\n",
      "8 * 8 64\n",
      "8 * 9 72\n",
      "9 * 1 9\n",
      "9 * 2 18\n",
      "9 * 3 27\n",
      "9 * 4 36\n",
      "9 * 5 45\n",
      "9 * 6 54\n",
      "9 * 7 63\n",
      "9 * 8 72\n",
      "9 * 9 81\n"
     ]
    }
   ],
   "source": [
    "# 구구단 예제\n",
    "\n",
    "for i in range(2,10):\n",
    "    for j in range(1,10):\n",
    "        print(i, '*', j, i * j)"
   ]
  },
  {
   "cell_type": "code",
   "execution_count": 195,
   "metadata": {},
   "outputs": [
    {
     "name": "stdout",
     "output_type": "stream",
     "text": [
      "I really like programming.\n",
      "I really like pasta.\n",
      "I really like spam.\n",
      "I really like play park.\n"
     ]
    }
   ],
   "source": [
    "stuff = ['programming', 'pasta', 'spam', 'play park']\n",
    "for thing in stuff:\n",
    "    print('I really like ' + thing + '.')"
   ]
  },
  {
   "cell_type": "code",
   "execution_count": 196,
   "metadata": {},
   "outputs": [
    {
     "name": "stdout",
     "output_type": "stream",
     "text": [
      "Hello world!"
     ]
    }
   ],
   "source": [
    "# 범위에 문자열을 준 예제\n",
    "\n",
    "for i in 'Hello world!':\n",
    "    print(i, end = '') #end = '' 는 줄바꿈 하지 말라는 의미"
   ]
  },
  {
   "cell_type": "code",
   "execution_count": 197,
   "metadata": {},
   "outputs": [
    {
     "name": "stdout",
     "output_type": "stream",
     "text": [
      "H\n",
      "e\n",
      "l\n",
      "l\n",
      "o\n",
      " \n",
      "w\n",
      "o\n",
      "r\n",
      "l\n",
      "d\n",
      "!\n"
     ]
    }
   ],
   "source": [
    "for i in 'Hello world!':\n",
    "    print(i)"
   ]
  },
  {
   "cell_type": "code",
   "execution_count": 200,
   "metadata": {},
   "outputs": [
    {
     "name": "stdout",
     "output_type": "stream",
     "text": [
      "열번 찍어 안 넘어가는 나무없다!!!\n",
      "나무를  1 번 찍었습니다\n",
      "나무를  2 번 찍었습니다\n",
      "나무를  3 번 찍었습니다\n",
      "나무를  4 번 찍었습니다\n",
      "나무를  5 번 찍었습니다\n",
      "나무를  6 번 찍었습니다\n",
      "나무를  7 번 찍었습니다\n",
      "나무를  8 번 찍었습니다\n",
      "나무를  9 번 찍었습니다\n",
      "나무를  10 번 찍었습니다\n",
      "간다~간다~넘어간다!!!\n"
     ]
    }
   ],
   "source": [
    "print('열번 찍어 안 넘어가는 나무없다!!!')\n",
    "\n",
    "cnt = 0\n",
    "while cnt < 10:\n",
    "    cnt += 1\n",
    "    print('나무를 ', cnt, '번 찍었습니다')\n",
    "    \n",
    "print('간다~간다~넘어간다!!!')"
   ]
  },
  {
   "cell_type": "code",
   "execution_count": 205,
   "metadata": {},
   "outputs": [
    {
     "name": "stdout",
     "output_type": "stream",
     "text": [
      "티끌 모아 태산!!!\n",
      "땡그랑 동전을 100원을 모았습니다\n",
      "땡그랑 땡그랑 동전을 200원을 모았습니다\n",
      "땡그랑 땡그랑 땡그랑 동전을 300원을 모았습니다\n",
      "땡그랑 땡그랑 땡그랑 땡그랑 동전을 400원을 모았습니다\n",
      "땡그랑 땡그랑 땡그랑 땡그랑 땡그랑 동전을 500원을 모았습니다\n",
      "땡그랑 땡그랑 땡그랑 땡그랑 땡그랑 땡그랑 동전을 600원을 모았습니다\n",
      "땡그랑 땡그랑 땡그랑 땡그랑 땡그랑 땡그랑 땡그랑 동전을 700원을 모았습니다\n",
      "땡그랑 땡그랑 땡그랑 땡그랑 땡그랑 땡그랑 땡그랑 땡그랑 동전을 800원을 모았습니다\n",
      "땡그랑 땡그랑 땡그랑 땡그랑 땡그랑 땡그랑 땡그랑 땡그랑 땡그랑 동전을 900원을 모았습니다\n",
      "땡그랑 땡그랑 땡그랑 땡그랑 땡그랑 땡그랑 땡그랑 땡그랑 땡그랑 땡그랑 동전을 1000원을 모았습니다\n",
      "산다. 산다. 집 산다!!!\n"
     ]
    }
   ],
   "source": [
    "print('티끌 모아 태산!!!')\n",
    "\n",
    "cnt = 0\n",
    "money = ''\n",
    "\n",
    "while cnt < 1000:\n",
    "    cnt += 100\n",
    "    money += '땡그랑 '\n",
    "    print(money + '동전을 ' + str(cnt) + '원을 모았습니다')\n",
    "    \n",
    "print('산다. 산다. 집 산다!!!')"
   ]
  },
  {
   "cell_type": "code",
   "execution_count": 211,
   "metadata": {},
   "outputs": [
    {
     "name": "stdout",
     "output_type": "stream",
     "text": [
      "로또번호 생성기 프로그램\n",
      "1번째 번호는 6입니다\n",
      "2번째 번호는 38입니다\n",
      "3번째 번호는 4입니다\n",
      "4번째 번호는 25입니다\n",
      "5번째 번호는 9입니다\n",
      "6번째 번호는 2입니다\n"
     ]
    }
   ],
   "source": [
    "# 로또번호는 1~45사이 random.randint()를 사용\n",
    "# 6개의 번호가 필요함.\n",
    "# 중복번호가 나올 수도 있음\n",
    "\n",
    "import random\n",
    "\n",
    "print('로또번호 생성기 프로그램')\n",
    "\n",
    "cnt = 0\n",
    "money = ''\n",
    "\n",
    "while cnt < 6:\n",
    "    cnt += 1\n",
    "    lotto = random.randint(1, 45)\n",
    "    print(str(cnt) + '번째 번호는 ' + str(lotto) + '입니다')\n",
    "#    print(cnt, '번째 번호는', lotto, '입니다')"
   ]
  },
  {
   "cell_type": "markdown",
   "metadata": {},
   "source": [
    "#### 실습3) \n",
    "\n",
    "올바른 암호를 입력할 때까지 암호를 입력받는 프로그램을 작 성하세요. 올바른 암호를 입력하면 로그인 성공을 출력하세요.\n",
    "- 알고리즘\n",
    "    - 초기값 password = ' '\n",
    "    - 암호가 “pythonisfun”이 아니면 반복한다.\n",
    "    - 암호를 입력하세요.\n",
    "- password=raw_input()\n",
    "    - 암호가 올바르면 “로그인 성공”을 출력한다"
   ]
  },
  {
   "cell_type": "markdown",
   "metadata": {},
   "source": [
    "#### 실습4)\n",
    "\n",
    "올바른 암호를 입력할 때까지 암호를 입력받는 프로그램을 작성하세요. 올바른 암호를 입력하면 로그인 성공을 출력하세요.\n",
    "- 알고리즘\n",
    "    1. 초기값 password = ' '\n",
    "    2. 암호가 “pythonisfun”이 아니면 반복한다.\n",
    "- 암호를 입력하세요.\n",
    "- password = input()\n",
    "- 암호가 올바르면 “로그인 성공”을 출력한다."
   ]
  },
  {
   "cell_type": "code",
   "execution_count": 217,
   "metadata": {},
   "outputs": [
    {
     "name": "stdin",
     "output_type": "stream",
     "text": [
      "암호를 입력하세요 ㅈㄷㄱㅇㄹㅇㄹ\n",
      "암호를 입력하세요 ㅇㄴㄹㅁㅇ\n",
      "암호를 입력하세요 pythonisfun\n"
     ]
    },
    {
     "name": "stdout",
     "output_type": "stream",
     "text": [
      "로그인 성공\n"
     ]
    }
   ],
   "source": [
    "passwd = ''\n",
    "\n",
    "while passwd != 'pythonisfun':\n",
    "    passwd = input('암호를 입력하세요')\n",
    "    if passwd == 'pythonisfun':\n",
    "        print('로그인 성공')"
   ]
  },
  {
   "cell_type": "markdown",
   "metadata": {},
   "source": [
    "#### 실습5)\n",
    "\n",
    "원하는 단을 입력 받아 그 단의 구구단을 출력하는 프로그램을 while문을 이용하여 작성하세요.\n",
    "- 알고리즘\n",
    "    - 단을 입력 받는다.\n",
    "    - while문의 조건을 준다.\n",
    "- 출력한다.\n",
    "- 조건이 반복되도록 변수의 값을 변경한다"
   ]
  },
  {
   "cell_type": "code",
   "execution_count": 221,
   "metadata": {},
   "outputs": [
    {
     "name": "stdin",
     "output_type": "stream",
     "text": [
      "원하는 단은: 6\n"
     ]
    },
    {
     "name": "stdout",
     "output_type": "stream",
     "text": [
      "6 * 1  =  6\n",
      "6 * 2  =  12\n",
      "6 * 3  =  18\n",
      "6 * 4  =  24\n",
      "6 * 5  =  30\n",
      "6 * 6  =  36\n",
      "6 * 7  =  42\n",
      "6 * 8  =  48\n",
      "6 * 9  =  54\n"
     ]
    }
   ],
   "source": [
    "i = int(input('원하는 단은:'))\n",
    "j = 0\n",
    "\n",
    "while j < 9:\n",
    "    j += 1\n",
    "    print(i, '*', j, ' = ', i * j)"
   ]
  },
  {
   "cell_type": "markdown",
   "metadata": {},
   "source": [
    "#### 실습6)\n",
    "입력한 값이 1보다 작은 경우 “잘못 입력하셨습니다.” 메시지를 출력한 후 다시 입력 받도록 작성해보세요."
   ]
  },
  {
   "cell_type": "code",
   "execution_count": 4,
   "metadata": {},
   "outputs": [
    {
     "name": "stdin",
     "output_type": "stream",
     "text": [
      "1이상의 숫자를 입력해주세요. -4\n"
     ]
    },
    {
     "name": "stdout",
     "output_type": "stream",
     "text": [
      "잘못 입력하셨습니다\n"
     ]
    },
    {
     "name": "stdin",
     "output_type": "stream",
     "text": [
      "1이상의 숫자를 입력해주세요. 56\n"
     ]
    },
    {
     "name": "stdout",
     "output_type": "stream",
     "text": [
      "시작 범위 1부터 끝 범위 100 가운데 선택된 랜덤 넘버는  58 입니다.\n"
     ]
    }
   ],
   "source": [
    "import random\n",
    "\n",
    "num = 0\n",
    "while num < 1:\n",
    "    num = int(input('1이상의 숫자를 입력해주세요.'))\n",
    "\n",
    "    if num < 1:\n",
    "        print('잘못 입력하셨습니다')\n",
    "    else:\n",
    "        print('시작 범위 1부터 끝 범위 100 가운데 선택된 랜덤 넘버는 ', random.randint(1, 100), '입니다.')\n"
   ]
  },
  {
   "cell_type": "markdown",
   "metadata": {},
   "source": [
    "#### 실습7)\n",
    "1~100까지 숫자를 더해 합을 출력하는 프로그램을 while/for문을 사용하여 작성하시오"
   ]
  },
  {
   "cell_type": "code",
   "execution_count": 20,
   "metadata": {},
   "outputs": [
    {
     "name": "stdout",
     "output_type": "stream",
     "text": [
      "1 부터 100까지 더한 수는 5050\n"
     ]
    }
   ],
   "source": [
    "cnt = 0\n",
    "sum = 0\n",
    "\n",
    "while cnt < 100:\n",
    "    cnt += 1\n",
    "    sum += cnt\n",
    "    \n",
    "print('1 부터 100까지 더한 수는', sum)"
   ]
  },
  {
   "cell_type": "code",
   "execution_count": null,
   "metadata": {},
   "outputs": [],
   "source": []
  }
 ],
 "metadata": {
  "kernelspec": {
   "display_name": "Python 3",
   "language": "python",
   "name": "python3"
  },
  "language_info": {
   "codemirror_mode": {
    "name": "ipython",
    "version": 3
   },
   "file_extension": ".py",
   "mimetype": "text/x-python",
   "name": "python",
   "nbconvert_exporter": "python",
   "pygments_lexer": "ipython3",
   "version": "3.7.3"
  }
 },
 "nbformat": 4,
 "nbformat_minor": 2
}
