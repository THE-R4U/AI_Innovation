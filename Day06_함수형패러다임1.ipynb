{
  "nbformat": 4,
  "nbformat_minor": 0,
  "metadata": {
    "colab": {
      "name": "Day06_함수형패러다임1.ipynb",
      "version": "0.3.2",
      "provenance": [],
      "include_colab_link": true
    },
    "language_info": {
      "codemirror_mode": {
        "name": "ipython",
        "version": 3
      },
      "file_extension": ".py",
      "mimetype": "text/x-python",
      "name": "python",
      "nbconvert_exporter": "python",
      "pygments_lexer": "ipython3",
      "version": "3.7.3"
    },
    "kernelspec": {
      "display_name": "Python 3",
      "language": "python",
      "name": "python3"
    }
  },
  "cells": [
    {
      "cell_type": "markdown",
      "metadata": {
        "id": "view-in-github",
        "colab_type": "text"
      },
      "source": [
        "<a href=\"https://colab.research.google.com/github/THE-R4U/AI_Innovation/blob/master/Day06_%E1%84%92%E1%85%A1%E1%86%B7%E1%84%89%E1%85%AE%E1%84%92%E1%85%A7%E1%86%BC%E1%84%91%E1%85%A2%E1%84%85%E1%85%A5%E1%84%83%E1%85%A1%E1%84%8B%E1%85%B5%E1%86%B71.ipynb\" target=\"_parent\"><img src=\"https://colab.research.google.com/assets/colab-badge.svg\" alt=\"Open In Colab\"/></a>"
      ]
    },
    {
      "cell_type": "markdown",
      "metadata": {
        "id": "uP6QgWbZFebB",
        "colab_type": "text"
      },
      "source": [
        "# 함수형 패러다임 I (전준헌 강사)"
      ]
    },
    {
      "cell_type": "markdown",
      "metadata": {
        "id": "p0eFY8xcFebC",
        "colab_type": "text"
      },
      "source": [
        "## 리스트 복습\n",
        "- list 함수: lsist 형으로 형변환\n",
        "    - list(문자열): list('12345') -> ['1','2','3','4','5']"
      ]
    },
    {
      "cell_type": "code",
      "metadata": {
        "id": "b9kpnO_BFebD",
        "colab_type": "code",
        "colab": {}
      },
      "source": [
        "def greet(name, msg='별일 없죠?'):\n",
        "    print('안녕', name, msg)"
      ],
      "execution_count": 0,
      "outputs": []
    },
    {
      "cell_type": "code",
      "metadata": {
        "id": "bfthTQxKFebG",
        "colab_type": "code",
        "colab": {},
        "outputId": "7f53d134-18f1-4f55-bf5a-f04151165403"
      },
      "source": [
        "greet('안진훈')"
      ],
      "execution_count": 0,
      "outputs": [
        {
          "output_type": "stream",
          "text": [
            "안녕 안진훈 별일 없죠?\n"
          ],
          "name": "stdout"
        }
      ]
    },
    {
      "cell_type": "code",
      "metadata": {
        "id": "aGQsTRieFebK",
        "colab_type": "code",
        "colab": {},
        "outputId": "0f5eccaa-c528-429c-8aac-94d5a4afbf6f"
      },
      "source": [
        "greet('안진훈', '좋은 아침!')"
      ],
      "execution_count": 0,
      "outputs": [
        {
          "output_type": "stream",
          "text": [
            "안녕 안진훈 좋은 아침!\n"
          ],
          "name": "stdout"
        }
      ]
    },
    {
      "cell_type": "code",
      "metadata": {
        "id": "t1i7dOGyFebN",
        "colab_type": "code",
        "colab": {}
      },
      "source": [
        "def calc(x, y, z):\n",
        "    return x + y + z"
      ],
      "execution_count": 0,
      "outputs": []
    },
    {
      "cell_type": "code",
      "metadata": {
        "id": "rpUSz37pFebP",
        "colab_type": "code",
        "colab": {},
        "outputId": "bf38a589-c8f6-420d-ad34-50360c2b9518"
      },
      "source": [
        "print(calc(1, y=2, z=3))"
      ],
      "execution_count": 0,
      "outputs": [
        {
          "output_type": "stream",
          "text": [
            "6\n"
          ],
          "name": "stdout"
        }
      ]
    },
    {
      "cell_type": "markdown",
      "metadata": {
        "id": "do1qY6N_FebR",
        "colab_type": "text"
      },
      "source": [
        "### 가변 인자: 몇 개의 인자를 받을지 정해지지 않은 인자\n",
        "- 파이썬에서는 가변 인자를 받을 때 * 을 붙여서 받는다.\n",
        "- 입력받는 숫자의 개수와 상관없이 받을 수 있다."
      ]
    },
    {
      "cell_type": "code",
      "metadata": {
        "id": "lKh3PxoKFebR",
        "colab_type": "code",
        "colab": {},
        "outputId": "16427f39-88cb-4207-aafe-95cf60039682"
      },
      "source": [
        "# args는 튜플의 형태로 저장 됨\n",
        "# args = (1,2,3,4)\n",
        "\n",
        "def sum_all(*args):\n",
        "    result = 0\n",
        "    for i in args:\n",
        "        result += i\n",
        "    return result\n",
        "\n",
        "print(sum_all(1,2,3,4))"
      ],
      "execution_count": 0,
      "outputs": [
        {
          "output_type": "stream",
          "text": [
            "10\n"
          ],
          "name": "stdout"
        }
      ]
    },
    {
      "cell_type": "code",
      "metadata": {
        "id": "v_5tFyIDFebU",
        "colab_type": "code",
        "colab": {},
        "outputId": "e5d45743-30f5-4493-9418-681cc07427d8"
      },
      "source": [
        "# argument에 list 형태로 줘도 된다\n",
        "# 리스트 변수를 인자로 줄 때도 * 을 사용(*args 매개변수가 가젼일 때)\n",
        "lst = [1,2,3]\n",
        "print(sum_all(*lst))"
      ],
      "execution_count": 0,
      "outputs": [
        {
          "output_type": "stream",
          "text": [
            "6\n"
          ],
          "name": "stdout"
        }
      ]
    },
    {
      "cell_type": "markdown",
      "metadata": {
        "id": "gTdsUrUiFebX",
        "colab_type": "text"
      },
      "source": [
        "### 키워드 가변인자 : 키워드 + 가변"
      ]
    },
    {
      "cell_type": "code",
      "metadata": {
        "id": "chHeLenkFebX",
        "colab_type": "code",
        "colab": {}
      },
      "source": [
        "# 키워드 가변인자 결과 형태는 dictionary 형태로 된다\n",
        "def dic_text(**kwargs):\n",
        "    print(kwargs)"
      ],
      "execution_count": 0,
      "outputs": []
    },
    {
      "cell_type": "code",
      "metadata": {
        "id": "tshExT0RFeba",
        "colab_type": "code",
        "colab": {},
        "outputId": "c25ec80e-83f9-4632-f9b9-29a4aae008db"
      },
      "source": [
        "dic_text(x=1, y=2, z=3)"
      ],
      "execution_count": 0,
      "outputs": [
        {
          "output_type": "stream",
          "text": [
            "{'x': 1, 'y': 2, 'z': 3}\n"
          ],
          "name": "stdout"
        }
      ]
    },
    {
      "cell_type": "code",
      "metadata": {
        "id": "rlCsFgosFebd",
        "colab_type": "code",
        "colab": {}
      },
      "source": [
        "# 일반적인 변수 스왑\n",
        "def func(x, y):\n",
        "    tmp = x\n",
        "    x = y\n",
        "    y = tmp\n",
        "    print(x, y)"
      ],
      "execution_count": 0,
      "outputs": []
    },
    {
      "cell_type": "code",
      "metadata": {
        "id": "MxVGjFDKFebe",
        "colab_type": "code",
        "colab": {},
        "outputId": "579996f2-a57b-425d-df83-5701c1378e41"
      },
      "source": [
        "func(1,5)"
      ],
      "execution_count": 0,
      "outputs": [
        {
          "output_type": "stream",
          "text": [
            "5 1\n"
          ],
          "name": "stdout"
        }
      ]
    },
    {
      "cell_type": "code",
      "metadata": {
        "id": "kLoRP2LLFebg",
        "colab_type": "code",
        "colab": {}
      },
      "source": [
        "def func2(dx, dy):\n",
        "    '''함수 도움말'''\n",
        "    dx, dy = dy, dx\n",
        "    print(dx, dy)"
      ],
      "execution_count": 0,
      "outputs": []
    },
    {
      "cell_type": "code",
      "metadata": {
        "id": "1DKLu6xJFebi",
        "colab_type": "code",
        "colab": {},
        "outputId": "0901493f-2639-46de-fe97-1f84679df974"
      },
      "source": [
        "func2(1, 5)"
      ],
      "execution_count": 0,
      "outputs": [
        {
          "output_type": "stream",
          "text": [
            "5 1\n"
          ],
          "name": "stdout"
        }
      ]
    },
    {
      "cell_type": "code",
      "metadata": {
        "id": "SKNOO4FAFebl",
        "colab_type": "code",
        "colab": {}
      },
      "source": [
        "x, y = 1, 2"
      ],
      "execution_count": 0,
      "outputs": []
    },
    {
      "cell_type": "code",
      "metadata": {
        "id": "lKKJFzSfFebn",
        "colab_type": "code",
        "colab": {},
        "outputId": "4a0a3fbd-bd9d-4ce0-9db0-9687c515cd3d"
      },
      "source": [
        "print(x, y)"
      ],
      "execution_count": 0,
      "outputs": [
        {
          "output_type": "stream",
          "text": [
            "1 2\n"
          ],
          "name": "stdout"
        }
      ]
    },
    {
      "cell_type": "code",
      "metadata": {
        "id": "-fg341FXFebq",
        "colab_type": "code",
        "colab": {},
        "outputId": "02442b4f-ecfd-449e-95f4-2057f2441389"
      },
      "source": [
        "# 함수도 하나의 객체로 인식한다\n",
        "# 함수내의 함수(method)를 호출\n",
        "func2.__doc__"
      ],
      "execution_count": 0,
      "outputs": [
        {
          "output_type": "execute_result",
          "data": {
            "text/plain": [
              "'함수 도움말'"
            ]
          },
          "metadata": {
            "tags": []
          },
          "execution_count": 35
        }
      ]
    },
    {
      "cell_type": "code",
      "metadata": {
        "id": "QVSjhWN7Febt",
        "colab_type": "code",
        "colab": {},
        "outputId": "1dbf734f-caef-43dc-bcd6-aeba1295d6d3"
      },
      "source": [
        "help(func2)"
      ],
      "execution_count": 0,
      "outputs": [
        {
          "output_type": "stream",
          "text": [
            "Help on function func2 in module __main__:\n",
            "\n",
            "func2(dx, dy)\n",
            "    함수 도움말\n",
            "\n"
          ],
          "name": "stdout"
        }
      ]
    },
    {
      "cell_type": "code",
      "metadata": {
        "id": "uHpqGbOuFebv",
        "colab_type": "code",
        "colab": {},
        "outputId": "a7e9f54d-1ad6-4afd-ff56-0e2b7712f263"
      },
      "source": [
        "# func2 함수이 레퍼런스값을 반환한다\n",
        "print(func2)"
      ],
      "execution_count": 0,
      "outputs": [
        {
          "output_type": "stream",
          "text": [
            "<function func2 at 0x104baad08>\n"
          ],
          "name": "stdout"
        }
      ]
    },
    {
      "cell_type": "code",
      "metadata": {
        "id": "LDFsMQvEFeby",
        "colab_type": "code",
        "colab": {},
        "outputId": "b7906583-bfb6-4924-fc15-a5a8b1271cde"
      },
      "source": [
        "type(func2)"
      ],
      "execution_count": 0,
      "outputs": [
        {
          "output_type": "execute_result",
          "data": {
            "text/plain": [
              "function"
            ]
          },
          "metadata": {
            "tags": []
          },
          "execution_count": 39
        }
      ]
    },
    {
      "cell_type": "code",
      "metadata": {
        "id": "IEn993rAFeb0",
        "colab_type": "code",
        "colab": {},
        "outputId": "21e9870b-ba41-4ef9-ba12-155de82627f8"
      },
      "source": [
        "# func2에서 사용 가능한 method를 보고 싶을 때\n",
        "dir(func2)"
      ],
      "execution_count": 0,
      "outputs": [
        {
          "output_type": "execute_result",
          "data": {
            "text/plain": [
              "['__annotations__',\n",
              " '__call__',\n",
              " '__class__',\n",
              " '__closure__',\n",
              " '__code__',\n",
              " '__defaults__',\n",
              " '__delattr__',\n",
              " '__dict__',\n",
              " '__dir__',\n",
              " '__doc__',\n",
              " '__eq__',\n",
              " '__format__',\n",
              " '__ge__',\n",
              " '__get__',\n",
              " '__getattribute__',\n",
              " '__globals__',\n",
              " '__gt__',\n",
              " '__hash__',\n",
              " '__init__',\n",
              " '__init_subclass__',\n",
              " '__kwdefaults__',\n",
              " '__le__',\n",
              " '__lt__',\n",
              " '__module__',\n",
              " '__name__',\n",
              " '__ne__',\n",
              " '__new__',\n",
              " '__qualname__',\n",
              " '__reduce__',\n",
              " '__reduce_ex__',\n",
              " '__repr__',\n",
              " '__setattr__',\n",
              " '__sizeof__',\n",
              " '__str__',\n",
              " '__subclasshook__']"
            ]
          },
          "metadata": {
            "tags": []
          },
          "execution_count": 42
        }
      ]
    },
    {
      "cell_type": "markdown",
      "metadata": {
        "id": "pse9IEWOFeb4",
        "colab_type": "text"
      },
      "source": [
        "#### 프로그래밍 패러다임\n",
        "- 절차적 : C\n",
        "- 객체지향형 : java\n",
        "- 함수형 : Haskwell\n",
        "\n",
        "#### Python 은?\n",
        "- 절차지향적, 객체지향형, 함수형 모두 지원 (다중 패러다임)\n",
        "\n",
        "#### 파이썬은 어떤 프로그래밍 패러다임을 이용해야 효율적일까?\n",
        "- 모두 다 괜찮음 (적재적소)\n"
      ]
    },
    {
      "cell_type": "markdown",
      "metadata": {
        "id": "jJM5XDAbFeb4",
        "colab_type": "text"
      },
      "source": [
        "#### 객체지향형 프로그래밍(OOP) : 객체라는 개념\n",
        "#### 객체가 모든 것의 중심\n",
        "- 캡슐화\n",
        "- Data와 method들이 각각ㄱ의 인스턴스(객체)에 포함\n",
        "- 상속\n",
        "- 단점: 매우 쉽게 복잡해질 수 있다는 점\n",
        "  개발하다보면 모든것이 특정 분류로 구분하는 것이 쉽지 않음"
      ]
    },
    {
      "cell_type": "markdown",
      "metadata": {
        "id": "1LUX7HO8Feb5",
        "colab_type": "text"
      },
      "source": [
        "> 함수형 프로그래밍은 자료 처리를 수학적 함수의 계산으로 취급하고 상태와 가변 데이터를 멀리하는 프로그래밍 패러다임의 하나이다. 명령형 프로그래밍에서는 상태를 바꾸는 것을 강조하는 것과는 달리, 함수형 프로그래밍은 함수의 응용을 강조한다. - 위키피디아"
      ]
    },
    {
      "cell_type": "markdown",
      "metadata": {
        "id": "h4H5NIbdFeb5",
        "colab_type": "text"
      },
      "source": [
        "- 부작용이 전혀 없는 함수: 순수 함수\n",
        "- 부작용을 피한다는 것은 프로그램이 실행될 때 수정될 수 있는 자료 구조를 사용하지 않는다는 의미\n",
        "- 특징\n",
        "    - global 변수난 nonlocal 변수(함수내에서 내부 변수가 상위에 있는 변수를 참조)를 사용하는 함수는 순수 함수가 아니다.\n",
        "    - 2개의 순수 표현식 간에 데이터 종속성이 없으면 순서가 역순으로 되거나 병렬로 실행될 수 있음"
      ]
    },
    {
      "cell_type": "markdown",
      "metadata": {
        "id": "ekQ9PDaJFeb6",
        "colab_type": "text"
      },
      "source": [
        "### 함수형 프로그래밍 특징\n",
        "- 상태 표현 피하기: 함수 내부 변환 결과가 외부에 전파하지 않도록 처리\n",
        "- 데이터에 대한 변경 불가능: 함수 내부 지역 변수에 대한 데이터를 변경 안함, 다만 클로저 환경으 구성해서 자유 변수를 변경할 수 있지만 함수를 통해 변경\n",
        "- first class: 모든 함수는 객체로 츄ㅟ급\n",
        "- high order function: 함수 간 견결 자유로움. 함수가 객체이므로 함수의 인자와 함수의 결과로 전달하고 합성 함구를 만들어 사용 가능\n",
        "- recursive call: 함수가 스스로 자기를 호출해서 순환 되도록 처리함면서 결과 반환 가능"
      ]
    },
    {
      "cell_type": "markdown",
      "metadata": {
        "id": "x7ZQvpSuFeb6",
        "colab_type": "text"
      },
      "source": [
        "### 파이썬에서의 FP 단점\n",
        "- Speed\n",
        "    - 재귀함수는 반복문에 비해 느리다.\n",
        "- 모든 함수는 순수하지 않다 (input)\n",
        "- Lots Learning\n",
        "    - 수학적 거부감, 객체지향 반대적\n",
        "    - 데코레이터 등 사용법 등에 대한 교육 시간\n",
        "- 단점 존재: 적재적소에 사용"
      ]
    },
    {
      "cell_type": "markdown",
      "metadata": {
        "id": "0uXzYVMyFeb7",
        "colab_type": "text"
      },
      "source": [
        "### 함수형 프로그램 함수들의 세트로 분제를 분해\n",
        "- 이상적: 함수는 입력을 받아서 출력을 만들어 준다."
      ]
    },
    {
      "cell_type": "code",
      "metadata": {
        "id": "OMp2BE8JFeb7",
        "colab_type": "code",
        "colab": {},
        "outputId": "85aa6eb5-a189-4780-b0cd-9e0d80c8b6ad"
      },
      "source": [
        "# 재귀함수\n",
        "new_lst = [1,2,3,4]\n",
        "def sum_list(lst):\n",
        "    if len(lst) == 1:\n",
        "        return lst[0]\n",
        "    else:\n",
        "        return lst[0] + sum_list(lst[1:])\n",
        "    \n",
        "print(sum_list(new_lst))"
      ],
      "execution_count": 0,
      "outputs": [
        {
          "output_type": "stream",
          "text": [
            "10\n"
          ],
          "name": "stdout"
        }
      ]
    },
    {
      "cell_type": "markdown",
      "metadata": {
        "id": "4xRT9lC-Feb9",
        "colab_type": "text"
      },
      "source": [
        "### Python’s functional feature\n",
        "- lambda\n",
        "- map / filter / reduce\n",
        "- High order function\n",
        "- iterator\n",
        "- generator\n",
        "- closure\n",
        "- decorator"
      ]
    },
    {
      "cell_type": "markdown",
      "metadata": {
        "id": "TIloRjVHFeb9",
        "colab_type": "text"
      },
      "source": [
        "### lambda(익명) 함수 \n",
        "- 특징 : 메모리를 아끼고 가독성을 높인다.\n",
        "- 일반함수는 객체를 만들고, 재사용을 위해 함수 이름을 사용한다."
      ]
    },
    {
      "cell_type": "code",
      "metadata": {
        "id": "UA_o-DrKFeb-",
        "colab_type": "code",
        "colab": {}
      },
      "source": [
        "# lambda 함수의 예\n",
        "\n",
        "def adder(x, y):\n",
        "    return x + y"
      ],
      "execution_count": 0,
      "outputs": []
    },
    {
      "cell_type": "code",
      "metadata": {
        "id": "qP13HCQ5Feb_",
        "colab_type": "code",
        "colab": {},
        "outputId": "7ff858e6-80d5-4294-b8ed-2dba99ae8020"
      },
      "source": [
        "print(adder(1, 2))"
      ],
      "execution_count": 0,
      "outputs": [
        {
          "output_type": "stream",
          "text": [
            "3\n"
          ],
          "name": "stdout"
        }
      ]
    },
    {
      "cell_type": "code",
      "metadata": {
        "id": "zCwIseBRFecB",
        "colab_type": "code",
        "colab": {}
      },
      "source": [
        "# : 앞에는 매개변수, 뒤는 수식\n",
        "# lambda라는 키워드를 붙여 함수 쓰듯이 쓴다\n",
        "\n",
        "a = lambda x, y: x+y"
      ],
      "execution_count": 0,
      "outputs": []
    },
    {
      "cell_type": "code",
      "metadata": {
        "id": "8NLeivKtFecE",
        "colab_type": "code",
        "colab": {},
        "outputId": "05898cfa-5b50-4824-ceae-3665d54f45ff"
      },
      "source": [
        "print(a(1, 2))"
      ],
      "execution_count": 0,
      "outputs": [
        {
          "output_type": "stream",
          "text": [
            "3\n"
          ],
          "name": "stdout"
        }
      ]
    },
    {
      "cell_type": "code",
      "metadata": {
        "id": "DKUoY8MzFecG",
        "colab_type": "code",
        "colab": {}
      },
      "source": [
        "def wow(text):\n",
        "    return text.upper()"
      ],
      "execution_count": 0,
      "outputs": []
    },
    {
      "cell_type": "code",
      "metadata": {
        "id": "RItCpp-wFecH",
        "colab_type": "code",
        "colab": {},
        "outputId": "3feebbed-4472-4ff8-a739-33f7903021ae"
      },
      "source": [
        "wow('hi')"
      ],
      "execution_count": 0,
      "outputs": [
        {
          "output_type": "execute_result",
          "data": {
            "text/plain": [
              "'HI'"
            ]
          },
          "metadata": {
            "tags": []
          },
          "execution_count": 60
        }
      ]
    },
    {
      "cell_type": "code",
      "metadata": {
        "id": "Zn7y6roVFecJ",
        "colab_type": "code",
        "colab": {},
        "outputId": "3db099f5-6d4a-454a-c49b-97d516aa6870"
      },
      "source": [
        "wow('hi')"
      ],
      "execution_count": 0,
      "outputs": [
        {
          "output_type": "execute_result",
          "data": {
            "text/plain": [
              "'HI'"
            ]
          },
          "metadata": {
            "tags": []
          },
          "execution_count": 61
        }
      ]
    },
    {
      "cell_type": "code",
      "metadata": {
        "id": "asKJWk3LFecL",
        "colab_type": "code",
        "colab": {}
      },
      "source": [
        "oh = wow"
      ],
      "execution_count": 0,
      "outputs": []
    },
    {
      "cell_type": "code",
      "metadata": {
        "id": "prfk1LlFFecN",
        "colab_type": "code",
        "colab": {},
        "outputId": "17103dea-2a62-481c-b38c-dbd3a6a5a8cc"
      },
      "source": [
        "oh('hello')"
      ],
      "execution_count": 0,
      "outputs": [
        {
          "output_type": "execute_result",
          "data": {
            "text/plain": [
              "'HELLO'"
            ]
          },
          "metadata": {
            "tags": []
          },
          "execution_count": 63
        }
      ]
    },
    {
      "cell_type": "code",
      "metadata": {
        "id": "i1v8xAyMFecP",
        "colab_type": "code",
        "colab": {}
      },
      "source": [
        "del wow"
      ],
      "execution_count": 0,
      "outputs": []
    },
    {
      "cell_type": "code",
      "metadata": {
        "id": "MxemapD9FecR",
        "colab_type": "code",
        "colab": {},
        "outputId": "194a4295-7536-46f8-b9c5-4c5d2be0c13c"
      },
      "source": [
        "wow('hi')"
      ],
      "execution_count": 0,
      "outputs": [
        {
          "output_type": "error",
          "ename": "NameError",
          "evalue": "name 'wow' is not defined",
          "traceback": [
            "\u001b[0;31m---------------------------------------------------------------------------\u001b[0m",
            "\u001b[0;31mNameError\u001b[0m                                 Traceback (most recent call last)",
            "\u001b[0;32m<ipython-input-65-d81e05e6ded6>\u001b[0m in \u001b[0;36m<module>\u001b[0;34m\u001b[0m\n\u001b[0;32m----> 1\u001b[0;31m \u001b[0mwow\u001b[0m\u001b[0;34m(\u001b[0m\u001b[0;34m'hi'\u001b[0m\u001b[0;34m)\u001b[0m\u001b[0;34m\u001b[0m\u001b[0;34m\u001b[0m\u001b[0m\n\u001b[0m",
            "\u001b[0;31mNameError\u001b[0m: name 'wow' is not defined"
          ]
        }
      ]
    },
    {
      "cell_type": "code",
      "metadata": {
        "id": "MCfO62thFecU",
        "colab_type": "code",
        "colab": {},
        "outputId": "7acce6f1-f698-4748-a536-dd0d340c149c"
      },
      "source": [
        "oh('hello')"
      ],
      "execution_count": 0,
      "outputs": [
        {
          "output_type": "execute_result",
          "data": {
            "text/plain": [
              "'HELLO'"
            ]
          },
          "metadata": {
            "tags": []
          },
          "execution_count": 66
        }
      ]
    },
    {
      "cell_type": "code",
      "metadata": {
        "id": "Db_gFB4RFecW",
        "colab_type": "code",
        "colab": {},
        "outputId": "a9848d0b-2aaf-44f0-98e3-91385c3d1f5e"
      },
      "source": [
        "oh.__name__"
      ],
      "execution_count": 0,
      "outputs": [
        {
          "output_type": "execute_result",
          "data": {
            "text/plain": [
              "'wow'"
            ]
          },
          "metadata": {
            "tags": []
          },
          "execution_count": 67
        }
      ]
    },
    {
      "cell_type": "code",
      "metadata": {
        "id": "2OjPWyIsFecX",
        "colab_type": "code",
        "colab": {}
      },
      "source": [
        "flst = [oh, str.lower, str.capitalize]"
      ],
      "execution_count": 0,
      "outputs": []
    },
    {
      "cell_type": "code",
      "metadata": {
        "id": "7r8MDZzjFeca",
        "colab_type": "code",
        "colab": {},
        "outputId": "df0fd15a-41db-4527-e246-0a8a3cf49996"
      },
      "source": [
        "for i in flst:\n",
        "    print(i('welcomE'))"
      ],
      "execution_count": 0,
      "outputs": [
        {
          "output_type": "stream",
          "text": [
            "WELCOME\n",
            "welcome\n",
            "Welcome\n"
          ],
          "name": "stdout"
        }
      ]
    },
    {
      "cell_type": "code",
      "metadata": {
        "id": "J9D8U987Fecf",
        "colab_type": "code",
        "colab": {}
      },
      "source": [
        ""
      ],
      "execution_count": 0,
      "outputs": []
    }
  ]
}