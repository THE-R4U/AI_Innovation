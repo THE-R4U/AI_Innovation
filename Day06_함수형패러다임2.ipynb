{
  "nbformat": 4,
  "nbformat_minor": 0,
  "metadata": {
    "colab": {
      "name": "Day06_함수형패러다임2.ipynb",
      "version": "0.3.2",
      "provenance": [],
      "collapsed_sections": [
        "AYik5MYcFmKu",
        "Fybw48ueFmLM",
        "_6L-gLDYFmLs"
      ],
      "include_colab_link": true
    },
    "language_info": {
      "codemirror_mode": {
        "name": "ipython",
        "version": 3
      },
      "file_extension": ".py",
      "mimetype": "text/x-python",
      "name": "python",
      "nbconvert_exporter": "python",
      "pygments_lexer": "ipython3",
      "version": "3.7.3"
    },
    "kernelspec": {
      "display_name": "Python 3",
      "language": "python",
      "name": "python3"
    }
  },
  "cells": [
    {
      "cell_type": "markdown",
      "metadata": {
        "id": "view-in-github",
        "colab_type": "text"
      },
      "source": [
        "<a href=\"https://colab.research.google.com/github/THE-R4U/AI_Innovation/blob/master/Day06_%E1%84%92%E1%85%A1%E1%86%B7%E1%84%89%E1%85%AE%E1%84%92%E1%85%A7%E1%86%BC%E1%84%91%E1%85%A2%E1%84%85%E1%85%A5%E1%84%83%E1%85%A1%E1%84%8B%E1%85%B5%E1%86%B72.ipynb\" target=\"_parent\"><img src=\"https://colab.research.google.com/assets/colab-badge.svg\" alt=\"Open In Colab\"/></a>"
      ]
    },
    {
      "cell_type": "markdown",
      "metadata": {
        "id": "aJr29qiHFmJe",
        "colab_type": "text"
      },
      "source": [
        "# 함수형 패러다임 II (전준헌 강사)"
      ]
    },
    {
      "cell_type": "code",
      "metadata": {
        "id": "2nPxpvi8FmJg",
        "colab_type": "code",
        "colab": {}
      },
      "source": [
        "def wow(text):\n",
        "    return text.upper()"
      ],
      "execution_count": 0,
      "outputs": []
    },
    {
      "cell_type": "code",
      "metadata": {
        "id": "xGc-XkqLFmJi",
        "colab_type": "code",
        "colab": {}
      },
      "source": [
        "oh = wow"
      ],
      "execution_count": 0,
      "outputs": []
    },
    {
      "cell_type": "code",
      "metadata": {
        "id": "78RP7BlSFmJk",
        "colab_type": "code",
        "colab": {}
      },
      "source": [
        "def greet(func):\n",
        "    greeting = func('i love python')\n",
        "    print(greeting)"
      ],
      "execution_count": 0,
      "outputs": []
    },
    {
      "cell_type": "code",
      "metadata": {
        "id": "NEre_DtDFmJm",
        "colab_type": "code",
        "colab": {
          "base_uri": "https://localhost:8080/",
          "height": 34
        },
        "outputId": "2b4f58df-a731-468f-94dc-7ce586982408"
      },
      "source": [
        "greet(oh)"
      ],
      "execution_count": 7,
      "outputs": [
        {
          "output_type": "stream",
          "text": [
            "I LOVE PYTHON\n"
          ],
          "name": "stdout"
        }
      ]
    },
    {
      "cell_type": "markdown",
      "metadata": {
        "id": "eTb2XDwxFmJq",
        "colab_type": "text"
      },
      "source": [
        "## map(f, iterable 자료형) : iterable 자료에서 꺼내서 f라는 함수 호출"
      ]
    },
    {
      "cell_type": "code",
      "metadata": {
        "id": "ey0aioRPFmJr",
        "colab_type": "code",
        "colab": {
          "base_uri": "https://localhost:8080/",
          "height": 34
        },
        "outputId": "75fcac98-e613-462e-ce33-206092badfb2"
      },
      "source": [
        "list(map(oh,['hi', 'hello', 'welcome']))"
      ],
      "execution_count": 8,
      "outputs": [
        {
          "output_type": "execute_result",
          "data": {
            "text/plain": [
              "['HI', 'HELLO', 'WELCOME']"
            ]
          },
          "metadata": {
            "tags": []
          },
          "execution_count": 8
        }
      ]
    },
    {
      "cell_type": "code",
      "metadata": {
        "id": "LNboKf-xFmJu",
        "colab_type": "code",
        "colab": {
          "base_uri": "https://localhost:8080/",
          "height": 34
        },
        "outputId": "059da09b-313d-49d8-8fed-3f0fea5ba22f"
      },
      "source": [
        "# lambda 함수와 map을 사용하여 한줄로 [1,2,3]의 제곱을 구하는 코드를 작성\n",
        "\n",
        "list(map(lambda x : x**2, [1,2,3]))"
      ],
      "execution_count": 9,
      "outputs": [
        {
          "output_type": "execute_result",
          "data": {
            "text/plain": [
              "[1, 4, 9]"
            ]
          },
          "metadata": {
            "tags": []
          },
          "execution_count": 9
        }
      ]
    },
    {
      "cell_type": "markdown",
      "metadata": {
        "id": "KbnRqXzSFmJw",
        "colab_type": "text"
      },
      "source": [
        "## reducce(f, interable)\n",
        "- reduce(함수, 순서형 자료) #순서형 자료(리스트, 튜플, 문자열)\n",
        "- 두개의 매개변수를 받아야 한다\n",
        "- from functools import reduce를 선언해야 한다"
      ]
    },
    {
      "cell_type": "code",
      "metadata": {
        "id": "Un5ozEz8FmJx",
        "colab_type": "code",
        "colab": {}
      },
      "source": [
        "from functools import reduce"
      ],
      "execution_count": 0,
      "outputs": []
    },
    {
      "cell_type": "code",
      "metadata": {
        "id": "VefPyj7gFmJy",
        "colab_type": "code",
        "colab": {
          "base_uri": "https://localhost:8080/",
          "height": 34
        },
        "outputId": "773de95a-dcff-47d6-af75-e77ff4289100"
      },
      "source": [
        "reduce(lambda x,y:x+y, [1,2,3,4])"
      ],
      "execution_count": 11,
      "outputs": [
        {
          "output_type": "execute_result",
          "data": {
            "text/plain": [
              "10"
            ]
          },
          "metadata": {
            "tags": []
          },
          "execution_count": 11
        }
      ]
    },
    {
      "cell_type": "code",
      "metadata": {
        "id": "teMXXINlFmJ1",
        "colab_type": "code",
        "colab": {
          "base_uri": "https://localhost:8080/",
          "height": 34
        },
        "outputId": "57a220e7-d178-42be-f40b-f7960fc32851"
      },
      "source": [
        "reduce(lambda x,y:y+x, 'abcd')"
      ],
      "execution_count": 12,
      "outputs": [
        {
          "output_type": "execute_result",
          "data": {
            "text/plain": [
              "'dcba'"
            ]
          },
          "metadata": {
            "tags": []
          },
          "execution_count": 12
        }
      ]
    },
    {
      "cell_type": "markdown",
      "metadata": {
        "id": "Ft_IaFF8FmJ3",
        "colab_type": "text"
      },
      "source": [
        "## filter(함수, 리스트)\n",
        "- filter 함수는 built-in 함수로 list 나 dictionary 같은 iterable 한 데이터를 특정 조건에 일치하는 값만 추출해 낼때 사용하는 함수이다."
      ]
    },
    {
      "cell_type": "code",
      "metadata": {
        "id": "rp59ShfHFmJ4",
        "colab_type": "code",
        "colab": {
          "base_uri": "https://localhost:8080/",
          "height": 34
        },
        "outputId": "90a21d84-7d70-43a2-b01a-3e75a8d3bcdf"
      },
      "source": [
        "# 5보다 작은 숫자 출력\n",
        "list(filter(lambda x:x<5, range(10)))"
      ],
      "execution_count": 13,
      "outputs": [
        {
          "output_type": "execute_result",
          "data": {
            "text/plain": [
              "[0, 1, 2, 3, 4]"
            ]
          },
          "metadata": {
            "tags": []
          },
          "execution_count": 13
        }
      ]
    },
    {
      "cell_type": "code",
      "metadata": {
        "id": "bLZWWh9uFmJ7",
        "colab_type": "code",
        "colab": {
          "base_uri": "https://localhost:8080/",
          "height": 34
        },
        "outputId": "c489d478-d443-4d2e-ee7b-28bcfc0866ed"
      },
      "source": [
        "# 5보다 큰 숫자 출력\n",
        "list(filter(lambda x:x>5, range(10)))"
      ],
      "execution_count": 14,
      "outputs": [
        {
          "output_type": "execute_result",
          "data": {
            "text/plain": [
              "[6, 7, 8, 9]"
            ]
          },
          "metadata": {
            "tags": []
          },
          "execution_count": 14
        }
      ]
    },
    {
      "cell_type": "code",
      "metadata": {
        "id": "DC9avNxwFmJ-",
        "colab_type": "code",
        "colab": {
          "base_uri": "https://localhost:8080/",
          "height": 34
        },
        "outputId": "cff6b03b-ba39-4ef9-c14c-4d3788c6adf9"
      },
      "source": [
        "# 홀수만 출력\n",
        "list(filter(lambda x:x%2 == 1, range(10)))"
      ],
      "execution_count": 15,
      "outputs": [
        {
          "output_type": "execute_result",
          "data": {
            "text/plain": [
              "[1, 3, 5, 7, 9]"
            ]
          },
          "metadata": {
            "tags": []
          },
          "execution_count": 15
        }
      ]
    },
    {
      "cell_type": "code",
      "metadata": {
        "id": "rQMOvtdLFmKA",
        "colab_type": "code",
        "colab": {
          "base_uri": "https://localhost:8080/",
          "height": 34
        },
        "outputId": "979b1f62-0e83-4490-f1d2-1d6198cf46ae"
      },
      "source": [
        "list(filter(lambda x:x%2, range(10)))"
      ],
      "execution_count": 16,
      "outputs": [
        {
          "output_type": "execute_result",
          "data": {
            "text/plain": [
              "[1, 3, 5, 7, 9]"
            ]
          },
          "metadata": {
            "tags": []
          },
          "execution_count": 16
        }
      ]
    },
    {
      "cell_type": "markdown",
      "metadata": {
        "id": "23r2V16nFmKD",
        "colab_type": "text"
      },
      "source": [
        "## 함수 속에 함수 (내부함수)\n",
        "- 상위함수에서 받은 text 변수에 접그하는 행동을 하는 함수 클로저 라고 한다\n",
        "- 함수 내에는 다른 함수가 존재할 수 있고, 이런 내부 함수는 상위 변수값을 가질 수 있다"
      ]
    },
    {
      "cell_type": "code",
      "metadata": {
        "id": "Lg_jKdJmFmKE",
        "colab_type": "code",
        "colab": {}
      },
      "source": [
        "def speak(text):\n",
        "    def wow(t): # 내부(중첩) 함수\n",
        "        return t.lower()\n",
        "    return wow(text)"
      ],
      "execution_count": 0,
      "outputs": []
    },
    {
      "cell_type": "code",
      "metadata": {
        "id": "dcqDPE_3FmKG",
        "colab_type": "code",
        "colab": {
          "base_uri": "https://localhost:8080/",
          "height": 34
        },
        "outputId": "be2da564-f632-4fa4-b0a4-dfcd6d7d3586"
      },
      "source": [
        "speak('THDF')"
      ],
      "execution_count": 18,
      "outputs": [
        {
          "output_type": "execute_result",
          "data": {
            "text/plain": [
              "'thdf'"
            ]
          },
          "metadata": {
            "tags": []
          },
          "execution_count": 18
        }
      ]
    },
    {
      "cell_type": "code",
      "metadata": {
        "id": "Mx-vNIc_FmKK",
        "colab_type": "code",
        "colab": {}
      },
      "source": [
        "def get_speak_wow(volume):\n",
        "    def wow(text):\n",
        "        return text.lower()\n",
        "    def oh(text):\n",
        "        return text.upper()\n",
        "    if volume > 0.5:\n",
        "        return oh\n",
        "    else:\n",
        "        return wow"
      ],
      "execution_count": 0,
      "outputs": []
    },
    {
      "cell_type": "code",
      "metadata": {
        "id": "7vTRydOKFmKN",
        "colab_type": "code",
        "colab": {}
      },
      "source": [
        "speak_func = get_speak_wow(0.8)"
      ],
      "execution_count": 0,
      "outputs": []
    },
    {
      "cell_type": "code",
      "metadata": {
        "id": "qjRbEQMKFmKP",
        "colab_type": "code",
        "colab": {
          "base_uri": "https://localhost:8080/",
          "height": 34
        },
        "outputId": "0802cbb5-dd57-44d0-d913-a6e60efcab3d"
      },
      "source": [
        "speak_func('hello')"
      ],
      "execution_count": 21,
      "outputs": [
        {
          "output_type": "execute_result",
          "data": {
            "text/plain": [
              "'HELLO'"
            ]
          },
          "metadata": {
            "tags": []
          },
          "execution_count": 21
        }
      ]
    },
    {
      "cell_type": "code",
      "metadata": {
        "id": "VJz-mdwKFmKT",
        "colab_type": "code",
        "colab": {}
      },
      "source": [
        "def get_speak_wow(text, volume):\n",
        "    def wow():\n",
        "        return text.lower()\n",
        "    def oh():\n",
        "        return text.upper()\n",
        "    if volume > 0.5:\n",
        "        return oh\n",
        "    else:\n",
        "        return wow"
      ],
      "execution_count": 0,
      "outputs": []
    },
    {
      "cell_type": "code",
      "metadata": {
        "id": "95iKIQekFmKV",
        "colab_type": "code",
        "colab": {},
        "outputId": "1c9a3129-9769-4993-9fa1-b01ee7006317"
      },
      "source": [
        "get_speak_wow('hello wordl', 0.7)()"
      ],
      "execution_count": 0,
      "outputs": [
        {
          "output_type": "execute_result",
          "data": {
            "text/plain": [
              "'HELLO WORDL'"
            ]
          },
          "metadata": {
            "tags": []
          },
          "execution_count": 34
        }
      ]
    },
    {
      "cell_type": "code",
      "metadata": {
        "id": "ZNPtgSpHFmKX",
        "colab_type": "code",
        "colab": {}
      },
      "source": [
        "# 내부 함수를 사용하여 덧셈, 뺄셈, 곱셈, 나눗셈을 수행하는 함수를 작성하시오\n",
        "\n",
        "def math_func1(x,y,op):\n",
        "    def add_():\n",
        "        return x+y\n",
        "    def sub_():\n",
        "        return x-y\n",
        "    def mul_():\n",
        "        return x*y\n",
        "    def div_():\n",
        "        return x/y\n",
        "    op_func = {'+':add_,'-':sub_,'*':mul_,'/':div_}.get(op)\n",
        "    return op_func()"
      ],
      "execution_count": 0,
      "outputs": []
    },
    {
      "cell_type": "code",
      "metadata": {
        "id": "rxB36HgXFmKZ",
        "colab_type": "code",
        "colab": {},
        "outputId": "bfb1ea15-8f60-45ff-f2c0-9d1224900fcf"
      },
      "source": [
        "math_func1(5,7,'-')"
      ],
      "execution_count": 0,
      "outputs": [
        {
          "output_type": "execute_result",
          "data": {
            "text/plain": [
              "-2"
            ]
          },
          "metadata": {
            "tags": []
          },
          "execution_count": 42
        }
      ]
    },
    {
      "cell_type": "code",
      "metadata": {
        "id": "yl2ObKfjFmKb",
        "colab_type": "code",
        "colab": {},
        "outputId": "4ba54284-b7cf-4b43-8705-cc6220223b3b"
      },
      "source": [
        "math_func1(8,6,'/')"
      ],
      "execution_count": 0,
      "outputs": [
        {
          "output_type": "execute_result",
          "data": {
            "text/plain": [
              "1.3333333333333333"
            ]
          },
          "metadata": {
            "tags": []
          },
          "execution_count": 43
        }
      ]
    },
    {
      "cell_type": "code",
      "metadata": {
        "id": "DCBjLfnSFmKd",
        "colab_type": "code",
        "colab": {}
      },
      "source": [
        "# 내부 함수를 사용하여 덧셈, 뺄셈, 곱셈, 나눗셈을 수행하는 함수를 작성하시오.(클로저)\n",
        "\n",
        "def math_func2(x,op):\n",
        "    def add_(y):\n",
        "        return x+y\n",
        "    def sub_(y):\n",
        "        return x-y\n",
        "    def mul_(y):\n",
        "        return x*y\n",
        "    def div_(y):\n",
        "        return x/y\n",
        "    op_func = {'+':add_,'-':sub_,'*':mul_,'/':div_}.get(op)\n",
        "    return op_func"
      ],
      "execution_count": 0,
      "outputs": []
    },
    {
      "cell_type": "code",
      "metadata": {
        "id": "PrECNSRrFmKf",
        "colab_type": "code",
        "colab": {},
        "outputId": "bcb0897e-1576-431b-8a5d-1b82f065c58d"
      },
      "source": [
        "sub = math_func2(3,'-')\n",
        "print(sub(3))"
      ],
      "execution_count": 0,
      "outputs": [
        {
          "output_type": "stream",
          "text": [
            "0\n"
          ],
          "name": "stdout"
        }
      ]
    },
    {
      "cell_type": "markdown",
      "metadata": {
        "id": "-JhIUUW1FmKh",
        "colab_type": "text"
      },
      "source": [
        "## map 함수 복습\n",
        "- 필요할 때 가져다 쓴다.\n",
        "- iterator 객체\n",
        "    - next() 메소드로 데이터를 순차적으로 호출 가능한 객체\n",
        "    - 마지막 데이터까지 불러 오면 다음은 stopiteration exception 발생\n",
        "    - iterable 한 객체를 iterator로 변환하고 싶다면, iter() 내장 함수 사용\n",
        "    - for 문으로 looping 하는 동안, python 내부에서는 임시로 list를 iteration로 자동 변환"
      ]
    },
    {
      "cell_type": "code",
      "metadata": {
        "id": "0J1QPD9TFmKh",
        "colab_type": "code",
        "colab": {}
      },
      "source": [
        "lst = [1,2,3]"
      ],
      "execution_count": 0,
      "outputs": []
    },
    {
      "cell_type": "code",
      "metadata": {
        "id": "01AafBkEFmKj",
        "colab_type": "code",
        "colab": {}
      },
      "source": [
        "result = map(lambda i:i**2, lst)"
      ],
      "execution_count": 0,
      "outputs": []
    },
    {
      "cell_type": "code",
      "metadata": {
        "id": "0ojmFIdvFmKl",
        "colab_type": "code",
        "colab": {},
        "outputId": "70508076-18b6-47af-be01-4e836d023bca"
      },
      "source": [
        "next(result)"
      ],
      "execution_count": 0,
      "outputs": [
        {
          "output_type": "execute_result",
          "data": {
            "text/plain": [
              "1"
            ]
          },
          "metadata": {
            "tags": []
          },
          "execution_count": 50
        }
      ]
    },
    {
      "cell_type": "code",
      "metadata": {
        "id": "_Bo_AV9jFmKn",
        "colab_type": "code",
        "colab": {},
        "outputId": "547b1f3a-6d2b-4e24-e4dd-07dee7079852"
      },
      "source": [
        "next(result)"
      ],
      "execution_count": 0,
      "outputs": [
        {
          "output_type": "execute_result",
          "data": {
            "text/plain": [
              "4"
            ]
          },
          "metadata": {
            "tags": []
          },
          "execution_count": 51
        }
      ]
    },
    {
      "cell_type": "code",
      "metadata": {
        "id": "EFhywHZUFmKs",
        "colab_type": "code",
        "colab": {},
        "outputId": "986435af-11e8-4423-ac3b-22c83ece27fd"
      },
      "source": [
        "next(result)"
      ],
      "execution_count": 0,
      "outputs": [
        {
          "output_type": "execute_result",
          "data": {
            "text/plain": [
              "9"
            ]
          },
          "metadata": {
            "tags": []
          },
          "execution_count": 52
        }
      ]
    },
    {
      "cell_type": "markdown",
      "metadata": {
        "id": "AYik5MYcFmKu",
        "colab_type": "text"
      },
      "source": [
        "### iterable 객체\n",
        "- 반복(순환) 가능한 객체\n",
        "- 대표적 iterable 한 타입: list, dict, set, tupple\n",
        "- 반복자(iterator)\n",
        "    - iter()와 next() 함수 필요\n",
        "    - 함수 iter(): 반복 가능한 데이터를 입력 받아 iterator를 반환\n",
        "    - 함수 next(): iterator를 입력 받아 다음 출력 값을 반환\n",
        "    \n",
        "- 이런식으로 값 생성하는 iterator를 생성기(generator)라고 함"
      ]
    },
    {
      "cell_type": "code",
      "metadata": {
        "id": "EfzB8Kx6FmKu",
        "colab_type": "code",
        "colab": {}
      },
      "source": [
        "def abc():\n",
        "    '''a,b,c를 출력하는 생성기'''\n",
        "    yield 'a'\n",
        "    yield 'b'\n",
        "    yield 'c'"
      ],
      "execution_count": 0,
      "outputs": []
    },
    {
      "cell_type": "code",
      "metadata": {
        "id": "IOMFmg81FmKw",
        "colab_type": "code",
        "colab": {},
        "outputId": "1aba9615-3b88-4a25-87ee-7ae75830cee9"
      },
      "source": [
        "abc() # 생성기 만들기"
      ],
      "execution_count": 0,
      "outputs": [
        {
          "output_type": "execute_result",
          "data": {
            "text/plain": [
              "<generator object abc at 0x104f65660>"
            ]
          },
          "metadata": {
            "tags": []
          },
          "execution_count": 54
        }
      ]
    },
    {
      "cell_type": "markdown",
      "metadata": {
        "id": "cClR4r1KFmKy",
        "colab_type": "text"
      },
      "source": [
        "- 함수 abc()의 정의, 함수 자체는 genrator가 아니라 함수\n",
        "- Generator는"
      ]
    },
    {
      "cell_type": "code",
      "metadata": {
        "id": "qA8ohNYIFmKy",
        "colab_type": "code",
        "colab": {}
      },
      "source": [
        "abc_generator = abc() # 생성기 만들기"
      ],
      "execution_count": 0,
      "outputs": []
    },
    {
      "cell_type": "code",
      "metadata": {
        "id": "ae6mMOR2FmK1",
        "colab_type": "code",
        "colab": {},
        "outputId": "b7b3ff15-f04d-4cb7-8f1a-65af051d127c"
      },
      "source": [
        "next(abc_generator)"
      ],
      "execution_count": 0,
      "outputs": [
        {
          "output_type": "execute_result",
          "data": {
            "text/plain": [
              "'a'"
            ]
          },
          "metadata": {
            "tags": []
          },
          "execution_count": 56
        }
      ]
    },
    {
      "cell_type": "code",
      "metadata": {
        "id": "rCuKMfzeFmK3",
        "colab_type": "code",
        "colab": {},
        "outputId": "a2050740-97ed-4c33-de43-1260b9da8de2"
      },
      "source": [
        "next(abc_generator)"
      ],
      "execution_count": 0,
      "outputs": [
        {
          "output_type": "execute_result",
          "data": {
            "text/plain": [
              "'b'"
            ]
          },
          "metadata": {
            "tags": []
          },
          "execution_count": 57
        }
      ]
    },
    {
      "cell_type": "code",
      "metadata": {
        "id": "sC-W02FOFmK4",
        "colab_type": "code",
        "colab": {},
        "outputId": "965fa8f5-7d7b-4ea3-80a8-7229bf589b67"
      },
      "source": [
        "next(abc_generator)"
      ],
      "execution_count": 0,
      "outputs": [
        {
          "output_type": "execute_result",
          "data": {
            "text/plain": [
              "'c'"
            ]
          },
          "metadata": {
            "tags": []
          },
          "execution_count": 58
        }
      ]
    },
    {
      "cell_type": "code",
      "metadata": {
        "id": "hAYK9VvyFmK7",
        "colab_type": "code",
        "colab": {},
        "outputId": "d53d565f-dc74-4eeb-e4fe-f4ff5bdaa5c8"
      },
      "source": [
        "next(abc_generator) # 더 구할 요소가 없으면 오류 발생"
      ],
      "execution_count": 0,
      "outputs": [
        {
          "output_type": "error",
          "ename": "StopIteration",
          "evalue": "",
          "traceback": [
            "\u001b[0;31m---------------------------------------------------------------------------\u001b[0m",
            "\u001b[0;31mStopIteration\u001b[0m                             Traceback (most recent call last)",
            "\u001b[0;32m<ipython-input-60-af23aee78c41>\u001b[0m in \u001b[0;36m<module>\u001b[0;34m\u001b[0m\n\u001b[0;32m----> 1\u001b[0;31m \u001b[0mnext\u001b[0m\u001b[0;34m(\u001b[0m\u001b[0mabc_generator\u001b[0m\u001b[0;34m)\u001b[0m \u001b[0;31m# 더 구할 요소가 없으면 오류 발생\u001b[0m\u001b[0;34m\u001b[0m\u001b[0;34m\u001b[0m\u001b[0m\n\u001b[0m",
            "\u001b[0;31mStopIteration\u001b[0m: "
          ]
        }
      ]
    },
    {
      "cell_type": "code",
      "metadata": {
        "id": "YR-xOsbcFmK9",
        "colab_type": "code",
        "colab": {}
      },
      "source": [
        "def ont_to_three():\n",
        "    '''1 2 3을 반환하는 함수'''\n",
        "    print('생성기가 1을 출력')\n",
        "    yield 1\n",
        "    print('생성기가 2를 출력')\n",
        "    yield 2\n",
        "    print('생성기가 3을 출력')\n",
        "    yield 3\n",
        "    "
      ],
      "execution_count": 0,
      "outputs": []
    },
    {
      "cell_type": "code",
      "metadata": {
        "id": "FtLzjeTdFmLA",
        "colab_type": "code",
        "colab": {}
      },
      "source": [
        "one_to_three_generator = ont_to_three()"
      ],
      "execution_count": 0,
      "outputs": []
    },
    {
      "cell_type": "code",
      "metadata": {
        "id": "JZ-nGJ6iFmLB",
        "colab_type": "code",
        "colab": {},
        "outputId": "1cfa659a-0a98-4cc3-b01a-8b9dd6df695a"
      },
      "source": [
        "next(one_to_three_generator)"
      ],
      "execution_count": 0,
      "outputs": [
        {
          "output_type": "stream",
          "text": [
            "생성기가 1을 출력\n"
          ],
          "name": "stdout"
        },
        {
          "output_type": "execute_result",
          "data": {
            "text/plain": [
              "1"
            ]
          },
          "metadata": {
            "tags": []
          },
          "execution_count": 71
        }
      ]
    },
    {
      "cell_type": "code",
      "metadata": {
        "id": "CY86kNz3FmLE",
        "colab_type": "code",
        "colab": {},
        "outputId": "68bd62f8-c98c-4984-e988-f4bc3e5713c9"
      },
      "source": [
        "next(one_to_three_generator)"
      ],
      "execution_count": 0,
      "outputs": [
        {
          "output_type": "stream",
          "text": [
            "생성기가 2를 출력\n"
          ],
          "name": "stdout"
        },
        {
          "output_type": "execute_result",
          "data": {
            "text/plain": [
              "2"
            ]
          },
          "metadata": {
            "tags": []
          },
          "execution_count": 72
        }
      ]
    },
    {
      "cell_type": "code",
      "metadata": {
        "id": "jvRclXyxFmLH",
        "colab_type": "code",
        "colab": {},
        "outputId": "aa2b751d-1dde-4eea-e4a1-0502feda45e0"
      },
      "source": [
        "next(one_to_three_generator)"
      ],
      "execution_count": 0,
      "outputs": [
        {
          "output_type": "stream",
          "text": [
            "생성기가 3을 출력\n"
          ],
          "name": "stdout"
        },
        {
          "output_type": "execute_result",
          "data": {
            "text/plain": [
              "3"
            ]
          },
          "metadata": {
            "tags": []
          },
          "execution_count": 73
        }
      ]
    },
    {
      "cell_type": "code",
      "metadata": {
        "id": "40IPVVpIFmLJ",
        "colab_type": "code",
        "colab": {},
        "outputId": "e57f4073-b0c8-4172-e946-c2f62f6224bf"
      },
      "source": [
        "next(one_to_three_generator)"
      ],
      "execution_count": 0,
      "outputs": [
        {
          "output_type": "error",
          "ename": "StopIteration",
          "evalue": "",
          "traceback": [
            "\u001b[0;31m---------------------------------------------------------------------------\u001b[0m",
            "\u001b[0;31mStopIteration\u001b[0m                             Traceback (most recent call last)",
            "\u001b[0;32m<ipython-input-74-496bb88718bf>\u001b[0m in \u001b[0;36m<module>\u001b[0;34m\u001b[0m\n\u001b[0;32m----> 1\u001b[0;31m \u001b[0mnext\u001b[0m\u001b[0;34m(\u001b[0m\u001b[0mone_to_three_generator\u001b[0m\u001b[0;34m)\u001b[0m\u001b[0;34m\u001b[0m\u001b[0;34m\u001b[0m\u001b[0m\n\u001b[0m",
            "\u001b[0;31mStopIteration\u001b[0m: "
          ]
        }
      ]
    },
    {
      "cell_type": "markdown",
      "metadata": {
        "id": "Fybw48ueFmLM",
        "colab_type": "text"
      },
      "source": [
        "### generator는 어디에 활용할까?"
      ]
    },
    {
      "cell_type": "code",
      "metadata": {
        "id": "x_HVx4h2FmLM",
        "colab_type": "code",
        "colab": {}
      },
      "source": [
        "def one_to_infinite():\n",
        "    '''1 - 무한대의 자연수대로 나오는 생성기'''\n",
        "    n = 1\n",
        "    while True:\n",
        "        yield n\n",
        "        n += 1"
      ],
      "execution_count": 0,
      "outputs": []
    },
    {
      "cell_type": "code",
      "metadata": {
        "id": "07E7XGnyFmLP",
        "colab_type": "code",
        "colab": {}
      },
      "source": [
        "natural_number = one_to_infinite()"
      ],
      "execution_count": 0,
      "outputs": []
    },
    {
      "cell_type": "code",
      "metadata": {
        "id": "UtzA0eL_FmLQ",
        "colab_type": "code",
        "colab": {},
        "outputId": "901c8e2d-da36-4e96-a90f-54adef20cb9b"
      },
      "source": [
        "next(natural_number)"
      ],
      "execution_count": 0,
      "outputs": [
        {
          "output_type": "execute_result",
          "data": {
            "text/plain": [
              "1"
            ]
          },
          "metadata": {
            "tags": []
          },
          "execution_count": 64
        }
      ]
    },
    {
      "cell_type": "code",
      "metadata": {
        "id": "GjiZvyTJFmLS",
        "colab_type": "code",
        "colab": {},
        "outputId": "b9fa8b1b-c2ed-411a-cca9-7ca96398798d"
      },
      "source": [
        "next(natural_number)"
      ],
      "execution_count": 0,
      "outputs": [
        {
          "output_type": "execute_result",
          "data": {
            "text/plain": [
              "2"
            ]
          },
          "metadata": {
            "tags": []
          },
          "execution_count": 65
        }
      ]
    },
    {
      "cell_type": "code",
      "metadata": {
        "id": "0D60ZwRiFmLU",
        "colab_type": "code",
        "colab": {},
        "outputId": "40f5eee7-d8eb-44b0-ea8e-cd909eb7fed8"
      },
      "source": [
        "next(natural_number)"
      ],
      "execution_count": 0,
      "outputs": [
        {
          "output_type": "execute_result",
          "data": {
            "text/plain": [
              "3"
            ]
          },
          "metadata": {
            "tags": []
          },
          "execution_count": 66
        }
      ]
    },
    {
      "cell_type": "code",
      "metadata": {
        "id": "3ioYDmlmFmLV",
        "colab_type": "code",
        "colab": {},
        "outputId": "8f3df655-deb3-45b3-f870-b59da90208d1"
      },
      "source": [
        "next(natural_number)"
      ],
      "execution_count": 0,
      "outputs": [
        {
          "output_type": "execute_result",
          "data": {
            "text/plain": [
              "4"
            ]
          },
          "metadata": {
            "tags": []
          },
          "execution_count": 67
        }
      ]
    },
    {
      "cell_type": "code",
      "metadata": {
        "id": "sevTPwAXFmLX",
        "colab_type": "code",
        "colab": {}
      },
      "source": [
        "# generator를 사용하여 리스트와 튜플로 변환하기\n",
        "\n",
        "def countdown(start, end):\n",
        "    '''start(포함)부터 end(포함) 까지 꺼꾸로 세는 생성기'''\n",
        "    n = start\n",
        "    while end < 0:\n",
        "        yield n\n",
        "        n += 1"
      ],
      "execution_count": 0,
      "outputs": []
    },
    {
      "cell_type": "code",
      "metadata": {
        "id": "ujwD_nu9FmLY",
        "colab_type": "code",
        "colab": {},
        "outputId": "b4f74b96-e14c-4162-bb8d-e77a98951351"
      },
      "source": [
        "list(countdown(10,0))"
      ],
      "execution_count": 0,
      "outputs": [
        {
          "output_type": "execute_result",
          "data": {
            "text/plain": [
              "[]"
            ]
          },
          "metadata": {
            "tags": []
          },
          "execution_count": 81
        }
      ]
    },
    {
      "cell_type": "code",
      "metadata": {
        "id": "kAK-oWJOFmLb",
        "colab_type": "code",
        "colab": {},
        "outputId": "01fc1732-2e8a-4d7d-bc75-1320e343cbc5"
      },
      "source": [
        "# 1 ~ 45까지 랜덤한 값을 리스트로 출력\n",
        "\n",
        "import random\n",
        "\n",
        "rlist = []\n",
        "for x in range(5):\n",
        "    rlist.append(random.randint(1,45))\n",
        "print(rlist)"
      ],
      "execution_count": 0,
      "outputs": [
        {
          "output_type": "stream",
          "text": [
            "[22, 27, 29, 20, 45]\n"
          ],
          "name": "stdout"
        }
      ]
    },
    {
      "cell_type": "code",
      "metadata": {
        "id": "EjaCoiiZFmLc",
        "colab_type": "code",
        "colab": {},
        "outputId": "c8ba59bf-4746-490e-dfd6-f54577f93a48"
      },
      "source": [
        "[random.randint(1,45) for x in range(5)]  # 리스트조건제시법\n",
        "\n",
        "# 리스트 존건 제법\n",
        "# [연산 for 변수 in 컬렉션]"
      ],
      "execution_count": 0,
      "outputs": [
        {
          "output_type": "execute_result",
          "data": {
            "text/plain": [
              "[12, 21, 9, 30, 43]"
            ]
          },
          "metadata": {
            "tags": []
          },
          "execution_count": 86
        }
      ]
    },
    {
      "cell_type": "code",
      "metadata": {
        "id": "T2zmsc_OFmLf",
        "colab_type": "code",
        "colab": {},
        "outputId": "f54e2a76-81da-4533-f0d0-d48f56328956"
      },
      "source": [
        "(x**2 for x in range(5))"
      ],
      "execution_count": 0,
      "outputs": [
        {
          "output_type": "execute_result",
          "data": {
            "text/plain": [
              "<generator object <genexpr> at 0x104f76f48>"
            ]
          },
          "metadata": {
            "tags": []
          },
          "execution_count": 88
        }
      ]
    },
    {
      "cell_type": "code",
      "metadata": {
        "id": "uEGNKQkKFmLg",
        "colab_type": "code",
        "colab": {},
        "outputId": "7f200d6e-4901-4877-ae75-460bf06ef478"
      },
      "source": [
        "(x**2 for x in range(100000000000000))"
      ],
      "execution_count": 0,
      "outputs": [
        {
          "output_type": "execute_result",
          "data": {
            "text/plain": [
              "<generator object <genexpr> at 0x104f76de0>"
            ]
          },
          "metadata": {
            "tags": []
          },
          "execution_count": 89
        }
      ]
    },
    {
      "cell_type": "code",
      "metadata": {
        "id": "vFtrlII7FmLi",
        "colab_type": "code",
        "colab": {}
      },
      "source": [
        "x_genrator = (x**2 for x in range(100000000000000))"
      ],
      "execution_count": 0,
      "outputs": []
    },
    {
      "cell_type": "code",
      "metadata": {
        "id": "MAT4rKt_FmLj",
        "colab_type": "code",
        "colab": {},
        "outputId": "16b3bd25-0a2d-451d-c3ab-a8267a217d40"
      },
      "source": [
        "next(x_genrator)"
      ],
      "execution_count": 0,
      "outputs": [
        {
          "output_type": "execute_result",
          "data": {
            "text/plain": [
              "0"
            ]
          },
          "metadata": {
            "tags": []
          },
          "execution_count": 91
        }
      ]
    },
    {
      "cell_type": "code",
      "metadata": {
        "id": "bsDyxy1DFmLl",
        "colab_type": "code",
        "colab": {},
        "outputId": "519d667a-49cf-41c6-be2e-925e89274e58"
      },
      "source": [
        "next(x_genrator)"
      ],
      "execution_count": 0,
      "outputs": [
        {
          "output_type": "execute_result",
          "data": {
            "text/plain": [
              "1"
            ]
          },
          "metadata": {
            "tags": []
          },
          "execution_count": 93
        }
      ]
    },
    {
      "cell_type": "code",
      "metadata": {
        "id": "7tbkJnUqFmLn",
        "colab_type": "code",
        "colab": {},
        "outputId": "09560202-275c-4486-8d98-a31bef6f4956"
      },
      "source": [
        "next(x_genrator)"
      ],
      "execution_count": 0,
      "outputs": [
        {
          "output_type": "execute_result",
          "data": {
            "text/plain": [
              "4"
            ]
          },
          "metadata": {
            "tags": []
          },
          "execution_count": 94
        }
      ]
    },
    {
      "cell_type": "code",
      "metadata": {
        "id": "-r-CWHssFmLp",
        "colab_type": "code",
        "colab": {},
        "outputId": "e39c7720-06a6-477e-f9fa-9add87e69b73"
      },
      "source": [
        "next(x_genrator)"
      ],
      "execution_count": 0,
      "outputs": [
        {
          "output_type": "execute_result",
          "data": {
            "text/plain": [
              "9"
            ]
          },
          "metadata": {
            "tags": []
          },
          "execution_count": 95
        }
      ]
    },
    {
      "cell_type": "code",
      "metadata": {
        "id": "vUJCG2ZiFmLr",
        "colab_type": "code",
        "colab": {},
        "outputId": "937ee3eb-7526-4cea-9248-5cb3e7ac2951"
      },
      "source": [
        "next(x_genrator)"
      ],
      "execution_count": 0,
      "outputs": [
        {
          "output_type": "execute_result",
          "data": {
            "text/plain": [
              "16"
            ]
          },
          "metadata": {
            "tags": []
          },
          "execution_count": 96
        }
      ]
    },
    {
      "cell_type": "markdown",
      "metadata": {
        "id": "_6L-gLDYFmLs",
        "colab_type": "text"
      },
      "source": [
        "### 주문받기\n",
        "- input_order() 함수는 사용자로 부터 n개의 주문을 받아 리스트로 반환\n",
        "- 이 함수를 이용해 음료를 3개 입력 받고 제조를 지시\n",
        "- 다음 코드의 출력을 예상 하시오."
      ]
    },
    {
      "cell_type": "code",
      "metadata": {
        "id": "osFZvmxVFmLt",
        "colab_type": "code",
        "colab": {}
      },
      "source": [
        "def input_order(n):\n",
        "    '''n 개의 음료를 주문받아 리스트로 반환'''\n",
        "    return [input() for x in range(n)]"
      ],
      "execution_count": 0,
      "outputs": []
    },
    {
      "cell_type": "code",
      "metadata": {
        "id": "CrDljG8xFmLu",
        "colab_type": "code",
        "colab": {},
        "outputId": "ee7766c1-1771-4bbd-ee6f-3633d5153d0f"
      },
      "source": [
        "for drink in input_order(3):\n",
        "    print(drink, '만들어 주세요')"
      ],
      "execution_count": 0,
      "outputs": [
        {
          "output_type": "stream",
          "text": [
            " 아메리카노\n",
            " 사이다\n",
            " 딸기주스\n"
          ],
          "name": "stdin"
        },
        {
          "output_type": "stream",
          "text": [
            "아메리카노 만들어 주세요\n",
            "사이다 만들어 주세요\n",
            "딸기주스 만들어 주세요\n"
          ],
          "name": "stdout"
        }
      ]
    },
    {
      "cell_type": "code",
      "metadata": {
        "id": "vzm-KtExFmLw",
        "colab_type": "code",
        "colab": {},
        "outputId": "0fdb9ce1-79c2-4c8b-c485-0481a8a1e3f3"
      },
      "source": [
        "def input_order(n):\n",
        "    '''n 개의 음료를 주문받아 리스트로 반환'''\n",
        "    return (input() for x in range(n))\n",
        "for drink in input_order(3):\n",
        "    print(drink, '만들어 주세요')"
      ],
      "execution_count": 0,
      "outputs": [
        {
          "output_type": "stream",
          "text": [
            " 아메리카노\n"
          ],
          "name": "stdin"
        },
        {
          "output_type": "stream",
          "text": [
            "아메리카노 만들어 주세요\n"
          ],
          "name": "stdout"
        },
        {
          "output_type": "stream",
          "text": [
            " 사이다\n"
          ],
          "name": "stdin"
        },
        {
          "output_type": "stream",
          "text": [
            "사이다 만들어 주세요\n"
          ],
          "name": "stdout"
        },
        {
          "output_type": "stream",
          "text": [
            " 딸기주스\n"
          ],
          "name": "stdin"
        },
        {
          "output_type": "stream",
          "text": [
            "딸기주스 만들어 주세요\n"
          ],
          "name": "stdout"
        }
      ]
    },
    {
      "cell_type": "code",
      "metadata": {
        "id": "fol2gFwGFmLx",
        "colab_type": "code",
        "colab": {}
      },
      "source": [
        "def hello():\n",
        "    print('시작')\n",
        "    print('hello')\n",
        "    print('끝')"
      ],
      "execution_count": 0,
      "outputs": []
    },
    {
      "cell_type": "code",
      "metadata": {
        "id": "PqpUGOsBFmLy",
        "colab_type": "code",
        "colab": {},
        "outputId": "2263efb6-56e7-4e4e-ab90-7033f199f0aa"
      },
      "source": [
        "hello()"
      ],
      "execution_count": 0,
      "outputs": [
        {
          "output_type": "stream",
          "text": [
            "시작\n",
            "hello\n",
            "끝\n"
          ],
          "name": "stdout"
        }
      ]
    },
    {
      "cell_type": "code",
      "metadata": {
        "id": "P4nAdl7QFmL0",
        "colab_type": "code",
        "colab": {}
      },
      "source": [
        "def trace(func):\n",
        "    def wrapper():\n",
        "        print('시작')\n",
        "        func()\n",
        "        print('끝')\n",
        "    return wrapper"
      ],
      "execution_count": 0,
      "outputs": []
    },
    {
      "cell_type": "code",
      "metadata": {
        "id": "um4h-xP6FmL2",
        "colab_type": "code",
        "colab": {}
      },
      "source": [
        "def hello():\n",
        "    print('hi')"
      ],
      "execution_count": 0,
      "outputs": []
    },
    {
      "cell_type": "code",
      "metadata": {
        "id": "ozm3hPPKFmL3",
        "colab_type": "code",
        "colab": {}
      },
      "source": [
        "x = trace(hello)"
      ],
      "execution_count": 0,
      "outputs": []
    },
    {
      "cell_type": "code",
      "metadata": {
        "id": "KmjkxwUrFmL5",
        "colab_type": "code",
        "colab": {},
        "outputId": "e4ecc9e7-023c-49d7-ed8d-02b7aaef1c20"
      },
      "source": [
        "x()"
      ],
      "execution_count": 0,
      "outputs": [
        {
          "output_type": "stream",
          "text": [
            "시작\n",
            "hi\n",
            "끝\n"
          ],
          "name": "stdout"
        }
      ]
    },
    {
      "cell_type": "code",
      "metadata": {
        "id": "I8rpRDb9FmL7",
        "colab_type": "code",
        "colab": {}
      },
      "source": [
        "def trace(func):\n",
        "    def wrapper():\n",
        "        print('시작')\n",
        "        func()\n",
        "        print('끝')\n",
        "    return wrapper"
      ],
      "execution_count": 0,
      "outputs": []
    },
    {
      "cell_type": "code",
      "metadata": {
        "id": "4PsdnEECFmL8",
        "colab_type": "code",
        "colab": {}
      },
      "source": [
        "@trace  #데코레이터\n",
        "def hello():\n",
        "    print('hi')"
      ],
      "execution_count": 0,
      "outputs": []
    },
    {
      "cell_type": "code",
      "metadata": {
        "id": "8kaEBkfuFmMA",
        "colab_type": "code",
        "colab": {},
        "outputId": "2fe183a5-58db-4074-a3be-ec198ee40875"
      },
      "source": [
        "hello()"
      ],
      "execution_count": 0,
      "outputs": [
        {
          "output_type": "stream",
          "text": [
            "시작\n",
            "hi\n",
            "끝\n"
          ],
          "name": "stdout"
        }
      ]
    },
    {
      "cell_type": "markdown",
      "metadata": {
        "id": "Qyi2N1vqFmMC",
        "colab_type": "text"
      },
      "source": [
        "- 꾸미다(decorate) + er(or) = 장식하는 도구\n",
        "- 함수(메서드)를 장식한다\n",
        "- 함수를 수정하지 않은 상태에서 추가"
      ]
    },
    {
      "cell_type": "code",
      "metadata": {
        "id": "5f4gBG1jFmMD",
        "colab_type": "code",
        "colab": {}
      },
      "source": [
        ""
      ],
      "execution_count": 0,
      "outputs": []
    }
  ]
}