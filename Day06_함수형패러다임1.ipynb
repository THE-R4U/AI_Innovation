{
 "cells": [
  {
   "cell_type": "markdown",
   "metadata": {},
   "source": [
    "# 함수형 패러다임 I (전준헌 강사)"
   ]
  },
  {
   "cell_type": "markdown",
   "metadata": {},
   "source": [
    "## 리스트 복습\n",
    "- list 함수: lsist 형으로 형변환\n",
    "    - list(문자열): list('12345') -> ['1','2','3','4','5']"
   ]
  },
  {
   "cell_type": "code",
   "execution_count": 2,
   "metadata": {},
   "outputs": [],
   "source": [
    "def greet(name, msg='별일 없죠?'):\n",
    "    print('안녕', name, msg)"
   ]
  },
  {
   "cell_type": "code",
   "execution_count": 3,
   "metadata": {},
   "outputs": [
    {
     "name": "stdout",
     "output_type": "stream",
     "text": [
      "안녕 안진훈 별일 없죠?\n"
     ]
    }
   ],
   "source": [
    "greet('안진훈')"
   ]
  },
  {
   "cell_type": "code",
   "execution_count": 5,
   "metadata": {},
   "outputs": [
    {
     "name": "stdout",
     "output_type": "stream",
     "text": [
      "안녕 안진훈 좋은 아침!\n"
     ]
    }
   ],
   "source": [
    "greet('안진훈', '좋은 아침!')"
   ]
  },
  {
   "cell_type": "code",
   "execution_count": 8,
   "metadata": {},
   "outputs": [],
   "source": [
    "def calc(x, y, z):\n",
    "    return x + y + z"
   ]
  },
  {
   "cell_type": "code",
   "execution_count": 9,
   "metadata": {},
   "outputs": [
    {
     "name": "stdout",
     "output_type": "stream",
     "text": [
      "6\n"
     ]
    }
   ],
   "source": [
    "print(calc(1, y=2, z=3))"
   ]
  },
  {
   "cell_type": "markdown",
   "metadata": {},
   "source": [
    "### 가변 인자: 몇 개의 인자를 받을지 정해지지 않은 인자\n",
    "- 파이썬에서는 가변 인자를 받을 때 * 을 붙여서 받는다.\n",
    "- 입력받는 숫자의 개수와 상관없이 받을 수 있다."
   ]
  },
  {
   "cell_type": "code",
   "execution_count": 14,
   "metadata": {},
   "outputs": [
    {
     "name": "stdout",
     "output_type": "stream",
     "text": [
      "10\n"
     ]
    }
   ],
   "source": [
    "# args는 튜플의 형태로 저장 됨\n",
    "# args = (1,2,3,4)\n",
    "\n",
    "def sum_all(*args):\n",
    "    result = 0\n",
    "    for i in args:\n",
    "        result += i\n",
    "    return result\n",
    "\n",
    "print(sum_all(1,2,3,4))"
   ]
  },
  {
   "cell_type": "code",
   "execution_count": 17,
   "metadata": {},
   "outputs": [
    {
     "name": "stdout",
     "output_type": "stream",
     "text": [
      "6\n"
     ]
    }
   ],
   "source": [
    "# argument에 list 형태로 줘도 된다\n",
    "# 리스트 변수를 인자로 줄 때도 * 을 사용(*args 매개변수가 가젼일 때)\n",
    "lst = [1,2,3]\n",
    "print(sum_all(*lst))"
   ]
  },
  {
   "cell_type": "markdown",
   "metadata": {},
   "source": [
    "### 키워드 가변인자 : 키워드 + 가변"
   ]
  },
  {
   "cell_type": "code",
   "execution_count": 20,
   "metadata": {},
   "outputs": [],
   "source": [
    "# 키워드 가변인자 결과 형태는 dictionary 형태로 된다\n",
    "def dic_text(**kwargs):\n",
    "    print(kwargs)"
   ]
  },
  {
   "cell_type": "code",
   "execution_count": 21,
   "metadata": {},
   "outputs": [
    {
     "name": "stdout",
     "output_type": "stream",
     "text": [
      "{'x': 1, 'y': 2, 'z': 3}\n"
     ]
    }
   ],
   "source": [
    "dic_text(x=1, y=2, z=3)"
   ]
  },
  {
   "cell_type": "code",
   "execution_count": 22,
   "metadata": {},
   "outputs": [],
   "source": [
    "# 일반적인 변수 스왑\n",
    "def func(x, y):\n",
    "    tmp = x\n",
    "    x = y\n",
    "    y = tmp\n",
    "    print(x, y)"
   ]
  },
  {
   "cell_type": "code",
   "execution_count": 23,
   "metadata": {},
   "outputs": [
    {
     "name": "stdout",
     "output_type": "stream",
     "text": [
      "5 1\n"
     ]
    }
   ],
   "source": [
    "func(1,5)"
   ]
  },
  {
   "cell_type": "code",
   "execution_count": 30,
   "metadata": {},
   "outputs": [],
   "source": [
    "def func2(dx, dy):\n",
    "    '''함수 도움말'''\n",
    "    dx, dy = dy, dx\n",
    "    print(dx, dy)"
   ]
  },
  {
   "cell_type": "code",
   "execution_count": 31,
   "metadata": {},
   "outputs": [
    {
     "name": "stdout",
     "output_type": "stream",
     "text": [
      "5 1\n"
     ]
    }
   ],
   "source": [
    "func2(1, 5)"
   ]
  },
  {
   "cell_type": "code",
   "execution_count": 32,
   "metadata": {},
   "outputs": [],
   "source": [
    "x, y = 1, 2"
   ]
  },
  {
   "cell_type": "code",
   "execution_count": 33,
   "metadata": {},
   "outputs": [
    {
     "name": "stdout",
     "output_type": "stream",
     "text": [
      "1 2\n"
     ]
    }
   ],
   "source": [
    "print(x, y)"
   ]
  },
  {
   "cell_type": "code",
   "execution_count": 35,
   "metadata": {},
   "outputs": [
    {
     "data": {
      "text/plain": [
       "'함수 도움말'"
      ]
     },
     "execution_count": 35,
     "metadata": {},
     "output_type": "execute_result"
    }
   ],
   "source": [
    "# 함수도 하나의 객체로 인식한다\n",
    "# 함수내의 함수(method)를 호출\n",
    "func2.__doc__"
   ]
  },
  {
   "cell_type": "code",
   "execution_count": 37,
   "metadata": {},
   "outputs": [
    {
     "name": "stdout",
     "output_type": "stream",
     "text": [
      "Help on function func2 in module __main__:\n",
      "\n",
      "func2(dx, dy)\n",
      "    함수 도움말\n",
      "\n"
     ]
    }
   ],
   "source": [
    "help(func2)"
   ]
  },
  {
   "cell_type": "code",
   "execution_count": 38,
   "metadata": {},
   "outputs": [
    {
     "name": "stdout",
     "output_type": "stream",
     "text": [
      "<function func2 at 0x104baad08>\n"
     ]
    }
   ],
   "source": [
    "# func2 함수이 레퍼런스값을 반환한다\n",
    "print(func2)"
   ]
  },
  {
   "cell_type": "code",
   "execution_count": 39,
   "metadata": {},
   "outputs": [
    {
     "data": {
      "text/plain": [
       "function"
      ]
     },
     "execution_count": 39,
     "metadata": {},
     "output_type": "execute_result"
    }
   ],
   "source": [
    "type(func2)"
   ]
  },
  {
   "cell_type": "code",
   "execution_count": 42,
   "metadata": {},
   "outputs": [
    {
     "data": {
      "text/plain": [
       "['__annotations__',\n",
       " '__call__',\n",
       " '__class__',\n",
       " '__closure__',\n",
       " '__code__',\n",
       " '__defaults__',\n",
       " '__delattr__',\n",
       " '__dict__',\n",
       " '__dir__',\n",
       " '__doc__',\n",
       " '__eq__',\n",
       " '__format__',\n",
       " '__ge__',\n",
       " '__get__',\n",
       " '__getattribute__',\n",
       " '__globals__',\n",
       " '__gt__',\n",
       " '__hash__',\n",
       " '__init__',\n",
       " '__init_subclass__',\n",
       " '__kwdefaults__',\n",
       " '__le__',\n",
       " '__lt__',\n",
       " '__module__',\n",
       " '__name__',\n",
       " '__ne__',\n",
       " '__new__',\n",
       " '__qualname__',\n",
       " '__reduce__',\n",
       " '__reduce_ex__',\n",
       " '__repr__',\n",
       " '__setattr__',\n",
       " '__sizeof__',\n",
       " '__str__',\n",
       " '__subclasshook__']"
      ]
     },
     "execution_count": 42,
     "metadata": {},
     "output_type": "execute_result"
    }
   ],
   "source": [
    "# func2에서 사용 가능한 method를 보고 싶을 때\n",
    "dir(func2)"
   ]
  },
  {
   "cell_type": "markdown",
   "metadata": {},
   "source": [
    "#### 프로그래밍 패러다임\n",
    "- 절차적 : C\n",
    "- 객체지향형 : java\n",
    "- 함수형 : Haskwell\n",
    "\n",
    "#### Python 은?\n",
    "- 절차지향적, 객체지향형, 함수형 모두 지원 (다중 패러다임)\n",
    "\n",
    "#### 파이썬은 어떤 프로그래밍 패러다임을 이용해야 효율적일까?\n",
    "- 모두 다 괜찮음 (적재적소)\n"
   ]
  },
  {
   "cell_type": "markdown",
   "metadata": {},
   "source": [
    "#### 객체지향형 프로그래밍(OOP) : 객체라는 개념\n",
    "#### 객체가 모든 것의 중심\n",
    "- 캡슐화\n",
    "- Data와 method들이 각각ㄱ의 인스턴스(객체)에 포함\n",
    "- 상속\n",
    "- 단점: 매우 쉽게 복잡해질 수 있다는 점\n",
    "  개발하다보면 모든것이 특정 분류로 구분하는 것이 쉽지 않음"
   ]
  },
  {
   "cell_type": "markdown",
   "metadata": {},
   "source": [
    "> 함수형 프로그래밍은 자료 처리를 수학적 함수의 계산으로 취급하고 상태와 가변 데이터를 멀리하는 프로그래밍 패러다임의 하나이다. 명령형 프로그래밍에서는 상태를 바꾸는 것을 강조하는 것과는 달리, 함수형 프로그래밍은 함수의 응용을 강조한다. - 위키피디아"
   ]
  },
  {
   "cell_type": "markdown",
   "metadata": {},
   "source": [
    "- 부작용이 전혀 없는 함수: 순수 함수\n",
    "- 부작용을 피한다는 것은 프로그램이 실행될 때 수정될 수 있는 자료 구조를 사용하지 않는다는 의미\n",
    "- 특징\n",
    "    - global 변수난 nonlocal 변수(함수내에서 내부 변수가 상위에 있는 변수를 참조)를 사용하는 함수는 순수 함수가 아니다.\n",
    "    - 2개의 순수 표현식 간에 데이터 종속성이 없으면 순서가 역순으로 되거나 병렬로 실행될 수 있음"
   ]
  },
  {
   "cell_type": "markdown",
   "metadata": {},
   "source": [
    "### 함수형 프로그래밍 특징\n",
    "- 상태 표현 피하기: 함수 내부 변환 결과가 외부에 전파하지 않도록 처리\n",
    "- 데이터에 대한 변경 불가능: 함수 내부 지역 변수에 대한 데이터를 변경 안함, 다만 클로저 환경으 구성해서 자유 변수를 변경할 수 있지만 함수를 통해 변경\n",
    "- first class: 모든 함수는 객체로 츄ㅟ급\n",
    "- high order function: 함수 간 견결 자유로움. 함수가 객체이므로 함수의 인자와 함수의 결과로 전달하고 합성 함구를 만들어 사용 가능\n",
    "- recursive call: 함수가 스스로 자기를 호출해서 순환 되도록 처리함면서 결과 반환 가능"
   ]
  },
  {
   "cell_type": "markdown",
   "metadata": {},
   "source": [
    "### 파이썬에서의 FP 단점\n",
    "- Speed\n",
    "    - 재귀함수는 반복문에 비해 느리다.\n",
    "- 모든 함수는 순수하지 않다 (input)\n",
    "- Lots Learning\n",
    "    - 수학적 거부감, 객체지향 반대적\n",
    "    - 데코레이터 등 사용법 등에 대한 교육 시간\n",
    "- 단점 존재: 적재적소에 사용"
   ]
  },
  {
   "cell_type": "markdown",
   "metadata": {},
   "source": [
    "### 함수형 프로그램 함수들의 세트로 분제를 분해\n",
    "- 이상적: 함수는 입력을 받아서 출력을 만들어 준다."
   ]
  },
  {
   "cell_type": "code",
   "execution_count": 44,
   "metadata": {},
   "outputs": [
    {
     "name": "stdout",
     "output_type": "stream",
     "text": [
      "10\n"
     ]
    }
   ],
   "source": [
    "# 재귀함수\n",
    "new_lst = [1,2,3,4]\n",
    "def sum_list(lst):\n",
    "    if len(lst) == 1:\n",
    "        return lst[0]\n",
    "    else:\n",
    "        return lst[0] + sum_list(lst[1:])\n",
    "    \n",
    "print(sum_list(new_lst))"
   ]
  },
  {
   "cell_type": "markdown",
   "metadata": {},
   "source": [
    "### Python’s functional feature\n",
    "- lambda\n",
    "- map / filter / reduce\n",
    "- High order function\n",
    "- iterator\n",
    "- generator\n",
    "- closure\n",
    "- decorator"
   ]
  },
  {
   "cell_type": "markdown",
   "metadata": {},
   "source": [
    "### lambda(익명) 함수 \n",
    "- 특징 : 메모리를 아끼고 가독성을 높인다.\n",
    "- 일반함수는 객체를 만들고, 재사용을 위해 함수 이름을 사용한다."
   ]
  },
  {
   "cell_type": "code",
   "execution_count": 47,
   "metadata": {},
   "outputs": [],
   "source": [
    "# lambda 함수의 예\n",
    "\n",
    "def adder(x, y):\n",
    "    return x + y"
   ]
  },
  {
   "cell_type": "code",
   "execution_count": 48,
   "metadata": {},
   "outputs": [
    {
     "name": "stdout",
     "output_type": "stream",
     "text": [
      "3\n"
     ]
    }
   ],
   "source": [
    "print(adder(1, 2))"
   ]
  },
  {
   "cell_type": "code",
   "execution_count": 52,
   "metadata": {},
   "outputs": [],
   "source": [
    "# : 앞에는 매개변수, 뒤는 수식\n",
    "# lambda라는 키워드를 붙여 함수 쓰듯이 쓴다\n",
    "\n",
    "a = lambda x, y: x+y"
   ]
  },
  {
   "cell_type": "code",
   "execution_count": 53,
   "metadata": {},
   "outputs": [
    {
     "name": "stdout",
     "output_type": "stream",
     "text": [
      "3\n"
     ]
    }
   ],
   "source": [
    "print(a(1, 2))"
   ]
  },
  {
   "cell_type": "code",
   "execution_count": 59,
   "metadata": {},
   "outputs": [],
   "source": [
    "def wow(text):\n",
    "    return text.upper()"
   ]
  },
  {
   "cell_type": "code",
   "execution_count": 60,
   "metadata": {},
   "outputs": [
    {
     "data": {
      "text/plain": [
       "'HI'"
      ]
     },
     "execution_count": 60,
     "metadata": {},
     "output_type": "execute_result"
    }
   ],
   "source": [
    "wow('hi')"
   ]
  },
  {
   "cell_type": "code",
   "execution_count": 61,
   "metadata": {},
   "outputs": [
    {
     "data": {
      "text/plain": [
       "'HI'"
      ]
     },
     "execution_count": 61,
     "metadata": {},
     "output_type": "execute_result"
    }
   ],
   "source": [
    "wow('hi')"
   ]
  },
  {
   "cell_type": "code",
   "execution_count": 62,
   "metadata": {},
   "outputs": [],
   "source": [
    "oh = wow"
   ]
  },
  {
   "cell_type": "code",
   "execution_count": 63,
   "metadata": {},
   "outputs": [
    {
     "data": {
      "text/plain": [
       "'HELLO'"
      ]
     },
     "execution_count": 63,
     "metadata": {},
     "output_type": "execute_result"
    }
   ],
   "source": [
    "oh('hello')"
   ]
  },
  {
   "cell_type": "code",
   "execution_count": 64,
   "metadata": {},
   "outputs": [],
   "source": [
    "del wow"
   ]
  },
  {
   "cell_type": "code",
   "execution_count": 65,
   "metadata": {},
   "outputs": [
    {
     "ename": "NameError",
     "evalue": "name 'wow' is not defined",
     "output_type": "error",
     "traceback": [
      "\u001b[0;31m---------------------------------------------------------------------------\u001b[0m",
      "\u001b[0;31mNameError\u001b[0m                                 Traceback (most recent call last)",
      "\u001b[0;32m<ipython-input-65-d81e05e6ded6>\u001b[0m in \u001b[0;36m<module>\u001b[0;34m\u001b[0m\n\u001b[0;32m----> 1\u001b[0;31m \u001b[0mwow\u001b[0m\u001b[0;34m(\u001b[0m\u001b[0;34m'hi'\u001b[0m\u001b[0;34m)\u001b[0m\u001b[0;34m\u001b[0m\u001b[0;34m\u001b[0m\u001b[0m\n\u001b[0m",
      "\u001b[0;31mNameError\u001b[0m: name 'wow' is not defined"
     ]
    }
   ],
   "source": [
    "wow('hi')"
   ]
  },
  {
   "cell_type": "code",
   "execution_count": 66,
   "metadata": {},
   "outputs": [
    {
     "data": {
      "text/plain": [
       "'HELLO'"
      ]
     },
     "execution_count": 66,
     "metadata": {},
     "output_type": "execute_result"
    }
   ],
   "source": [
    "oh('hello')"
   ]
  },
  {
   "cell_type": "code",
   "execution_count": 67,
   "metadata": {},
   "outputs": [
    {
     "data": {
      "text/plain": [
       "'wow'"
      ]
     },
     "execution_count": 67,
     "metadata": {},
     "output_type": "execute_result"
    }
   ],
   "source": [
    "oh.__name__"
   ]
  },
  {
   "cell_type": "code",
   "execution_count": 68,
   "metadata": {},
   "outputs": [],
   "source": [
    "flst = [oh, str.lower, str.capitalize]"
   ]
  },
  {
   "cell_type": "code",
   "execution_count": 69,
   "metadata": {},
   "outputs": [
    {
     "name": "stdout",
     "output_type": "stream",
     "text": [
      "WELCOME\n",
      "welcome\n",
      "Welcome\n"
     ]
    }
   ],
   "source": [
    "for i in flst:\n",
    "    print(i('welcomE'))"
   ]
  },
  {
   "cell_type": "code",
   "execution_count": null,
   "metadata": {},
   "outputs": [],
   "source": []
  }
 ],
 "metadata": {
  "kernelspec": {
   "display_name": "Python 3",
   "language": "python",
   "name": "python3"
  },
  "language_info": {
   "codemirror_mode": {
    "name": "ipython",
    "version": 3
   },
   "file_extension": ".py",
   "mimetype": "text/x-python",
   "name": "python",
   "nbconvert_exporter": "python",
   "pygments_lexer": "ipython3",
   "version": "3.7.3"
  }
 },
 "nbformat": 4,
 "nbformat_minor": 2
}
