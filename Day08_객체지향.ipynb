{
 "cells": [
  {
   "cell_type": "markdown",
   "metadata": {},
   "source": [
    "## Day8 - 객체지향형 프로그래밍 (Object Oriented Programming)"
   ]
  },
  {
   "cell_type": "markdown",
   "metadata": {},
   "source": [
    "> 객체(object)는 함수와 변수를 하나의 단위로 묶을 수 있는 방법이다. 이러한 프로그래밍 방식을 객체지향(object oriented)이라고 한다."
   ]
  },
  {
   "cell_type": "markdown",
   "metadata": {},
   "source": [
    "### 객체란?\n",
    "- 객체는 하나의 물건이라고 생각하면 된다. 객체는 속성과 동작을 가지고 있따."
   ]
  },
  {
   "cell_type": "markdown",
   "metadata": {},
   "source": [
    "### 클래스란?\n",
    "- 객체에 대한 설계도를 클래스(class)라고 한다.\n",
    "- 클래스로부터 만들어지는 각각의 객체를 그 클래스의 인스턴스(instance)라고 한다. "
   ]
  },
  {
   "cell_type": "markdown",
   "metadata": {},
   "source": [
    "### 객체 생성하기\n",
    "1. 객체의 설계도를 작성하여야 한다.\n",
    "2. 클래스로부터 객체를 생성하여야 한다. "
   ]
  },
  {
   "cell_type": "code",
   "execution_count": 5,
   "metadata": {},
   "outputs": [
    {
     "name": "stdout",
     "output_type": "stream",
     "text": [
      "자동차 객체를 생성하였습니다.\n",
      "자동차의 속도는 0\n",
      "자동차의 색상은 blue\n",
      "자동차의 모델은 E-class\n",
      "자동차를 주행합니다.\n",
      "자동차의 속도는 60\n"
     ]
    }
   ],
   "source": [
    "# 객체 생성 예제\n",
    "\n",
    "class Car:\n",
    "    def __init__(self, speed, color, model):\n",
    "        self.speed = speed\n",
    "        self.color = color\n",
    "        self.model = model\n",
    "\n",
    "    def drive(self):\n",
    "        self.speed = 60\n",
    "\n",
    "myCar = Car(0, \"blue\", \"E-class\")\n",
    "\n",
    "print(\"자동차 객체를 생성하였습니다.\")\n",
    "print(\"자동차의 속도는\", myCar.speed)\n",
    "print(\"자동차의 색상은\", myCar.color)\n",
    "print(\"자동차의 모델은\", myCar.model)\n",
    "print(\"자동차를 주행합니다.\")\n",
    "myCar.drive()\n",
    "print(\"자동차의 속도는\", myCar.speed)"
   ]
  },
  {
   "cell_type": "code",
   "execution_count": 6,
   "metadata": {},
   "outputs": [],
   "source": [
    "class Car:\n",
    "    pass"
   ]
  },
  {
   "cell_type": "code",
   "execution_count": 7,
   "metadata": {},
   "outputs": [],
   "source": [
    "my_car = Car()"
   ]
  },
  {
   "cell_type": "code",
   "execution_count": 8,
   "metadata": {},
   "outputs": [
    {
     "name": "stdout",
     "output_type": "stream",
     "text": [
      "<__main__.Car object at 0x10f99cc50>\n"
     ]
    }
   ],
   "source": [
    "print(my_car)"
   ]
  },
  {
   "cell_type": "markdown",
   "metadata": {},
   "source": [
    "### 클래스 내 함수(메소드)에서 사용되는 self\n",
    "- say_hi 메소드는 어떤값(매개변수)도 받지 않음\n",
    "- say_hi 메소드는 함수정의에 self 를 매개변수 가지고 있음\n",
    "- class 내부에 함수에 첫 매개변수는 항상 self를 넣어줘야 한다"
   ]
  },
  {
   "cell_type": "code",
   "execution_count": 10,
   "metadata": {},
   "outputs": [],
   "source": [
    "class Car:\n",
    "    def say_hi(self):\n",
    "        print('hi~')"
   ]
  },
  {
   "cell_type": "code",
   "execution_count": 11,
   "metadata": {},
   "outputs": [],
   "source": [
    "my_car = Car()"
   ]
  },
  {
   "cell_type": "code",
   "execution_count": 12,
   "metadata": {},
   "outputs": [
    {
     "name": "stdout",
     "output_type": "stream",
     "text": [
      "hi~\n"
     ]
    }
   ],
   "source": [
    "my_car.say_hi()"
   ]
  },
  {
   "cell_type": "markdown",
   "metadata": {},
   "source": [
    "### 하나의 클래스로 객체는 많이 만들 수 있다.\n",
    "- 우리는 하나의 클래스로 여러 개의 객체를 생성할 수 있다"
   ]
  },
  {
   "cell_type": "markdown",
   "metadata": {},
   "source": [
    "#### 클래스의 예\n",
    "- Counter 클래스를 작성하여 보자. Counter 클래스는 기계식 계수기를 나타내며 경기장이나 콘서트에 입장하는 관객 수를 세기 위하여 사용할 수 있다"
   ]
  },
  {
   "cell_type": "code",
   "execution_count": 14,
   "metadata": {},
   "outputs": [],
   "source": [
    "class Counter:\n",
    "    def reset(self):\n",
    "        self.count = 0\n",
    "    def increment(self):\n",
    "        self.count += 1\n",
    "    def get(self):\n",
    "        return self.count        "
   ]
  },
  {
   "cell_type": "code",
   "execution_count": 15,
   "metadata": {},
   "outputs": [],
   "source": [
    "a = Counter()"
   ]
  },
  {
   "cell_type": "code",
   "execution_count": 17,
   "metadata": {},
   "outputs": [
    {
     "data": {
      "text/plain": [
       "1"
      ]
     },
     "execution_count": 17,
     "metadata": {},
     "output_type": "execute_result"
    }
   ],
   "source": [
    "a.reset()\n",
    "a.increment()\n",
    "a.get()"
   ]
  },
  {
   "cell_type": "code",
   "execution_count": 18,
   "metadata": {},
   "outputs": [
    {
     "data": {
      "text/plain": [
       "2"
      ]
     },
     "execution_count": 18,
     "metadata": {},
     "output_type": "execute_result"
    }
   ],
   "source": [
    "a.increment()\n",
    "a.get()"
   ]
  },
  {
   "cell_type": "code",
   "execution_count": 19,
   "metadata": {},
   "outputs": [],
   "source": [
    "b = Counter()"
   ]
  },
  {
   "cell_type": "code",
   "execution_count": 20,
   "metadata": {},
   "outputs": [],
   "source": [
    "b.reset()"
   ]
  },
  {
   "cell_type": "code",
   "execution_count": 21,
   "metadata": {},
   "outputs": [
    {
     "data": {
      "text/plain": [
       "1"
      ]
     },
     "execution_count": 21,
     "metadata": {},
     "output_type": "execute_result"
    }
   ],
   "source": [
    "b.increment()\n",
    "b.get()"
   ]
  },
  {
   "cell_type": "code",
   "execution_count": 26,
   "metadata": {},
   "outputs": [],
   "source": [
    "# init 는 객체가 만들어질 때 시작되는 method(함수) 이다. (초기화)\n",
    "\n",
    "class Counter:\n",
    "    def __init__(self):\n",
    "        self.count = 0\n",
    "    def increment(self):\n",
    "        self.count += 1\n",
    "    def get(self):\n",
    "        return self.count        "
   ]
  },
  {
   "cell_type": "code",
   "execution_count": 27,
   "metadata": {},
   "outputs": [],
   "source": [
    "c = Counter()"
   ]
  },
  {
   "cell_type": "code",
   "execution_count": 28,
   "metadata": {},
   "outputs": [
    {
     "name": "stdout",
     "output_type": "stream",
     "text": [
      "0\n"
     ]
    }
   ],
   "source": [
    "print(c.get())"
   ]
  },
  {
   "cell_type": "code",
   "execution_count": 40,
   "metadata": {},
   "outputs": [],
   "source": [
    "class Person:\n",
    "    def __init__(self, name):\n",
    "        self.name = name\n",
    "    def say_hi(self):\n",
    "        print(self.name, '님 안녕하세요')"
   ]
  },
  {
   "cell_type": "code",
   "execution_count": 41,
   "metadata": {},
   "outputs": [],
   "source": [
    "p = Person('길동')"
   ]
  },
  {
   "cell_type": "code",
   "execution_count": 44,
   "metadata": {},
   "outputs": [
    {
     "name": "stdout",
     "output_type": "stream",
     "text": [
      "길동 님 안녕하세요\n"
     ]
    }
   ],
   "source": [
    "p.say_hi()"
   ]
  },
  {
   "cell_type": "markdown",
   "metadata": {},
   "source": [
    "- init 메소드는 클래스가 인스턴스화 될 때 호출\n",
    "- 객체가 생성시 초기화 명령이 필요할 때 유용하게 사용\n",
    "- init 의 앞과 뒤에 있는 밑줄은 두 번씩 입력"
   ]
  },
  {
   "cell_type": "markdown",
   "metadata": {},
   "source": [
    "### 클래스 변수\n",
    "- 공유됨\n",
    "- 모든 인스턴스들이 접근할 수 있음\n",
    "- 한 개만 존재\n",
    "- 객체가 값을 변경하면 다른 인스턴스에 적용됨"
   ]
  },
  {
   "cell_type": "markdown",
   "metadata": {},
   "source": [
    "### 객체변수\n",
    "- 개별 객체 / 인스턴스에 속함 (독립)\n",
    "- 다른 인스턴스들이 접근할 수 없음\n",
    "- self 에 연결(self.name)"
   ]
  },
  {
   "cell_type": "markdown",
   "metadata": {},
   "source": [
    "### 클래스 함수 만드는법"
   ]
  },
  {
   "cell_type": "markdown",
   "metadata": {},
   "source": [
    "- @classmethod\n",
    "-  def how_many(cls):"
   ]
  },
  {
   "cell_type": "code",
   "execution_count": 52,
   "metadata": {},
   "outputs": [],
   "source": [
    "class Robot:\n",
    "    '''로봇 클래스'''\n",
    "    population = 0 #클래스 변수\n",
    "\n",
    "    def __init__(self, name):\n",
    "        '''먼저 시작되는 메소드'''\n",
    "        self.name = name #객체변수\n",
    "        print('로봇을 생산합니다.', self.name)\n",
    "        Robot.population += 1\n",
    "\n",
    "    def die(self):\n",
    "        '''로봇 파괴'''\n",
    "        print(self.name, '파괴되었습니다.')\n",
    "        Robot.population -= 1\n",
    "        if Robot.population == 0:\n",
    "            print(self.name, '마지막 로봇입니다.')\n",
    "        else:\n",
    "            print(Robot.population, '남았습니다.')\n",
    "\n",
    "    def say_hi(self):\n",
    "        '''인사'''\n",
    "        print(self.name, '반갑습니다.')\n",
    "\n",
    "    @classmethod\n",
    "    def how_many(cls):\n",
    "        print(cls.population, '가지고 있습니다.')"
   ]
  },
  {
   "cell_type": "code",
   "execution_count": 53,
   "metadata": {},
   "outputs": [
    {
     "name": "stdout",
     "output_type": "stream",
     "text": [
      "로봇을 생산합니다. 길동1\n"
     ]
    }
   ],
   "source": [
    "droid1 = Robot('길동1')"
   ]
  },
  {
   "cell_type": "code",
   "execution_count": 54,
   "metadata": {},
   "outputs": [
    {
     "name": "stdout",
     "output_type": "stream",
     "text": [
      "길동1 반갑습니다.\n"
     ]
    }
   ],
   "source": [
    "droid1.say_hi()"
   ]
  },
  {
   "cell_type": "code",
   "execution_count": 55,
   "metadata": {},
   "outputs": [
    {
     "name": "stdout",
     "output_type": "stream",
     "text": [
      "로봇을 생산합니다. 길동2\n"
     ]
    }
   ],
   "source": [
    "droid2 = Robot('길동2')"
   ]
  },
  {
   "cell_type": "code",
   "execution_count": 56,
   "metadata": {},
   "outputs": [
    {
     "name": "stdout",
     "output_type": "stream",
     "text": [
      "길동2 반갑습니다.\n"
     ]
    }
   ],
   "source": [
    "droid2.say_hi()"
   ]
  },
  {
   "cell_type": "code",
   "execution_count": 57,
   "metadata": {},
   "outputs": [
    {
     "name": "stdout",
     "output_type": "stream",
     "text": [
      "2 가지고 있습니다.\n"
     ]
    }
   ],
   "source": [
    "# classmethod 호출\n",
    "Robot.how_many()"
   ]
  },
  {
   "cell_type": "code",
   "execution_count": 58,
   "metadata": {},
   "outputs": [
    {
     "name": "stdout",
     "output_type": "stream",
     "text": [
      "길동2 파괴되었습니다.\n",
      "1 남았습니다.\n"
     ]
    }
   ],
   "source": [
    "droid2.die()"
   ]
  },
  {
   "cell_type": "code",
   "execution_count": null,
   "metadata": {},
   "outputs": [],
   "source": []
  }
 ],
 "metadata": {
  "kernelspec": {
   "display_name": "Python 3",
   "language": "python",
   "name": "python3"
  },
  "language_info": {
   "codemirror_mode": {
    "name": "ipython",
    "version": 3
   },
   "file_extension": ".py",
   "mimetype": "text/x-python",
   "name": "python",
   "nbconvert_exporter": "python",
   "pygments_lexer": "ipython3",
   "version": "3.7.3"
  }
 },
 "nbformat": 4,
 "nbformat_minor": 2
}
