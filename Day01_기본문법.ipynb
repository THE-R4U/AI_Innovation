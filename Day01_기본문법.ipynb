{
  "nbformat": 4,
  "nbformat_minor": 0,
  "metadata": {
    "colab": {
      "name": "Day01_기본문법.ipynb",
      "version": "0.3.2",
      "provenance": [],
      "include_colab_link": true
    },
    "language_info": {
      "codemirror_mode": {
        "name": "ipython",
        "version": 3
      },
      "file_extension": ".py",
      "mimetype": "text/x-python",
      "name": "python",
      "nbconvert_exporter": "python",
      "pygments_lexer": "ipython3",
      "version": "3.7.3"
    },
    "kernelspec": {
      "display_name": "Python 3",
      "language": "python",
      "name": "python3"
    }
  },
  "cells": [
    {
      "cell_type": "markdown",
      "metadata": {
        "id": "view-in-github",
        "colab_type": "text"
      },
      "source": [
        "<a href=\"https://colab.research.google.com/github/THE-R4U/AI_Innovation/blob/master/Day01_%E1%84%80%E1%85%B5%E1%84%87%E1%85%A9%E1%86%AB%E1%84%86%E1%85%AE%E1%86%AB%E1%84%87%E1%85%A5%E1%86%B8.ipynb\" target=\"_parent\"><img src=\"https://colab.research.google.com/assets/colab-badge.svg\" alt=\"Open In Colab\"/></a>"
      ]
    },
    {
      "cell_type": "markdown",
      "metadata": {
        "id": "ztK9OH5Xj3EV",
        "colab_type": "text"
      },
      "source": [
        "# 1일차 - 기본문법"
      ]
    },
    {
      "cell_type": "code",
      "metadata": {
        "id": "vUoJcbwpj3EX",
        "colab_type": "code",
        "colab": {}
      },
      "source": [
        "import antigravity"
      ],
      "execution_count": 0,
      "outputs": []
    },
    {
      "cell_type": "code",
      "metadata": {
        "id": "ssifLZNtj3Ea",
        "colab_type": "code",
        "colab": {},
        "outputId": "8dbf17d8-e1c8-4cf8-d9b4-7536b4569140"
      },
      "source": [
        "import this"
      ],
      "execution_count": 0,
      "outputs": [
        {
          "output_type": "stream",
          "text": [
            "The Zen of Python, by Tim Peters\n",
            "\n",
            "Beautiful is better than ugly.\n",
            "Explicit is better than implicit.\n",
            "Simple is better than complex.\n",
            "Complex is better than complicated.\n",
            "Flat is better than nested.\n",
            "Sparse is better than dense.\n",
            "Readability counts.\n",
            "Special cases aren't special enough to break the rules.\n",
            "Although practicality beats purity.\n",
            "Errors should never pass silently.\n",
            "Unless explicitly silenced.\n",
            "In the face of ambiguity, refuse the temptation to guess.\n",
            "There should be one-- and preferably only one --obvious way to do it.\n",
            "Although that way may not be obvious at first unless you're Dutch.\n",
            "Now is better than never.\n",
            "Although never is often better than *right* now.\n",
            "If the implementation is hard to explain, it's a bad idea.\n",
            "If the implementation is easy to explain, it may be a good idea.\n",
            "Namespaces are one honking great idea -- let's do more of those!\n"
          ],
          "name": "stdout"
        }
      ]
    },
    {
      "cell_type": "code",
      "metadata": {
        "id": "aWlz-Ti5j3Ee",
        "colab_type": "code",
        "colab": {},
        "outputId": "8c06a4a0-e1e0-43f1-ec4a-d757892e7d42"
      },
      "source": [
        "import keyword\n",
        "keyword.kwlist"
      ],
      "execution_count": 0,
      "outputs": [
        {
          "output_type": "execute_result",
          "data": {
            "text/plain": [
              "['False',\n",
              " 'None',\n",
              " 'True',\n",
              " 'and',\n",
              " 'as',\n",
              " 'assert',\n",
              " 'async',\n",
              " 'await',\n",
              " 'break',\n",
              " 'class',\n",
              " 'continue',\n",
              " 'def',\n",
              " 'del',\n",
              " 'elif',\n",
              " 'else',\n",
              " 'except',\n",
              " 'finally',\n",
              " 'for',\n",
              " 'from',\n",
              " 'global',\n",
              " 'if',\n",
              " 'import',\n",
              " 'in',\n",
              " 'is',\n",
              " 'lambda',\n",
              " 'nonlocal',\n",
              " 'not',\n",
              " 'or',\n",
              " 'pass',\n",
              " 'raise',\n",
              " 'return',\n",
              " 'try',\n",
              " 'while',\n",
              " 'with',\n",
              " 'yield']"
            ]
          },
          "metadata": {
            "tags": []
          },
          "execution_count": 3
        }
      ]
    },
    {
      "cell_type": "markdown",
      "metadata": {
        "id": "yEfyROCQj3Ei",
        "colab_type": "text"
      },
      "source": [
        "## 표현식(expression) = 평가식 = 식\n",
        "\n",
        "- 값\n",
        "- 값들과 연산자를 함께 사용해서 표현\n",
        "\n",
        "### 수식 표현\n",
        "Operater : +, -, *, / "
      ]
    },
    {
      "cell_type": "code",
      "metadata": {
        "id": "m_CRs555j3Ei",
        "colab_type": "code",
        "colab": {},
        "outputId": "ef4113c8-413d-4d30-a7db-66d7e889653d"
      },
      "source": [
        "2 + 2"
      ],
      "execution_count": 0,
      "outputs": [
        {
          "output_type": "execute_result",
          "data": {
            "text/plain": [
              "4"
            ]
          },
          "metadata": {
            "tags": []
          },
          "execution_count": 4
        }
      ]
    },
    {
      "cell_type": "code",
      "metadata": {
        "id": "7WlAEvbJj3El",
        "colab_type": "code",
        "colab": {},
        "outputId": "c5c9e78f-5f39-49ab-ce7f-296eb4f6dc97"
      },
      "source": [
        "5 - 7"
      ],
      "execution_count": 0,
      "outputs": [
        {
          "output_type": "execute_result",
          "data": {
            "text/plain": [
              "-2"
            ]
          },
          "metadata": {
            "tags": []
          },
          "execution_count": 5
        }
      ]
    },
    {
      "cell_type": "code",
      "metadata": {
        "id": "wJ7zbSVQj3En",
        "colab_type": "code",
        "colab": {},
        "outputId": "56dbb73a-4b69-4825-aed9-e24333ebabeb"
      },
      "source": [
        "8 * 9"
      ],
      "execution_count": 0,
      "outputs": [
        {
          "output_type": "execute_result",
          "data": {
            "text/plain": [
              "72"
            ]
          },
          "metadata": {
            "tags": []
          },
          "execution_count": 6
        }
      ]
    },
    {
      "cell_type": "code",
      "metadata": {
        "id": "zEMxOW9-j3Eq",
        "colab_type": "code",
        "colab": {},
        "outputId": "78ac6d12-222f-4cd4-c16e-4850b00453bf"
      },
      "source": [
        "10/2"
      ],
      "execution_count": 0,
      "outputs": [
        {
          "output_type": "execute_result",
          "data": {
            "text/plain": [
              "5.0"
            ]
          },
          "metadata": {
            "tags": []
          },
          "execution_count": 7
        }
      ]
    },
    {
      "cell_type": "code",
      "metadata": {
        "id": "tRFsnW7Lj3Et",
        "colab_type": "code",
        "colab": {},
        "outputId": "baede8e8-bc14-41f7-dde7-d55de66ca53d"
      },
      "source": [
        "3**2"
      ],
      "execution_count": 0,
      "outputs": [
        {
          "output_type": "execute_result",
          "data": {
            "text/plain": [
              "9"
            ]
          },
          "metadata": {
            "tags": []
          },
          "execution_count": 8
        }
      ]
    },
    {
      "cell_type": "code",
      "metadata": {
        "id": "57TFEntEj3Ew",
        "colab_type": "code",
        "colab": {},
        "outputId": "1491f254-ff16-45a5-f977-0f090c14c700"
      },
      "source": [
        "2%2"
      ],
      "execution_count": 0,
      "outputs": [
        {
          "output_type": "execute_result",
          "data": {
            "text/plain": [
              "0"
            ]
          },
          "metadata": {
            "tags": []
          },
          "execution_count": 10
        }
      ]
    },
    {
      "cell_type": "markdown",
      "metadata": {
        "id": "SVlbLU95j3Ez",
        "colab_type": "text"
      },
      "source": [
        "### 문자열 표현\n",
        "- 분자열: 텍스트 묶음\n",
        "- 문자열은 홑 따옴표 또는 쌍 따옴표로 묶어준다.\n",
        "- 문자열 + 문자열 (문자열의 나열)"
      ]
    },
    {
      "cell_type": "code",
      "metadata": {
        "id": "CzFZl6osj3E0",
        "colab_type": "code",
        "colab": {},
        "outputId": "aa2ab065-dfa2-483a-9f1d-d2e750fb043e"
      },
      "source": [
        "'Hello' + ' World!'"
      ],
      "execution_count": 0,
      "outputs": [
        {
          "output_type": "execute_result",
          "data": {
            "text/plain": [
              "'Hello World!'"
            ]
          },
          "metadata": {
            "tags": []
          },
          "execution_count": 12
        }
      ]
    },
    {
      "cell_type": "markdown",
      "metadata": {
        "id": "NJcTJ7zvj3E3",
        "colab_type": "text"
      },
      "source": [
        "## Assignment(할당)\n",
        "\n",
        "- a = 23\n",
        "- a(identifier) =(assignment) 23 (value)\n",
        "\n",
        "### 변수의 일반적 의미\n",
        "- 양이나 정보에 대한 상징적인 이름\n",
        "- 프고르래밍에서의 변수\n",
        "    - 값을 기억해 두고 필요할 때 활용\n",
        "- Python\n",
        "    - 값(객체)을 저장하는 메모리 상의 공간을 가르키는(object reference) 이름"
      ]
    },
    {
      "cell_type": "markdown",
      "metadata": {
        "id": "9yjodp-Dj3E3",
        "colab_type": "text"
      },
      "source": [
        "### 변수(Variables)\n",
        "- 변수는 어떤 값을 갖고 있는 박스와 같다\n",
        "- = (대입연산자)를 이용하여 값, 또는 연산 결과를 저장한다."
      ]
    },
    {
      "cell_type": "code",
      "metadata": {
        "id": "eGqPGsl_j3E4",
        "colab_type": "code",
        "colab": {}
      },
      "source": [
        "spam = 15"
      ],
      "execution_count": 0,
      "outputs": []
    },
    {
      "cell_type": "code",
      "metadata": {
        "id": "lO3ubMNdj3E5",
        "colab_type": "code",
        "colab": {},
        "outputId": "8fc8d809-8634-4fcb-8217-0e1f3a1eb99a"
      },
      "source": [
        "spam"
      ],
      "execution_count": 0,
      "outputs": [
        {
          "output_type": "execute_result",
          "data": {
            "text/plain": [
              "15"
            ]
          },
          "metadata": {
            "tags": []
          },
          "execution_count": 14
        }
      ]
    },
    {
      "cell_type": "markdown",
      "metadata": {
        "id": "_oMZvKv9j3E7",
        "colab_type": "text"
      },
      "source": [
        "- 변수에 값을 저장하면 메모리에 저장하게 되는데, 메모리는 고유의 주소값을 가짐\n",
        "- 주소값을 확인하려면 id() 함수 사용"
      ]
    },
    {
      "cell_type": "code",
      "metadata": {
        "id": "cdSXR72_j3E8",
        "colab_type": "code",
        "colab": {},
        "outputId": "41b29647-5f4a-4dbb-de68-4d5d10b50af2"
      },
      "source": [
        "id(spam)"
      ],
      "execution_count": 0,
      "outputs": [
        {
          "output_type": "execute_result",
          "data": {
            "text/plain": [
              "4362893152"
            ]
          },
          "metadata": {
            "tags": []
          },
          "execution_count": 15
        }
      ]
    },
    {
      "cell_type": "markdown",
      "metadata": {
        "id": "CAxhvu3vj3E_",
        "colab_type": "text"
      },
      "source": [
        "- %whos : 현재 메모리에 올라간 변수들의 목록을 확인"
      ]
    },
    {
      "cell_type": "code",
      "metadata": {
        "id": "sRV5IEamj3E_",
        "colab_type": "code",
        "colab": {}
      },
      "source": [
        "a = 10\n",
        "b = 'hi'\n",
        "c = 3.14"
      ],
      "execution_count": 0,
      "outputs": []
    },
    {
      "cell_type": "code",
      "metadata": {
        "id": "UcYInxCBj3FC",
        "colab_type": "code",
        "colab": {},
        "outputId": "9f28037a-3eb4-4458-ebfb-a48c6fdb8b77"
      },
      "source": [
        "%whos"
      ],
      "execution_count": 0,
      "outputs": [
        {
          "output_type": "stream",
          "text": [
            "Variable      Type      Data/Info\n",
            "---------------------------------\n",
            "a             int       10\n",
            "antigravity   module    <module 'antigravity' fro<...>ython3.7/antigravity.py'>\n",
            "b             str       hi\n",
            "c             float     3.14\n",
            "keyword       module    <module 'keyword' from '/<...>ib/python3.7/keyword.py'>\n",
            "spam          int       15\n",
            "this          module    <module 'this' from '/Use<...>3/lib/python3.7/this.py'>\n"
          ],
          "name": "stdout"
        }
      ]
    },
    {
      "cell_type": "markdown",
      "metadata": {
        "id": "FJXb_Locj3FE",
        "colab_type": "text"
      },
      "source": [
        "- 변수를 더 이상 사용하고 싶지 않다면 del 사용"
      ]
    },
    {
      "cell_type": "code",
      "metadata": {
        "id": "REdMjkv1j3FE",
        "colab_type": "code",
        "colab": {}
      },
      "source": [
        "del a"
      ],
      "execution_count": 0,
      "outputs": []
    },
    {
      "cell_type": "code",
      "metadata": {
        "id": "JoEcKzXhj3FI",
        "colab_type": "code",
        "colab": {},
        "outputId": "a642d140-e052-4a71-dd92-bd04bb74044c"
      },
      "source": [
        "a"
      ],
      "execution_count": 0,
      "outputs": [
        {
          "output_type": "error",
          "ename": "NameError",
          "evalue": "name 'a' is not defined",
          "traceback": [
            "\u001b[0;31m---------------------------------------------------------------------------\u001b[0m",
            "\u001b[0;31mNameError\u001b[0m                                 Traceback (most recent call last)",
            "\u001b[0;32m<ipython-input-19-3f786850e387>\u001b[0m in \u001b[0;36m<module>\u001b[0;34m\u001b[0m\n\u001b[0;32m----> 1\u001b[0;31m \u001b[0ma\u001b[0m\u001b[0;34m\u001b[0m\u001b[0;34m\u001b[0m\u001b[0m\n\u001b[0m",
            "\u001b[0;31mNameError\u001b[0m: name 'a' is not defined"
          ]
        }
      ]
    },
    {
      "cell_type": "code",
      "metadata": {
        "id": "gUAfanEIj3FK",
        "colab_type": "code",
        "colab": {},
        "outputId": "ae0b24b7-bfb1-46fe-f6e8-0d6f0d0a56cb"
      },
      "source": [
        "%whos"
      ],
      "execution_count": 0,
      "outputs": [
        {
          "output_type": "stream",
          "text": [
            "Variable      Type      Data/Info\n",
            "---------------------------------\n",
            "antigravity   module    <module 'antigravity' fro<...>ython3.7/antigravity.py'>\n",
            "b             str       hi\n",
            "c             float     3.14\n",
            "keyword       module    <module 'keyword' from '/<...>ib/python3.7/keyword.py'>\n",
            "spam          int       15\n",
            "this          module    <module 'this' from '/Use<...>3/lib/python3.7/this.py'>\n"
          ],
          "name": "stdout"
        }
      ]
    },
    {
      "cell_type": "markdown",
      "metadata": {
        "id": "59z6Lqj7j3FM",
        "colab_type": "text"
      },
      "source": [
        "### 변수 이름 지정\n",
        "- 의미 있는 이름 사용 (권장)\n",
        "- 소문자/댐문자는 서로 다르게 취급\n",
        "- 변수 이름 : 영문자와 숫자, 밑줄로 이루어짐\n",
        "- 숫자로 시작할 수 없음\n",
        "- 낙타체(권장)"
      ]
    },
    {
      "cell_type": "markdown",
      "metadata": {
        "id": "HVEH--QOj3FN",
        "colab_type": "text"
      },
      "source": [
        "#### 변수 이름을 사용하기에 적절?\n",
        "\n",
        "- sum (o)\n",
        "- 밑줄_count (o)\n",
        "- number_of_pictures (o)\n",
        "- King3 (o)\n",
        "- 2nd_base (x)\n",
        "- money# (x)\n",
        "- while (x)"
      ]
    },
    {
      "cell_type": "markdown",
      "metadata": {
        "id": "kaeptApQj3FN",
        "colab_type": "text"
      },
      "source": [
        "- 변수 : id +  값 + type"
      ]
    },
    {
      "cell_type": "code",
      "metadata": {
        "id": "dzLgm6ZBj3FO",
        "colab_type": "code",
        "colab": {}
      },
      "source": [
        "spam = 15"
      ],
      "execution_count": 0,
      "outputs": []
    },
    {
      "cell_type": "code",
      "metadata": {
        "id": "-D59U3bQj3FQ",
        "colab_type": "code",
        "colab": {},
        "outputId": "a235a5ce-3132-44ab-e3ac-014f51686304"
      },
      "source": [
        "spam + 5"
      ],
      "execution_count": 0,
      "outputs": [
        {
          "output_type": "execute_result",
          "data": {
            "text/plain": [
              "20"
            ]
          },
          "metadata": {
            "tags": []
          },
          "execution_count": 25
        }
      ]
    },
    {
      "cell_type": "code",
      "metadata": {
        "id": "pROIfQ4_j3FS",
        "colab_type": "code",
        "colab": {}
      },
      "source": [
        "spam = 3"
      ],
      "execution_count": 0,
      "outputs": []
    },
    {
      "cell_type": "code",
      "metadata": {
        "id": "n7amLwECj3FT",
        "colab_type": "code",
        "colab": {},
        "outputId": "191edb2f-8ad5-4782-fa28-e40d372211a3"
      },
      "source": [
        "spam + 5"
      ],
      "execution_count": 0,
      "outputs": [
        {
          "output_type": "execute_result",
          "data": {
            "text/plain": [
              "8"
            ]
          },
          "metadata": {
            "tags": []
          },
          "execution_count": 27
        }
      ]
    },
    {
      "cell_type": "code",
      "metadata": {
        "id": "uCMEBdBfj3FW",
        "colab_type": "code",
        "colab": {}
      },
      "source": [
        "spam = 5 + 7"
      ],
      "execution_count": 0,
      "outputs": []
    },
    {
      "cell_type": "code",
      "metadata": {
        "id": "oc32SK8nj3FZ",
        "colab_type": "code",
        "colab": {},
        "outputId": "7b062656-7842-490c-d46c-b1f99fd6c33d"
      },
      "source": [
        "spam"
      ],
      "execution_count": 0,
      "outputs": [
        {
          "output_type": "execute_result",
          "data": {
            "text/plain": [
              "12"
            ]
          },
          "metadata": {
            "tags": []
          },
          "execution_count": 29
        }
      ]
    },
    {
      "cell_type": "code",
      "metadata": {
        "id": "EqEAkRcvj3Fb",
        "colab_type": "code",
        "colab": {}
      },
      "source": [
        "spam = 15"
      ],
      "execution_count": 0,
      "outputs": []
    },
    {
      "cell_type": "code",
      "metadata": {
        "id": "JuYKksH-j3Fd",
        "colab_type": "code",
        "colab": {},
        "outputId": "a7533f9e-e593-4e6a-9369-97626cbe7f8a"
      },
      "source": [
        "spam + spam"
      ],
      "execution_count": 0,
      "outputs": [
        {
          "output_type": "execute_result",
          "data": {
            "text/plain": [
              "30"
            ]
          },
          "metadata": {
            "tags": []
          },
          "execution_count": 31
        }
      ]
    },
    {
      "cell_type": "code",
      "metadata": {
        "id": "9ps3ZVeJj3Fg",
        "colab_type": "code",
        "colab": {},
        "outputId": "8b23a243-f236-4fe5-b2c7-67bc07a0657a"
      },
      "source": [
        "spam - spam"
      ],
      "execution_count": 0,
      "outputs": [
        {
          "output_type": "execute_result",
          "data": {
            "text/plain": [
              "0"
            ]
          },
          "metadata": {
            "tags": []
          },
          "execution_count": 32
        }
      ]
    },
    {
      "cell_type": "code",
      "metadata": {
        "id": "UDmSmTSoj3Fi",
        "colab_type": "code",
        "colab": {}
      },
      "source": [
        "spam = 15"
      ],
      "execution_count": 0,
      "outputs": []
    },
    {
      "cell_type": "code",
      "metadata": {
        "id": "EeupC2Acj3Fj",
        "colab_type": "code",
        "colab": {}
      },
      "source": [
        "spam = spam + 5"
      ],
      "execution_count": 0,
      "outputs": []
    },
    {
      "cell_type": "code",
      "metadata": {
        "id": "Dp7ks0bRj3Fl",
        "colab_type": "code",
        "colab": {},
        "outputId": "04262ce9-2a88-4c3f-cc81-88c22ab3cd46"
      },
      "source": [
        "spam"
      ],
      "execution_count": 0,
      "outputs": [
        {
          "output_type": "execute_result",
          "data": {
            "text/plain": [
              "20"
            ]
          },
          "metadata": {
            "tags": []
          },
          "execution_count": 35
        }
      ]
    },
    {
      "cell_type": "code",
      "metadata": {
        "id": "-zZviePJj3Fo",
        "colab_type": "code",
        "colab": {}
      },
      "source": [
        "spam = 15"
      ],
      "execution_count": 0,
      "outputs": []
    },
    {
      "cell_type": "code",
      "metadata": {
        "id": "8f8GAJDhj3Fs",
        "colab_type": "code",
        "colab": {}
      },
      "source": [
        "spam = spam + 5"
      ],
      "execution_count": 0,
      "outputs": []
    },
    {
      "cell_type": "code",
      "metadata": {
        "id": "DoEsnvAUj3Fv",
        "colab_type": "code",
        "colab": {}
      },
      "source": [
        "spam = spam + 5"
      ],
      "execution_count": 0,
      "outputs": []
    },
    {
      "cell_type": "code",
      "metadata": {
        "id": "0bPcJfWwj3Fw",
        "colab_type": "code",
        "colab": {}
      },
      "source": [
        "spam = spam + 5"
      ],
      "execution_count": 0,
      "outputs": []
    },
    {
      "cell_type": "code",
      "metadata": {
        "id": "qgaUjhUnj3Fy",
        "colab_type": "code",
        "colab": {},
        "outputId": "7917045e-c1b3-4d67-ba1e-e43f5ba76a45"
      },
      "source": [
        "spam"
      ],
      "execution_count": 0,
      "outputs": [
        {
          "output_type": "execute_result",
          "data": {
            "text/plain": [
              "30"
            ]
          },
          "metadata": {
            "tags": []
          },
          "execution_count": 40
        }
      ]
    },
    {
      "cell_type": "markdown",
      "metadata": {
        "id": "KDNkXum9j3F0",
        "colab_type": "text"
      },
      "source": [
        "### 문자열\n",
        "- 문자열은 문자뿐만 아니라 공백, 숫자, 특수문자를 포함할 수 있음"
      ]
    },
    {
      "cell_type": "code",
      "metadata": {
        "id": "r7Oq9kFrj3F1",
        "colab_type": "code",
        "colab": {}
      },
      "source": [
        "spam = 'Hello'"
      ],
      "execution_count": 0,
      "outputs": []
    },
    {
      "cell_type": "code",
      "metadata": {
        "id": "XDzw6VqGj3F4",
        "colab_type": "code",
        "colab": {}
      },
      "source": [
        "fizz = 'World'"
      ],
      "execution_count": 0,
      "outputs": []
    },
    {
      "cell_type": "code",
      "metadata": {
        "id": "rEDXa-zOj3F-",
        "colab_type": "code",
        "colab": {},
        "outputId": "725da30a-bd9c-4318-9f08-364ee7b3f772"
      },
      "source": [
        "'spam' + 'fizz'"
      ],
      "execution_count": 0,
      "outputs": [
        {
          "output_type": "execute_result",
          "data": {
            "text/plain": [
              "'spamfizz'"
            ]
          },
          "metadata": {
            "tags": []
          },
          "execution_count": 43
        }
      ]
    },
    {
      "cell_type": "code",
      "metadata": {
        "id": "rxhxf0bgj3GA",
        "colab_type": "code",
        "colab": {}
      },
      "source": [
        "spam = 'Hello'"
      ],
      "execution_count": 0,
      "outputs": []
    },
    {
      "cell_type": "code",
      "metadata": {
        "id": "_6rvN23Qj3GE",
        "colab_type": "code",
        "colab": {}
      },
      "source": [
        "fizz = 'World'"
      ],
      "execution_count": 0,
      "outputs": []
    },
    {
      "cell_type": "code",
      "metadata": {
        "id": "sCyea-QCj3GG",
        "colab_type": "code",
        "colab": {},
        "outputId": "3b87619b-0f78-475a-9150-a798be47a1fc"
      },
      "source": [
        "spam + 'fizz'"
      ],
      "execution_count": 0,
      "outputs": [
        {
          "output_type": "execute_result",
          "data": {
            "text/plain": [
              "'Hellofizz'"
            ]
          },
          "metadata": {
            "tags": []
          },
          "execution_count": 46
        }
      ]
    },
    {
      "cell_type": "code",
      "metadata": {
        "id": "3OmINCowj3GK",
        "colab_type": "code",
        "colab": {},
        "outputId": "8db29657-c333-4da8-b228-e8a187117311"
      },
      "source": [
        "'hi' + spam + fizz"
      ],
      "execution_count": 0,
      "outputs": [
        {
          "output_type": "execute_result",
          "data": {
            "text/plain": [
              "'hiHelloWorld'"
            ]
          },
          "metadata": {
            "tags": []
          },
          "execution_count": 47
        }
      ]
    },
    {
      "cell_type": "code",
      "metadata": {
        "id": "jM4E_31wj3GM",
        "colab_type": "code",
        "colab": {},
        "outputId": "cf65896c-1fe0-4e0f-c538-6081faaf0df5"
      },
      "source": [
        "'Hello' + '5'"
      ],
      "execution_count": 0,
      "outputs": [
        {
          "output_type": "execute_result",
          "data": {
            "text/plain": [
              "'Hello5'"
            ]
          },
          "metadata": {
            "tags": []
          },
          "execution_count": 49
        }
      ]
    },
    {
      "cell_type": "code",
      "metadata": {
        "id": "ttd-5ZNCj3GO",
        "colab_type": "code",
        "colab": {},
        "outputId": "9adbdc6e-d844-4a69-e107-b8985c479b8d"
      },
      "source": [
        "'5' + '5'"
      ],
      "execution_count": 0,
      "outputs": [
        {
          "output_type": "execute_result",
          "data": {
            "text/plain": [
              "'55'"
            ]
          },
          "metadata": {
            "tags": []
          },
          "execution_count": 51
        }
      ]
    },
    {
      "cell_type": "code",
      "metadata": {
        "id": "yyeEfNdSj3GR",
        "colab_type": "code",
        "colab": {}
      },
      "source": [
        "spam = 5"
      ],
      "execution_count": 0,
      "outputs": []
    },
    {
      "cell_type": "code",
      "metadata": {
        "id": "8u8pek2Gj3GS",
        "colab_type": "code",
        "colab": {},
        "outputId": "52aa8ad9-cb8b-4400-fc0d-ec2e34473731"
      },
      "source": [
        "'Hello' + spam"
      ],
      "execution_count": 0,
      "outputs": [
        {
          "output_type": "error",
          "ename": "TypeError",
          "evalue": "can only concatenate str (not \"int\") to str",
          "traceback": [
            "\u001b[0;31m---------------------------------------------------------------------------\u001b[0m",
            "\u001b[0;31mTypeError\u001b[0m                                 Traceback (most recent call last)",
            "\u001b[0;32m<ipython-input-53-f6e86cabb9fd>\u001b[0m in \u001b[0;36m<module>\u001b[0;34m\u001b[0m\n\u001b[0;32m----> 1\u001b[0;31m \u001b[0;34m'Hello'\u001b[0m \u001b[0;34m+\u001b[0m \u001b[0mspam\u001b[0m\u001b[0;34m\u001b[0m\u001b[0;34m\u001b[0m\u001b[0m\n\u001b[0m",
            "\u001b[0;31mTypeError\u001b[0m: can only concatenate str (not \"int\") to str"
          ]
        }
      ]
    },
    {
      "cell_type": "code",
      "metadata": {
        "id": "CRldWGQFj3GU",
        "colab_type": "code",
        "colab": {}
      },
      "source": [
        "spam = 'Hello'"
      ],
      "execution_count": 0,
      "outputs": []
    },
    {
      "cell_type": "code",
      "metadata": {
        "id": "Bxb9TCKGj3GX",
        "colab_type": "code",
        "colab": {}
      },
      "source": [
        "spam = 'World!'"
      ],
      "execution_count": 0,
      "outputs": []
    },
    {
      "cell_type": "code",
      "metadata": {
        "id": "SAxj5g-Cj3GY",
        "colab_type": "code",
        "colab": {},
        "outputId": "baf5c8f5-1f75-4cb6-cd89-fe9c8e5bfe53"
      },
      "source": [
        "spam + spam"
      ],
      "execution_count": 0,
      "outputs": [
        {
          "output_type": "execute_result",
          "data": {
            "text/plain": [
              "'World!World!'"
            ]
          },
          "metadata": {
            "tags": []
          },
          "execution_count": 56
        }
      ]
    },
    {
      "cell_type": "code",
      "metadata": {
        "id": "-3qE205ij3Ga",
        "colab_type": "code",
        "colab": {},
        "outputId": "1cc3b69e-c78a-4e5b-9b77-03da5f62c185"
      },
      "source": [
        "'Hello' * 5"
      ],
      "execution_count": 0,
      "outputs": [
        {
          "output_type": "execute_result",
          "data": {
            "text/plain": [
              "'HelloHelloHelloHelloHello'"
            ]
          },
          "metadata": {
            "tags": []
          },
          "execution_count": 57
        }
      ]
    },
    {
      "cell_type": "code",
      "metadata": {
        "id": "7AJfKgblj3Gb",
        "colab_type": "code",
        "colab": {}
      },
      "source": [
        "a = 1\n",
        "a = b = c = a"
      ],
      "execution_count": 0,
      "outputs": []
    },
    {
      "cell_type": "code",
      "metadata": {
        "id": "mCyuyv7Uj3Gd",
        "colab_type": "code",
        "colab": {},
        "outputId": "5486f1e3-43ec-479a-f4be-92e397a1c93f"
      },
      "source": [
        "lhs, rhs = lhs, rhs"
      ],
      "execution_count": 0,
      "outputs": [
        {
          "output_type": "error",
          "ename": "NameError",
          "evalue": "name 'lhs' is not defined",
          "traceback": [
            "\u001b[0;31m---------------------------------------------------------------------------\u001b[0m",
            "\u001b[0;31mNameError\u001b[0m                                 Traceback (most recent call last)",
            "\u001b[0;32m<ipython-input-59-6dfdf4a76e17>\u001b[0m in \u001b[0;36m<module>\u001b[0;34m\u001b[0m\n\u001b[0;32m----> 1\u001b[0;31m \u001b[0mlhs\u001b[0m\u001b[0;34m,\u001b[0m \u001b[0mrhs\u001b[0m \u001b[0;34m=\u001b[0m \u001b[0mlhs\u001b[0m\u001b[0;34m,\u001b[0m \u001b[0mrhs\u001b[0m\u001b[0;34m\u001b[0m\u001b[0;34m\u001b[0m\u001b[0m\n\u001b[0m",
            "\u001b[0;31mNameError\u001b[0m: name 'lhs' is not defined"
          ]
        }
      ]
    },
    {
      "cell_type": "code",
      "metadata": {
        "id": "XdirwoF9j3Ge",
        "colab_type": "code",
        "colab": {}
      },
      "source": [
        "a, b = 1, 2"
      ],
      "execution_count": 0,
      "outputs": []
    },
    {
      "cell_type": "code",
      "metadata": {
        "id": "oZp77ZWCj3Gf",
        "colab_type": "code",
        "colab": {},
        "outputId": "04841cbd-c76e-44b3-b5da-bd5140cbe7bb"
      },
      "source": [
        "a"
      ],
      "execution_count": 0,
      "outputs": [
        {
          "output_type": "execute_result",
          "data": {
            "text/plain": [
              "1"
            ]
          },
          "metadata": {
            "tags": []
          },
          "execution_count": 61
        }
      ]
    },
    {
      "cell_type": "code",
      "metadata": {
        "id": "BqfC3CGvj3Gh",
        "colab_type": "code",
        "colab": {},
        "outputId": "53d0c5c0-cd9d-497d-f63e-3b8a38c6df01"
      },
      "source": [
        "b"
      ],
      "execution_count": 0,
      "outputs": [
        {
          "output_type": "execute_result",
          "data": {
            "text/plain": [
              "2"
            ]
          },
          "metadata": {
            "tags": []
          },
          "execution_count": 62
        }
      ]
    },
    {
      "cell_type": "code",
      "metadata": {
        "id": "gqd5vB8Ej3Gj",
        "colab_type": "code",
        "colab": {},
        "outputId": "c48ee29a-8e3f-4e3f-e421-f20af9bb24d2"
      },
      "source": [
        "c"
      ],
      "execution_count": 0,
      "outputs": [
        {
          "output_type": "execute_result",
          "data": {
            "text/plain": [
              "1"
            ]
          },
          "metadata": {
            "tags": []
          },
          "execution_count": 63
        }
      ]
    },
    {
      "cell_type": "code",
      "metadata": {
        "id": "HxkRCiXxj3Gl",
        "colab_type": "code",
        "colab": {}
      },
      "source": [
        "counter = 0\n",
        "counter += 1"
      ],
      "execution_count": 0,
      "outputs": []
    },
    {
      "cell_type": "code",
      "metadata": {
        "id": "zXnGIbOlj3Gm",
        "colab_type": "code",
        "colab": {},
        "outputId": "3f82ff26-d187-43e4-b336-52080e146584"
      },
      "source": [
        "counter"
      ],
      "execution_count": 0,
      "outputs": [
        {
          "output_type": "execute_result",
          "data": {
            "text/plain": [
              "1"
            ]
          },
          "metadata": {
            "tags": []
          },
          "execution_count": 66
        }
      ]
    },
    {
      "cell_type": "code",
      "metadata": {
        "id": "GoKfrkxYj3Go",
        "colab_type": "code",
        "colab": {},
        "outputId": "5cb17a2b-f76c-4f01-d947-7f87ea44e2cf"
      },
      "source": [
        "a++"
      ],
      "execution_count": 0,
      "outputs": [
        {
          "output_type": "error",
          "ename": "SyntaxError",
          "evalue": "invalid syntax (<ipython-input-67-22e3d6dc1353>, line 1)",
          "traceback": [
            "\u001b[0;36m  File \u001b[0;32m\"<ipython-input-67-22e3d6dc1353>\"\u001b[0;36m, line \u001b[0;32m1\u001b[0m\n\u001b[0;31m    a++\u001b[0m\n\u001b[0m       ^\u001b[0m\n\u001b[0;31mSyntaxError\u001b[0m\u001b[0;31m:\u001b[0m invalid syntax\n"
          ]
        }
      ]
    },
    {
      "cell_type": "code",
      "metadata": {
        "id": "vXxdvuTLj3Gr",
        "colab_type": "code",
        "colab": {},
        "outputId": "1ac9dc57-d383-45af-844e-3fab3bfc0ae9"
      },
      "source": [
        "a--"
      ],
      "execution_count": 0,
      "outputs": [
        {
          "output_type": "error",
          "ename": "SyntaxError",
          "evalue": "invalid syntax (<ipython-input-68-ea557c56caec>, line 1)",
          "traceback": [
            "\u001b[0;36m  File \u001b[0;32m\"<ipython-input-68-ea557c56caec>\"\u001b[0;36m, line \u001b[0;32m1\u001b[0m\n\u001b[0;31m    a--\u001b[0m\n\u001b[0m       ^\u001b[0m\n\u001b[0;31mSyntaxError\u001b[0m\u001b[0;31m:\u001b[0m invalid syntax\n"
          ]
        }
      ]
    },
    {
      "cell_type": "code",
      "metadata": {
        "id": "SWBN8-TMj3Gt",
        "colab_type": "code",
        "colab": {},
        "outputId": "3acaecd2-8a75-493b-c9db-fbb8ba7b105b"
      },
      "source": [
        "c++"
      ],
      "execution_count": 0,
      "outputs": [
        {
          "output_type": "error",
          "ename": "SyntaxError",
          "evalue": "invalid syntax (<ipython-input-69-fb35cc329dab>, line 1)",
          "traceback": [
            "\u001b[0;36m  File \u001b[0;32m\"<ipython-input-69-fb35cc329dab>\"\u001b[0;36m, line \u001b[0;32m1\u001b[0m\n\u001b[0;31m    c++\u001b[0m\n\u001b[0m       ^\u001b[0m\n\u001b[0;31mSyntaxError\u001b[0m\u001b[0;31m:\u001b[0m invalid syntax\n"
          ]
        }
      ]
    },
    {
      "cell_type": "markdown",
      "metadata": {
        "id": "KJxmdFgkj3Gv",
        "colab_type": "text"
      },
      "source": [
        "복합연사자인 +=, -=, *= 모두 사용 가능"
      ]
    },
    {
      "cell_type": "markdown",
      "metadata": {
        "id": "w34cy5Dqj3Gw",
        "colab_type": "text"
      },
      "source": [
        "### 주석\n",
        "- 해시문자(#)로 시작하고 줄의 끝까지 이어 짐\n",
        "- 파이썬에서는 여러 줄 주석은 없고 한 줄 주석만 있음 (jupyter notebook)\n",
        "- IDE 환경에서는 ''' 으로 멀티라인 주석을 할 수 있음"
      ]
    },
    {
      "cell_type": "code",
      "metadata": {
        "id": "RjaDI3rbj3Gw",
        "colab_type": "code",
        "colab": {},
        "outputId": "8236e697-f513-4b2d-8a24-47948762a25f"
      },
      "source": [
        "# This program says hello and saasks for my name\n",
        "print('hello world!')\n",
        "print('input your name.')\n",
        "myName = input()\n",
        "print('Welcome, ' + myName + '.')"
      ],
      "execution_count": 0,
      "outputs": [
        {
          "output_type": "stream",
          "text": [
            "hello world!\n",
            "input your name.\n"
          ],
          "name": "stdout"
        },
        {
          "output_type": "stream",
          "text": [
            " Jin Hoon\n"
          ],
          "name": "stdin"
        },
        {
          "output_type": "stream",
          "text": [
            "Welcome, Jin Hoon.\n"
          ],
          "name": "stdout"
        }
      ]
    },
    {
      "cell_type": "code",
      "metadata": {
        "id": "uIu1hPIVj3Gz",
        "colab_type": "code",
        "colab": {},
        "outputId": "4bef49c7-10d7-42bb-e7fa-4011d5731b25"
      },
      "source": [
        "# This program saays hello and asks for my name (특정 코드를 잠시 실행시키고 싶지 않을 때도 사용)\n",
        "print('hello world!')\n",
        "print('input your name.')"
      ],
      "execution_count": 0,
      "outputs": [
        {
          "output_type": "stream",
          "text": [
            "hello world!\n",
            "input your name.\n"
          ],
          "name": "stdout"
        }
      ]
    },
    {
      "cell_type": "code",
      "metadata": {
        "id": "9-EBeHb8j3G1",
        "colab_type": "code",
        "colab": {},
        "outputId": "542c98a4-ad43-4ed8-fce2-f1def32cb7b7"
      },
      "source": [
        "print('hello world!')\n",
        "print('input your name.')\n",
        "myName = input()\n",
        "print('Welcome, ', myName, '.')"
      ],
      "execution_count": 0,
      "outputs": [
        {
          "output_type": "stream",
          "text": [
            "hello world!\n",
            "input your name.\n"
          ],
          "name": "stdout"
        },
        {
          "output_type": "stream",
          "text": [
            " Jin-Hoon\n"
          ],
          "name": "stdin"
        },
        {
          "output_type": "stream",
          "text": [
            "Welcome,  Jin-Hoon .\n"
          ],
          "name": "stdout"
        }
      ]
    },
    {
      "cell_type": "markdown",
      "metadata": {
        "id": "vwNzqX3Tj3G2",
        "colab_type": "text"
      },
      "source": [
        "### 값에 대한 type이 중요함\n",
        "- 정수형\n",
        "- 실수형"
      ]
    },
    {
      "cell_type": "markdown",
      "metadata": {
        "id": "37XXaLwcj3G2",
        "colab_type": "text"
      },
      "source": [
        "### 정수형"
      ]
    },
    {
      "cell_type": "code",
      "metadata": {
        "id": "cesA_M2gj3G3",
        "colab_type": "code",
        "colab": {},
        "outputId": "0a4e4fbc-6e4d-41f0-aae4-79a35e2e67a9"
      },
      "source": [
        "a = 10\n",
        "a"
      ],
      "execution_count": 0,
      "outputs": [
        {
          "output_type": "execute_result",
          "data": {
            "text/plain": [
              "10"
            ]
          },
          "metadata": {
            "tags": []
          },
          "execution_count": 3
        }
      ]
    },
    {
      "cell_type": "code",
      "metadata": {
        "id": "ZYB4JLvBj3G4",
        "colab_type": "code",
        "colab": {},
        "outputId": "33889a13-a3af-4aa5-f2a1-bd2d771f025c"
      },
      "source": [
        "type(a)"
      ],
      "execution_count": 0,
      "outputs": [
        {
          "output_type": "execute_result",
          "data": {
            "text/plain": [
              "int"
            ]
          },
          "metadata": {
            "tags": []
          },
          "execution_count": 4
        }
      ]
    },
    {
      "cell_type": "code",
      "metadata": {
        "id": "d_waSKOKj3G7",
        "colab_type": "code",
        "colab": {},
        "outputId": "24214df3-bd7f-408b-b434-edcad6d57b6b"
      },
      "source": [
        "b = -2\n",
        "b"
      ],
      "execution_count": 0,
      "outputs": [
        {
          "output_type": "execute_result",
          "data": {
            "text/plain": [
              "-2"
            ]
          },
          "metadata": {
            "tags": []
          },
          "execution_count": 5
        }
      ]
    },
    {
      "cell_type": "code",
      "metadata": {
        "id": "zjEoaSqej3G9",
        "colab_type": "code",
        "colab": {},
        "outputId": "642f573c-938a-4b1c-d796-566696befd29"
      },
      "source": [
        "type(b)"
      ],
      "execution_count": 0,
      "outputs": [
        {
          "output_type": "execute_result",
          "data": {
            "text/plain": [
              "int"
            ]
          },
          "metadata": {
            "tags": []
          },
          "execution_count": 6
        }
      ]
    },
    {
      "cell_type": "code",
      "metadata": {
        "id": "gBR3aWeAj3G_",
        "colab_type": "code",
        "colab": {},
        "outputId": "ac79b6ac-a01b-49ae-82a2-31a4d81323db"
      },
      "source": [
        "c = int(10)\n",
        "c"
      ],
      "execution_count": 0,
      "outputs": [
        {
          "output_type": "execute_result",
          "data": {
            "text/plain": [
              "10"
            ]
          },
          "metadata": {
            "tags": []
          },
          "execution_count": 7
        }
      ]
    },
    {
      "cell_type": "code",
      "metadata": {
        "id": "2ncLXh3Sj3HC",
        "colab_type": "code",
        "colab": {},
        "outputId": "68cf835f-61a7-4119-a558-a8272b480f67"
      },
      "source": [
        "type(c)"
      ],
      "execution_count": 0,
      "outputs": [
        {
          "output_type": "execute_result",
          "data": {
            "text/plain": [
              "int"
            ]
          },
          "metadata": {
            "tags": []
          },
          "execution_count": 8
        }
      ]
    },
    {
      "cell_type": "code",
      "metadata": {
        "id": "iWQuptc1j3HH",
        "colab_type": "code",
        "colab": {},
        "outputId": "7559c8ae-affa-45cf-c59d-fd009757446e"
      },
      "source": [
        "d = int(-32)\n",
        "d"
      ],
      "execution_count": 0,
      "outputs": [
        {
          "output_type": "execute_result",
          "data": {
            "text/plain": [
              "-32"
            ]
          },
          "metadata": {
            "tags": []
          },
          "execution_count": 10
        }
      ]
    },
    {
      "cell_type": "code",
      "metadata": {
        "id": "UHqIRTRPj3HK",
        "colab_type": "code",
        "colab": {},
        "outputId": "15cf5c84-3ffb-4e16-f8a6-d35bbbf1a1c8"
      },
      "source": [
        "type(d)"
      ],
      "execution_count": 0,
      "outputs": [
        {
          "output_type": "execute_result",
          "data": {
            "text/plain": [
              "int"
            ]
          },
          "metadata": {
            "tags": []
          },
          "execution_count": 12
        }
      ]
    },
    {
      "cell_type": "code",
      "metadata": {
        "id": "pseITIvfj3HN",
        "colab_type": "code",
        "colab": {},
        "outputId": "6a4d4779-5172-459b-d0b3-f76d85f582db"
      },
      "source": [
        "c = int('10')\n",
        "c"
      ],
      "execution_count": 0,
      "outputs": [
        {
          "output_type": "execute_result",
          "data": {
            "text/plain": [
              "10"
            ]
          },
          "metadata": {
            "tags": []
          },
          "execution_count": 13
        }
      ]
    },
    {
      "cell_type": "code",
      "metadata": {
        "id": "OowQ1Suaj3HO",
        "colab_type": "code",
        "colab": {},
        "outputId": "2926343a-acb8-4ebd-8939-e117bb5f0cac"
      },
      "source": [
        "import sys\n",
        "sys.maxsize"
      ],
      "execution_count": 0,
      "outputs": [
        {
          "output_type": "execute_result",
          "data": {
            "text/plain": [
              "9223372036854775807"
            ]
          },
          "metadata": {
            "tags": []
          },
          "execution_count": 14
        }
      ]
    },
    {
      "cell_type": "markdown",
      "metadata": {
        "id": "8-T47Fitj3HQ",
        "colab_type": "text"
      },
      "source": [
        "### 실수형"
      ]
    },
    {
      "cell_type": "code",
      "metadata": {
        "id": "FjbekfsKj3HQ",
        "colab_type": "code",
        "colab": {},
        "outputId": "d252c49a-afa8-4d2c-85cd-d762fba43bd3"
      },
      "source": [
        "c = float(10)\n",
        "c"
      ],
      "execution_count": 0,
      "outputs": [
        {
          "output_type": "execute_result",
          "data": {
            "text/plain": [
              "10.0"
            ]
          },
          "metadata": {
            "tags": []
          },
          "execution_count": 15
        }
      ]
    },
    {
      "cell_type": "code",
      "metadata": {
        "id": "hnIOlh6tj3HR",
        "colab_type": "code",
        "colab": {},
        "outputId": "15ab3fa1-bc17-4a13-eaa7-24ca981c946c"
      },
      "source": [
        "sys.float_info"
      ],
      "execution_count": 0,
      "outputs": [
        {
          "output_type": "execute_result",
          "data": {
            "text/plain": [
              "sys.float_info(max=1.7976931348623157e+308, max_exp=1024, max_10_exp=308, min=2.2250738585072014e-308, min_exp=-1021, min_10_exp=-307, dig=15, mant_dig=53, epsilon=2.220446049250313e-16, radix=2, rounds=1)"
            ]
          },
          "metadata": {
            "tags": []
          },
          "execution_count": 16
        }
      ]
    },
    {
      "cell_type": "markdown",
      "metadata": {
        "id": "YD_I8s9bj3HS",
        "colab_type": "text"
      },
      "source": [
        "**파이썬에서는 실수형의 최대 범위를 넘어가게 되면 inf(무한대)로 변함**"
      ]
    },
    {
      "cell_type": "code",
      "metadata": {
        "id": "PO3QpZvsj3HS",
        "colab_type": "code",
        "colab": {},
        "outputId": "05c4ff38-753d-4c0e-cd74-f84d34199f73"
      },
      "source": [
        "0.1 + 0.1 + 0.1 == 0.3"
      ],
      "execution_count": 0,
      "outputs": [
        {
          "output_type": "execute_result",
          "data": {
            "text/plain": [
              "False"
            ]
          },
          "metadata": {
            "tags": []
          },
          "execution_count": 17
        }
      ]
    },
    {
      "cell_type": "code",
      "metadata": {
        "id": "vET589Whj3HV",
        "colab_type": "code",
        "colab": {},
        "outputId": "156707e0-87d7-4499-b03e-980c7c9cfba4"
      },
      "source": [
        "0.1 + 0.1 + 0.1"
      ],
      "execution_count": 0,
      "outputs": [
        {
          "output_type": "execute_result",
          "data": {
            "text/plain": [
              "0.30000000000000004"
            ]
          },
          "metadata": {
            "tags": []
          },
          "execution_count": 18
        }
      ]
    },
    {
      "cell_type": "code",
      "metadata": {
        "id": "g5KpHtzAj3HW",
        "colab_type": "code",
        "colab": {},
        "outputId": "7c1d1968-c6f6-4bd9-8eca-bb5f588e9f71"
      },
      "source": [
        "c = float('10')\n",
        "c"
      ],
      "execution_count": 0,
      "outputs": [
        {
          "output_type": "execute_result",
          "data": {
            "text/plain": [
              "10.0"
            ]
          },
          "metadata": {
            "tags": []
          },
          "execution_count": 19
        }
      ]
    },
    {
      "cell_type": "code",
      "metadata": {
        "id": "sRErVz8Yj3Ha",
        "colab_type": "code",
        "colab": {},
        "outputId": "6ffb3db7-8410-4b94-e4fa-171ead252109"
      },
      "source": [
        "type(c)"
      ],
      "execution_count": 0,
      "outputs": [
        {
          "output_type": "execute_result",
          "data": {
            "text/plain": [
              "float"
            ]
          },
          "metadata": {
            "tags": []
          },
          "execution_count": 20
        }
      ]
    },
    {
      "cell_type": "code",
      "metadata": {
        "id": "vDrWYngsj3Hb",
        "colab_type": "code",
        "colab": {}
      },
      "source": [
        ""
      ],
      "execution_count": 0,
      "outputs": []
    }
  ]
}