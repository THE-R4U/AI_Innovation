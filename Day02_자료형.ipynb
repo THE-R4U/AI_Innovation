{
  "nbformat": 4,
  "nbformat_minor": 0,
  "metadata": {
    "colab": {
      "name": "Day02_자료형.ipynb",
      "version": "0.3.2",
      "provenance": [],
      "toc_visible": true,
      "include_colab_link": true
    },
    "language_info": {
      "codemirror_mode": {
        "name": "ipython",
        "version": 3
      },
      "file_extension": ".py",
      "mimetype": "text/x-python",
      "name": "python",
      "nbconvert_exporter": "python",
      "pygments_lexer": "ipython3",
      "version": "3.7.3"
    },
    "kernelspec": {
      "display_name": "Python 3",
      "language": "python",
      "name": "python3"
    }
  },
  "cells": [
    {
      "cell_type": "markdown",
      "metadata": {
        "id": "view-in-github",
        "colab_type": "text"
      },
      "source": [
        "<a href=\"https://colab.research.google.com/github/THE-R4U/AI_Innovation/blob/master/Day02_%E1%84%8C%E1%85%A1%E1%84%85%E1%85%AD%E1%84%92%E1%85%A7%E1%86%BC.ipynb\" target=\"_parent\"><img src=\"https://colab.research.google.com/assets/colab-badge.svg\" alt=\"Open In Colab\"/></a>"
      ]
    },
    {
      "cell_type": "markdown",
      "metadata": {
        "id": "pR53LvM1Dbq3",
        "colab_type": "text"
      },
      "source": [
        "# 2일차 - 자료형"
      ]
    },
    {
      "cell_type": "markdown",
      "metadata": {
        "id": "EoZdLhAxDbq4",
        "colab_type": "text"
      },
      "source": [
        "***Quiz 1.*** ('문자열' * 변수)를 이용하여 다음의 실행 결과가 나오도록 코드를 작성해 보세요"
      ]
    },
    {
      "cell_type": "code",
      "metadata": {
        "id": "DSwxLLBoDbq6",
        "colab_type": "code",
        "colab": {},
        "outputId": "1ce43af2-bdd1-4886-bcbe-06f2a487c67f"
      },
      "source": [
        "a = 10\n",
        "b = '콩'\n",
        "print(b * 10, '나무를', a, '번', '심었습니다')"
      ],
      "execution_count": 0,
      "outputs": [
        {
          "output_type": "stream",
          "text": [
            "콩콩콩콩콩콩콩콩콩콩 나무를 10 번 심었습니다\n"
          ],
          "name": "stdout"
        }
      ]
    },
    {
      "cell_type": "markdown",
      "metadata": {
        "id": "Htr65Xw4Dbq-",
        "colab_type": "text"
      },
      "source": [
        "***Quiz 2.*** 나이를 입력 받아 출력하는 코드를 작성해보세요."
      ]
    },
    {
      "cell_type": "code",
      "metadata": {
        "id": "8Z3y5pagDbq-",
        "colab_type": "code",
        "colab": {},
        "outputId": "bd4155ae-7d43-4383-e4b8-a8759a346d62"
      },
      "source": [
        "print('How old are you?')\n",
        "age = input()\n",
        "print('Your age is', age)"
      ],
      "execution_count": 0,
      "outputs": [
        {
          "output_type": "stream",
          "text": [
            "How old are you?\n"
          ],
          "name": "stdout"
        },
        {
          "output_type": "stream",
          "text": [
            " 50\n"
          ],
          "name": "stdin"
        },
        {
          "output_type": "stream",
          "text": [
            "Your age is 50\n"
          ],
          "name": "stdout"
        }
      ]
    },
    {
      "cell_type": "code",
      "metadata": {
        "id": "TdRpaFY3DbrB",
        "colab_type": "code",
        "colab": {},
        "outputId": "3586f5d8-1cd3-43bc-d12b-877767cdcc63"
      },
      "source": [
        "print('온도 변환 프로그램.')\n",
        "f = input('화씨 온도를 입력하세요:')\n",
        "c = 5.0/9.0 * (float(f) - 32.0)\n",
        "print('섭씨 온도는', c, '입니다.')\n",
        "print()"
      ],
      "execution_count": 0,
      "outputs": [
        {
          "output_type": "stream",
          "text": [
            "온도 변환 프로그램.\n"
          ],
          "name": "stdout"
        },
        {
          "output_type": "stream",
          "text": [
            "화씨 온도를 입력하세요: 50\n"
          ],
          "name": "stdin"
        },
        {
          "output_type": "stream",
          "text": [
            "섭씨 온도는 10.0 입니다.\n",
            "\n"
          ],
          "name": "stdout"
        }
      ]
    },
    {
      "cell_type": "code",
      "metadata": {
        "id": "uXHT17NnDbrE",
        "colab_type": "code",
        "colab": {},
        "outputId": "1e5d3f7b-26b3-450e-9f32-1df2b2d24ff4"
      },
      "source": [
        "c = input('섭씨 온도를 입력하세요:')\n",
        "f = 9.0/5.0 * float(c) + 32.0\n",
        "print('화씨 온도는', f, '입니다.')"
      ],
      "execution_count": 0,
      "outputs": [
        {
          "output_type": "stream",
          "text": [
            "섭씨 온도를 입력하세요: 50\n"
          ],
          "name": "stdin"
        },
        {
          "output_type": "stream",
          "text": [
            "화씨 온도는 122.0 입니다.\n"
          ],
          "name": "stdout"
        }
      ]
    },
    {
      "cell_type": "markdown",
      "metadata": {
        "id": "hvWYfdSXDbrH",
        "colab_type": "text"
      },
      "source": [
        "***Quiz 3.*** 체중과 신장을 입력 받아 BMI(신체질량지수)를 계산하여 출력하는 프로그램을 작성하시오"
      ]
    },
    {
      "cell_type": "code",
      "metadata": {
        "id": "BtyiPhD-DbrI",
        "colab_type": "code",
        "colab": {},
        "outputId": "35fc4ee2-0d48-4662-a27b-8dba0bb0e455"
      },
      "source": [
        "weight = input('체중을 입력하세요(kg):')\n",
        "height = input('신장을 입력하세요(cm):')\n",
        "print()\n",
        "BMI = float(weight) / (float(height)/100)**2\n",
        "print('BMI는 %.2f'%BMI, '입니다')"
      ],
      "execution_count": 0,
      "outputs": [
        {
          "output_type": "stream",
          "text": [
            "체중을 입력하세요(kg): 73\n",
            "신장을 입력하세요(cm): 175\n"
          ],
          "name": "stdin"
        },
        {
          "output_type": "stream",
          "text": [
            "\n",
            "BMI는 23.84 입니다\n"
          ],
          "name": "stdout"
        }
      ]
    },
    {
      "cell_type": "markdown",
      "metadata": {
        "id": "kadaxw7zDbrK",
        "colab_type": "text"
      },
      "source": [
        "### 2진수"
      ]
    },
    {
      "cell_type": "code",
      "metadata": {
        "id": "jCR6_mnBDbrL",
        "colab_type": "code",
        "colab": {},
        "outputId": "5bb317e6-aaa1-481f-bd6c-6320f7dc686e"
      },
      "source": [
        "# 출력결과는 항상 int형\n",
        "a = 0b010011\n",
        "a"
      ],
      "execution_count": 0,
      "outputs": [
        {
          "output_type": "execute_result",
          "data": {
            "text/plain": [
              "19"
            ]
          },
          "metadata": {
            "tags": []
          },
          "execution_count": 33
        }
      ]
    },
    {
      "cell_type": "code",
      "metadata": {
        "id": "cpIJTokvDbrO",
        "colab_type": "code",
        "colab": {},
        "outputId": "377d1a1b-ab2b-4d10-921f-e4e1e958cdf5"
      },
      "source": [
        "type(a)"
      ],
      "execution_count": 0,
      "outputs": [
        {
          "output_type": "execute_result",
          "data": {
            "text/plain": [
              "int"
            ]
          },
          "metadata": {
            "tags": []
          },
          "execution_count": 34
        }
      ]
    },
    {
      "cell_type": "code",
      "metadata": {
        "id": "UEJPWA34DbrR",
        "colab_type": "code",
        "colab": {},
        "outputId": "2c328bb8-c317-4a2e-c6ba-657c83616e1c"
      },
      "source": [
        "b = bin(19)\n",
        "b"
      ],
      "execution_count": 0,
      "outputs": [
        {
          "output_type": "execute_result",
          "data": {
            "text/plain": [
              "'0b10011'"
            ]
          },
          "metadata": {
            "tags": []
          },
          "execution_count": 35
        }
      ]
    },
    {
      "cell_type": "code",
      "metadata": {
        "id": "xqiHSE1_DbrU",
        "colab_type": "code",
        "colab": {},
        "outputId": "44a9b947-1386-46ea-a340-c0c43679c026"
      },
      "source": [
        "type(b)"
      ],
      "execution_count": 0,
      "outputs": [
        {
          "output_type": "execute_result",
          "data": {
            "text/plain": [
              "str"
            ]
          },
          "metadata": {
            "tags": []
          },
          "execution_count": 36
        }
      ]
    },
    {
      "cell_type": "markdown",
      "metadata": {
        "id": "snOwyF4SDbrW",
        "colab_type": "text"
      },
      "source": [
        "### 8진수"
      ]
    },
    {
      "cell_type": "code",
      "metadata": {
        "id": "V6iyuxS4DbrW",
        "colab_type": "code",
        "colab": {},
        "outputId": "9936e898-58e0-4ca0-aedc-1e3437bcfa39"
      },
      "source": [
        "# 출력결과는 항상 int형\n",
        "a = 0o724\n",
        "a"
      ],
      "execution_count": 0,
      "outputs": [
        {
          "output_type": "execute_result",
          "data": {
            "text/plain": [
              "468"
            ]
          },
          "metadata": {
            "tags": []
          },
          "execution_count": 37
        }
      ]
    },
    {
      "cell_type": "code",
      "metadata": {
        "id": "Y9IVE2HzDbrY",
        "colab_type": "code",
        "colab": {},
        "outputId": "70762e61-3431-45eb-d957-f8eac4b41a64"
      },
      "source": [
        "type(a)"
      ],
      "execution_count": 0,
      "outputs": [
        {
          "output_type": "execute_result",
          "data": {
            "text/plain": [
              "int"
            ]
          },
          "metadata": {
            "tags": []
          },
          "execution_count": 38
        }
      ]
    },
    {
      "cell_type": "code",
      "metadata": {
        "id": "b5RHbzkwDbra",
        "colab_type": "code",
        "colab": {},
        "outputId": "a4ee4066-9650-4726-d285-639cebf9bc22"
      },
      "source": [
        "b = oct(468)\n",
        "b"
      ],
      "execution_count": 0,
      "outputs": [
        {
          "output_type": "execute_result",
          "data": {
            "text/plain": [
              "'0o724'"
            ]
          },
          "metadata": {
            "tags": []
          },
          "execution_count": 39
        }
      ]
    },
    {
      "cell_type": "code",
      "metadata": {
        "id": "1EVPQLHwDbrc",
        "colab_type": "code",
        "colab": {},
        "outputId": "f3482a65-adf8-43a2-a7ca-b51a14616352"
      },
      "source": [
        "type(b)"
      ],
      "execution_count": 0,
      "outputs": [
        {
          "output_type": "execute_result",
          "data": {
            "text/plain": [
              "str"
            ]
          },
          "metadata": {
            "tags": []
          },
          "execution_count": 40
        }
      ]
    },
    {
      "cell_type": "markdown",
      "metadata": {
        "id": "oYKw_KcQDbrf",
        "colab_type": "text"
      },
      "source": [
        "### 16진수"
      ]
    },
    {
      "cell_type": "code",
      "metadata": {
        "id": "J5Lb5r2DDbrg",
        "colab_type": "code",
        "colab": {},
        "outputId": "3ac88bdc-56c6-458b-fc65-215fb9a6e1cc"
      },
      "source": [
        "# 출력결과는 항상 int형\n",
        "a = 0x19AF\n",
        "a"
      ],
      "execution_count": 0,
      "outputs": [
        {
          "output_type": "execute_result",
          "data": {
            "text/plain": [
              "6575"
            ]
          },
          "metadata": {
            "tags": []
          },
          "execution_count": 41
        }
      ]
    },
    {
      "cell_type": "code",
      "metadata": {
        "id": "mxU_utWlDbri",
        "colab_type": "code",
        "colab": {},
        "outputId": "8a6ef9a5-f76c-4a80-9011-dd7d7109afb6"
      },
      "source": [
        "type(a)"
      ],
      "execution_count": 0,
      "outputs": [
        {
          "output_type": "execute_result",
          "data": {
            "text/plain": [
              "int"
            ]
          },
          "metadata": {
            "tags": []
          },
          "execution_count": 42
        }
      ]
    },
    {
      "cell_type": "code",
      "metadata": {
        "id": "8VDnkWGEDbrl",
        "colab_type": "code",
        "colab": {},
        "outputId": "056d50d1-ce5c-43d4-a564-abe03f996eeb"
      },
      "source": [
        "b = hex(6575)\n",
        "b"
      ],
      "execution_count": 0,
      "outputs": [
        {
          "output_type": "execute_result",
          "data": {
            "text/plain": [
              "'0x19af'"
            ]
          },
          "metadata": {
            "tags": []
          },
          "execution_count": 43
        }
      ]
    },
    {
      "cell_type": "code",
      "metadata": {
        "id": "Bmi9r1MHDbrn",
        "colab_type": "code",
        "colab": {},
        "outputId": "0377f566-7b23-4455-ada5-36f252b372e7"
      },
      "source": [
        "type(b)"
      ],
      "execution_count": 0,
      "outputs": [
        {
          "output_type": "execute_result",
          "data": {
            "text/plain": [
              "str"
            ]
          },
          "metadata": {
            "tags": []
          },
          "execution_count": 44
        }
      ]
    },
    {
      "cell_type": "markdown",
      "metadata": {
        "id": "Z7NZEmF0Dbrp",
        "colab_type": "text"
      },
      "source": [
        "### 논리형"
      ]
    },
    {
      "cell_type": "code",
      "metadata": {
        "id": "-vIPry_CDbrq",
        "colab_type": "code",
        "colab": {},
        "outputId": "7b1f3f48-068f-4f73-8284-5bc38e350001"
      },
      "source": [
        "a = True\n",
        "a"
      ],
      "execution_count": 0,
      "outputs": [
        {
          "output_type": "execute_result",
          "data": {
            "text/plain": [
              "True"
            ]
          },
          "metadata": {
            "tags": []
          },
          "execution_count": 45
        }
      ]
    },
    {
      "cell_type": "code",
      "metadata": {
        "id": "seXgs7JNDbrt",
        "colab_type": "code",
        "colab": {},
        "outputId": "446cda2b-eda4-4741-a173-a28b18917ee4"
      },
      "source": [
        "type(a)"
      ],
      "execution_count": 0,
      "outputs": [
        {
          "output_type": "execute_result",
          "data": {
            "text/plain": [
              "bool"
            ]
          },
          "metadata": {
            "tags": []
          },
          "execution_count": 48
        }
      ]
    },
    {
      "cell_type": "code",
      "metadata": {
        "id": "7Mci4uwxDbrw",
        "colab_type": "code",
        "colab": {},
        "outputId": "82269d65-98af-4093-8095-091509add290"
      },
      "source": [
        "b = False\n",
        "b"
      ],
      "execution_count": 0,
      "outputs": [
        {
          "output_type": "execute_result",
          "data": {
            "text/plain": [
              "False"
            ]
          },
          "metadata": {
            "tags": []
          },
          "execution_count": 49
        }
      ]
    },
    {
      "cell_type": "code",
      "metadata": {
        "id": "NPs2ZgO_Dbry",
        "colab_type": "code",
        "colab": {},
        "outputId": "2cffbdd9-eb34-4ed0-b929-2b1fb883c335"
      },
      "source": [
        "type(b)"
      ],
      "execution_count": 0,
      "outputs": [
        {
          "output_type": "execute_result",
          "data": {
            "text/plain": [
              "bool"
            ]
          },
          "metadata": {
            "tags": []
          },
          "execution_count": 51
        }
      ]
    },
    {
      "cell_type": "code",
      "metadata": {
        "id": "xtJHiZ7zDbr0",
        "colab_type": "code",
        "colab": {},
        "outputId": "4174304a-81df-4949-bc5e-177995e6973e"
      },
      "source": [
        "a = bool(True)\n",
        "a"
      ],
      "execution_count": 0,
      "outputs": [
        {
          "output_type": "execute_result",
          "data": {
            "text/plain": [
              "True"
            ]
          },
          "metadata": {
            "tags": []
          },
          "execution_count": 52
        }
      ]
    },
    {
      "cell_type": "code",
      "metadata": {
        "id": "hTfhP2BmDbr2",
        "colab_type": "code",
        "colab": {},
        "outputId": "f7b5ddb0-af7b-4517-9b94-5496ee1bc272"
      },
      "source": [
        "type(a)"
      ],
      "execution_count": 0,
      "outputs": [
        {
          "output_type": "execute_result",
          "data": {
            "text/plain": [
              "bool"
            ]
          },
          "metadata": {
            "tags": []
          },
          "execution_count": 53
        }
      ]
    },
    {
      "cell_type": "code",
      "metadata": {
        "id": "SmDgqA7RDbr4",
        "colab_type": "code",
        "colab": {},
        "outputId": "83ea848b-7fa8-4fbd-9973-e1a72b744570"
      },
      "source": [
        "b = bool(False)\n",
        "b"
      ],
      "execution_count": 0,
      "outputs": [
        {
          "output_type": "execute_result",
          "data": {
            "text/plain": [
              "False"
            ]
          },
          "metadata": {
            "tags": []
          },
          "execution_count": 54
        }
      ]
    },
    {
      "cell_type": "code",
      "metadata": {
        "id": "rHHefWbsDbr6",
        "colab_type": "code",
        "colab": {},
        "outputId": "98777561-a135-4a4b-c7b5-6e8a032f52c7"
      },
      "source": [
        "type(b)"
      ],
      "execution_count": 0,
      "outputs": [
        {
          "output_type": "execute_result",
          "data": {
            "text/plain": [
              "bool"
            ]
          },
          "metadata": {
            "tags": []
          },
          "execution_count": 55
        }
      ]
    },
    {
      "cell_type": "code",
      "metadata": {
        "id": "pseJZ-y0Dbr8",
        "colab_type": "code",
        "colab": {},
        "outputId": "4e4394ff-b64f-49c0-f901-585faca8cf87"
      },
      "source": [
        "a + 1"
      ],
      "execution_count": 0,
      "outputs": [
        {
          "output_type": "execute_result",
          "data": {
            "text/plain": [
              "2"
            ]
          },
          "metadata": {
            "tags": []
          },
          "execution_count": 56
        }
      ]
    },
    {
      "cell_type": "code",
      "metadata": {
        "id": "fnlYSFV9Dbr-",
        "colab_type": "code",
        "colab": {},
        "outputId": "ede139ba-d2f8-48b7-df8f-78c945e9de6d"
      },
      "source": [
        "b + 1"
      ],
      "execution_count": 0,
      "outputs": [
        {
          "output_type": "execute_result",
          "data": {
            "text/plain": [
              "1"
            ]
          },
          "metadata": {
            "tags": []
          },
          "execution_count": 57
        }
      ]
    },
    {
      "cell_type": "code",
      "metadata": {
        "id": "1i7HR1HxDbsA",
        "colab_type": "code",
        "colab": {},
        "outputId": "8dbdd66a-59b0-40d4-b0d5-3c20f08e9bfa"
      },
      "source": [
        "a == 1"
      ],
      "execution_count": 0,
      "outputs": [
        {
          "output_type": "execute_result",
          "data": {
            "text/plain": [
              "True"
            ]
          },
          "metadata": {
            "tags": []
          },
          "execution_count": 58
        }
      ]
    },
    {
      "cell_type": "code",
      "metadata": {
        "id": "09TZNHLjDbsC",
        "colab_type": "code",
        "colab": {},
        "outputId": "a9fba4d6-f988-462a-9c53-590f418a0861"
      },
      "source": [
        "b == 0"
      ],
      "execution_count": 0,
      "outputs": [
        {
          "output_type": "execute_result",
          "data": {
            "text/plain": [
              "True"
            ]
          },
          "metadata": {
            "tags": []
          },
          "execution_count": 59
        }
      ]
    },
    {
      "cell_type": "markdown",
      "metadata": {
        "id": "qBvrFBDhDbsE",
        "colab_type": "text"
      },
      "source": [
        "### String"
      ]
    },
    {
      "cell_type": "markdown",
      "metadata": {
        "id": "rVZZeNN3DbsE",
        "colab_type": "text"
      },
      "source": [
        "- **str**\n",
        "    - 글자, 글자가 모여서 만드는 단어, 문장, 여러 줄의 단락이나 글 전체\n",
        "    \n",
        "- **literal**\n",
        "    - 문자열은 홑따옴표, 쌍따옴표, doc스트링(''' ''')으로 표현\n",
        "    - 큰 따옴표와 작은 따옴표는 구분하지 않지만 양쪽 따옴표가 맞아야 함\n",
        "        - \"apple, 'apple'"
      ]
    },
    {
      "cell_type": "markdown",
      "metadata": {
        "id": "dH_d6TDzDbsF",
        "colab_type": "text"
      },
      "source": [
        "- 따옴표 세 개를 연이어서 쓴 경우는 문자열 내에서 줄바꿈이 허용.\n",
        "    흔히 함수나 모듈의 간단한 문서화 텍스르트르 표현할 때 쓰임"
      ]
    },
    {
      "cell_type": "code",
      "metadata": {
        "id": "whFvPfLvDbsF",
        "colab_type": "code",
        "colab": {},
        "outputId": "09c7f291-8495-4591-aa3d-812ed8c270b1"
      },
      "source": [
        "print(\"\"\"He said \"I didn't to go to 'SCHOOL' yesterday\".\"\"\")"
      ],
      "execution_count": 0,
      "outputs": [
        {
          "output_type": "stream",
          "text": [
            "He said \"I didn't to go to 'SCHOOL' yesterday\".\n"
          ],
          "name": "stdout"
        }
      ]
    },
    {
      "cell_type": "code",
      "metadata": {
        "id": "Hut_5pAnDbsH",
        "colab_type": "code",
        "colab": {},
        "outputId": "2795e69a-98a8-41c4-cf7e-54da1a4b46a5"
      },
      "source": [
        "print(\"I didn't go to 'school' yesterday\")"
      ],
      "execution_count": 0,
      "outputs": [
        {
          "output_type": "stream",
          "text": [
            "I didn't go to 'school' yesterday\n"
          ],
          "name": "stdout"
        }
      ]
    },
    {
      "cell_type": "code",
      "metadata": {
        "id": "YdSNVB_jDbsJ",
        "colab_type": "code",
        "colab": {},
        "outputId": "10ccefb5-3fd7-4126-f46b-3ffef18a4792"
      },
      "source": [
        "print('I didn\"t go to \"school\" yesterday')"
      ],
      "execution_count": 0,
      "outputs": [
        {
          "output_type": "stream",
          "text": [
            "I didn\"t go to \"school\" yesterday\n"
          ],
          "name": "stdout"
        }
      ]
    },
    {
      "cell_type": "code",
      "metadata": {
        "id": "CX-jV0fHDbsL",
        "colab_type": "code",
        "colab": {},
        "outputId": "3cce576e-e952-482a-d461-1b5572ae3954"
      },
      "source": [
        "d = \"hello\\nworld!\"\n",
        "d"
      ],
      "execution_count": 0,
      "outputs": [
        {
          "output_type": "execute_result",
          "data": {
            "text/plain": [
              "'hello\\nworld!'"
            ]
          },
          "metadata": {
            "tags": []
          },
          "execution_count": 67
        }
      ]
    },
    {
      "cell_type": "code",
      "metadata": {
        "id": "NWw9rDY0DbsO",
        "colab_type": "code",
        "colab": {},
        "outputId": "c540900a-99b8-42da-889e-490d4d6c864a"
      },
      "source": [
        "# print()로 출력해야 제대로 보인다\n",
        "print(d)"
      ],
      "execution_count": 0,
      "outputs": [
        {
          "output_type": "stream",
          "text": [
            "hello\n",
            "world!\n"
          ],
          "name": "stdout"
        }
      ]
    },
    {
      "cell_type": "code",
      "metadata": {
        "id": "VKaPFL5pDbsQ",
        "colab_type": "code",
        "colab": {},
        "outputId": "f3989da4-719d-4574-ee96-efaa44100e62"
      },
      "source": [
        "# raw 데이터 그대로 \\를 출력하고자 할때는 앞에 r을 붙인다\n",
        "e = r\"hello\\nworld!\"\n",
        "e"
      ],
      "execution_count": 0,
      "outputs": [
        {
          "output_type": "execute_result",
          "data": {
            "text/plain": [
              "'hello\\\\nworld!'"
            ]
          },
          "metadata": {
            "tags": []
          },
          "execution_count": 74
        }
      ]
    },
    {
      "cell_type": "code",
      "metadata": {
        "id": "2h2-wMOIDbsU",
        "colab_type": "code",
        "colab": {},
        "outputId": "5189dc19-0692-4888-bb88-dba41a425693"
      },
      "source": [
        "print(e)"
      ],
      "execution_count": 0,
      "outputs": [
        {
          "output_type": "stream",
          "text": [
            "hello\\nworld!\n"
          ],
          "name": "stdout"
        }
      ]
    },
    {
      "cell_type": "markdown",
      "metadata": {
        "id": "sPEwWc4dDbsX",
        "colab_type": "text"
      },
      "source": [
        "- 앞에 f를 붙여 사용하면 파이썬 코드의 실행경과를 문자열로 대입할 수 있음"
      ]
    },
    {
      "cell_type": "code",
      "metadata": {
        "id": "CRLyoMSpDbsX",
        "colab_type": "code",
        "colab": {}
      },
      "source": [
        "b={1==2}"
      ],
      "execution_count": 0,
      "outputs": []
    },
    {
      "cell_type": "code",
      "metadata": {
        "id": "fbc0NZraDbsY",
        "colab_type": "code",
        "colab": {},
        "outputId": "f47946de-4761-488e-a574-421d62702de3"
      },
      "source": [
        "b"
      ],
      "execution_count": 0,
      "outputs": [
        {
          "output_type": "execute_result",
          "data": {
            "text/plain": [
              "{False}"
            ]
          },
          "metadata": {
            "tags": []
          },
          "execution_count": 79
        }
      ]
    },
    {
      "cell_type": "code",
      "metadata": {
        "id": "GyfF2STnDbsb",
        "colab_type": "code",
        "colab": {},
        "outputId": "5c6e4343-2927-4a22-811f-e74c2b10786b"
      },
      "source": [
        "type(b)"
      ],
      "execution_count": 0,
      "outputs": [
        {
          "output_type": "execute_result",
          "data": {
            "text/plain": [
              "set"
            ]
          },
          "metadata": {
            "tags": []
          },
          "execution_count": 80
        }
      ]
    },
    {
      "cell_type": "code",
      "metadata": {
        "id": "rKk37oYgDbse",
        "colab_type": "code",
        "colab": {}
      },
      "source": [
        "b=1==2"
      ],
      "execution_count": 0,
      "outputs": []
    },
    {
      "cell_type": "code",
      "metadata": {
        "id": "Dm7Yk-xYDbsf",
        "colab_type": "code",
        "colab": {},
        "outputId": "54910fbc-2884-4cd6-8442-0422b2516f27"
      },
      "source": [
        "b"
      ],
      "execution_count": 0,
      "outputs": [
        {
          "output_type": "execute_result",
          "data": {
            "text/plain": [
              "False"
            ]
          },
          "metadata": {
            "tags": []
          },
          "execution_count": 82
        }
      ]
    },
    {
      "cell_type": "code",
      "metadata": {
        "id": "Nz4oGXdpDbsi",
        "colab_type": "code",
        "colab": {},
        "outputId": "0dc370ef-24e4-4309-8950-8e166e71f9f9"
      },
      "source": [
        "type(b)"
      ],
      "execution_count": 0,
      "outputs": [
        {
          "output_type": "execute_result",
          "data": {
            "text/plain": [
              "bool"
            ]
          },
          "metadata": {
            "tags": []
          },
          "execution_count": 83
        }
      ]
    },
    {
      "cell_type": "code",
      "metadata": {
        "id": "TsAm8WGtDbsk",
        "colab_type": "code",
        "colab": {}
      },
      "source": [
        "b=f'{1==2}'"
      ],
      "execution_count": 0,
      "outputs": []
    },
    {
      "cell_type": "code",
      "metadata": {
        "id": "yeDaXhMXDbsl",
        "colab_type": "code",
        "colab": {},
        "outputId": "5289c207-2a39-42e3-d02e-2df6c6b6cb94"
      },
      "source": [
        "b"
      ],
      "execution_count": 0,
      "outputs": [
        {
          "output_type": "execute_result",
          "data": {
            "text/plain": [
              "'False'"
            ]
          },
          "metadata": {
            "tags": []
          },
          "execution_count": 85
        }
      ]
    },
    {
      "cell_type": "code",
      "metadata": {
        "id": "2s-z_9nvDbsn",
        "colab_type": "code",
        "colab": {},
        "outputId": "5dc89e8e-ea6c-4288-b958-9d100ba7a01a"
      },
      "source": [
        "type(b)"
      ],
      "execution_count": 0,
      "outputs": [
        {
          "output_type": "execute_result",
          "data": {
            "text/plain": [
              "str"
            ]
          },
          "metadata": {
            "tags": []
          },
          "execution_count": 86
        }
      ]
    },
    {
      "cell_type": "markdown",
      "metadata": {
        "id": "iWNykv_bDbsp",
        "colab_type": "text"
      },
      "source": [
        "### Escape Sequence\n",
        "\\newline : Ignore trailing newline\n",
        "\\\\ : Back Slash"
      ]
    },
    {
      "cell_type": "code",
      "metadata": {
        "id": "GUqVWSPLDbsp",
        "colab_type": "code",
        "colab": {},
        "outputId": "bfac2d63-4621-43bc-af45-9336161e5a8e"
      },
      "source": [
        "print('Single-quoted string')"
      ],
      "execution_count": 0,
      "outputs": [
        {
          "output_type": "stream",
          "text": [
            "Single-quoted string\n"
          ],
          "name": "stdout"
        }
      ]
    },
    {
      "cell_type": "code",
      "metadata": {
        "id": "c05as0f6Dbsr",
        "colab_type": "code",
        "colab": {},
        "outputId": "ef59ce53-25bc-46cc-fa6d-2d9045f735c8"
      },
      "source": [
        "print('Unbroken\\\n",
        "string')"
      ],
      "execution_count": 0,
      "outputs": [
        {
          "output_type": "stream",
          "text": [
            "Unbrokenstring\n"
          ],
          "name": "stdout"
        }
      ]
    },
    {
      "cell_type": "code",
      "metadata": {
        "id": "VvIBOnewDbst",
        "colab_type": "code",
        "colab": {},
        "outputId": "ce28eea2-f6a5-48b5-fb13-e77f34f8423d"
      },
      "source": [
        "print(r\"\\n is an escape code\")"
      ],
      "execution_count": 0,
      "outputs": [
        {
          "output_type": "stream",
          "text": [
            "\\n is an escape code\n"
          ],
          "name": "stdout"
        }
      ]
    },
    {
      "cell_type": "code",
      "metadata": {
        "id": "XL_sq1ixDbsu",
        "colab_type": "code",
        "colab": {},
        "outputId": "ab5498be-5831-4b77-cb07-92f92af6fd44"
      },
      "source": [
        "print(\"\"\"String with\n",
        "newline\"\"\")"
      ],
      "execution_count": 0,
      "outputs": [
        {
          "output_type": "stream",
          "text": [
            "String with\n",
            "newline\n"
          ],
          "name": "stdout"
        }
      ]
    },
    {
      "cell_type": "markdown",
      "metadata": {
        "id": "zN-8a4W9Dbsw",
        "colab_type": "text"
      },
      "source": [
        "#### ASCII 코드값을 출력하려면,\n",
        "- ord(character)"
      ]
    },
    {
      "cell_type": "code",
      "metadata": {
        "id": "Mhglfds_Dbsw",
        "colab_type": "code",
        "colab": {},
        "outputId": "70b768e1-9503-4add-dd57-c40ce2d301df"
      },
      "source": [
        "ord('a')"
      ],
      "execution_count": 0,
      "outputs": [
        {
          "output_type": "execute_result",
          "data": {
            "text/plain": [
              "97"
            ]
          },
          "metadata": {
            "tags": []
          },
          "execution_count": 97
        }
      ]
    },
    {
      "cell_type": "markdown",
      "metadata": {
        "id": "cqXCzvC-Dbsy",
        "colab_type": "text"
      },
      "source": [
        "#### 문자열의 길이를 출력하려면,\n",
        "- len(string)"
      ]
    },
    {
      "cell_type": "code",
      "metadata": {
        "id": "1X0PNrXyDbsy",
        "colab_type": "code",
        "colab": {},
        "outputId": "44544f20-1ad9-421b-ae8c-924daa3ad02a"
      },
      "source": [
        "len('hello')"
      ],
      "execution_count": 0,
      "outputs": [
        {
          "output_type": "execute_result",
          "data": {
            "text/plain": [
              "5"
            ]
          },
          "metadata": {
            "tags": []
          },
          "execution_count": 96
        }
      ]
    },
    {
      "cell_type": "markdown",
      "metadata": {
        "id": "w7wWXS6pDbs0",
        "colab_type": "text"
      },
      "source": [
        "#### 코드값을 가지고 해당 기호를 알아내려면\n",
        "- chr(codepoint)"
      ]
    },
    {
      "cell_type": "code",
      "metadata": {
        "id": "Jz4BzHSaDbs0",
        "colab_type": "code",
        "colab": {},
        "outputId": "daafb1a6-e09a-4c2c-abb1-f98ca2b428ce"
      },
      "source": [
        "chr(10)"
      ],
      "execution_count": 0,
      "outputs": [
        {
          "output_type": "execute_result",
          "data": {
            "text/plain": [
              "'\\n'"
            ]
          },
          "metadata": {
            "tags": []
          },
          "execution_count": 98
        }
      ]
    },
    {
      "cell_type": "code",
      "metadata": {
        "id": "SexWdzX1Dbs2",
        "colab_type": "code",
        "colab": {},
        "outputId": "0d686a19-9578-4ef0-c62c-a766c9bce907"
      },
      "source": [
        "chr(123)"
      ],
      "execution_count": 0,
      "outputs": [
        {
          "output_type": "execute_result",
          "data": {
            "text/plain": [
              "'{'"
            ]
          },
          "metadata": {
            "tags": []
          },
          "execution_count": 99
        }
      ]
    },
    {
      "cell_type": "markdown",
      "metadata": {
        "id": "BVfcu7cKDbs4",
        "colab_type": "text"
      },
      "source": [
        "#### 문자타입으로 변환하려면,\n",
        "- str(숫자)"
      ]
    },
    {
      "cell_type": "code",
      "metadata": {
        "id": "Hk1h--gCDbs4",
        "colab_type": "code",
        "colab": {},
        "outputId": "8245a6a1-4977-4dae-df49-4a47f952d994"
      },
      "source": [
        "str(100)"
      ],
      "execution_count": 0,
      "outputs": [
        {
          "output_type": "execute_result",
          "data": {
            "text/plain": [
              "'100'"
            ]
          },
          "metadata": {
            "tags": []
          },
          "execution_count": 100
        }
      ]
    },
    {
      "cell_type": "markdown",
      "metadata": {
        "id": "hzkpZffjDbs7",
        "colab_type": "text"
      },
      "source": [
        "### 연산\n",
        "- 산술연산 \n",
        "    - 계산기\n",
        "- 비교연산\n",
        "    - 등등 및 대소 비교\n",
        "    - 비교 연산은 숫자값 뿐만 아니라 문자열 등에 적용할 수 있음\n",
        "- 비트연산\n",
        "- 멤버심연산\n",
        "- 논리형연산"
      ]
    },
    {
      "cell_type": "markdown",
      "metadata": {
        "id": "lOXZiZuODbs8",
        "colab_type": "text"
      },
      "source": [
        "#### 연산자 우선 순위"
      ]
    },
    {
      "cell_type": "markdown",
      "metadata": {
        "id": "duQ2HmPiDbs8",
        "colab_type": "text"
      },
      "source": [
        "### 구문(Statement) = 문\n",
        "- 예약어와 표현식을 결합한 패턴\n",
        "- 컴퓨터가 수행해야 하는 하나의 단일 작업을 명시\n",
        "    - 할당(대입)\n",
        "    - 선언(정의)"
      ]
    },
    {
      "cell_type": "markdown",
      "metadata": {
        "id": "gy3GEpG0Dbs9",
        "colab_type": "text"
      },
      "source": [
        "### 조건문\n",
        "#### 조건문 형식 1\n",
        "- if 비교식: 실행문장\n",
        "- ex) if score >= 60: print('합격입니다')     "
      ]
    },
    {
      "cell_type": "code",
      "metadata": {
        "id": "6ZVpgRshDbs-",
        "colab_type": "code",
        "colab": {},
        "outputId": "fad136aa-9613-4734-88c4-4d84e3095c0b"
      },
      "source": [
        "score = 80\n",
        "if score >= 60:\n",
        "    print('합격입니다')"
      ],
      "execution_count": 0,
      "outputs": [
        {
          "output_type": "stream",
          "text": [
            "합격입니다\n"
          ],
          "name": "stdout"
        }
      ]
    },
    {
      "cell_type": "markdown",
      "metadata": {
        "id": "-C0ZYBgnDbtD",
        "colab_type": "text"
      },
      "source": [
        "#### 조건문 형식 2\n",
        "- if 비교식:\n",
        "    - 실행문장\n",
        "- else:\n",
        "    - 실행문장"
      ]
    },
    {
      "cell_type": "code",
      "metadata": {
        "id": "5ZlpovnJDbtD",
        "colab_type": "code",
        "colab": {},
        "outputId": "6b89010d-8dbe-4394-a174-714ae759d503"
      },
      "source": [
        "score = 45.5\n",
        "if score >= 60:\n",
        "    print('합격입니다')\n",
        "else:\n",
        "    print('불합격입니다')"
      ],
      "execution_count": 0,
      "outputs": [
        {
          "output_type": "stream",
          "text": [
            "불합격입니다\n"
          ],
          "name": "stdout"
        }
      ]
    },
    {
      "cell_type": "markdown",
      "metadata": {
        "id": "6jAgOOrGDbtF",
        "colab_type": "text"
      },
      "source": [
        "#### 조건문 형식 3\n",
        "- if / elif / else"
      ]
    },
    {
      "cell_type": "code",
      "metadata": {
        "id": "I9O1xa1dDbtF",
        "colab_type": "code",
        "colab": {},
        "outputId": "5ee8d6bd-c31d-462f-eb64-1f18813a0519"
      },
      "source": [
        "score = 95\n",
        "if score >= 90:\n",
        "    print('A 입니다.')\n",
        "elif score >= 80:\n",
        "    print('B 입니다.')\n",
        "elif score >= 70:\n",
        "    print('C 입니다.')\n",
        "elif score >= 60:\n",
        "    print('D 입니다.')\n",
        "else:\n",
        "    print('F 입니다.')"
      ],
      "execution_count": 0,
      "outputs": [
        {
          "output_type": "stream",
          "text": [
            "A 입니다.\n"
          ],
          "name": "stdout"
        }
      ]
    },
    {
      "cell_type": "code",
      "metadata": {
        "id": "M_hzQMKkDbtG",
        "colab_type": "code",
        "colab": {},
        "outputId": "3ccfebfa-b591-45ad-8a38-8c652a033cd7"
      },
      "source": [
        "score = 92\n",
        "if score > 90:\n",
        "    print('합격입니다.')\n",
        "    print('A 등급입니다')\n",
        "   print('본 과정을 수료하셨습니다.')\n",
        "     print('효도하시는군요!')"
      ],
      "execution_count": 0,
      "outputs": [
        {
          "output_type": "error",
          "ename": "IndentationError",
          "evalue": "unindent does not match any outer indentation level (<tokenize>, line 5)",
          "traceback": [
            "\u001b[0;36m  File \u001b[0;32m\"<tokenize>\"\u001b[0;36m, line \u001b[0;32m5\u001b[0m\n\u001b[0;31m    print('본 과정을 수료하셨습니다.')\u001b[0m\n\u001b[0m    ^\u001b[0m\n\u001b[0;31mIndentationError\u001b[0m\u001b[0;31m:\u001b[0m unindent does not match any outer indentation level\n"
          ]
        }
      ]
    },
    {
      "cell_type": "code",
      "metadata": {
        "id": "1jpo1cXbDbtI",
        "colab_type": "code",
        "colab": {},
        "outputId": "9ce14ddb-1588-4e86-ad10-9bcf59c3d427"
      },
      "source": [
        "area = '서울'\n",
        "gu = '논현동'\n",
        "\n",
        "if area == '서울':\n",
        "    if gu == '성동구':\n",
        "        print(area, gu, '명품교육의 도시')\n",
        "    elif gu == '노원구':\n",
        "        print(area, gu, '힐링의 도시')\n",
        "    else:\n",
        "        print(area, gu, '부유한 도시')"
      ],
      "execution_count": 0,
      "outputs": [
        {
          "output_type": "stream",
          "text": [
            "서울 논현동 부유한 도시\n"
          ],
          "name": "stdout"
        }
      ]
    },
    {
      "cell_type": "code",
      "metadata": {
        "id": "5awzx4DqDbtK",
        "colab_type": "code",
        "colab": {},
        "outputId": "6df7e722-7f3b-4a67-8f5f-be573647f77e"
      },
      "source": [
        "import random\n",
        "\n",
        "guess = int(input('숫자를 넣어주세요(1-20): '))\n",
        "number = random.randint(1, 20)\n",
        "print(number)\n",
        "\n",
        "if guess < number:\n",
        "    print('값이 너무 적어')\n",
        "elif guess > number:\n",
        "    print('값이 너무 커')  \n",
        "else:\n",
        "    print('빙고!')"
      ],
      "execution_count": 0,
      "outputs": [
        {
          "output_type": "stream",
          "text": [
            "숫자를 넣어주세요(1-20):  16\n"
          ],
          "name": "stdin"
        },
        {
          "output_type": "stream",
          "text": [
            "1\n",
            "값이 너무 커\n"
          ],
          "name": "stdout"
        }
      ]
    },
    {
      "cell_type": "markdown",
      "metadata": {
        "id": "4fyQIwL8DbtL",
        "colab_type": "text"
      },
      "source": [
        "- 문자열 값은 ASCII 값으로 비교한다"
      ]
    },
    {
      "cell_type": "code",
      "metadata": {
        "id": "ImXdV6rcDbtM",
        "colab_type": "code",
        "colab": {},
        "outputId": "3e454a30-2ca6-4a35-a78a-71d09d69e381"
      },
      "source": [
        "'ABC' > 'abc'"
      ],
      "execution_count": 0,
      "outputs": [
        {
          "output_type": "execute_result",
          "data": {
            "text/plain": [
              "False"
            ]
          },
          "metadata": {
            "tags": []
          },
          "execution_count": 128
        }
      ]
    },
    {
      "cell_type": "code",
      "metadata": {
        "id": "2KS0pQwdDbtN",
        "colab_type": "code",
        "colab": {},
        "outputId": "9aaa4599-1c7c-4fdf-845c-66a13f215473"
      },
      "source": [
        "'z1AB' > 'a38c'"
      ],
      "execution_count": 0,
      "outputs": [
        {
          "output_type": "execute_result",
          "data": {
            "text/plain": [
              "True"
            ]
          },
          "metadata": {
            "tags": []
          },
          "execution_count": 129
        }
      ]
    },
    {
      "cell_type": "code",
      "metadata": {
        "id": "cP5sutJaDbtQ",
        "colab_type": "code",
        "colab": {},
        "outputId": "c5e4e52b-7930-42d0-b6c7-99c59b72122f"
      },
      "source": [
        "'z' > 'A'"
      ],
      "execution_count": 0,
      "outputs": [
        {
          "output_type": "execute_result",
          "data": {
            "text/plain": [
              "True"
            ]
          },
          "metadata": {
            "tags": []
          },
          "execution_count": 130
        }
      ]
    },
    {
      "cell_type": "code",
      "metadata": {
        "id": "2kALHXMUDbtS",
        "colab_type": "code",
        "colab": {},
        "outputId": "b8412512-6797-4424-8c7f-b0686d20d086"
      },
      "source": [
        "'123' > '96'"
      ],
      "execution_count": 0,
      "outputs": [
        {
          "output_type": "execute_result",
          "data": {
            "text/plain": [
              "False"
            ]
          },
          "metadata": {
            "tags": []
          },
          "execution_count": 131
        }
      ]
    },
    {
      "cell_type": "markdown",
      "metadata": {
        "id": "svCSvx8zDbtW",
        "colab_type": "text"
      },
      "source": [
        "### 비교 연산자"
      ]
    },
    {
      "cell_type": "code",
      "metadata": {
        "id": "1i3L_NVhDbtW",
        "colab_type": "code",
        "colab": {},
        "outputId": "da75a90b-0216-4d6b-b848-6eb7d6f6318b"
      },
      "source": [
        "11 >= 10"
      ],
      "execution_count": 0,
      "outputs": [
        {
          "output_type": "execute_result",
          "data": {
            "text/plain": [
              "True"
            ]
          },
          "metadata": {
            "tags": []
          },
          "execution_count": 133
        }
      ]
    },
    {
      "cell_type": "code",
      "metadata": {
        "id": "yDEw4NwQDbtY",
        "colab_type": "code",
        "colab": {},
        "outputId": "42f37168-7e12-47c7-df1d-de119b49d85c"
      },
      "source": [
        "11 => 10"
      ],
      "execution_count": 0,
      "outputs": [
        {
          "output_type": "error",
          "ename": "SyntaxError",
          "evalue": "invalid syntax (<ipython-input-134-12ffd34dc8d2>, line 1)",
          "traceback": [
            "\u001b[0;36m  File \u001b[0;32m\"<ipython-input-134-12ffd34dc8d2>\"\u001b[0;36m, line \u001b[0;32m1\u001b[0m\n\u001b[0;31m    11 => 10\u001b[0m\n\u001b[0m        ^\u001b[0m\n\u001b[0;31mSyntaxError\u001b[0m\u001b[0;31m:\u001b[0m invalid syntax\n"
          ]
        }
      ]
    },
    {
      "cell_type": "code",
      "metadata": {
        "id": "dRrPKIXbDbtZ",
        "colab_type": "code",
        "colab": {},
        "outputId": "4426b500-f476-4c18-b69f-000ea75451b8"
      },
      "source": [
        "10 <= 11"
      ],
      "execution_count": 0,
      "outputs": [
        {
          "output_type": "execute_result",
          "data": {
            "text/plain": [
              "True"
            ]
          },
          "metadata": {
            "tags": []
          },
          "execution_count": 135
        }
      ]
    },
    {
      "cell_type": "code",
      "metadata": {
        "id": "mBN_VMy7Dbtb",
        "colab_type": "code",
        "colab": {},
        "outputId": "211ac50f-fb35-4999-9f2c-ed8898be56d6"
      },
      "source": [
        "10 =< 11"
      ],
      "execution_count": 0,
      "outputs": [
        {
          "output_type": "error",
          "ename": "SyntaxError",
          "evalue": "invalid syntax (<ipython-input-136-24ffa3358ac7>, line 1)",
          "traceback": [
            "\u001b[0;36m  File \u001b[0;32m\"<ipython-input-136-24ffa3358ac7>\"\u001b[0;36m, line \u001b[0;32m1\u001b[0m\n\u001b[0;31m    10 =< 11\u001b[0m\n\u001b[0m        ^\u001b[0m\n\u001b[0;31mSyntaxError\u001b[0m\u001b[0;31m:\u001b[0m invalid syntax\n"
          ]
        }
      ]
    },
    {
      "cell_type": "code",
      "metadata": {
        "id": "kz7J-uSDDbtc",
        "colab_type": "code",
        "colab": {},
        "outputId": "bc301875-f5aa-4e0e-d3dc-70cb3e942540"
      },
      "source": [
        "11 == 11"
      ],
      "execution_count": 0,
      "outputs": [
        {
          "output_type": "execute_result",
          "data": {
            "text/plain": [
              "True"
            ]
          },
          "metadata": {
            "tags": []
          },
          "execution_count": 137
        }
      ]
    },
    {
      "cell_type": "code",
      "metadata": {
        "id": "D25GEB4JDbte",
        "colab_type": "code",
        "colab": {},
        "outputId": "c4d93626-28a9-446c-a519-4190629e8c65"
      },
      "source": [
        "11 = 11"
      ],
      "execution_count": 0,
      "outputs": [
        {
          "output_type": "error",
          "ename": "SyntaxError",
          "evalue": "can't assign to literal (<ipython-input-138-8a8c6c394b1c>, line 1)",
          "traceback": [
            "\u001b[0;36m  File \u001b[0;32m\"<ipython-input-138-8a8c6c394b1c>\"\u001b[0;36m, line \u001b[0;32m1\u001b[0m\n\u001b[0;31m    11 = 11\u001b[0m\n\u001b[0m           ^\u001b[0m\n\u001b[0;31mSyntaxError\u001b[0m\u001b[0;31m:\u001b[0m can't assign to literal\n"
          ]
        }
      ]
    },
    {
      "cell_type": "code",
      "metadata": {
        "id": "23HBzQKtDbtf",
        "colab_type": "code",
        "colab": {},
        "outputId": "ec6eec02-54f6-41b7-c28e-d8a707a7468e"
      },
      "source": [
        "'Hello' == 'Hello'"
      ],
      "execution_count": 0,
      "outputs": [
        {
          "output_type": "execute_result",
          "data": {
            "text/plain": [
              "True"
            ]
          },
          "metadata": {
            "tags": []
          },
          "execution_count": 139
        }
      ]
    },
    {
      "cell_type": "code",
      "metadata": {
        "id": "WMUtQZPWDbth",
        "colab_type": "code",
        "colab": {},
        "outputId": "4b4431a1-0664-4e7c-91ae-097fe61aafe1"
      },
      "source": [
        "'Hello' == 'HELLO'"
      ],
      "execution_count": 0,
      "outputs": [
        {
          "output_type": "execute_result",
          "data": {
            "text/plain": [
              "False"
            ]
          },
          "metadata": {
            "tags": []
          },
          "execution_count": 140
        }
      ]
    },
    {
      "cell_type": "code",
      "metadata": {
        "id": "jBdfkt_YDbtj",
        "colab_type": "code",
        "colab": {},
        "outputId": "348dff51-47b2-4b09-937e-14a6fa21f7f0"
      },
      "source": [
        "5 == 5"
      ],
      "execution_count": 0,
      "outputs": [
        {
          "output_type": "execute_result",
          "data": {
            "text/plain": [
              "True"
            ]
          },
          "metadata": {
            "tags": []
          },
          "execution_count": 141
        }
      ]
    },
    {
      "cell_type": "code",
      "metadata": {
        "id": "FYXKXeArDbtk",
        "colab_type": "code",
        "colab": {},
        "outputId": "0964dca3-00a1-4581-9ed8-9cfa99e9979d"
      },
      "source": [
        "5 == '5'"
      ],
      "execution_count": 0,
      "outputs": [
        {
          "output_type": "execute_result",
          "data": {
            "text/plain": [
              "False"
            ]
          },
          "metadata": {
            "tags": []
          },
          "execution_count": 142
        }
      ]
    },
    {
      "cell_type": "code",
      "metadata": {
        "id": "piQ6Mz9ADbtl",
        "colab_type": "code",
        "colab": {},
        "outputId": "e0364c93-97f1-4cff-a20c-22e3480e5223"
      },
      "source": [
        "5 == int('5')"
      ],
      "execution_count": 0,
      "outputs": [
        {
          "output_type": "execute_result",
          "data": {
            "text/plain": [
              "True"
            ]
          },
          "metadata": {
            "tags": []
          },
          "execution_count": 143
        }
      ]
    },
    {
      "cell_type": "markdown",
      "metadata": {
        "id": "J9iY98t6Dbtn",
        "colab_type": "text"
      },
      "source": [
        "#### 실습1"
      ]
    },
    {
      "cell_type": "code",
      "metadata": {
        "id": "H7bsITj8Dbtn",
        "colab_type": "code",
        "colab": {},
        "outputId": "4737785f-1df8-4c67-a079-fcc0e195c7aa"
      },
      "source": [
        "num1 = int(input('첫 번째 정수를 입력하시요:'))\n",
        "num2 = int(input('두 번째 정수를 입력하시요:'))\n",
        "\n",
        "if num1 > num2:\n",
        "    print('큰수:', num1)\n",
        "    print('작은수', num2)\n",
        "elif num1 < num2:\n",
        "    print('큰수:', num2)\n",
        "    print('작은수', num1)\n",
        "else:\n",
        "    print('두 수는 같습니다')"
      ],
      "execution_count": 0,
      "outputs": [
        {
          "output_type": "stream",
          "text": [
            "첫 번째 정수를 입력하시요: 45\n",
            "두 번째 정수를 입력하시요: 45\n"
          ],
          "name": "stdin"
        },
        {
          "output_type": "stream",
          "text": [
            "두 수는 같습니다\n"
          ],
          "name": "stdout"
        }
      ]
    },
    {
      "cell_type": "markdown",
      "metadata": {
        "id": "wl3EyopADbto",
        "colab_type": "text"
      },
      "source": [
        "#### 실습2"
      ]
    },
    {
      "cell_type": "code",
      "metadata": {
        "id": "f4ZgJHBdDbto",
        "colab_type": "code",
        "colab": {},
        "outputId": "40ae6149-09dc-4345-98aa-a9ca8cb28416"
      },
      "source": [
        "score = int(input('점수를 입력하시오.'))\n",
        "\n",
        "if score > 90:\n",
        "    print('합격입니다')\n",
        "else:\n",
        "    print('불합격입니다')"
      ],
      "execution_count": 0,
      "outputs": [
        {
          "output_type": "stream",
          "text": [
            "점수를 입력하시오. 76\n"
          ],
          "name": "stdin"
        },
        {
          "output_type": "stream",
          "text": [
            "불합격입니다\n"
          ],
          "name": "stdout"
        }
      ]
    },
    {
      "cell_type": "markdown",
      "metadata": {
        "id": "eNoMjBN_Dbtp",
        "colab_type": "text"
      },
      "source": [
        "#### 실습2"
      ]
    },
    {
      "cell_type": "code",
      "metadata": {
        "id": "GRnqbFaqDbtq",
        "colab_type": "code",
        "colab": {},
        "outputId": "dad07ec5-c7f6-43ab-cb6b-03ead016b042"
      },
      "source": [
        "num = int(input('숫자를 입력하시요.'))\n",
        "\n",
        "if (num % 2) == 0:\n",
        "    print('짝수 입니다')\n",
        "else:\n",
        "    print('홀수 입니다')"
      ],
      "execution_count": 0,
      "outputs": [
        {
          "output_type": "stream",
          "text": [
            "숫자를 입력하시요. 45\n"
          ],
          "name": "stdin"
        },
        {
          "output_type": "stream",
          "text": [
            "홀수 입니다\n"
          ],
          "name": "stdout"
        }
      ]
    },
    {
      "cell_type": "code",
      "metadata": {
        "id": "XyE2Yy_5Dbtr",
        "colab_type": "code",
        "colab": {},
        "outputId": "e01aa349-bafe-43c5-92b3-903b29a09782"
      },
      "source": [
        "import random\n",
        "\n",
        "#guess = int(input('숫자를 넣어주세요(1-20): '))\n",
        "number = random.randint(1, 20)\n",
        "guess = 0\n",
        "count = 0\n",
        "print(number)\n",
        "\n",
        "while guess != number and count < 6:\n",
        "    guess = int(input('숫자를 넣어주세요(1-20): '))\n",
        "    count += 1\n",
        "    print(count, '번째 시도 ', end='')\n",
        "    if guess < number:\n",
        "        print('값이 너무 적어')\n",
        "    elif guess > number:\n",
        "        print('값이 너무 커')  \n",
        "    else:\n",
        "        print('빙고!')\n",
        "        \n",
        "if guess != number:\n",
        "    print('정답은', number, '입니다')"
      ],
      "execution_count": 0,
      "outputs": [
        {
          "output_type": "stream",
          "text": [
            "3\n"
          ],
          "name": "stdout"
        },
        {
          "output_type": "stream",
          "text": [
            "숫자를 넣어주세요(1-20):  10\n"
          ],
          "name": "stdin"
        },
        {
          "output_type": "stream",
          "text": [
            "1 번째 시도 값이 너무 커\n"
          ],
          "name": "stdout"
        },
        {
          "output_type": "stream",
          "text": [
            "숫자를 넣어주세요(1-20):  5\n"
          ],
          "name": "stdin"
        },
        {
          "output_type": "stream",
          "text": [
            "2 번째 시도 값이 너무 커\n"
          ],
          "name": "stdout"
        },
        {
          "output_type": "stream",
          "text": [
            "숫자를 넣어주세요(1-20):  3\n"
          ],
          "name": "stdin"
        },
        {
          "output_type": "stream",
          "text": [
            "3 번째 시도 빙고!\n"
          ],
          "name": "stdout"
        }
      ]
    },
    {
      "cell_type": "code",
      "metadata": {
        "id": "PFcgDubhDbts",
        "colab_type": "code",
        "colab": {}
      },
      "source": [
        ""
      ],
      "execution_count": 0,
      "outputs": []
    }
  ]
}