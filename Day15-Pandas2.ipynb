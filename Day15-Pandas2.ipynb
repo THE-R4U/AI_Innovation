{
 "cells": [
  {
   "cell_type": "markdown",
   "metadata": {},
   "source": [
    "# Day15 - Pandas를 통한 데이터 전처리 2"
   ]
  },
  {
   "cell_type": "markdown",
   "metadata": {},
   "source": [
    "#### 실습1"
   ]
  },
  {
   "cell_type": "code",
   "execution_count": 10,
   "metadata": {},
   "outputs": [
    {
     "name": "stdout",
     "output_type": "stream",
     "text": [
      "학생 수: "
     ]
    },
    {
     "name": "stdin",
     "output_type": "stream",
     "text": [
      " 3\n",
      "1번째 학생의 국어,영어,수학 성적(,로 구분):  50,60,80\n",
      "2번째 학생의 국어,영어,수학 성적(,로 구분):  90,85,60\n",
      "3번째 학생의 국어,영어,수학 성적(,로 구분):  70,88,92\n"
     ]
    },
    {
     "name": "stdout",
     "output_type": "stream",
     "text": [
      "학생들의 성적: \n",
      "[[50 60 80]\n",
      " [90 85 60]\n",
      " [70 88 92]]\n",
      "각 학생들의 총점: \n",
      "[190 235 250]\n",
      "각 과목의 평균: \n",
      "[70.         77.66666667 77.33333333]\n"
     ]
    }
   ],
   "source": [
    "import numpy as np\n",
    "\n",
    "print('학생 수: ', end = '')\n",
    "n = int(input())\n",
    "\n",
    "score_list = []\n",
    "for i in range(1, n+1):\n",
    "    scores = input('%d번째 학생의 국어,영어,수학 성적(,로 구분): ' % i).split(',')\n",
    "    scores = [int (i) for i in scores]\n",
    "    score_list.append(scores)\n",
    "    \n",
    "score_array = np.array(score_list)\n",
    "\n",
    "print('학생들의 성적: ')\n",
    "print(score_array)\n",
    "print('각 학생들의 총점: ')\n",
    "print(score_array.sum(axis=1))\n",
    "print('각 과목의 평균: ')\n",
    "print(score_array.sum(axis=0)/n)"
   ]
  },
  {
   "cell_type": "markdown",
   "metadata": {},
   "source": [
    "## Series: 1차원 배열 + index\n",
    "- index: values를 선택할 때 주소 역할을 하는 배열(값이 모두 달라야 함)\n",
    "- values: 데이터 부분에 해당하는 배열\n",
    "\n",
    "### 1차원 배열 vs. Series: list vs. dictionary와 비슷\n",
    "- 1차원 배열/list: index 번호(자동)로 값 접근\n",
    "- Series/Dictionary: key/index명(지정)으로 값 접근"
   ]
  },
  {
   "cell_type": "markdown",
   "metadata": {},
   "source": [
    "### Series 생성: Values만 입력하는 방법\n",
    "- 생성 방법: s = Series(list/array)\n",
    "- Index 값은 0, 1, 2, …, 로 자동 생성"
   ]
  },
  {
   "cell_type": "code",
   "execution_count": 11,
   "metadata": {},
   "outputs": [],
   "source": [
    "import pandas as pd"
   ]
  },
  {
   "cell_type": "code",
   "execution_count": 12,
   "metadata": {},
   "outputs": [],
   "source": [
    "score = [84,21,87,100,59,46]"
   ]
  },
  {
   "cell_type": "code",
   "execution_count": 14,
   "metadata": {},
   "outputs": [],
   "source": [
    "s = pd.Series(score)"
   ]
  },
  {
   "cell_type": "code",
   "execution_count": 15,
   "metadata": {},
   "outputs": [
    {
     "name": "stdout",
     "output_type": "stream",
     "text": [
      "0     84\n",
      "1     21\n",
      "2     87\n",
      "3    100\n",
      "4     59\n",
      "5     46\n",
      "dtype: int64\n"
     ]
    }
   ],
   "source": [
    "print(s)"
   ]
  },
  {
   "cell_type": "code",
   "execution_count": 16,
   "metadata": {},
   "outputs": [],
   "source": [
    "score_array = np.array([84,21,87,100,59,46])"
   ]
  },
  {
   "cell_type": "code",
   "execution_count": 17,
   "metadata": {},
   "outputs": [
    {
     "data": {
      "text/plain": [
       "array([ 84,  21,  87, 100,  59,  46])"
      ]
     },
     "execution_count": 17,
     "metadata": {},
     "output_type": "execute_result"
    }
   ],
   "source": [
    "score_array"
   ]
  },
  {
   "cell_type": "code",
   "execution_count": 18,
   "metadata": {},
   "outputs": [],
   "source": [
    "s = pd.Series(score_array)"
   ]
  },
  {
   "cell_type": "code",
   "execution_count": 19,
   "metadata": {},
   "outputs": [
    {
     "name": "stdout",
     "output_type": "stream",
     "text": [
      "0     84\n",
      "1     21\n",
      "2     87\n",
      "3    100\n",
      "4     59\n",
      "5     46\n",
      "dtype: int64\n"
     ]
    }
   ],
   "source": [
    "print(s)"
   ]
  },
  {
   "cell_type": "markdown",
   "metadata": {},
   "source": [
    "### Series 생성: Index + values 입력하는 방법\n",
    "- 생성 방법: s = Series(list/array, index = list/array)\n",
    "- Index는 주어진 list나 array로 지정"
   ]
  },
  {
   "cell_type": "code",
   "execution_count": 20,
   "metadata": {},
   "outputs": [],
   "source": [
    "import pandas as pd\n",
    "\n",
    "names = ['철수','영희','길동','미영','순이','철이']\n",
    "score = [84,21,87,100,59,46]"
   ]
  },
  {
   "cell_type": "code",
   "execution_count": 21,
   "metadata": {},
   "outputs": [
    {
     "name": "stdout",
     "output_type": "stream",
     "text": [
      "철수     84\n",
      "영희     21\n",
      "길동     87\n",
      "미영    100\n",
      "순이     59\n",
      "철이     46\n",
      "dtype: int64\n"
     ]
    }
   ],
   "source": [
    "s = pd.Series(score, index=names)\n",
    "print(s)"
   ]
  },
  {
   "cell_type": "markdown",
   "metadata": {},
   "source": [
    "### Series 생성: Dictionary를 이용하는 방법\n",
    "- 생성 방법: s = Series(dictionary)"
   ]
  },
  {
   "cell_type": "code",
   "execution_count": 23,
   "metadata": {},
   "outputs": [],
   "source": [
    "import pandas as pd\n",
    "\n",
    "dic = {'철수':84,'영희':21,'길동':87,'미영':100,'순이':59,'철이':46}"
   ]
  },
  {
   "cell_type": "code",
   "execution_count": 24,
   "metadata": {},
   "outputs": [
    {
     "name": "stdout",
     "output_type": "stream",
     "text": [
      "철수     84\n",
      "영희     21\n",
      "길동     87\n",
      "미영    100\n",
      "순이     59\n",
      "철이     46\n",
      "dtype: int64\n"
     ]
    }
   ],
   "source": [
    "s = pd.Series(dic)\n",
    "print(s)"
   ]
  },
  {
   "cell_type": "markdown",
   "metadata": {},
   "source": [
    "### 덧셈\n",
    "- Array간 덧셈: score1 + score2 → 순서대로 하나씩 더함\n",
    "- Series간 덧셈: s0 + s1 → 순서와 상관없이 같은 index명을 갖는 값끼리 더함\n",
    "    - values만 연산에 관여함\n",
    "    - index가 같은 값끼리 연산 수행 → 데이터 관리에 유리\n",
    "- 뺄셈, 곱셈 등도 덧셈과 같은 방식으로 처리"
   ]
  },
  {
   "cell_type": "code",
   "execution_count": 25,
   "metadata": {},
   "outputs": [],
   "source": [
    "import numpy as np\n",
    "import pandas as pd"
   ]
  },
  {
   "cell_type": "code",
   "execution_count": 44,
   "metadata": {},
   "outputs": [],
   "source": [
    "names1 = np.array(['철수','영희','길동','미영','순이','철이'])\n",
    "score1 = np.array([84,21,87,100,59,46])"
   ]
  },
  {
   "cell_type": "code",
   "execution_count": 45,
   "metadata": {},
   "outputs": [],
   "source": [
    "names2 = np.array(['길동','철수','영희','철이','순이','미영'])\n",
    "score2 = np.array([99,87,87,84,77,15])"
   ]
  },
  {
   "cell_type": "code",
   "execution_count": 46,
   "metadata": {},
   "outputs": [],
   "source": [
    "s1 = pd.Series(score1, index=names1)\n",
    "s2 = pd.Series(score2, index=names2)"
   ]
  },
  {
   "cell_type": "code",
   "execution_count": 47,
   "metadata": {},
   "outputs": [
    {
     "data": {
      "text/plain": [
       "철수     94\n",
       "영희     31\n",
       "길동     97\n",
       "미영    110\n",
       "순이     69\n",
       "철이     56\n",
       "dtype: int64"
      ]
     },
     "execution_count": 47,
     "metadata": {},
     "output_type": "execute_result"
    }
   ],
   "source": [
    "s1 + 10"
   ]
  },
  {
   "cell_type": "code",
   "execution_count": 48,
   "metadata": {},
   "outputs": [
    {
     "data": {
      "text/plain": [
       "길동   -12\n",
       "미영    85\n",
       "순이   -18\n",
       "영희   -66\n",
       "철수    -3\n",
       "철이   -38\n",
       "dtype: int64"
      ]
     },
     "execution_count": 48,
     "metadata": {},
     "output_type": "execute_result"
    }
   ],
   "source": [
    "s1 - s2"
   ]
  },
  {
   "cell_type": "code",
   "execution_count": 49,
   "metadata": {},
   "outputs": [
    {
     "data": {
      "text/plain": [
       "길동    186\n",
       "미영    115\n",
       "순이    136\n",
       "영희    108\n",
       "철수    171\n",
       "철이    130\n",
       "dtype: int64"
      ]
     },
     "execution_count": 49,
     "metadata": {},
     "output_type": "execute_result"
    }
   ],
   "source": [
    "s1 + s2"
   ]
  },
  {
   "cell_type": "code",
   "execution_count": 50,
   "metadata": {},
   "outputs": [
    {
     "data": {
      "text/plain": [
       "길동    93.0\n",
       "미영    57.5\n",
       "순이    68.0\n",
       "영희    54.0\n",
       "철수    85.5\n",
       "철이    65.0\n",
       "dtype: float64"
      ]
     },
     "execution_count": 50,
     "metadata": {},
     "output_type": "execute_result"
    }
   ],
   "source": [
    "(s1 + s2) / 2"
   ]
  },
  {
   "cell_type": "markdown",
   "metadata": {},
   "source": [
    "### 산술 연산"
   ]
  },
  {
   "cell_type": "code",
   "execution_count": 51,
   "metadata": {},
   "outputs": [
    {
     "data": {
      "text/plain": [
       "87"
      ]
     },
     "execution_count": 51,
     "metadata": {},
     "output_type": "execute_result"
    }
   ],
   "source": [
    "s1[2]"
   ]
  },
  {
   "cell_type": "code",
   "execution_count": 52,
   "metadata": {},
   "outputs": [
    {
     "data": {
      "text/plain": [
       "길동     87\n",
       "미영    100\n",
       "순이     59\n",
       "철이     46\n",
       "dtype: int64"
      ]
     },
     "execution_count": 52,
     "metadata": {},
     "output_type": "execute_result"
    }
   ],
   "source": [
    "s1[2:]"
   ]
  },
  {
   "cell_type": "code",
   "execution_count": 53,
   "metadata": {},
   "outputs": [
    {
     "data": {
      "text/plain": [
       "철수    84\n",
       "영희    21\n",
       "길동    87\n",
       "dtype: int64"
      ]
     },
     "execution_count": 53,
     "metadata": {},
     "output_type": "execute_result"
    }
   ],
   "source": [
    "s1[:3]"
   ]
  },
  {
   "cell_type": "code",
   "execution_count": 54,
   "metadata": {},
   "outputs": [
    {
     "data": {
      "text/plain": [
       "철수    84\n",
       "길동    87\n",
       "순이    59\n",
       "dtype: int64"
      ]
     },
     "execution_count": 54,
     "metadata": {},
     "output_type": "execute_result"
    }
   ],
   "source": [
    "s1[::2]"
   ]
  },
  {
   "cell_type": "code",
   "execution_count": 55,
   "metadata": {},
   "outputs": [
    {
     "data": {
      "text/plain": [
       "영희    21\n",
       "길동    87\n",
       "dtype: int64"
      ]
     },
     "execution_count": 55,
     "metadata": {},
     "output_type": "execute_result"
    }
   ],
   "source": [
    "s1[1:3]"
   ]
  },
  {
   "cell_type": "markdown",
   "metadata": {},
   "source": [
    "### Index번호를 사용한 부분 정보 선택"
   ]
  },
  {
   "cell_type": "code",
   "execution_count": 57,
   "metadata": {},
   "outputs": [
    {
     "data": {
      "text/plain": [
       "철수     84\n",
       "영희     21\n",
       "길동     87\n",
       "미영    100\n",
       "순이     59\n",
       "철이     46\n",
       "dtype: int64"
      ]
     },
     "execution_count": 57,
     "metadata": {},
     "output_type": "execute_result"
    }
   ],
   "source": [
    "s1"
   ]
  },
  {
   "cell_type": "code",
   "execution_count": 58,
   "metadata": {},
   "outputs": [
    {
     "data": {
      "text/plain": [
       "21"
      ]
     },
     "execution_count": 58,
     "metadata": {},
     "output_type": "execute_result"
    }
   ],
   "source": [
    "s1['영희']"
   ]
  },
  {
   "cell_type": "code",
   "execution_count": 59,
   "metadata": {},
   "outputs": [
    {
     "data": {
      "text/plain": [
       "영희     21\n",
       "길동     87\n",
       "미영    100\n",
       "순이     59\n",
       "dtype: int64"
      ]
     },
     "execution_count": 59,
     "metadata": {},
     "output_type": "execute_result"
    }
   ],
   "source": [
    "s1['영희':'순이']"
   ]
  },
  {
   "cell_type": "code",
   "execution_count": 60,
   "metadata": {},
   "outputs": [
    {
     "data": {
      "text/plain": [
       "미영    100\n",
       "순이     59\n",
       "철이     46\n",
       "dtype: int64"
      ]
     },
     "execution_count": 60,
     "metadata": {},
     "output_type": "execute_result"
    }
   ],
   "source": [
    "s1['미영':]"
   ]
  },
  {
   "cell_type": "code",
   "execution_count": 61,
   "metadata": {},
   "outputs": [
    {
     "data": {
      "text/plain": [
       "철수    84\n",
       "영희    21\n",
       "길동    87\n",
       "dtype: int64"
      ]
     },
     "execution_count": 61,
     "metadata": {},
     "output_type": "execute_result"
    }
   ],
   "source": [
    "s1[:'길동']"
   ]
  },
  {
   "cell_type": "code",
   "execution_count": 62,
   "metadata": {},
   "outputs": [
    {
     "data": {
      "text/plain": [
       "철수    84\n",
       "길동    87\n",
       "dtype: int64"
      ]
     },
     "execution_count": 62,
     "metadata": {},
     "output_type": "execute_result"
    }
   ],
   "source": [
    "s1[:'길동':2]"
   ]
  },
  {
   "cell_type": "code",
   "execution_count": 63,
   "metadata": {},
   "outputs": [
    {
     "data": {
      "text/plain": [
       "철이     46\n",
       "순이     59\n",
       "미영    100\n",
       "길동     87\n",
       "dtype: int64"
      ]
     },
     "execution_count": 63,
     "metadata": {},
     "output_type": "execute_result"
    }
   ],
   "source": [
    "s1['철이':'길동':-1]"
   ]
  },
  {
   "cell_type": "markdown",
   "metadata": {},
   "source": [
    "### Series - 값 추가, 수정, 삭제"
   ]
  },
  {
   "cell_type": "code",
   "execution_count": 65,
   "metadata": {},
   "outputs": [
    {
     "data": {
      "text/plain": [
       "철수     84\n",
       "영희     21\n",
       "길동     87\n",
       "미영    100\n",
       "순이     59\n",
       "철이     46\n",
       "dtype: int64"
      ]
     },
     "execution_count": 65,
     "metadata": {},
     "output_type": "execute_result"
    }
   ],
   "source": [
    "s3 = s1\n",
    "s3"
   ]
  },
  {
   "cell_type": "markdown",
   "metadata": {},
   "source": [
    "#### 값 추가\n",
    "- index 명을 사용하여 값 추가"
   ]
  },
  {
   "cell_type": "code",
   "execution_count": 67,
   "metadata": {},
   "outputs": [
    {
     "data": {
      "text/plain": [
       "철수     84\n",
       "영희     21\n",
       "길동     87\n",
       "미영    100\n",
       "순이     59\n",
       "철이     46\n",
       "슬기     98\n",
       "dtype: int64"
      ]
     },
     "execution_count": 67,
     "metadata": {},
     "output_type": "execute_result"
    }
   ],
   "source": [
    "s3['슬기'] = 98\n",
    "s3"
   ]
  },
  {
   "cell_type": "markdown",
   "metadata": {},
   "source": [
    "#### 값 수정\n",
    "- index 번호와 index 명을 사용하여 값 수정"
   ]
  },
  {
   "cell_type": "code",
   "execution_count": 69,
   "metadata": {},
   "outputs": [
    {
     "data": {
      "text/plain": [
       "철수     84\n",
       "영희     21\n",
       "길동     88\n",
       "미영    100\n",
       "순이     59\n",
       "철이     46\n",
       "슬기     98\n",
       "dtype: int64"
      ]
     },
     "execution_count": 69,
     "metadata": {},
     "output_type": "execute_result"
    }
   ],
   "source": [
    "s3[2] = 88\n",
    "s3"
   ]
  },
  {
   "cell_type": "code",
   "execution_count": 70,
   "metadata": {},
   "outputs": [
    {
     "data": {
      "text/plain": [
       "철수     84\n",
       "영희     21\n",
       "길동     87\n",
       "미영    100\n",
       "순이     59\n",
       "철이     46\n",
       "슬기     98\n",
       "dtype: int64"
      ]
     },
     "execution_count": 70,
     "metadata": {},
     "output_type": "execute_result"
    }
   ],
   "source": [
    "s3['길동'] = 87\n",
    "s3"
   ]
  },
  {
   "cell_type": "markdown",
   "metadata": {},
   "source": [
    "#### 값 삭제\n",
    "- index 명을 사용하여 값 삭제"
   ]
  },
  {
   "cell_type": "code",
   "execution_count": 71,
   "metadata": {},
   "outputs": [
    {
     "data": {
      "text/plain": [
       "철수     84\n",
       "영희     21\n",
       "길동     87\n",
       "미영    100\n",
       "순이     59\n",
       "슬기     98\n",
       "dtype: int64"
      ]
     },
     "execution_count": 71,
     "metadata": {},
     "output_type": "execute_result"
    }
   ],
   "source": [
    "del s3['철이']\n",
    "s3"
   ]
  },
  {
   "cell_type": "markdown",
   "metadata": {},
   "source": [
    "### Series – 논리 연산과 filtering"
   ]
  },
  {
   "cell_type": "code",
   "execution_count": 73,
   "metadata": {},
   "outputs": [
    {
     "data": {
      "text/plain": [
       "철수    False\n",
       "영희    False\n",
       "길동     True\n",
       "미영     True\n",
       "순이    False\n",
       "슬기     True\n",
       "dtype: bool"
      ]
     },
     "execution_count": 73,
     "metadata": {},
     "output_type": "execute_result"
    }
   ],
   "source": [
    "x = s1 > 85\n",
    "x"
   ]
  },
  {
   "cell_type": "code",
   "execution_count": 74,
   "metadata": {},
   "outputs": [
    {
     "data": {
      "text/plain": [
       "길동     87\n",
       "미영    100\n",
       "슬기     98\n",
       "dtype: int64"
      ]
     },
     "execution_count": 74,
     "metadata": {},
     "output_type": "execute_result"
    }
   ],
   "source": [
    "s1[x]"
   ]
  },
  {
   "cell_type": "code",
   "execution_count": 78,
   "metadata": {},
   "outputs": [
    {
     "data": {
      "text/plain": [
       "길동     True\n",
       "철수     True\n",
       "영희     True\n",
       "철이    False\n",
       "순이    False\n",
       "미영    False\n",
       "dtype: bool"
      ]
     },
     "execution_count": 78,
     "metadata": {},
     "output_type": "execute_result"
    }
   ],
   "source": [
    "y = s2 > 85\n",
    "y"
   ]
  },
  {
   "cell_type": "code",
   "execution_count": 79,
   "metadata": {},
   "outputs": [
    {
     "data": {
      "text/plain": [
       "길동    99\n",
       "철수    87\n",
       "영희    87\n",
       "dtype: int64"
      ]
     },
     "execution_count": 79,
     "metadata": {},
     "output_type": "execute_result"
    }
   ],
   "source": [
    "s2[y]"
   ]
  },
  {
   "cell_type": "code",
   "execution_count": 81,
   "metadata": {},
   "outputs": [
    {
     "data": {
      "text/plain": [
       "철수     84\n",
       "영희     21\n",
       "길동     87\n",
       "미영    100\n",
       "순이     59\n",
       "슬기     98\n",
       "dtype: int64"
      ]
     },
     "execution_count": 81,
     "metadata": {},
     "output_type": "execute_result"
    }
   ],
   "source": [
    "s1"
   ]
  },
  {
   "cell_type": "code",
   "execution_count": 82,
   "metadata": {},
   "outputs": [
    {
     "data": {
      "text/plain": [
       "길동    99\n",
       "철수    87\n",
       "영희    87\n",
       "철이    84\n",
       "순이    77\n",
       "미영    15\n",
       "dtype: int64"
      ]
     },
     "execution_count": 82,
     "metadata": {},
     "output_type": "execute_result"
    }
   ],
   "source": [
    "s2"
   ]
  },
  {
   "cell_type": "code",
   "execution_count": null,
   "metadata": {},
   "outputs": [],
   "source": []
  }
 ],
 "metadata": {
  "kernelspec": {
   "display_name": "Python 3",
   "language": "python",
   "name": "python3"
  },
  "language_info": {
   "codemirror_mode": {
    "name": "ipython",
    "version": 3
   },
   "file_extension": ".py",
   "mimetype": "text/x-python",
   "name": "python",
   "nbconvert_exporter": "python",
   "pygments_lexer": "ipython3",
   "version": "3.7.3"
  }
 },
 "nbformat": 4,
 "nbformat_minor": 2
}
